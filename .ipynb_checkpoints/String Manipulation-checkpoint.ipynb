{
 "cells": [
  {
   "cell_type": "code",
   "execution_count": 1,
   "metadata": {},
   "outputs": [
    {
     "data": {
      "text/plain": [
       "\"The quick brown fox jumps over the lazy dog α,β,γ\""
      ]
     },
     "execution_count": 1,
     "metadata": {},
     "output_type": "execute_result"
    }
   ],
   "source": [
    "s1 = \"The quick brown fox jumps over the lazy dog α,β,γ\""
   ]
  },
  {
   "cell_type": "code",
   "execution_count": 8,
   "metadata": {},
   "outputs": [
    {
     "name": "stdout",
     "output_type": "stream",
     "text": [
      "6\n",
      "11:15\n"
     ]
    }
   ],
   "source": [
    "i = search(s1, 'u') # ok to use reguler exp, with r\"\". ex.b[\\w]*n\"\n",
    "r = search(s1, \"brown\")\n",
    "\n",
    "println(i)\n",
    "println(r)"
   ]
  },
  {
   "cell_type": "code",
   "execution_count": 42,
   "metadata": {},
   "outputs": [
    {
     "data": {
      "text/plain": [
       "6"
      ]
     },
     "execution_count": 42,
     "metadata": {},
     "output_type": "execute_result"
    }
   ],
   "source": [
    "r = s1 |> x -> search(x, 'u')"
   ]
  },
  {
   "cell_type": "code",
   "execution_count": 45,
   "metadata": {},
   "outputs": [
    {
     "name": "stdout",
     "output_type": "stream",
     "text": [
      "RegexMatch(\"brown\")brown\n"
     ]
    }
   ],
   "source": [
    "r = match(r\"b[\\w]*n\", s1)\n",
    "println(r, r.match)"
   ]
  },
  {
   "cell_type": "code",
   "execution_count": 52,
   "metadata": {},
   "outputs": [
    {
     "data": {
      "text/plain": [
       "5-element Array{SubString{String},1}:\n",
       " \"quick\"\n",
       " \"brown\"\n",
       " \"jumps\"\n",
       " \"over\" \n",
       " \"lazy\" "
      ]
     },
     "execution_count": 52,
     "metadata": {},
     "output_type": "execute_result"
    }
   ],
   "source": [
    "r = matchall(r\"[\\w]{4,}\", s1)"
   ]
  },
  {
   "cell_type": "code",
   "execution_count": 56,
   "metadata": {},
   "outputs": [
    {
     "name": "stdout",
     "output_type": "stream",
     "text": [
      "quick\n",
      "brown\n",
      "jumps\n",
      "over\n",
      "lazy\n"
     ]
    }
   ],
   "source": [
    "r = eachmatch(r\"[\\w]{4,}\", s1)\n",
    "for i in r\n",
    "    println(i.match)\n",
    "end\n"
   ]
  },
  {
   "cell_type": "code",
   "execution_count": 59,
   "metadata": {},
   "outputs": [
    {
     "data": {
      "text/plain": [
       "\"hello hello hello \""
      ]
     },
     "execution_count": 59,
     "metadata": {},
     "output_type": "execute_result"
    }
   ],
   "source": [
    "r = \"hello \"^3"
   ]
  },
  {
   "cell_type": "code",
   "execution_count": 66,
   "metadata": {},
   "outputs": [
    {
     "name": "stdout",
     "output_type": "stream",
     "text": [
      "hello\n"
     ]
    },
    {
     "ename": "LoadError",
     "evalue": "\u001b[91mMethodError: no method matching strip(::String, ::Array{Any,1})\u001b[0m\nClosest candidates are:\n  strip(::AbstractString) at strings/util.jl:193\n  strip(::AbstractString, \u001b[91m::Union{AbstractArray{Char,1}, Char, Set{Char}, Tuple{Vararg{Char,N} where N}}\u001b[39m) at strings/util.jl:194\u001b[39m",
     "output_type": "error",
     "traceback": [
      "\u001b[91mMethodError: no method matching strip(::String, ::Array{Any,1})\u001b[0m\nClosest candidates are:\n  strip(::AbstractString) at strings/util.jl:193\n  strip(::AbstractString, \u001b[91m::Union{AbstractArray{Char,1}, Char, Set{Char}, Tuple{Vararg{Char,N} where N}}\u001b[39m) at strings/util.jl:194\u001b[39m",
      "",
      "Stacktrace:",
      " [1] \u001b[1minclude_string\u001b[22m\u001b[22m\u001b[1m(\u001b[22m\u001b[22m::String, ::String\u001b[1m)\u001b[22m\u001b[22m at \u001b[1m.\\loading.jl:522\u001b[22m\u001b[22m"
     ]
    }
   ],
   "source": [
    "r = \"hello \"\n",
    "@printf \"%s\" strip(r); println()\n",
    "@printf \"%s\" strip(r, ['h', ' ']); println()"
   ]
  },
  {
   "cell_type": "code",
   "execution_count": null,
   "metadata": {
    "collapsed": true
   },
   "outputs": [],
   "source": []
  }
 ],
 "metadata": {
  "kernelspec": {
   "display_name": "Julia 0.6.2",
   "language": "julia",
   "name": "julia-0.6"
  },
  "language_info": {
   "file_extension": ".jl",
   "mimetype": "application/julia",
   "name": "julia",
   "version": "0.6.2"
  }
 },
 "nbformat": 4,
 "nbformat_minor": 2
}
