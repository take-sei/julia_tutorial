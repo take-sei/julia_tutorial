{
 "cells": [
  {
   "cell_type": "code",
   "execution_count": 46,
   "metadata": {},
   "outputs": [
    {
     "name": "stdout",
     "output_type": "stream",
     "text": [
      "May the force be with you.α\n"
     ]
    }
   ],
   "source": [
    "# String is defined by \"\"\n",
    "s1 = \"May the force be with you.α\"\n",
    "println(s1)"
   ]
  },
  {
   "cell_type": "code",
   "execution_count": 38,
   "metadata": {},
   "outputs": [
    {
     "name": "stdout",
     "output_type": "stream",
     "text": [
      "this and that\n"
     ]
    }
   ],
   "source": [
    "# difference of print()and println()\n",
    "print(\"this\")\n",
    "print(\" and\")\n",
    "print(\" that\\n\")"
   ]
  },
  {
   "cell_type": "code",
   "execution_count": 39,
   "metadata": {},
   "outputs": [
    {
     "name": "stdout",
     "output_type": "stream",
     "text": [
      "a\n"
     ]
    }
   ],
   "source": [
    "# Char is defined by ''\n",
    "c1 = 'a'\n",
    "println(c1)"
   ]
  },
  {
   "cell_type": "code",
   "execution_count": 40,
   "metadata": {},
   "outputs": [
    {
     "name": "stdout",
     "output_type": "stream",
     "text": [
      "a is equal to 97\n",
      "Int(α) == 945\n"
     ]
    },
    {
     "data": {
      "text/plain": [
       "true"
      ]
     },
     "execution_count": 40,
     "metadata": {},
     "output_type": "execute_result"
    }
   ],
   "source": [
    "# Char type can be converted into Int type\n",
    "println(\"a is equal to \", Int(c1))\n",
    "\n",
    "println(\"Int(α) == \", Int('α'))\n",
    "\n",
    "Int('1') == 49"
   ]
  },
  {
   "cell_type": "code",
   "execution_count": 41,
   "metadata": {},
   "outputs": [
    {
     "name": "stdout",
     "output_type": "stream",
     "text": [
      "MAY THE FORCE BE WITH YOU.Α\n",
      "may the force be with you.α\n"
     ]
    }
   ],
   "source": [
    "# upper/lowercase function\n",
    "s1_caps = uppercase(s1)\n",
    "s1_low = lowercase(s1)\n",
    "\n",
    "println(s1_caps, \"\\n\",s1_low)"
   ]
  },
  {
   "cell_type": "code",
   "execution_count": 42,
   "metadata": {},
   "outputs": [
    {
     "name": "stdout",
     "output_type": "stream",
     "text": [
      "'r'\n",
      "\"May the fo\"\n",
      "\" with you.α\"\n"
     ]
    }
   ],
   "source": [
    "# access to String with index number.\n",
    "show(s1[11]); println() # show(x) expresses a raw value.\n",
    "show(s1[1:10]); println()\n",
    "show(s1[end-10:end]); println() #end expression contains number of last index."
   ]
  },
  {
   "cell_type": "code",
   "execution_count": 43,
   "metadata": {},
   "outputs": [
    {
     "name": "stdout",
     "output_type": "stream",
     "text": [
      "Welcome to Julia tutorial!\n",
      "1+2=3\n"
     ]
    }
   ],
   "source": [
    "# support template literal\n",
    "a = \"Welcome to\"\n",
    "b = \"Julia tutorial\"\n",
    "println(\"$a $b\",\"!\")\n",
    "\n",
    "println(\"1+2=$(1+2)\")"
   ]
  },
  {
   "cell_type": "code",
   "execution_count": 44,
   "metadata": {},
   "outputs": [
    {
     "data": {
      "text/plain": [
       "\"this and that\""
      ]
     },
     "execution_count": 44,
     "metadata": {},
     "output_type": "execute_result"
    }
   ],
   "source": [
    "# concat some string literal with \"*\" or string()\n",
    "s2 = \"this\" * \" and \" * \"that\"\n",
    "\n",
    "string(\"this\", \" and \", \"that\")"
   ]
  },
  {
   "cell_type": "code",
   "execution_count": null,
   "metadata": {
    "collapsed": true
   },
   "outputs": [],
   "source": []
  }
 ],
 "metadata": {
  "kernelspec": {
   "display_name": "Julia 0.6.2",
   "language": "julia",
   "name": "julia-0.6"
  },
  "language_info": {
   "file_extension": ".jl",
   "mimetype": "application/julia",
   "name": "julia",
   "version": "0.6.2"
  }
 },
 "nbformat": 4,
 "nbformat_minor": 2
}
