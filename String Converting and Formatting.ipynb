{
 "cells": [
  {
   "cell_type": "code",
   "execution_count": 4,
   "metadata": {},
   "outputs": [
    {
     "name": "stdout",
     "output_type": "stream",
     "text": [
      "13.59\n"
     ]
    }
   ],
   "source": [
    "e_str1 = \"2.718\"\n",
    "e = float(e_str1)\n",
    "println(5e)"
   ]
  },
  {
   "cell_type": "code",
   "execution_count": 9,
   "metadata": {},
   "outputs": [
    {
     "name": "stdout",
     "output_type": "stream",
     "text": [
      "45\n"
     ]
    }
   ],
   "source": [
    "num_15 = parse(Int, \"15\")\n",
    "println(3num_15)"
   ]
  },
  {
   "cell_type": "code",
   "execution_count": 16,
   "metadata": {},
   "outputs": [
    {
     "name": "stdout",
     "output_type": "stream",
     "text": [
      "2.72\n",
      "e_str1 == e_str2:true\n"
     ]
    }
   ],
   "source": [
    "@printf \"%0.2f\\n\" e\n",
    "e_str2 = @sprintf(\"%0.3f\", e)\n",
    "\n",
    "println(\"e_str1 == e_str2:$(e_str1==e_str2)\")"
   ]
  },
  {
   "cell_type": "code",
   "execution_count": 17,
   "metadata": {},
   "outputs": [
    {
     "name": "stdout",
     "output_type": "stream",
     "text": [
      "fix trailing precision: 3.142\n",
      "scientific form: 3.141593e+03\n",
      "a character: α\n",
      "a string: look I'm a string!\n",
      "right justify a string:                    width 50, text right justified!\n",
      "a pointer: 0x0000000005f5e100\n",
      "print a integer: 10000000000\n"
     ]
    }
   ],
   "source": [
    "@printf \"fix trailing precision: %0.3f\\n\" float(pi)\n",
    "@printf \"scientific form: %0.6e\\n\" 1000pi\n",
    "@printf \"a character: %c\\n\" 'α'\n",
    "@printf \"a string: %s\\n\" \"look I'm a string!\"\n",
    "@printf \"right justify a string: %50s\\n\" \"width 50, text right justified!\"\n",
    "@printf \"a pointer: %p\\n\" 100000000\n",
    "@printf \"print a integer: %d\\n\" 1e10"
   ]
  },
  {
   "cell_type": "code",
   "execution_count": 18,
   "metadata": {},
   "outputs": [
    {
     "name": "stdout",
     "output_type": "stream",
     "text": [
      "%013f2.718\n"
     ]
    }
   ],
   "source": [
    "println()"
   ]
  },
  {
   "cell_type": "code",
   "execution_count": null,
   "metadata": {
    "collapsed": true
   },
   "outputs": [],
   "source": []
  }
 ],
 "metadata": {
  "kernelspec": {
   "display_name": "Julia 0.6.2",
   "language": "julia",
   "name": "julia-0.6"
  },
  "language_info": {
   "file_extension": ".jl",
   "mimetype": "application/julia",
   "name": "julia",
   "version": "0.6.2"
  }
 },
 "nbformat": 4,
 "nbformat_minor": 2
}
