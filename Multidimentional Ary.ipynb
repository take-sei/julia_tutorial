{
 "cells": [
  {
   "cell_type": "code",
   "execution_count": 3,
   "metadata": {},
   "outputs": [
    {
     "data": {
      "text/plain": [
       "12×3 Array{Int64,2}:\n",
       " 1  1  1\n",
       " 2  1  1\n",
       " 1  2  1\n",
       " 2  2  2\n",
       " 1  3  2\n",
       " 2  3  2\n",
       " 1  1  3\n",
       " 2  1  3\n",
       " 1  2  3\n",
       " 2  2  4\n",
       " 1  3  4\n",
       " 2  3  4"
      ]
     },
     "execution_count": 3,
     "metadata": {},
     "output_type": "execute_result"
    }
   ],
   "source": [
    "m1 = hcat(\n",
    "    repeat([1,2], inner=1, outer=3*2),\n",
    "    repeat([1, 2, 3], inner=2, outer=2),\n",
    "    repeat([1, 2, 3, 4], inner=3, outer=1)\n",
    ")"
   ]
  },
  {
   "cell_type": "code",
   "execution_count": 12,
   "metadata": {},
   "outputs": [
    {
     "name": "stdout",
     "output_type": "stream",
     "text": [
      "size:(12, 6)\n"
     ]
    }
   ],
   "source": [
    "m2 = repmat(m1, 1, 2)\n",
    "println(\"size:\", size(m2))"
   ]
  },
  {
   "cell_type": "code",
   "execution_count": 14,
   "metadata": {},
   "outputs": [
    {
     "name": "stdout",
     "output_type": "stream",
     "text": [
      "size:(24, 3)\n"
     ]
    }
   ],
   "source": [
    "m3 = repmat(m1, 2, 1)\n",
    "println(\"size:\", size(m3))"
   ]
  },
  {
   "cell_type": "code",
   "execution_count": 16,
   "metadata": {},
   "outputs": [
    {
     "data": {
      "text/plain": [
       "2×3×2 Array{String,3}:\n",
       "[:, :, 1] =\n",
       " \"This is 1\"  \"This is 3\"  \"This is 5\"\n",
       " \"This is 2\"  \"This is 4\"  \"This is 6\"\n",
       "\n",
       "[:, :, 2] =\n",
       " \"This is 7\"  \"This is 9\"   \"This is 11\"\n",
       " \"This is 8\"  \"This is 10\"  \"This is 12\""
      ]
     },
     "execution_count": 16,
     "metadata": {},
     "output_type": "execute_result"
    }
   ],
   "source": [
    "m4 = [i+j+k for i=1:2, j=1:3, k=1:2]\n",
    "m5 = [\"This is $(i+2*(j-1 + 3*(k-1)))\" for i=1:2, j =1:3, k=1:2]"
   ]
  },
  {
   "cell_type": "code",
   "execution_count": 20,
   "metadata": {},
   "outputs": [
    {
     "data": {
      "text/plain": [
       "2×3×1 Array{Int64,3}:\n",
       "[:, :, 1] =\n",
       " 7   9  11\n",
       " 9  11  13"
      ]
     },
     "execution_count": 20,
     "metadata": {},
     "output_type": "execute_result"
    }
   ],
   "source": [
    "sum(m4, 3)"
   ]
  },
  {
   "cell_type": "code",
   "execution_count": 21,
   "metadata": {},
   "outputs": [
    {
     "data": {
      "text/plain": [
       "1×3×1 Array{Int64,3}:\n",
       "[:, :, 1] =\n",
       " 16  20  24"
      ]
     },
     "execution_count": 21,
     "metadata": {},
     "output_type": "execute_result"
    }
   ],
   "source": [
    "sum(m4, (1,3))"
   ]
  },
  {
   "cell_type": "code",
   "execution_count": 23,
   "metadata": {},
   "outputs": [
    {
     "data": {
      "text/plain": [
       "2×1×2 Array{Int64,3}:\n",
       "[:, :, 1] =\n",
       " 5\n",
       " 6\n",
       "\n",
       "[:, :, 2] =\n",
       " 6\n",
       " 7"
      ]
     },
     "execution_count": 23,
     "metadata": {},
     "output_type": "execute_result"
    }
   ],
   "source": [
    "maximum(m4, 2)"
   ]
  },
  {
   "cell_type": "code",
   "execution_count": 24,
   "metadata": {},
   "outputs": [
    {
     "data": {
      "text/plain": [
       "([4 5 6; 5 6 7], [7 9 11; 8 10 12])"
      ]
     },
     "execution_count": 24,
     "metadata": {},
     "output_type": "execute_result"
    }
   ],
   "source": [
    "findmax(m4, 3)"
   ]
  },
  {
   "cell_type": "code",
   "execution_count": 25,
   "metadata": {},
   "outputs": [
    {
     "data": {
      "text/plain": [
       "2×3×2 Array{Int64,3}:\n",
       "[:, :, 1] =\n",
       " 6  7  8\n",
       " 7  8  9\n",
       "\n",
       "[:, :, 2] =\n",
       " 7  8   9\n",
       " 8  9  10"
      ]
     },
     "execution_count": 25,
     "metadata": {},
     "output_type": "execute_result"
    }
   ],
   "source": [
    "m4 .+3"
   ]
  },
  {
   "cell_type": "code",
   "execution_count": 26,
   "metadata": {},
   "outputs": [
    {
     "data": {
      "text/plain": [
       "2×3×2 Array{Int64,3}:\n",
       "[:, :, 1] =\n",
       " 4  5  6\n",
       " 6  7  8\n",
       "\n",
       "[:, :, 2] =\n",
       " 5  6  7\n",
       " 7  8  9"
      ]
     },
     "execution_count": 26,
     "metadata": {},
     "output_type": "execute_result"
    }
   ],
   "source": [
    "m4 .+ [1, 2]"
   ]
  },
  {
   "cell_type": "code",
   "execution_count": 28,
   "metadata": {},
   "outputs": [
    {
     "data": {
      "text/plain": [
       "2×3 Array{Int64,2}:\n",
       " 3  4  5\n",
       " 4  5  6"
      ]
     },
     "execution_count": 28,
     "metadata": {},
     "output_type": "execute_result"
    }
   ],
   "source": [
    "m4[:,:,1]\n",
    "\n",
    "m4[:,2,:]"
   ]
  },
  {
   "cell_type": "code",
   "execution_count": 33,
   "metadata": {},
   "outputs": [
    {
     "ename": "LoadError",
     "evalue": "\u001b[91mArgumentError: squeezed dims must all be size 1\u001b[39m",
     "output_type": "error",
     "traceback": [
      "\u001b[91mArgumentError: squeezed dims must all be size 1\u001b[39m",
      "",
      "Stacktrace:",
      " [1] \u001b[1msqueeze\u001b[22m\u001b[22m\u001b[1m(\u001b[22m\u001b[22m::Array{Int64,2}, ::Tuple{Int64}\u001b[1m)\u001b[22m\u001b[22m at \u001b[1m./abstractarraymath.jl:70\u001b[22m\u001b[22m",
      " [2] \u001b[1msqueeze\u001b[22m\u001b[22m\u001b[1m(\u001b[22m\u001b[22m::Array{Int64,2}, ::Int64\u001b[1m)\u001b[22m\u001b[22m at \u001b[1m./abstractarraymath.jl:84\u001b[22m\u001b[22m",
      " [3] \u001b[1minclude_string\u001b[22m\u001b[22m\u001b[1m(\u001b[22m\u001b[22m::String, ::String\u001b[1m)\u001b[22m\u001b[22m at \u001b[1m./loading.jl:522\u001b[22m\u001b[22m"
     ]
    }
   ],
   "source": [
    "squeeze(m4[:,2,:],2)  # Error... why?"
   ]
  },
  {
   "cell_type": "code",
   "execution_count": null,
   "metadata": {},
   "outputs": [],
   "source": [
    "m4[]"
   ]
  }
 ],
 "metadata": {
  "kernelspec": {
   "display_name": "Julia 0.6.2",
   "language": "julia",
   "name": "julia-0.6"
  },
  "language_info": {
   "file_extension": ".jl",
   "mimetype": "application/julia",
   "name": "julia",
   "version": "0.6.2"
  }
 },
 "nbformat": 4,
 "nbformat_minor": 2
}
