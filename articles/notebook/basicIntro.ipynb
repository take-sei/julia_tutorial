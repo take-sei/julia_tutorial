{
 "cells": [
  {
   "cell_type": "markdown",
   "metadata": {},
   "source": [
    "# Basic Introduction to Julia\n",
    "とりあえずJuliaに触ってみよう.\n",
    "基本的なスクリプト言語と書き方は同じです.\n",
    "なんて言ったって, use like python and run like c, ですし.\n",
    "\n",
    "## see also here\n",
    " - https://docs.julialang.org/en/latest/\n",
    " - https://gitter.im/JuliaLang/julia\n",
    "Generally, discussued Juylia0.6.2"
   ]
  },
  {
   "cell_type": "markdown",
   "metadata": {},
   "source": [
    "## 1. 開発用ツール\n",
    "Juliaにはたくさんのdocumentation toolがあるけどたくさんありすぎて紹介しきれないので, そのうちのいくつかを紹介.\n",
    "\n",
    "Juliaのメソッドも名前と引数のセットで認識するため, 同じ名前のメソッドでも引数に応じた複数の処理を一つの名前のメソッドに定義できます.\n",
    "\n",
    "- methods()\n",
    "- @which\n",
    "- fieldnames()\n",
    "- typeof()\n",
    "-  @code_lowered\n",
    "- ?"
   ]
  },
  {
   "cell_type": "code",
   "execution_count": 1,
   "metadata": {},
   "outputs": [
    {
     "data": {
      "text/html": [
       "44 methods for generic function <b>copy</b>:<ul><li> copy(e::<b>Expr</b>) at <a href=\"https://github.com/JuliaLang/julia/tree/d386e40c17d43b79fc89d3e579fc04547241787c/base/expr.jl#L35\" target=\"_blank\">expr.jl:35</a></li> <li> copy(s1::<b>IntSet</b>) at <a href=\"https://github.com/JuliaLang/julia/tree/d386e40c17d43b79fc89d3e579fc04547241787c/base/intset.jl#L11\" target=\"_blank\">intset.jl:11</a></li> <li> copy(o::<b>ObjectIdDict</b>) at <a href=\"https://github.com/JuliaLang/julia/tree/d386e40c17d43b79fc89d3e579fc04547241787c/base/associative.jl#L475\" target=\"_blank\">associative.jl:475</a></li> <li> copy(src::<b>Base.dSFMT.DSFMT_state</b>) at <a href=\"https://github.com/JuliaLang/julia/tree/d386e40c17d43b79fc89d3e579fc04547241787c/base/dSFMT.jl#L32\" target=\"_blank\">dSFMT.jl:32</a></li> <li> copy(src::<b>MersenneTwister</b>) at <a href=\"https://github.com/JuliaLang/julia/tree/d386e40c17d43b79fc89d3e579fc04547241787c/base/random.jl#L112\" target=\"_blank\">random.jl:112</a></li> <li> copy(vset::<b>Base.Pkg.Types.VersionSet</b>) at <a href=\"https://github.com/JuliaLang/julia/tree/d386e40c17d43b79fc89d3e579fc04547241787c/base/pkg/types.jl#L66\" target=\"_blank\">pkg/types.jl:66</a></li> <li> copy(a::<b>Base.Pkg.Types.Available</b>) at <a href=\"https://github.com/JuliaLang/julia/tree/d386e40c17d43b79fc89d3e579fc04547241787c/base/pkg/types.jl#L148\" target=\"_blank\">pkg/types.jl:148</a></li> <li> copy(a::<b>Base.Pkg.Resolve.VersionWeights.VWPreBuildItem</b>) at <a href=\"https://github.com/JuliaLang/julia/tree/d386e40c17d43b79fc89d3e579fc04547241787c/base/pkg/resolve/versionweight.jl#L101\" target=\"_blank\">pkg/resolve/versionweight.jl:101</a></li> <li> copy(a::<b>Base.Pkg.Resolve.VersionWeights.VWPreBuild</b>) at <a href=\"https://github.com/JuliaLang/julia/tree/d386e40c17d43b79fc89d3e579fc04547241787c/base/pkg/resolve/versionweight.jl#L159\" target=\"_blank\">pkg/resolve/versionweight.jl:159</a></li> <li> copy(a::<b>Base.Pkg.Resolve.VersionWeights.VersionWeight</b>) at <a href=\"https://github.com/JuliaLang/julia/tree/d386e40c17d43b79fc89d3e579fc04547241787c/base/pkg/resolve/versionweight.jl#L219\" target=\"_blank\">pkg/resolve/versionweight.jl:219</a></li> <li> copy(a::<b>Base.Pkg.Resolve.MaxSum.FieldValues.FieldValue</b>) at <a href=\"https://github.com/JuliaLang/julia/tree/d386e40c17d43b79fc89d3e579fc04547241787c/base/pkg/resolve/fieldvalue.jl#L68\" target=\"_blank\">pkg/resolve/fieldvalue.jl:68</a></li> <li> copy(r::<b>Range</b>) at <a href=\"https://github.com/JuliaLang/julia/tree/d386e40c17d43b79fc89d3e579fc04547241787c/base/range.jl#L430\" target=\"_blank\">range.jl:430</a></li> <li> copy(x::<b>Number</b>) at <a href=\"https://github.com/JuliaLang/julia/tree/d386e40c17d43b79fc89d3e579fc04547241787c/base/number.jl#L48\" target=\"_blank\">number.jl:48</a></li> <li> copy<i>{T<:Array}</i>(a::<b>T</b>) at <a href=\"https://github.com/JuliaLang/julia/tree/d386e40c17d43b79fc89d3e579fc04547241787c/base/array.jl#L139\" target=\"_blank\">array.jl:139</a></li> <li> copy(M::<b>SymTridiagonal</b>) at <a href=\"https://github.com/JuliaLang/julia/tree/d386e40c17d43b79fc89d3e579fc04547241787c/base/linalg/tridiag.jl#L105\" target=\"_blank\">linalg/tridiag.jl:105</a></li> <li> copy(M::<b>Tridiagonal</b>) at <a href=\"https://github.com/JuliaLang/julia/tree/d386e40c17d43b79fc89d3e579fc04547241787c/base/linalg/tridiag.jl#L517\" target=\"_blank\">linalg/tridiag.jl:517</a></li> <li> copy(A::<b>LowerTriangular</b>) at <a href=\"https://github.com/JuliaLang/julia/tree/d386e40c17d43b79fc89d3e579fc04547241787c/base/linalg/triangular.jl#L38\" target=\"_blank\">linalg/triangular.jl:38</a></li> <li> copy(A::<b>Base.LinAlg.UnitLowerTriangular</b>) at <a href=\"https://github.com/JuliaLang/julia/tree/d386e40c17d43b79fc89d3e579fc04547241787c/base/linalg/triangular.jl#L38\" target=\"_blank\">linalg/triangular.jl:38</a></li> <li> copy(A::<b>UpperTriangular</b>) at <a href=\"https://github.com/JuliaLang/julia/tree/d386e40c17d43b79fc89d3e579fc04547241787c/base/linalg/triangular.jl#L38\" target=\"_blank\">linalg/triangular.jl:38</a></li> <li> copy(A::<b>Base.LinAlg.UnitUpperTriangular</b>) at <a href=\"https://github.com/JuliaLang/julia/tree/d386e40c17d43b79fc89d3e579fc04547241787c/base/linalg/triangular.jl#L38\" target=\"_blank\">linalg/triangular.jl:38</a></li> <li> copy<i>{T, S}</i>(A::<b>Symmetric{T,S}</b>) at <a href=\"https://github.com/JuliaLang/julia/tree/d386e40c17d43b79fc89d3e579fc04547241787c/base/linalg/symmetric.jl#L160\" target=\"_blank\">linalg/symmetric.jl:160</a></li> <li> copy<i>{T, S}</i>(A::<b>Hermitian{T,S}</b>) at <a href=\"https://github.com/JuliaLang/julia/tree/d386e40c17d43b79fc89d3e579fc04547241787c/base/linalg/symmetric.jl#L161\" target=\"_blank\">linalg/symmetric.jl:161</a></li> <li> copy(M::<b>Bidiagonal</b>) at <a href=\"https://github.com/JuliaLang/julia/tree/d386e40c17d43b79fc89d3e579fc04547241787c/base/linalg/bidiag.jl#L266\" target=\"_blank\">linalg/bidiag.jl:266</a></li> <li> copy(ra::<b>Base.ReshapedArray{#s268,2,#s267,MI} where MI<:Tuple{Vararg{Base.MultiplicativeInverses.SignedMultiplicativeInverse{Int64},N} where N} where #s267<:SparseMatrixCSC where #s268</b>) at <a href=\"https://github.com/JuliaLang/julia/tree/d386e40c17d43b79fc89d3e579fc04547241787c/base/sparse/sparsematrix.jl#L238\" target=\"_blank\">sparse/sparsematrix.jl:238</a></li> <li> copy(S::<b>SparseMatrixCSC</b>) at <a href=\"https://github.com/JuliaLang/julia/tree/d386e40c17d43b79fc89d3e579fc04547241787c/base/sparse/sparsematrix.jl#L253\" target=\"_blank\">sparse/sparsematrix.jl:253</a></li> <li> copy<i>{Tv<:Float64}</i>(A::<b>Base.SparseArrays.CHOLMOD.Sparse{Tv}</b>, stype::<b>Integer</b>, mode::<b>Integer</b>) at <a href=\"https://github.com/JuliaLang/julia/tree/d386e40c17d43b79fc89d3e579fc04547241787c/base/sparse/cholmod.jl#L618\" target=\"_blank\">sparse/cholmod.jl:618</a></li> <li> copy(A::<b>Base.SparseArrays.CHOLMOD.Sparse</b>) at <a href=\"https://github.com/JuliaLang/julia/tree/d386e40c17d43b79fc89d3e579fc04547241787c/base/sparse/cholmod.jl#L1209\" target=\"_blank\">sparse/cholmod.jl:1209</a></li> <li> copy(x::<b>AbstractSparseArray{Tv,Ti,1} where Ti where Tv</b>) at <a href=\"https://github.com/JuliaLang/julia/tree/d386e40c17d43b79fc89d3e579fc04547241787c/base/sparse/sparsevector.jl#L825\" target=\"_blank\">sparse/sparsevector.jl:825</a></li> <li> copy(A::<b>Base.SparseArrays.CHOLMOD.Dense</b>) at <a href=\"https://github.com/JuliaLang/julia/tree/d386e40c17d43b79fc89d3e579fc04547241787c/base/sparse/cholmod.jl#L1208\" target=\"_blank\">sparse/cholmod.jl:1208</a></li> <li> copy(a::<b>AbstractArray</b>) at <a href=\"https://github.com/JuliaLang/julia/tree/d386e40c17d43b79fc89d3e579fc04547241787c/base/abstractarray.jl#L697\" target=\"_blank\">abstractarray.jl:697</a></li> <li> copy(d::<b>Dict</b>) at <a href=\"https://github.com/JuliaLang/julia/tree/d386e40c17d43b79fc89d3e579fc04547241787c/base/dict.jl#L134\" target=\"_blank\">dict.jl:134</a></li> <li> copy(d::<b>WeakKeyDict</b>) at <a href=\"https://github.com/JuliaLang/julia/tree/d386e40c17d43b79fc89d3e579fc04547241787c/base/weakkeydict.jl#L49\" target=\"_blank\">weakkeydict.jl:49</a></li> <li> copy(a::<b>Associative</b>) at <a href=\"https://github.com/JuliaLang/julia/tree/d386e40c17d43b79fc89d3e579fc04547241787c/base/associative.jl#L113\" target=\"_blank\">associative.jl:113</a></li> <li> copy(s::<b>Set</b>) at <a href=\"https://github.com/JuliaLang/julia/tree/d386e40c17d43b79fc89d3e579fc04547241787c/base/set.jl#L41\" target=\"_blank\">set.jl:41</a></li> <li> copy(b::<b>Base.AbstractIOBuffer</b>) at <a href=\"https://github.com/JuliaLang/julia/tree/d386e40c17d43b79fc89d3e579fc04547241787c/base/iobuffer.jl#L81\" target=\"_blank\">iobuffer.jl:81</a></li> <li> copy(A::<b>Base.LinAlg.LQ</b>) at <a href=\"https://github.com/JuliaLang/julia/tree/d386e40c17d43b79fc89d3e579fc04547241787c/base/linalg/lq.jl#L48\" target=\"_blank\">linalg/lq.jl:48</a></li> <li> copy(C::<b>Base.LinAlg.Cholesky</b>) at <a href=\"https://github.com/JuliaLang/julia/tree/d386e40c17d43b79fc89d3e579fc04547241787c/base/linalg/cholesky.jl#L416\" target=\"_blank\">linalg/cholesky.jl:416</a></li> <li> copy(C::<b>Base.LinAlg.CholeskyPivoted</b>) at <a href=\"https://github.com/JuliaLang/julia/tree/d386e40c17d43b79fc89d3e579fc04547241787c/base/linalg/cholesky.jl#L417\" target=\"_blank\">linalg/cholesky.jl:417</a></li> <li> copy(J::<b>UniformScaling</b>) at <a href=\"https://github.com/JuliaLang/julia/tree/d386e40c17d43b79fc89d3e579fc04547241787c/base/linalg/uniformscaling.jl#L41\" target=\"_blank\">linalg/uniformscaling.jl:41</a></li> <li> copy(F::<b>Base.LinAlg.Schur</b>) at <a href=\"https://github.com/JuliaLang/julia/tree/d386e40c17d43b79fc89d3e579fc04547241787c/base/linalg/schur.jl#L288\" target=\"_blank\">linalg/schur.jl:288</a></li> <li> copy(F::<b>Base.LinAlg.GeneralizedSchur</b>) at <a href=\"https://github.com/JuliaLang/julia/tree/d386e40c17d43b79fc89d3e579fc04547241787c/base/linalg/schur.jl#L289\" target=\"_blank\">linalg/schur.jl:289</a></li> <li> copy<i>{T}</i>(a::<b>Base.Pkg.Resolve.VersionWeights.HierarchicalValue{T}</b>) at <a href=\"https://github.com/JuliaLang/julia/tree/d386e40c17d43b79fc89d3e579fc04547241787c/base/pkg/resolve/versionweight.jl#L71\" target=\"_blank\">pkg/resolve/versionweight.jl:71</a></li> <li> copy(A::<b>Base.SparseArrays.CHOLMOD.Factor</b>) at <a href=\"https://github.com/JuliaLang/julia/tree/d386e40c17d43b79fc89d3e579fc04547241787c/base/sparse/cholmod.jl#L1210\" target=\"_blank\">sparse/cholmod.jl:1210</a></li> <li> copy(md::<b>MbedTLS.MD</b>) at <a href=\"https://github.com/JuliaWeb/MbedTLS.jl/tree/1835661be3a08e48b7713d5cf91a7d6b93e6c122//src/md.jl#L93\" target=\"_blank\">/Users/U05284/.julia/v0.6/MbedTLS/src/md.jl:93</a></li> </ul>"
      ],
      "text/plain": [
       "# 44 methods for generic function \"copy\":\n",
       "copy(e::Expr) in Base at expr.jl:35\n",
       "copy(s1::IntSet) in Base at intset.jl:11\n",
       "copy(o::ObjectIdDict) in Base at associative.jl:475\n",
       "copy(src::Base.dSFMT.DSFMT_state) in Base.dSFMT at dSFMT.jl:32\n",
       "copy(src::MersenneTwister) in Base.Random at random.jl:112\n",
       "copy(vset::Base.Pkg.Types.VersionSet) in Base.Pkg.Types at pkg/types.jl:66\n",
       "copy(a::Base.Pkg.Types.Available) in Base.Pkg.Types at pkg/types.jl:148\n",
       "copy(a::Base.Pkg.Resolve.VersionWeights.VWPreBuildItem) in Base.Pkg.Resolve.VersionWeights at pkg/resolve/versionweight.jl:101\n",
       "copy(a::Base.Pkg.Resolve.VersionWeights.VWPreBuild) in Base.Pkg.Resolve.VersionWeights at pkg/resolve/versionweight.jl:159\n",
       "copy(a::Base.Pkg.Resolve.VersionWeights.VersionWeight) in Base.Pkg.Resolve.VersionWeights at pkg/resolve/versionweight.jl:219\n",
       "copy(a::Base.Pkg.Resolve.MaxSum.FieldValues.FieldValue) in Base.Pkg.Resolve.MaxSum.FieldValues at pkg/resolve/fieldvalue.jl:68\n",
       "copy(r::Range) in Base at range.jl:430\n",
       "copy(x::Number) in Base at number.jl:48\n",
       "copy(a::T) where T<:Array in Base at array.jl:139\n",
       "copy(M::SymTridiagonal) in Base.LinAlg at linalg/tridiag.jl:105\n",
       "copy(M::Tridiagonal) in Base.LinAlg at linalg/tridiag.jl:517\n",
       "copy(A::LowerTriangular) in Base.LinAlg at linalg/triangular.jl:38\n",
       "copy(A::Base.LinAlg.UnitLowerTriangular) in Base.LinAlg at linalg/triangular.jl:38\n",
       "copy(A::UpperTriangular) in Base.LinAlg at linalg/triangular.jl:38\n",
       "copy(A::Base.LinAlg.UnitUpperTriangular) in Base.LinAlg at linalg/triangular.jl:38\n",
       "copy(A::Symmetric{T,S}) where {T, S} in Base.LinAlg at linalg/symmetric.jl:160\n",
       "copy(A::Hermitian{T,S}) where {T, S} in Base.LinAlg at linalg/symmetric.jl:161\n",
       "copy(M::Bidiagonal) in Base.LinAlg at linalg/bidiag.jl:266\n",
       "copy(ra::Base.ReshapedArray{#s268,2,#s267,MI} where MI<:Tuple{Vararg{Base.MultiplicativeInverses.SignedMultiplicativeInverse{Int64},N} where N} where #s267<:SparseMatrixCSC where #s268) in Base.SparseArrays at sparse/sparsematrix.jl:238\n",
       "copy(S::SparseMatrixCSC) in Base.SparseArrays at sparse/sparsematrix.jl:253\n",
       "copy(A::Base.SparseArrays.CHOLMOD.Sparse{Tv}, stype::Integer, mode::Integer) where Tv<:Float64 in Base.SparseArrays.CHOLMOD at sparse/cholmod.jl:618\n",
       "copy(A::Base.SparseArrays.CHOLMOD.Sparse) in Base.SparseArrays.CHOLMOD at sparse/cholmod.jl:1209\n",
       "copy(x::AbstractSparseArray{Tv,Ti,1} where Ti where Tv) in Base.SparseArrays at sparse/sparsevector.jl:825\n",
       "copy(A::Base.SparseArrays.CHOLMOD.Dense) in Base.SparseArrays.CHOLMOD at sparse/cholmod.jl:1208\n",
       "copy(a::AbstractArray) in Base at abstractarray.jl:697\n",
       "copy(d::Dict) in Base at dict.jl:134\n",
       "copy(d::WeakKeyDict) in Base at weakkeydict.jl:49\n",
       "copy(a::Associative) in Base at associative.jl:113\n",
       "copy(s::Set) in Base at set.jl:41\n",
       "copy(b::Base.AbstractIOBuffer) in Base at iobuffer.jl:81\n",
       "copy(A::Base.LinAlg.LQ) in Base.LinAlg at linalg/lq.jl:48\n",
       "copy(C::Base.LinAlg.Cholesky) in Base.LinAlg at linalg/cholesky.jl:416\n",
       "copy(C::Base.LinAlg.CholeskyPivoted) in Base.LinAlg at linalg/cholesky.jl:417\n",
       "copy(J::UniformScaling) in Base.LinAlg at linalg/uniformscaling.jl:41\n",
       "copy(F::Base.LinAlg.Schur) in Base.LinAlg at linalg/schur.jl:288\n",
       "copy(F::Base.LinAlg.GeneralizedSchur) in Base.LinAlg at linalg/schur.jl:289\n",
       "copy(a::Base.Pkg.Resolve.VersionWeights.HierarchicalValue{T}) where T in Base.Pkg.Resolve.VersionWeights at pkg/resolve/versionweight.jl:71\n",
       "copy(A::Base.SparseArrays.CHOLMOD.Factor) in Base.SparseArrays.CHOLMOD at sparse/cholmod.jl:1210\n",
       "copy(md::MbedTLS.MD) in MbedTLS at /Users/U05284/.julia/v0.6/MbedTLS/src/md.jl:93"
      ]
     },
     "execution_count": 1,
     "metadata": {},
     "output_type": "execute_result"
    }
   ],
   "source": [
    "methods(copy) # methods()...ある名前で定義されているメソッドを出力"
   ]
  },
  {
   "cell_type": "code",
   "execution_count": 2,
   "metadata": {},
   "outputs": [
    {
     "data": {
      "text/html": [
       "copy<i>{T<:Array}</i>(a::<b>T</b>) at <a href=\"https://github.com/JuliaLang/julia/tree/d386e40c17d43b79fc89d3e579fc04547241787c/base/array.jl#L139\" target=\"_blank\">array.jl:139</a>"
      ],
      "text/plain": [
       "copy(a::T) where T<:Array in Base at array.jl:139"
      ]
     },
     "execution_count": 2,
     "metadata": {},
     "output_type": "execute_result"
    }
   ],
   "source": [
    "@which(copy([1, 2, 3])) # @which...どの引数の処理のメソッドが呼ばれているかを出力"
   ]
  },
  {
   "cell_type": "code",
   "execution_count": 3,
   "metadata": {},
   "outputs": [
    {
     "data": {
      "text/plain": [
       "2-element Array{Symbol,1}:\n",
       " :data\n",
       " :uplo"
      ]
     },
     "execution_count": 3,
     "metadata": {},
     "output_type": "execute_result"
    }
   ],
   "source": [
    "fieldnames(Hermitian) # filednames()...インスタンスや構造体の中身のタイプを出力"
   ]
  },
  {
   "cell_type": "code",
   "execution_count": 4,
   "metadata": {},
   "outputs": [
    {
     "data": {
      "text/plain": [
       "Array{Int64,1}"
      ]
     },
     "execution_count": 4,
     "metadata": {},
     "output_type": "execute_result"
    }
   ],
   "source": [
    "typeof([1;2;3]) # typeof()... 型を出力, c.f. ;は改行, つまりこれは列ベクトル"
   ]
  },
  {
   "cell_type": "code",
   "execution_count": 5,
   "metadata": {},
   "outputs": [
    {
     "data": {
      "text/plain": [
       "CodeInfo(:(begin \n",
       "        nothing\n",
       "        nothing\n",
       "        SSAValue(0) = (Base.cconvert)(Base.Math.Float64, x)\n",
       "        SSAValue(1) = $(Expr(:foreigncall, :((Core.tuple)(\"sin\", Base.Math.libm)), Float64, svec(Float64), :((Base.unsafe_convert)(Base.Math.Float64, SSAValue(0))), SSAValue(0)))\n",
       "        return (Base.Math.nan_dom_err)(SSAValue(1), x)\n",
       "    end))"
      ]
     },
     "execution_count": 5,
     "metadata": {},
     "output_type": "execute_result"
    }
   ],
   "source": [
    "@code_lowered sin(sqrt(3)) # @code_lowered...どんな処理が発生してるかを確認できる. sqrt()は√3でもok."
   ]
  },
  {
   "cell_type": "markdown",
   "metadata": {},
   "source": [
    "またIntractiveShellにてjuliaを使っている場合だけですが.コンソール時に\"?\"を打ち込むとhelpモードに入ります."
   ]
  },
  {
   "cell_type": "code",
   "execution_count": 6,
   "metadata": {},
   "outputs": [],
   "source": [
    "# ?copy...copyのヘルプが出ます"
   ]
  },
  {
   "cell_type": "markdown",
   "metadata": {},
   "source": [
    "-----"
   ]
  },
  {
   "cell_type": "markdown",
   "metadata": {},
   "source": [
    "## 2.Array\n",
    "基本的な構文はmatlabと同じ.\n",
    "\n",
    "### 宣言方法と代入方法"
   ]
  },
  {
   "cell_type": "code",
   "execution_count": 7,
   "metadata": {},
   "outputs": [
    {
     "name": "stdout",
     "output_type": "stream",
     "text": [
      "[1, 2, 3, 4, 5]\n",
      "[1 2 3 4 5]\n"
     ]
    }
   ],
   "source": [
    "a = Vector{Float64}(5) #5つのfloat64値からなる一次元配列の生成\n",
    "a = [1 2 3 4 5]\n",
    "\n",
    "cv = [1;2;3;4;5] # 列ベクトル\n",
    "rv = [1 2 3 4 5] # 行ベクトル\n",
    "\n",
    "println(cv)\n",
    "println(rv)"
   ]
  },
  {
   "cell_type": "code",
   "execution_count": 8,
   "metadata": {},
   "outputs": [
    {
     "data": {
      "text/plain": [
       "1×5 Array{Int64,2}:\n",
       " 1  2  100  4  5"
      ]
     },
     "execution_count": 8,
     "metadata": {},
     "output_type": "execute_result"
    }
   ],
   "source": [
    "a[3] = 100 # 配列aの\"3つめ\"の要素を100に変更. 線形indexを使用しています.\n",
    "a"
   ]
  },
  {
   "cell_type": "code",
   "execution_count": 9,
   "metadata": {},
   "outputs": [
    {
     "data": {
      "text/plain": [
       "3×4 Array{Int64,2}:\n",
       " 11  12  13  14\n",
       " 21  22  23  24\n",
       " 31  32  33  34"
      ]
     },
     "execution_count": 9,
     "metadata": {},
     "output_type": "execute_result"
    }
   ],
   "source": [
    "b = Matrix{Float64}(4,2) # size(4, 2)からなるFloat64型行列を生成\n",
    "\n",
    "c = Array{Float64}(4,5,6,7) # (4,5,6,7)からなるFloat64配列\n",
    "\n",
    "mat =  [11 12 13 14\n",
    "        21 22 23 24\n",
    "        31 32 33 34] # 直接inlineでMatrixの宣言も可能"
   ]
  },
  {
   "cell_type": "code",
   "execution_count": 10,
   "metadata": {},
   "outputs": [
    {
     "data": {
      "text/plain": [
       "3×4 Array{Int64,2}:\n",
       " 11   4  13  14\n",
       " 21  22  23  24\n",
       " 31  32  33  34"
      ]
     },
     "execution_count": 10,
     "metadata": {},
     "output_type": "execute_result"
    }
   ],
   "source": [
    "mat[1,2] = 4 # 変更方法は同じ.\n",
    "mat"
   ]
  },
  {
   "cell_type": "markdown",
   "metadata": {},
   "source": [
    "#### memo1\n",
    "> memo1: REPL環境を使ってる時, 評価された時に値を返される物の後ろに\";\"を入れると出力を無視できます.  \n",
    "> memo2: arrayの値はメモリの場所へのポインタです."
   ]
  },
  {
   "cell_type": "code",
   "execution_count": 11,
   "metadata": {},
   "outputs": [],
   "source": [
    "#memo1\n",
    "mat;"
   ]
  },
  {
   "cell_type": "code",
   "execution_count": 12,
   "metadata": {},
   "outputs": [
    {
     "name": "stdout",
     "output_type": "stream",
     "text": [
      "[10, 2, 3][10, 2, 3]\n"
     ]
    }
   ],
   "source": [
    "#memo2\n",
    "a = [1;2;3]\n",
    "b = a\n",
    "b[1] = 10\n",
    "println(a, b)"
   ]
  },
  {
   "cell_type": "code",
   "execution_count": 13,
   "metadata": {},
   "outputs": [
    {
     "name": "stdout",
     "output_type": "stream",
     "text": [
      "[1, 2, 3][10, 2, 3]\n"
     ]
    }
   ],
   "source": [
    "#memo2: aも一緒に変更されたくない場合は\"copy\"を使います.\n",
    "a = [1;2;3]\n",
    "b = copy(a)\n",
    "b[1] = 10\n",
    "println(a, b)"
   ]
  },
  {
   "cell_type": "markdown",
   "metadata": {},
   "source": [
    "#### memo2\n",
    "他にもコンストラクタを使わずにも宣言することが可能です. その場合以下のメソッドが有用.  \n",
    "いずれも, 引数のArrayのsize/shapeを引き継いだ新しいArrayを返します.\n",
    "\n",
    "- similar()\n",
    "- zeros()\n",
    "- ones()"
   ]
  },
  {
   "cell_type": "code",
   "execution_count": 14,
   "metadata": {},
   "outputs": [
    {
     "name": "stdout",
     "output_type": "stream",
     "text": [
      "[4469783144, 4469783576, 4469791928][0, 0, 0][1, 1, 1]\n"
     ]
    }
   ],
   "source": [
    "simA = similar(a) # aと同じ構造の未初期化のaryを返す.\n",
    "zerosA = zeros(a) # aと同じ構造の全て0のaryを返す.\n",
    "onesA = ones(a) # aと同じ構造の全て1のaryを返す.\n",
    "\n",
    "println(simA, zerosA, onesA)"
   ]
  },
  {
   "cell_type": "markdown",
   "metadata": {},
   "source": [
    "#### memo3\n",
    "1) 配列は[a:b]によって切り出すことが可能.\n",
    "- [a:b]...配列のa番目からb番目までを切り出す\n",
    "\n",
    "2) また, aryにはどんな種類のtypeも内包できるため配列の中に配列を含めることももちろん可能です.\n"
   ]
  },
  {
   "cell_type": "code",
   "execution_count": 15,
   "metadata": {},
   "outputs": [
    {
     "data": {
      "text/plain": [
       "5-element Array{Int64,1}:\n",
       " 1\n",
       " 2\n",
       " 3\n",
       " 4\n",
       " 5"
      ]
     },
     "execution_count": 15,
     "metadata": {},
     "output_type": "execute_result"
    }
   ],
   "source": [
    "#1)\n",
    "a = [1 2 3 4 5 6 7 8 9 10]\n",
    "a[1:5]"
   ]
  },
  {
   "cell_type": "code",
   "execution_count": 16,
   "metadata": {},
   "outputs": [
    {
     "data": {
      "text/plain": [
       "3-element Array{Array{Float64,1},1}:\n",
       " [1.0, 2.0, 3.0]\n",
       " [1.0, 2.0]     \n",
       " [3.0, 4.0, 5.0]"
      ]
     },
     "execution_count": 16,
     "metadata": {},
     "output_type": "execute_result"
    }
   ],
   "source": [
    "# 2)\n",
    "a = Vector{Vector{Float64}}(3)\n",
    "a[1] = [1;2;3]\n",
    "a[2] = [1;2]\n",
    "a[3] = [3;4;5]\n",
    "a"
   ]
  },
  {
   "cell_type": "markdown",
   "metadata": {},
   "source": [
    "また, 入れ子構造になったarrayのcopyにはdeepcopy()を使います."
   ]
  },
  {
   "cell_type": "code",
   "execution_count": 17,
   "metadata": {},
   "outputs": [
    {
     "name": "stdout",
     "output_type": "stream",
     "text": [
      "Array{Float64,1}[[1.0, 2.0, 3.0], [1.0, 2.0], [3.0, 4.0, 5.0]]\n",
      "Array{Float64,1}[[1.0, 3.0, 2.0], [1.0, 2.0], [3.0, 4.0, 5.0]]\n"
     ]
    }
   ],
   "source": [
    "b = deepcopy(a)\n",
    "b[1] = [1;3;2]\n",
    "println(a)\n",
    "println(b)"
   ]
  },
  {
   "cell_type": "markdown",
   "metadata": {},
   "source": [
    "#### memo4\n",
    "高い実行速度を達成するためにはコード量を減らすことが重要です. \n",
    "そのため, Juliaには引数に破壊的代入をもたらすmutationメソッドがあり, そのようなメソッドの末尾には!が付いています."
   ]
  },
  {
   "cell_type": "code",
   "execution_count": 18,
   "metadata": {},
   "outputs": [
    {
     "data": {
      "text/plain": [
       "3-element Array{Int64,1}:\n",
       "  2\n",
       " 12\n",
       " 18"
      ]
     },
     "execution_count": 18,
     "metadata": {},
     "output_type": "execute_result"
    }
   ],
   "source": [
    "# mutation method ex.\n",
    "a = [1;6;9]\n",
    "scale!(a, 2) # scale!(ary, scalar)...aryをscalar倍"
   ]
  },
  {
   "cell_type": "markdown",
   "metadata": {},
   "source": [
    "----"
   ]
  },
  {
   "cell_type": "markdown",
   "metadata": {},
   "source": [
    "## 3.制御フロー\n",
    "\n",
    "Juliaの制御フローは他のスクリプト言語と大して変化はなし.\n",
    "いつも通りのfor loop, while, ifがあるくらい.\n",
    "\n",
    "他のものはdocumentを参照."
   ]
  },
  {
   "cell_type": "code",
   "execution_count": 19,
   "metadata": {},
   "outputs": [
    {
     "name": "stdout",
     "output_type": "stream",
     "text": [
      "1\n",
      "2\n",
      "3\n",
      "4\n",
      "5\n"
     ]
    }
   ],
   "source": [
    "# for loop\n",
    "for i=1:5 #1:5でrange, =をinに変えても実行可能.\n",
    "  println(i)\n",
    "end"
   ]
  },
  {
   "cell_type": "code",
   "execution_count": 20,
   "metadata": {},
   "outputs": [
    {
     "name": "stdout",
     "output_type": "stream",
     "text": [
      "0\n",
      "1\n",
      "2\n",
      "3\n",
      "4\n"
     ]
    }
   ],
   "source": [
    "t = 0\n",
    "while t < 5\n",
    "  println(t)\n",
    "  t+=1\n",
    "end"
   ]
  },
  {
   "cell_type": "code",
   "execution_count": 21,
   "metadata": {},
   "outputs": [
    {
     "name": "stdout",
     "output_type": "stream",
     "text": [
      "you said asdf\n",
      "search: \u001b[1mf\u001b[22m\u001b[1mo\u001b[22m\u001b[1mr\u001b[22m \u001b[1mf\u001b[22m\u001b[1mo\u001b[22m\u001b[1mr\u001b[22meach Uni\u001b[1mf\u001b[22m\u001b[1mo\u001b[22m\u001b[1mr\u001b[22mmScaling Date\u001b[1mF\u001b[22m\u001b[1mo\u001b[22m\u001b[1mr\u001b[22mmat @date\u001b[1mf\u001b[22m\u001b[1mo\u001b[22m\u001b[1mr\u001b[22mmat_str \u001b[1mf\u001b[22m\u001b[1mo\u001b[22mld\u001b[1mr\u001b[22m \u001b[1mf\u001b[22ml\u001b[1mo\u001b[22mo\u001b[1mr\u001b[22m\n",
      "\n",
      "search: \u001b[1mf\u001b[22m\u001b[1mo\u001b[22m\u001b[1mr\u001b[22m \u001b[1mf\u001b[22m\u001b[1mo\u001b[22m\u001b[1mr\u001b[22meach Uni\u001b[1mf\u001b[22m\u001b[1mo\u001b[22m\u001b[1mr\u001b[22mmScaling Date\u001b[1mF\u001b[22m\u001b[1mo\u001b[22m\u001b[1mr\u001b[22mmat @date\u001b[1mf\u001b[22m\u001b[1mo\u001b[22m\u001b[1mr\u001b[22mmat_str \u001b[1mf\u001b[22m\u001b[1mo\u001b[22mld\u001b[1mr\u001b[22m \u001b[1mf\u001b[22ml\u001b[1mo\u001b[22mo\u001b[1mr\u001b[22m\n",
      "\n",
      "search: \u001b[1mf\u001b[22m\u001b[1mo\u001b[22m\u001b[1mr\u001b[22m \u001b[1mf\u001b[22m\u001b[1mo\u001b[22m\u001b[1mr\u001b[22meach Uni\u001b[1mf\u001b[22m\u001b[1mo\u001b[22m\u001b[1mr\u001b[22mmScaling Date\u001b[1mF\u001b[22m\u001b[1mo\u001b[22m\u001b[1mr\u001b[22mmat @date\u001b[1mf\u001b[22m\u001b[1mo\u001b[22m\u001b[1mr\u001b[22mmat_str \u001b[1mf\u001b[22m\u001b[1mo\u001b[22mld\u001b[1mr\u001b[22m \u001b[1mf\u001b[22ml\u001b[1mo\u001b[22mo\u001b[1mr\u001b[22m\n",
      "\n",
      "search: \u001b[1mf\u001b[22m\u001b[1mo\u001b[22m\u001b[1mr\u001b[22m \u001b[1mf\u001b[22m\u001b[1mo\u001b[22m\u001b[1mr\u001b[22meach Uni\u001b[1mf\u001b[22m\u001b[1mo\u001b[22m\u001b[1mr\u001b[22mmScaling Date\u001b[1mF\u001b[22m\u001b[1mo\u001b[22m\u001b[1mr\u001b[22mmat @date\u001b[1mf\u001b[22m\u001b[1mo\u001b[22m\u001b[1mr\u001b[22mmat_str \u001b[1mf\u001b[22m\u001b[1mo\u001b[22mld\u001b[1mr\u001b[22m \u001b[1mf\u001b[22ml\u001b[1mo\u001b[22mo\u001b[1mr\u001b[22m\n",
      "\n",
      "search: \u001b[1mf\u001b[22m\u001b[1mo\u001b[22m\u001b[1mr\u001b[22m \u001b[1mf\u001b[22m\u001b[1mo\u001b[22m\u001b[1mr\u001b[22meach Uni\u001b[1mf\u001b[22m\u001b[1mo\u001b[22m\u001b[1mr\u001b[22mmScaling Date\u001b[1mF\u001b[22m\u001b[1mo\u001b[22m\u001b[1mr\u001b[22mmat @date\u001b[1mf\u001b[22m\u001b[1mo\u001b[22m\u001b[1mr\u001b[22mmat_str \u001b[1mf\u001b[22m\u001b[1mo\u001b[22mld\u001b[1mr\u001b[22m \u001b[1mf\u001b[22ml\u001b[1mo\u001b[22mo\u001b[1mr\u001b[22m\n",
      "\n",
      "search: \u001b[1mf\u001b[22m\u001b[1mo\u001b[22m\u001b[1mr\u001b[22m \u001b[1mf\u001b[22m\u001b[1mo\u001b[22m\u001b[1mr\u001b[22meach Uni\u001b[1mf\u001b[22m\u001b[1mo\u001b[22m\u001b[1mr\u001b[22mmScaling Date\u001b[1mF\u001b[22m\u001b[1mo\u001b[22m\u001b[1mr\u001b[22mmat @date\u001b[1mf\u001b[22m\u001b[1mo\u001b[22m\u001b[1mr\u001b[22mmat_str \u001b[1mf\u001b[22m\u001b[1mo\u001b[22mld\u001b[1mr\u001b[22m \u001b[1mf\u001b[22ml\u001b[1mo\u001b[22mo\u001b[1mr\u001b[22m\n",
      "\n",
      "search: \u001b[1mf\u001b[22m\u001b[1mo\u001b[22m\u001b[1mr\u001b[22m \u001b[1mf\u001b[22m\u001b[1mo\u001b[22m\u001b[1mr\u001b[22meach Uni\u001b[1mf\u001b[22m\u001b[1mo\u001b[22m\u001b[1mr\u001b[22mmScaling Date\u001b[1mF\u001b[22m\u001b[1mo\u001b[22m\u001b[1mr\u001b[22mmat @date\u001b[1mf\u001b[22m\u001b[1mo\u001b[22m\u001b[1mr\u001b[22mmat_str \u001b[1mf\u001b[22m\u001b[1mo\u001b[22mld\u001b[1mr\u001b[22m \u001b[1mf\u001b[22ml\u001b[1mo\u001b[22mo\u001b[1mr\u001b[22m\n",
      "\n",
      "search: \u001b[1me\u001b[22m\u001b[1mn\u001b[22m\u001b[1md\u001b[22m \u001b[1me\u001b[22m\u001b[1mn\u001b[22m\u001b[1md\u001b[22mof \u001b[1me\u001b[22m\u001b[1mn\u001b[22m\u001b[1md\u001b[22mswith \u001b[1mE\u001b[22m\u001b[1mN\u001b[22m\u001b[1mD\u001b[22mIAN_BOM s\u001b[1me\u001b[22m\u001b[1mn\u001b[22m\u001b[1md\u001b[22m app\u001b[1me\u001b[22m\u001b[1mn\u001b[22m\u001b[1md\u001b[22m! Quot\u001b[1me\u001b[22m\u001b[1mN\u001b[22mo\u001b[1md\u001b[22me Rang\u001b[1me\u001b[22mI\u001b[1mn\u001b[22m\u001b[1md\u001b[22mex g\u001b[1me\u001b[22mti\u001b[1mn\u001b[22m\u001b[1md\u001b[22mex\n",
      "\n"
     ]
    }
   ],
   "source": [
    "symbol = :asdf\n",
    "\n",
    "if symbol == :asdf\n",
    "  println(\"you said asdf\")\n",
    "else\n",
    "  println(\"no idea\")\n",
    "end"
   ]
  },
  {
   "cell_type": "markdown",
   "metadata": {},
   "source": [
    "#### memo\n",
    "Juliaのforloopで面白いのは, なんと多重for loopを一列で書ける"
   ]
  },
  {
   "cell_type": "code",
   "execution_count": 22,
   "metadata": {},
   "outputs": [
    {
     "name": "stdout",
     "output_type": "stream",
     "text": [
      "2\n",
      "3\n",
      "4\n",
      "4\n",
      "6\n",
      "8\n",
      "6\n",
      "9\n",
      "12\n",
      "8\n",
      "12\n",
      "16\n",
      "10\n",
      "15\n",
      "20\n"
     ]
    }
   ],
   "source": [
    "for i=1:5, j=2:4\n",
    "  println(i*j)\n",
    "end"
   ]
  },
  {
   "cell_type": "markdown",
   "metadata": {},
   "source": [
    "### 練習問題\n",
    "http://ucidatascienceinitiative.github.io/IntroToJulia/Html/BasicProblems\n",
    "上5問.\n",
    "\n",
    "制御flow理解できてれば実装できるはず."
   ]
  },
  {
   "cell_type": "markdown",
   "metadata": {},
   "source": [
    "#### Q1. (N,N)型で, 体格が-2, 体格の左右隣が1, それ以外が0の行列を作れ. ストラング行列っていうとか"
   ]
  },
  {
   "cell_type": "code",
   "execution_count": 62,
   "metadata": {},
   "outputs": [
    {
     "data": {
      "text/plain": [
       "5×5 Array{Float64,2}:\n",
       " -2.0   1.0   0.0   0.0   0.0\n",
       "  1.0  -2.0   1.0   0.0   0.0\n",
       "  0.0   1.0  -2.0   1.0   0.0\n",
       "  0.0   0.0   1.0  -2.0   1.0\n",
       "  0.0   0.0   0.0   1.0  -2.0"
      ]
     },
     "execution_count": 62,
     "metadata": {},
     "output_type": "execute_result"
    }
   ],
   "source": [
    "N = 5\n",
    "#mat = Matrix{Float64}(N, N)\n",
    "mat = zeros(N, N)\n",
    "for i=1:N, j=1:N\n",
    "  if i==j\n",
    "    mat[i,j] = -2\n",
    "  elseif i==j+1||i==j-1\n",
    "    mat[i,j] = 1\n",
    "  end\n",
    "end\n",
    "\n",
    "mat"
   ]
  },
  {
   "cell_type": "markdown",
   "metadata": {},
   "source": [
    "##### Q1. 綺麗なコードver. こっちの方が\"juliaらしい\""
   ]
  },
  {
   "cell_type": "code",
   "execution_count": 71,
   "metadata": {},
   "outputs": [
    {
     "data": {
      "text/plain": [
       "5×5 Array{Float64,2}:\n",
       " -2.0   1.0   0.0   0.0   0.0\n",
       "  1.0  -2.0   1.0   0.0   0.0\n",
       "  0.0   1.0  -2.0   1.0   0.0\n",
       "  0.0   0.0   1.0  -2.0   1.0\n",
       "  0.0   0.0   0.0   1.0  -2.0"
      ]
     },
     "execution_count": 71,
     "metadata": {},
     "output_type": "execute_result"
    }
   ],
   "source": [
    "N=5\n",
    "A = zeros(N,N)\n",
    "for i=1:N, j=1:N\n",
    "  abs(i-j)==1 && (A[i,j]=1)\n",
    "  i==j && (A[i,j]=-2)\n",
    "end\n",
    "A"
   ]
  },
  {
   "cell_type": "markdown",
   "metadata": {},
   "source": [
    "#### Q2. 階上, my_factorial(n)で, n!を出力."
   ]
  },
  {
   "cell_type": "code",
   "execution_count": 73,
   "metadata": {},
   "outputs": [
    {
     "name": "stderr",
     "output_type": "stream",
     "text": [
      "WARNING: Method definition my_factorial(Any) in module Main at In[72]:2 overwritten at In[73]:2.\n"
     ]
    },
    {
     "data": {
      "text/plain": [
       "1307674368000"
      ]
     },
     "execution_count": 73,
     "metadata": {},
     "output_type": "execute_result"
    }
   ],
   "source": [
    "function my_factorial(n)\n",
    "  ans = 1\n",
    "  for i=1:n\n",
    "    ans*=i\n",
    "  end\n",
    "  ans  \n",
    "end\n",
    "my_factorial(15)\n",
    "#c.f. ただしこれでは大きい値を扱う形になった時にOverFlowが発生する.(ex. 30を入れるとnegativeになる)"
   ]
  },
  {
   "cell_type": "markdown",
   "metadata": {},
   "source": [
    "##### こういう時は入力と出力の型を同じにすればよい. one(x)を使用する"
   ]
  },
  {
   "cell_type": "code",
   "execution_count": 75,
   "metadata": {},
   "outputs": [
    {
     "name": "stderr",
     "output_type": "stream",
     "text": [
      "WARNING: Method definition my_factorial(Any) in module Main at In[74]:2 overwritten at In[75]:2.\n"
     ]
    },
    {
     "data": {
      "text/plain": [
       "265252859812191058636308480000000"
      ]
     },
     "execution_count": 75,
     "metadata": {},
     "output_type": "execute_result"
    }
   ],
   "source": [
    "function my_factorial(n)\n",
    "  k = one(n) # one(x)...xと同じ型で値1の数値を返す.\n",
    "  for i=1:n\n",
    "    k *= i\n",
    "  end\n",
    "  k\n",
    "end\n",
    "my_factorial(big(30))"
   ]
  },
  {
   "cell_type": "markdown",
   "metadata": {},
   "source": [
    "#### Q3.二項問題\n",
    "nを試行回数, pを成功する確率とした時, n回の内成功した回数XをX=Bin(n,p)と表すとする.  \n",
    "例えば, Bin(10, 0.5)の時, Xは10回コインを投げた時に表が出てくる回数に等しい.  \n",
    "  \n",
    "Xを返すbinomial_rv(n,p)をrand()を用いて実装せよ"
   ]
  },
  {
   "cell_type": "code",
   "execution_count": 76,
   "metadata": {},
   "outputs": [
    {
     "data": {
      "text/plain": [
       "5-element Array{Int64,1}:\n",
       " 5\n",
       " 2\n",
       " 3\n",
       " 4\n",
       " 5"
      ]
     },
     "execution_count": 76,
     "metadata": {},
     "output_type": "execute_result"
    }
   ],
   "source": [
    "function binomial_rv(n,p)\n",
    "  k=0\n",
    "  for i=1:n\n",
    "    p<=rand() && (k+=1)\n",
    "  end\n",
    "  k\n",
    "end\n",
    "\n",
    "#check\n",
    "[binomial_rv(10, 0.5) for i=1:5]"
   ]
  },
  {
   "cell_type": "markdown",
   "metadata": {},
   "source": [
    "#### Q4. モンテカルロによる円周率の計算\n",
    "πを乱数を用いて近似せよ.\n",
    "\n",
    "**Hint: モンテカルロ法**\n",
    "[-1, 1]×[-1, 1]の四角形に内包される円があった時, *円の面積はπ*($πr^2$より), *四角形の面積は4*.  \n",
    "そのため, 乱数を用いて[-1,1]×[-1,1]の部分に一様な乱数で点を打った時, *円周の中に打たれる確率はπ/4*($x^2+y^2$≦1より).  \n",
    "これを用いてπの大体の値を求めよ."
   ]
  },
  {
   "cell_type": "code",
   "execution_count": 140,
   "metadata": {},
   "outputs": [
    {
     "name": "stderr",
     "output_type": "stream",
     "text": [
      "WARNING: Method definition montecarlo(Any) in module Main at In[138]:2 overwritten at In[140]:2.\n"
     ]
    },
    {
     "data": {
      "text/plain": [
       "3.1420824"
      ]
     },
     "execution_count": 140,
     "metadata": {},
     "output_type": "execute_result"
    }
   ],
   "source": [
    "function montecarlo(n)\n",
    "  c = 0\n",
    "  for _=1:n\n",
    "    x, y = 2rand(2)-1\n",
    "    sqrt(x^2+y^2)<=1 && (c+=1)\n",
    "  end\n",
    "  return 4c/n\n",
    "end\n",
    "\n",
    "montecarlo(10000000)"
   ]
  },
  {
   "cell_type": "markdown",
   "metadata": {},
   "source": [
    "#### Q5. 時系列生成問題\n",
    "AR1時系列は, $x_{t+1} = \\alpha x_i + \\epsilon_{t+1}$ では定義されたとする.  \n",
    "この時それぞれ, $x_0$=0, t=0...T, ソケット$\\epsilon_{t}$は独立同分布である(N(0,1)はrandn()によって与えられるとする).  \n",
    "  \n",
    "T=200の時,\n",
    "\n",
    "- α=0\n",
    "- α=0.5\n",
    "- α=0.9\n",
    "\n",
    "の場合のそれぞれのパラメータの時間変化をPlot.jlを用いて示せ.  \n",
    "また, αの値を表す線にはplot関数にlabelオプションをつけ, ラベルせよ."
   ]
  },
  {
   "cell_type": "code",
   "execution_count": 5,
   "metadata": {},
   "outputs": [
    {
     "name": "stderr",
     "output_type": "stream",
     "text": [
      "WARNING: Method definition ar(Any, Any) in module Main at In[2]:4 overwritten at In[5]:4.\n"
     ]
    },
    {
     "data": {
      "text/plain": [
       "ar (generic function with 1 method)"
      ]
     },
     "execution_count": 5,
     "metadata": {},
     "output_type": "execute_result"
    }
   ],
   "source": [
    "using Plots\n",
    "\n",
    "function ar(T, alpha)\n",
    "  x=zeros(T+1)\n",
    "  x[1] = 0.0\n",
    "  for t=1:T\n",
    "    x[t+1] = alpha * x[t] + randn()\n",
    "  end\n",
    "  x\n",
    "end"
   ]
  },
  {
   "cell_type": "code",
   "execution_count": 8,
   "metadata": {},
   "outputs": [
    {
     "data": {
      "text/html": [
       "<?xml version=\"1.0\" encoding=\"utf-8\"?>\n",
       "<svg xmlns=\"http://www.w3.org/2000/svg\" xmlns:xlink=\"http://www.w3.org/1999/xlink\" width=\"600\" height=\"400\" viewBox=\"0 0 600 400\">\n",
       "<defs>\n",
       "  <clipPath id=\"clip3000\">\n",
       "    <rect x=\"0\" y=\"0\" width=\"600\" height=\"400\"/>\n",
       "  </clipPath>\n",
       "</defs>\n",
       "<polygon clip-path=\"url(#clip3000)\" points=\"\n",
       "0,400 600,400 600,0 0,0 \n",
       "  \" fill=\"#ffffff\" fill-opacity=\"1\"/>\n",
       "<defs>\n",
       "  <clipPath id=\"clip3001\">\n",
       "    <rect x=\"120\" y=\"0\" width=\"421\" height=\"400\"/>\n",
       "  </clipPath>\n",
       "</defs>\n",
       "<polygon clip-path=\"url(#clip3000)\" points=\"\n",
       "39.3701,368.504 592.126,368.504 592.126,7.87402 39.3701,7.87402 \n",
       "  \" fill=\"#ffffff\" fill-opacity=\"1\"/>\n",
       "<defs>\n",
       "  <clipPath id=\"clip3002\">\n",
       "    <rect x=\"39\" y=\"7\" width=\"554\" height=\"362\"/>\n",
       "  </clipPath>\n",
       "</defs>\n",
       "<polyline clip-path=\"url(#clip3002)\" style=\"stroke:#000000; stroke-width:1; stroke-opacity:0.5; fill:none\" stroke-dasharray=\"1, 2\" points=\"\n",
       "  119.52,363.094 119.52,13.2835 \n",
       "  \"/>\n",
       "<polyline clip-path=\"url(#clip3002)\" style=\"stroke:#000000; stroke-width:1; stroke-opacity:0.5; fill:none\" stroke-dasharray=\"1, 2\" points=\"\n",
       "  202.433,363.094 202.433,13.2835 \n",
       "  \"/>\n",
       "<polyline clip-path=\"url(#clip3002)\" style=\"stroke:#000000; stroke-width:1; stroke-opacity:0.5; fill:none\" stroke-dasharray=\"1, 2\" points=\"\n",
       "  285.346,363.094 285.346,13.2835 \n",
       "  \"/>\n",
       "<polyline clip-path=\"url(#clip3002)\" style=\"stroke:#000000; stroke-width:1; stroke-opacity:0.5; fill:none\" stroke-dasharray=\"1, 2\" points=\"\n",
       "  368.26,363.094 368.26,13.2835 \n",
       "  \"/>\n",
       "<polyline clip-path=\"url(#clip3002)\" style=\"stroke:#000000; stroke-width:1; stroke-opacity:0.5; fill:none\" stroke-dasharray=\"1, 2\" points=\"\n",
       "  451.173,363.094 451.173,13.2835 \n",
       "  \"/>\n",
       "<polyline clip-path=\"url(#clip3002)\" style=\"stroke:#000000; stroke-width:1; stroke-opacity:0.5; fill:none\" stroke-dasharray=\"1, 2\" points=\"\n",
       "  534.087,363.094 534.087,13.2835 \n",
       "  \"/>\n",
       "<polyline clip-path=\"url(#clip3002)\" style=\"stroke:#000000; stroke-width:1; stroke-opacity:0.5; fill:none\" stroke-dasharray=\"1, 2\" points=\"\n",
       "  47.6614,367.638 583.835,367.638 \n",
       "  \"/>\n",
       "<polyline clip-path=\"url(#clip3002)\" style=\"stroke:#000000; stroke-width:1; stroke-opacity:0.5; fill:none\" stroke-dasharray=\"1, 2\" points=\"\n",
       "  47.6614,298.585 583.835,298.585 \n",
       "  \"/>\n",
       "<polyline clip-path=\"url(#clip3002)\" style=\"stroke:#000000; stroke-width:1; stroke-opacity:0.5; fill:none\" stroke-dasharray=\"1, 2\" points=\"\n",
       "  47.6614,229.533 583.835,229.533 \n",
       "  \"/>\n",
       "<polyline clip-path=\"url(#clip3002)\" style=\"stroke:#000000; stroke-width:1; stroke-opacity:0.5; fill:none\" stroke-dasharray=\"1, 2\" points=\"\n",
       "  47.6614,160.48 583.835,160.48 \n",
       "  \"/>\n",
       "<polyline clip-path=\"url(#clip3002)\" style=\"stroke:#000000; stroke-width:1; stroke-opacity:0.5; fill:none\" stroke-dasharray=\"1, 2\" points=\"\n",
       "  47.6614,91.4281 583.835,91.4281 \n",
       "  \"/>\n",
       "<polyline clip-path=\"url(#clip3002)\" style=\"stroke:#000000; stroke-width:1; stroke-opacity:0.5; fill:none\" stroke-dasharray=\"1, 2\" points=\"\n",
       "  47.6614,22.3757 583.835,22.3757 \n",
       "  \"/>\n",
       "<polyline clip-path=\"url(#clip3000)\" style=\"stroke:#000000; stroke-width:1; stroke-opacity:1; fill:none\" points=\"\n",
       "  39.3701,368.504 592.126,368.504 \n",
       "  \"/>\n",
       "<polyline clip-path=\"url(#clip3000)\" style=\"stroke:#000000; stroke-width:1; stroke-opacity:1; fill:none\" points=\"\n",
       "  119.52,368.504 119.52,363.094 \n",
       "  \"/>\n",
       "<polyline clip-path=\"url(#clip3000)\" style=\"stroke:#000000; stroke-width:1; stroke-opacity:1; fill:none\" points=\"\n",
       "  202.433,368.504 202.433,363.094 \n",
       "  \"/>\n",
       "<polyline clip-path=\"url(#clip3000)\" style=\"stroke:#000000; stroke-width:1; stroke-opacity:1; fill:none\" points=\"\n",
       "  285.346,368.504 285.346,363.094 \n",
       "  \"/>\n",
       "<polyline clip-path=\"url(#clip3000)\" style=\"stroke:#000000; stroke-width:1; stroke-opacity:1; fill:none\" points=\"\n",
       "  368.26,368.504 368.26,363.094 \n",
       "  \"/>\n",
       "<polyline clip-path=\"url(#clip3000)\" style=\"stroke:#000000; stroke-width:1; stroke-opacity:1; fill:none\" points=\"\n",
       "  451.173,368.504 451.173,363.094 \n",
       "  \"/>\n",
       "<polyline clip-path=\"url(#clip3000)\" style=\"stroke:#000000; stroke-width:1; stroke-opacity:1; fill:none\" points=\"\n",
       "  534.087,368.504 534.087,363.094 \n",
       "  \"/>\n",
       "<polyline clip-path=\"url(#clip3000)\" style=\"stroke:#000000; stroke-width:1; stroke-opacity:1; fill:none\" points=\"\n",
       "  39.3701,368.504 39.3701,7.87402 \n",
       "  \"/>\n",
       "<polyline clip-path=\"url(#clip3000)\" style=\"stroke:#000000; stroke-width:1; stroke-opacity:1; fill:none\" points=\"\n",
       "  39.3701,367.638 47.6614,367.638 \n",
       "  \"/>\n",
       "<polyline clip-path=\"url(#clip3000)\" style=\"stroke:#000000; stroke-width:1; stroke-opacity:1; fill:none\" points=\"\n",
       "  39.3701,298.585 47.6614,298.585 \n",
       "  \"/>\n",
       "<polyline clip-path=\"url(#clip3000)\" style=\"stroke:#000000; stroke-width:1; stroke-opacity:1; fill:none\" points=\"\n",
       "  39.3701,229.533 47.6614,229.533 \n",
       "  \"/>\n",
       "<polyline clip-path=\"url(#clip3000)\" style=\"stroke:#000000; stroke-width:1; stroke-opacity:1; fill:none\" points=\"\n",
       "  39.3701,160.48 47.6614,160.48 \n",
       "  \"/>\n",
       "<polyline clip-path=\"url(#clip3000)\" style=\"stroke:#000000; stroke-width:1; stroke-opacity:1; fill:none\" points=\"\n",
       "  39.3701,91.4281 47.6614,91.4281 \n",
       "  \"/>\n",
       "<polyline clip-path=\"url(#clip3000)\" style=\"stroke:#000000; stroke-width:1; stroke-opacity:1; fill:none\" points=\"\n",
       "  39.3701,22.3757 47.6614,22.3757 \n",
       "  \"/>\n",
       "<g clip-path=\"url(#clip3000)\">\n",
       "<text style=\"fill:#000000; fill-opacity:1; font-family:Arial,Helvetica Neue,Helvetica,sans-serif; font-size:12; text-anchor:middle;\" transform=\"rotate(0, 119.52, 382.304)\" x=\"119.52\" y=\"382.304\">30</text>\n",
       "</g>\n",
       "<g clip-path=\"url(#clip3000)\">\n",
       "<text style=\"fill:#000000; fill-opacity:1; font-family:Arial,Helvetica Neue,Helvetica,sans-serif; font-size:12; text-anchor:middle;\" transform=\"rotate(0, 202.433, 382.304)\" x=\"202.433\" y=\"382.304\">60</text>\n",
       "</g>\n",
       "<g clip-path=\"url(#clip3000)\">\n",
       "<text style=\"fill:#000000; fill-opacity:1; font-family:Arial,Helvetica Neue,Helvetica,sans-serif; font-size:12; text-anchor:middle;\" transform=\"rotate(0, 285.346, 382.304)\" x=\"285.346\" y=\"382.304\">90</text>\n",
       "</g>\n",
       "<g clip-path=\"url(#clip3000)\">\n",
       "<text style=\"fill:#000000; fill-opacity:1; font-family:Arial,Helvetica Neue,Helvetica,sans-serif; font-size:12; text-anchor:middle;\" transform=\"rotate(0, 368.26, 382.304)\" x=\"368.26\" y=\"382.304\">120</text>\n",
       "</g>\n",
       "<g clip-path=\"url(#clip3000)\">\n",
       "<text style=\"fill:#000000; fill-opacity:1; font-family:Arial,Helvetica Neue,Helvetica,sans-serif; font-size:12; text-anchor:middle;\" transform=\"rotate(0, 451.173, 382.304)\" x=\"451.173\" y=\"382.304\">150</text>\n",
       "</g>\n",
       "<g clip-path=\"url(#clip3000)\">\n",
       "<text style=\"fill:#000000; fill-opacity:1; font-family:Arial,Helvetica Neue,Helvetica,sans-serif; font-size:12; text-anchor:middle;\" transform=\"rotate(0, 534.087, 382.304)\" x=\"534.087\" y=\"382.304\">180</text>\n",
       "</g>\n",
       "<g clip-path=\"url(#clip3000)\">\n",
       "<text style=\"fill:#000000; fill-opacity:1; font-family:Arial,Helvetica Neue,Helvetica,sans-serif; font-size:12; text-anchor:end;\" transform=\"rotate(0, 33.3701, 372.138)\" x=\"33.3701\" y=\"372.138\">-4</text>\n",
       "</g>\n",
       "<g clip-path=\"url(#clip3000)\">\n",
       "<text style=\"fill:#000000; fill-opacity:1; font-family:Arial,Helvetica Neue,Helvetica,sans-serif; font-size:12; text-anchor:end;\" transform=\"rotate(0, 33.3701, 303.085)\" x=\"33.3701\" y=\"303.085\">-2</text>\n",
       "</g>\n",
       "<g clip-path=\"url(#clip3000)\">\n",
       "<text style=\"fill:#000000; fill-opacity:1; font-family:Arial,Helvetica Neue,Helvetica,sans-serif; font-size:12; text-anchor:end;\" transform=\"rotate(0, 33.3701, 234.033)\" x=\"33.3701\" y=\"234.033\">0</text>\n",
       "</g>\n",
       "<g clip-path=\"url(#clip3000)\">\n",
       "<text style=\"fill:#000000; fill-opacity:1; font-family:Arial,Helvetica Neue,Helvetica,sans-serif; font-size:12; text-anchor:end;\" transform=\"rotate(0, 33.3701, 164.98)\" x=\"33.3701\" y=\"164.98\">2</text>\n",
       "</g>\n",
       "<g clip-path=\"url(#clip3000)\">\n",
       "<text style=\"fill:#000000; fill-opacity:1; font-family:Arial,Helvetica Neue,Helvetica,sans-serif; font-size:12; text-anchor:end;\" transform=\"rotate(0, 33.3701, 95.9281)\" x=\"33.3701\" y=\"95.9281\">4</text>\n",
       "</g>\n",
       "<g clip-path=\"url(#clip3000)\">\n",
       "<text style=\"fill:#000000; fill-opacity:1; font-family:Arial,Helvetica Neue,Helvetica,sans-serif; font-size:12; text-anchor:end;\" transform=\"rotate(0, 33.3701, 26.8757)\" x=\"33.3701\" y=\"26.8757\">6</text>\n",
       "</g>\n",
       "<polyline clip-path=\"url(#clip3002)\" style=\"stroke:#009af9; stroke-width:3; stroke-opacity:1; fill:none\" points=\"\n",
       "  39.3701,229.533 42.1339,261.843 44.8976,276.464 47.6614,274.024 50.4252,274.05 53.189,205.429 55.9528,258.353 58.7165,269.537 61.4803,206.221 64.2441,233.87 \n",
       "  67.0079,217.96 69.7717,247.002 72.5354,235.019 75.2992,210.669 78.063,256.491 80.8268,282.164 83.5906,273.149 86.3543,273.568 89.1181,238.368 91.8819,200.642 \n",
       "  94.6457,228.655 97.4094,269.739 100.173,298.359 102.937,197.182 105.701,158.532 108.465,236.935 111.228,219.288 113.992,212.971 116.756,260.988 119.52,192.612 \n",
       "  122.283,227.926 125.047,228.65 127.811,294.762 130.575,141.977 133.339,262.57 136.102,197.207 138.866,213.282 141.63,241.403 144.394,195.313 147.157,208.841 \n",
       "  149.921,244.714 152.685,163.599 155.449,224.716 158.213,242.352 160.976,258.846 163.74,210.671 166.504,247.259 169.268,207.99 172.031,169.089 174.795,175.414 \n",
       "  177.559,226.545 180.323,207.981 183.087,234.612 185.85,190.858 188.614,211.744 191.378,255.786 194.142,191.318 196.906,288.603 199.669,287.126 202.433,303.509 \n",
       "  205.197,215.68 207.961,279.022 210.724,204.267 213.488,257.114 216.252,321.718 219.016,239.605 221.78,311.168 224.543,247.154 227.307,268.717 230.071,225.772 \n",
       "  232.835,209.816 235.598,207.114 238.362,204.134 241.126,286.342 243.89,224.659 246.654,231.343 249.417,221.289 252.181,253.149 254.945,193.223 257.709,302.962 \n",
       "  260.472,174.747 263.236,200.115 266,197.98 268.764,287.952 271.528,190.251 274.291,226.29 277.055,280.098 279.819,188.392 282.583,278.966 285.346,194.678 \n",
       "  288.11,257.582 290.874,259.679 293.638,285.561 296.402,251.117 299.165,133.934 301.929,208.745 304.693,217.94 307.457,194.252 310.22,208.716 312.984,247.209 \n",
       "  315.748,226.234 318.512,220.532 321.276,165.717 324.039,247.112 326.803,237.033 329.567,249.409 332.331,216.716 335.094,223.908 337.858,228.068 340.622,258.174 \n",
       "  343.386,219.903 346.15,199.824 348.913,227.326 351.677,215.001 354.441,229.251 357.205,173.6 359.969,220.769 362.732,198.24 365.496,212.56 368.26,224.224 \n",
       "  371.024,272.375 373.787,252.333 376.551,305.791 379.315,272.126 382.079,211.957 384.843,232.778 387.606,257.277 390.37,223.446 393.134,232.853 395.898,238.29 \n",
       "  398.661,204.038 401.425,248.507 404.189,207.969 406.953,205.59 409.717,268.083 412.48,276.657 415.244,184.898 418.008,216.244 420.772,207.538 423.535,190.611 \n",
       "  426.299,237.551 429.063,224.173 431.827,253.059 434.591,269.233 437.354,271.111 440.118,234.255 442.882,233.629 445.646,249.234 448.409,309.965 451.173,188.581 \n",
       "  453.937,255.332 456.701,236.623 459.465,250.569 462.228,216.848 464.992,192.469 467.756,229.412 470.52,248.887 473.283,231.7 476.047,199.685 478.811,210.567 \n",
       "  481.575,247.414 484.339,165.646 487.102,223.675 489.866,240.455 492.63,251.661 495.394,134.605 498.157,212.372 500.921,256.867 503.685,172.849 506.449,177.543 \n",
       "  509.213,238.592 511.976,249.478 514.74,211.912 517.504,145.909 520.268,247.42 523.031,218.787 525.795,189.767 528.559,257.964 531.323,290.853 534.087,244.034 \n",
       "  536.85,199.634 539.614,286.098 542.378,216.912 545.142,188.971 547.906,189.398 550.669,234.097 553.433,290.01 556.197,250.671 558.961,298.372 561.724,163.367 \n",
       "  564.488,202.773 567.252,245.683 570.016,232.109 572.78,233.947 575.543,296.163 578.307,228.583 581.071,223.436 583.835,260.076 586.598,215.533 589.362,233.923 \n",
       "  592.126,217.897 \n",
       "  \"/>\n",
       "<polyline clip-path=\"url(#clip3002)\" style=\"stroke:#e26f46; stroke-width:3; stroke-opacity:1; fill:none\" points=\"\n",
       "  39.3701,229.533 42.1339,253.078 44.8976,284.343 47.6614,247.271 50.4252,249.317 53.189,192.707 55.9528,240.47 58.7165,232.971 61.4803,198.433 64.2441,250.569 \n",
       "  67.0079,228.209 69.7717,195.424 72.5354,220.677 75.2992,170.365 78.063,159.692 80.8268,144.923 83.5906,178.345 86.3543,203.498 89.1181,199.882 91.8819,199.917 \n",
       "  94.6457,186.959 97.4094,138.281 100.173,164.816 102.937,168.614 105.701,159.827 108.465,256.659 111.228,232.727 113.992,216.819 116.756,207.953 119.52,225.399 \n",
       "  122.283,235.896 125.047,268.063 127.811,238.057 130.575,168.991 133.339,183.127 136.102,216.093 138.866,198.482 141.63,140.014 144.394,186.646 147.157,247.817 \n",
       "  149.921,170.659 152.685,211.116 155.449,212.15 158.213,247.075 160.976,196.264 163.74,203.807 166.504,281.125 169.268,329.831 172.031,290.053 174.795,255.065 \n",
       "  177.559,303.379 180.323,228.869 183.087,198.334 185.85,267.744 188.614,230.423 191.378,239.039 194.142,287.176 196.906,264.853 199.669,165.68 202.433,237.382 \n",
       "  205.197,226.807 207.961,235 210.724,217.614 213.488,213.296 216.252,211.864 219.016,210.274 221.78,230.832 224.543,238.767 227.307,279.729 230.071,243.523 \n",
       "  232.835,205.948 235.598,220.134 238.362,204.333 241.126,232.543 243.89,244.369 246.654,197.894 249.417,175.779 252.181,271.97 254.945,229.767 257.709,249.327 \n",
       "  260.472,215.815 263.236,189.542 266,198.365 268.764,236.851 271.528,220.385 274.291,226.794 277.055,260.739 279.819,269.85 282.583,223.103 285.346,212.666 \n",
       "  288.11,262.833 290.874,177.546 293.638,188.783 296.402,121.757 299.165,149.522 301.929,217.836 304.693,192.578 307.457,203.354 310.22,273.805 312.984,224.637 \n",
       "  315.748,184.183 318.512,214.804 321.276,247.673 324.039,234.639 326.803,238.859 329.567,238.875 332.331,271.299 335.094,267.669 337.858,282.216 340.622,295.351 \n",
       "  343.386,286.042 346.15,180.776 348.913,154.171 351.677,211.229 354.441,189.325 357.205,214.642 359.969,267.906 362.732,254.646 365.496,229.833 368.26,213.968 \n",
       "  371.024,199.222 373.787,215.058 376.551,170.027 379.315,184.744 382.079,217.357 384.843,223.81 387.606,237.013 390.37,237.074 393.134,208.946 395.898,311.754 \n",
       "  398.661,235.671 401.425,198.1 404.189,196.361 406.953,204.35 409.717,153.99 412.48,159.992 415.244,154.218 418.008,151.845 420.772,200.541 423.535,250.785 \n",
       "  426.299,248.609 429.063,260.075 431.827,232.598 434.591,212.929 437.354,235.041 440.118,251.837 442.882,252.061 445.646,198.479 448.409,227.134 451.173,221.761 \n",
       "  453.937,253.163 456.701,306.269 459.465,269.648 462.228,253.298 464.992,262.828 467.756,256.681 470.52,194.697 473.283,232.016 476.047,226.887 478.811,258.169 \n",
       "  481.575,251.673 484.339,185.074 487.102,271.071 489.866,250.871 492.63,261.001 495.394,264.177 498.157,229.43 500.921,235.8 503.685,239.687 506.449,368.504 \n",
       "  509.213,287.78 511.976,276.165 514.74,261.901 517.504,239.211 520.268,278.522 523.031,234.723 525.795,223.009 528.559,213.501 531.323,174.056 534.087,211.47 \n",
       "  536.85,268.833 539.614,242.989 542.378,158.2 545.142,180.824 547.906,229.522 550.669,252.788 553.433,275.412 556.197,240.18 558.961,277.965 561.724,274.498 \n",
       "  564.488,157.449 567.252,126.75 570.016,181.767 572.78,223.314 575.543,243.884 578.307,268.209 581.071,251.308 583.835,323.854 586.598,282.816 589.362,258.856 \n",
       "  592.126,228.956 \n",
       "  \"/>\n",
       "<polyline clip-path=\"url(#clip3002)\" style=\"stroke:#3da44d; stroke-width:3; stroke-opacity:1; fill:none\" points=\"\n",
       "  39.3701,229.533 42.1339,177.407 44.8976,170.571 47.6614,218.093 50.4252,192.447 53.189,201.883 55.9528,243.207 58.7165,264.072 61.4803,239.413 64.2441,195.393 \n",
       "  67.0079,210.67 69.7717,157.502 72.5354,161.833 75.2992,167.227 78.063,103.946 80.8268,31.8537 83.5906,7.87402 86.3543,76.198 89.1181,106.848 91.8819,137.494 \n",
       "  94.6457,113.89 97.4094,164.758 100.173,154.626 102.937,157.144 105.701,81.5463 108.465,52.5362 111.228,94.7326 113.992,68.0673 116.756,93.2541 119.52,102.156 \n",
       "  122.283,80.0489 125.047,132.865 127.811,126.531 130.575,184.895 133.339,188.73 136.102,208.128 138.866,224.754 141.63,214.316 144.394,308.374 147.157,264.778 \n",
       "  149.921,267.437 152.685,265.04 155.449,219.401 158.213,276.066 160.976,260.466 163.74,207.935 166.504,219.313 169.268,220.073 172.031,218.966 174.795,216.563 \n",
       "  177.559,168.139 180.323,173.691 183.087,152.838 185.85,171.46 188.614,222.648 191.378,178.087 194.142,140.653 196.906,215.986 199.669,228.817 202.433,214.592 \n",
       "  205.197,252.889 207.961,295.951 210.724,309.708 213.488,299.266 216.252,245.217 219.016,214.631 221.78,322.655 224.543,307.992 227.307,226.16 230.071,211.272 \n",
       "  232.835,205.589 235.598,190.119 238.362,235.141 241.126,228.759 243.89,246.468 246.654,227.825 249.417,183.551 252.181,186.341 254.945,193.618 257.709,203.627 \n",
       "  260.472,119.283 263.236,153.462 266,147.847 268.764,165.669 271.528,176.88 274.291,158.338 277.055,141.235 279.819,157.121 282.583,197.828 285.346,219.727 \n",
       "  288.11,237.043 290.874,236.442 293.638,208.48 296.402,212.1 299.165,229.492 301.929,295.346 304.693,279.488 307.457,309.788 310.22,284.756 312.984,283.893 \n",
       "  315.748,236.962 318.512,223.828 321.276,219.721 324.039,188.019 326.803,190.282 329.567,194.518 332.331,200.424 335.094,181.928 337.858,243.09 340.622,270.935 \n",
       "  343.386,287.431 346.15,239.429 348.913,226.435 351.677,229.133 354.441,269.65 357.205,219.037 359.969,188.872 362.732,160.819 365.496,169.73 368.26,187.859 \n",
       "  371.024,140.695 373.787,139.317 376.551,125.233 379.315,144.205 382.079,142.431 384.843,207.224 387.606,200.375 390.37,238.077 393.134,185.509 395.898,178.051 \n",
       "  398.661,206.85 401.425,176.759 404.189,218.117 406.953,258.372 409.717,286.386 412.48,274.92 415.244,300.087 418.008,227.532 420.772,226.598 423.535,247.269 \n",
       "  426.299,267.694 429.063,184.829 431.827,155.169 434.591,181.688 437.354,135.818 440.118,104.602 442.882,119.564 445.646,104.65 448.409,100.155 451.173,102.317 \n",
       "  453.937,145.16 456.701,183.529 459.465,195.067 462.228,149.769 464.992,157.605 467.756,171.58 470.52,211.91 473.283,174.376 476.047,166.999 478.811,204.707 \n",
       "  481.575,184.522 484.339,186.112 487.102,188.049 489.866,157.426 492.63,137.694 495.394,166.85 498.157,193.789 500.921,254.893 503.685,202.43 506.449,210.656 \n",
       "  509.213,120.767 511.976,95.6992 514.74,83.7892 517.504,126.13 520.268,152.816 523.031,192.867 525.795,171.302 528.559,126.546 531.323,117.078 534.087,95.4387 \n",
       "  536.85,110.194 539.614,159.713 542.378,148.095 545.142,170.35 547.906,144.368 550.669,156.336 553.433,189.99 556.197,160.972 558.961,122.387 561.724,89.3741 \n",
       "  564.488,98.6014 567.252,100.137 570.016,179.217 572.78,210.049 575.543,175.053 578.307,158.481 581.071,121.14 583.835,181.543 586.598,191.714 589.362,244.934 \n",
       "  592.126,195.669 \n",
       "  \"/>\n",
       "<polygon clip-path=\"url(#clip3000)\" points=\"\n",
       "483.681,89.234 574.126,89.234 574.126,28.754 483.681,28.754 \n",
       "  \" fill=\"#ffffff\" fill-opacity=\"1\"/>\n",
       "<polyline clip-path=\"url(#clip3000)\" style=\"stroke:#000000; stroke-width:1; stroke-opacity:1; fill:none\" points=\"\n",
       "  483.681,89.234 574.126,89.234 574.126,28.754 483.681,28.754 483.681,89.234 \n",
       "  \"/>\n",
       "<polyline clip-path=\"url(#clip3000)\" style=\"stroke:#009af9; stroke-width:3; stroke-opacity:1; fill:none\" points=\"\n",
       "  489.681,43.874 525.681,43.874 \n",
       "  \"/>\n",
       "<g clip-path=\"url(#clip3000)\">\n",
       "<text style=\"fill:#000000; fill-opacity:1; font-family:Arial,Helvetica Neue,Helvetica,sans-serif; font-size:12; text-anchor:start;\" transform=\"rotate(0, 531.681, 48.374)\" x=\"531.681\" y=\"48.374\">a=0</text>\n",
       "</g>\n",
       "<polyline clip-path=\"url(#clip3000)\" style=\"stroke:#e26f46; stroke-width:3; stroke-opacity:1; fill:none\" points=\"\n",
       "  489.681,58.994 525.681,58.994 \n",
       "  \"/>\n",
       "<g clip-path=\"url(#clip3000)\">\n",
       "<text style=\"fill:#000000; fill-opacity:1; font-family:Arial,Helvetica Neue,Helvetica,sans-serif; font-size:12; text-anchor:start;\" transform=\"rotate(0, 531.681, 63.494)\" x=\"531.681\" y=\"63.494\">a=0.5</text>\n",
       "</g>\n",
       "<polyline clip-path=\"url(#clip3000)\" style=\"stroke:#3da44d; stroke-width:3; stroke-opacity:1; fill:none\" points=\"\n",
       "  489.681,74.114 525.681,74.114 \n",
       "  \"/>\n",
       "<g clip-path=\"url(#clip3000)\">\n",
       "<text style=\"fill:#000000; fill-opacity:1; font-family:Arial,Helvetica Neue,Helvetica,sans-serif; font-size:12; text-anchor:start;\" transform=\"rotate(0, 531.681, 78.614)\" x=\"531.681\" y=\"78.614\">a=0.9</text>\n",
       "</g>\n",
       "</svg>\n"
      ]
     },
     "execution_count": 8,
     "metadata": {},
     "output_type": "execute_result"
    }
   ],
   "source": [
    "result = [ar(200, i) for i in [0.0,0.5,0.9]]\n",
    "\n",
    "gr() # jupyer上でグラフを出力するには必要.\n",
    "plot(result, label=[\"a=0\", \"a=0.5\", \"a=0.9\"], lw=3)"
   ]
  },
  {
   "cell_type": "markdown",
   "metadata": {},
   "source": [
    "## 関数\n",
    "Juliaにはinlineとfunctionを使う2種類の方法があります.  \n",
    "通常, Juliaの関数は関数の中で最後に評価された値を返します."
   ]
  },
  {
   "cell_type": "code",
   "execution_count": 15,
   "metadata": {},
   "outputs": [
    {
     "name": "stdout",
     "output_type": "stream",
     "text": [
      "8\n",
      "4\n"
     ]
    },
    {
     "name": "stderr",
     "output_type": "stream",
     "text": [
      "WARNING: Method definition f(Any, Any) in module Main at In[14]:2 overwritten at In[15]:2.\n",
      "WARNING: Method definition f(Any) in module Main at In[14]:6 overwritten at In[15]:6.\n"
     ]
    }
   ],
   "source": [
    "# inline\n",
    "f(x,y) = 2x + y\n",
    "\n",
    "# long form using \"function\"\n",
    "function f(x)\n",
    "  x+2\n",
    "end\n",
    "\n",
    "# 関数呼び出し\n",
    "f(3,2) |> println\n",
    "f(2) |> println"
   ]
  },
  {
   "cell_type": "markdown",
   "metadata": {},
   "source": [
    "### 多重ディスパッチ\n",
    "ここでポイントになるのはjuliaのコアな機能の一つである多重ディスパッチです. \"一つの関数\"であるfに２つのメソッドが存在することがわかるでしょうか. (juliaでは実行可能な関数の部分をメソッドと言います.  \n",
    "ここではf(::Any,::Any)と, f(::Any)の２つのメソッドが定義されており, この場合関数fに与える引数の個数によりどちらが呼ばれるか決定します.  \n",
    "  \n",
    "またJuliaでは型に対応する::Typeの記号を用いることで型にも対応した多重ディスパッチを作ることができます.  \n",
    "複数のメソッドを呼び出せる関数の呼び出し方をした場合, より厳密に定義されたメソッドが優先的に呼びだされます."
   ]
  },
  {
   "cell_type": "code",
   "execution_count": 16,
   "metadata": {},
   "outputs": [
    {
     "name": "stdout",
     "output_type": "stream",
     "text": [
      "12\n",
      "7.0\n"
     ]
    }
   ],
   "source": [
    "f(x::Int, y::Int) = 3x+2y\n",
    "\n",
    "f(2,3) |> println # 3x+2y\n",
    "f(2.0, 3) |> println # 2x+y, ::IntにマッチしないFloatのため."
   ]
  },
  {
   "cell_type": "code",
   "execution_count": 19,
   "metadata": {},
   "outputs": [
    {
     "name": "stdout",
     "output_type": "stream",
     "text": [
      "12\n",
      "38.0\n"
     ]
    },
    {
     "name": "stderr",
     "output_type": "stream",
     "text": [
      "WARNING: Method definition f(#T<:Number, #T<:Number) in module Main at In[17]:1 overwritten at In[19]:1.\n"
     ]
    }
   ],
   "source": [
    "f{T<:Number}(x::T, y::T) = 4x+10y\n",
    "\n",
    "f(2,3) |> println # 3x+2y...より厳密に定義されている方なので.\n",
    "f(2.0, 3.0) |> println # 4x+10y"
   ]
  },
  {
   "cell_type": "markdown",
   "metadata": {},
   "source": [
    "> note: 型指定の変数化は可能な限り多くの型を含もうとするので, 親の型を明示的に宣言する必要がありません.  \n",
    "> 例えば, xが数字で, yとzが同じ型の時にmatchするメソッドはこう書きます."
   ]
  },
  {
   "cell_type": "code",
   "execution_count": 20,
   "metadata": {},
   "outputs": [
    {
     "data": {
      "text/plain": [
       "f (generic function with 5 methods)"
      ]
     },
     "execution_count": 20,
     "metadata": {},
     "output_type": "execute_result"
    }
   ],
   "source": [
    "f{T<:Number, T2}(x::T,y::T2,z::T2) = 5x+ 5y+ 5z"
   ]
  },
  {
   "cell_type": "markdown",
   "metadata": {},
   "source": [
    "多重ディスパッチはJuliaのコアデザインのため, 後ほどより深く確認していきます.  \n",
    "特にJuliaの関数は引数の型に応じたメソッド呼び出しの部分に特化しています.  \n",
    "これは, fの呼び出し可能なメソッドがそれぞれバラバラにコンパイルされることを示していて, 最初に呼ばれたタイミングでコンパイルする仕組み担っていることを意味します."
   ]
  },
  {
   "cell_type": "markdown",
   "metadata": {},
   "source": [
    "### 確認問題\n",
    "というのを意識してこの挙動を確認していきましょう."
   ]
  },
  {
   "cell_type": "code",
   "execution_count": 21,
   "metadata": {},
   "outputs": [
    {
     "name": "stdout",
     "output_type": "stream",
     "text": [
      "  0.002164 seconds (381 allocations: 21.010 KB)\n",
      "  0.000001 seconds (4 allocations: 160 bytes)\n",
      "  0.000001 seconds (3 allocations: 144 bytes)\n",
      "  0.002586 seconds (1.01 k allocations: 52.800 KB)\n",
      "  0.000001 seconds (5 allocations: 176 bytes)\n"
     ]
    },
    {
     "data": {
      "text/plain": [
       "4.0"
      ]
     },
     "execution_count": 21,
     "metadata": {},
     "output_type": "execute_result"
    }
   ],
   "source": [
    "f(x,y,z,w) = z+y+z+w\n",
    "@time f(1,1,1,1)\n",
    "@time f(1,1,1,1)\n",
    "@time f(1,1,1,1)\n",
    "@time f(1,1,1,1.0)\n",
    "@time f(1,1,1,1.0)"
   ]
  },
  {
   "cell_type": "markdown",
   "metadata": {},
   "source": [
    "めっちゃはやい()\n",
    "\n",
    "----\n",
    "\n",
    "### 関数の他の便利機能\n",
    "ひとつの関数にまとめて説明."
   ]
  },
  {
   "cell_type": "code",
   "execution_count": 32,
   "metadata": {},
   "outputs": [
    {
     "name": "stderr",
     "output_type": "stream",
     "text": [
      "WARNING: Method definition test_func(Any, Any) in module Main at In[30]:2 overwritten at In[32]:2.\n",
      "WARNING: Method definition #test_func(Array{Any, 1}, Main.#test_func, Any, Any) in module Main overwritten.\n"
     ]
    },
    {
     "data": {
      "text/plain": [
       "test_func (generic function with 2 methods)"
      ]
     },
     "execution_count": 32,
     "metadata": {},
     "output_type": "execute_result"
    }
   ],
   "source": [
    "function test_func(x,y;z=0) # ;XXXでオプション引数. zはオプション引数. デフォ値0\n",
    "  if z==0\n",
    "    return x+y, x*y # return時点で関数終了. returnで戻り地設定. 複数値を返すことも可能. tupleで返される.\n",
    "  else\n",
    "    return x*y*z, x+y+z\n",
    "  end\n",
    "end"
   ]
  },
  {
   "cell_type": "code",
   "execution_count": 33,
   "metadata": {},
   "outputs": [
    {
     "data": {
      "text/plain": [
       "(3,2)"
      ]
     },
     "execution_count": 33,
     "metadata": {},
     "output_type": "execute_result"
    }
   ],
   "source": [
    "x,y = test_func(1,2)"
   ]
  },
  {
   "cell_type": "code",
   "execution_count": 35,
   "metadata": {},
   "outputs": [
    {
     "data": {
      "text/plain": [
       "(6,6)"
      ]
     },
     "execution_count": 35,
     "metadata": {},
     "output_type": "execute_result"
    }
   ],
   "source": [
    "x,y = test_func(1,2;z=3)"
   ]
  },
  {
   "cell_type": "code",
   "execution_count": null,
   "metadata": {},
   "outputs": [],
   "source": [
    "またJuliaの関数は第一級関数なので, 型の一種です.  \n",
    "そのため, クロージャ等の関数型プログラムライクなことも可能です.  "
   ]
  },
  {
   "cell_type": "code",
   "execution_count": 36,
   "metadata": {},
   "outputs": [
    {
     "data": {
      "text/plain": [
       "(64,test)"
      ]
     },
     "execution_count": 36,
     "metadata": {},
     "output_type": "execute_result"
    }
   ],
   "source": [
    "function func_playtime(x) #zはオプション引数.\n",
    "  y = 2+x\n",
    "  function test()\n",
    "    2y # Juliaの関数スコープ上, 一段回上のスコープで宣言されているものは参照することが可能です.\n",
    "  end\n",
    "  z = test() * test()\n",
    "  return z,test\n",
    "end\n",
    "z, test = func_playtime(2)"
   ]
  },
  {
   "cell_type": "code",
   "execution_count": 37,
   "metadata": {},
   "outputs": [
    {
     "data": {
      "text/plain": [
       "8"
      ]
     },
     "execution_count": 37,
     "metadata": {},
     "output_type": "execute_result"
    }
   ],
   "source": [
    "test()"
   ]
  },
  {
   "cell_type": "markdown",
   "metadata": {},
   "source": [
    "test()に対しyを指定したわけではありませんが, yの値をtest()は持っているのが解ると思います.  \n",
    "これは, 関数スコープのルール上, 内側の関数は関数として宣言されている同じスコープの変数を参照することが可能だからです.  \n",
    "これは自己参照のリカーシブ的な挙動であり, トップレベルのスコープというものがグローバルスコープということが予想できるかと思います.  "
   ]
  },
  {
   "cell_type": "code",
   "execution_count": 38,
   "metadata": {},
   "outputs": [
    {
     "data": {
      "text/plain": [
       "2"
      ]
     },
     "execution_count": 38,
     "metadata": {},
     "output_type": "execute_result"
    }
   ],
   "source": [
    "a = 2"
   ]
  },
  {
   "cell_type": "markdown",
   "metadata": {},
   "source": [
    "これはグローバル変数です.　　\n",
    "後ほど詳しく見ていきましょう.  \n",
    "  \n",
    "最後に, 無名関数の宣言で終わりましょう. "
   ]
  },
  {
   "cell_type": "code",
   "execution_count": 39,
   "metadata": {},
   "outputs": [
    {
     "data": {
      "text/plain": [
       "(::#7) (generic function with 1 method)"
      ]
     },
     "execution_count": 39,
     "metadata": {},
     "output_type": "execute_result"
    }
   ],
   "source": [
    "g = (x,y) -> 2x+y"
   ]
  },
  {
   "cell_type": "markdown",
   "metadata": {},
   "source": [
    "名前付き関数と違って, gは何度でも上書きすることが可能です."
   ]
  },
  {
   "cell_type": "code",
   "execution_count": 40,
   "metadata": {},
   "outputs": [
    {
     "data": {
      "text/plain": [
       "(::#9) (generic function with 1 method)"
      ]
     },
     "execution_count": 40,
     "metadata": {},
     "output_type": "execute_result"
    }
   ],
   "source": [
    "g = (x) -> 2x"
   ]
  },
  {
   "cell_type": "markdown",
   "metadata": {},
   "source": [
    "無名関数は多重ディスパッチに対応していません. が, v0.5からは名前付き関数同様にコンパイルするようになったため, 速度やパフォーマンスに差はありません.  \n",
    "\n",
    "また, 関数のカリー化は"
   ]
  },
  {
   "cell_type": "code",
   "execution_count": 43,
   "metadata": {},
   "outputs": [
    {
     "name": "stderr",
     "output_type": "stream",
     "text": [
      "WARNING: Method definition h(Any) in module Main at In[41]:2 overwritten at In[43]:2.\n"
     ]
    },
    {
     "data": {
      "text/plain": [
       "4"
      ]
     },
     "execution_count": 43,
     "metadata": {},
     "output_type": "execute_result"
    }
   ],
   "source": [
    "g = (x,y) -> 2x+y\n",
    "h(x) = (y) -> g(x, y)\n",
    "h(1)(2)"
   ]
  },
  {
   "cell_type": "markdown",
   "metadata": {},
   "source": [
    "と書くことが可能です. 無名関数の応用ですね."
   ]
  },
  {
   "cell_type": "markdown",
   "metadata": {},
   "source": [
    "## 型宣言\n",
    "Juliaで呼ぶ型とは, 他の言語で言うオブジェクトに相当します. (オブジェクトとはJuliaにとっては外様のコンセプト, 名前のついたコンポーネントを持つ型の物とするのであればの話ですが  \n",
    "型の考えというのは, それが何であるかを示しており, 一方で型のインスタンス化というものは独自のものです.  \n",
    "例えば, 製造者とモデルの譲歩兎を持つcar型を考えてみた時, トヨタRAV4はcar型のインスタンス化です.  \n",
    "  \n",
    "Juliaでは, 以下のようにcarの型を定義してインスタンス化することができます."
   ]
  },
  {
   "cell_type": "code",
   "execution_count": 45,
   "metadata": {},
   "outputs": [
    {
     "name": "stderr",
     "output_type": "stream",
     "text": [
      "WARNING: Method definition (::Type{Main.Car})(Any, Any) in module Main at In[44]:2 overwritten at In[45]:2.\n"
     ]
    },
    {
     "data": {
      "text/plain": [
       "Car(\"Toyota\",\"Rav4\")"
      ]
     },
     "execution_count": 45,
     "metadata": {},
     "output_type": "execute_result"
    }
   ],
   "source": [
    "type Car\n",
    "  make\n",
    "  model\n",
    "end\n",
    "\n",
    "mycar = Car(\"Toyota\", \"Rav4\")"
   ]
  },
  {
   "cell_type": "markdown",
   "metadata": {},
   "source": [
    "あ, そういえばいい忘れましたが, Juliaでは文字列型を\"...\"で表します. まぁ普通の言語なら問題ないですよね??? (MATLABてめぇ聞いてるか???)　c.f.原文通りです  \n",
    "typeのフィールドには\".\"シンタックスを使うことでアクセスが可能です.  "
   ]
  },
  {
   "cell_type": "code",
   "execution_count": 46,
   "metadata": {},
   "outputs": [
    {
     "data": {
      "text/plain": [
       "\"Toyota\""
      ]
     },
     "execution_count": 46,
     "metadata": {},
     "output_type": "execute_result"
    }
   ],
   "source": [
    "mycar.make"
   ]
  },
  {
   "cell_type": "markdown",
   "metadata": {},
   "source": [
    "もしJuliaのパフォーマンスを向上させたいのであれば, 一般的にまずやることはtype宣言を厳密にすることです.  \n",
    "nameとfieldの属性を持つWorkshopParticipant型(型はキャメルケース)を宣言しようとしたら, この場合"
   ]
  },
  {
   "cell_type": "code",
   "execution_count": 48,
   "metadata": {},
   "outputs": [
    {
     "name": "stderr",
     "output_type": "stream",
     "text": [
      "WARNING: Method definition (::Type{Main.WorkshopParticipant})(String, Symbol) in module Main at In[47]:2 overwritten at In[48]:2.\n",
      "WARNING: Method definition (::Type{Main.WorkshopParticipant})(Any, Any) in module Main at In[47]:2 overwritten at In[48]:2.\n"
     ]
    },
    {
     "data": {
      "text/plain": [
       "WorkshopParticipant(\"Tony\",:physics)"
      ]
     },
     "execution_count": 48,
     "metadata": {},
     "output_type": "execute_result"
    }
   ],
   "source": [
    "type WorkshopParticipant\n",
    "  name::String\n",
    "  field::Symbol #シンボル型, 細かい型に関しては後述\n",
    "end\n",
    "tony = WorkshopParticipant(\"Tony\", :physics)"
   ]
  },
  {
   "cell_type": "markdown",
   "metadata": {},
   "source": [
    "関数と同様に, typeは変数を用いて型を厳密にすることも可能です. 例えば, StaffMemberという名前とフィールドと年をプロパティに持った型は..."
   ]
  },
  {
   "cell_type": "code",
   "execution_count": 49,
   "metadata": {},
   "outputs": [
    {
     "data": {
      "text/plain": [
       "StaffMember{Int64}(\"Terry\",:football,17)"
      ]
     },
     "execution_count": 49,
     "metadata": {},
     "output_type": "execute_result"
    }
   ],
   "source": [
    "type StaffMember{T<:Number}\n",
    "  name::String\n",
    "  field::Symbol\n",
    "  age::T\n",
    "end\n",
    "\n",
    "ter = StaffMember(\"Terry\", :football, 17)"
   ]
  },
  {
   "cell_type": "markdown",
   "metadata": {},
   "source": [
    "変数を用いたtype宣言のルールは関数と同じです.  \n",
    "\n",
    "> note: 殆どのネイティブで定義されているJuliaの型(float64やInt等)はこの方法で定義されています.  \n",
    "> これはつまるところ, ユーザが宣言する型には制限がないということです.  \n",
    "> 実際, プロトタイプのパッケージがBaseの中に動かされる前までは, たくさんのJuliaの機能のほとんどが最初にこの方法で出発しています.\n",
    "  \n",
    "最後に, 抽象型の紹介で終わりましょう. 抽象型はインスタンスにすることはできませんが, 型の木構造を作るためによく使われます.  \n",
    "今までに出てきたNumber型も抽象型の一つです. 抽象型の宣言はAbstractキーワードを用いて作成します."
   ]
  },
  {
   "cell_type": "code",
   "execution_count": 50,
   "metadata": {},
   "outputs": [],
   "source": [
    "abstract Person\n",
    "\n",
    "type Student <: Person\n",
    "  name::String\n",
    "  grade::Number\n",
    "end"
   ]
  },
  {
   "cell_type": "markdown",
   "metadata": {},
   "source": [
    "木構造の美しい作り方についてはこちらをご覧くださいませ.  \n",
    "https://docs.julialang.org/en/release-0.5/manual/types/#abstract-types\n",
    "  \n",
    "抽象型の抽象型なども同様に作ることが可能です."
   ]
  },
  {
   "cell_type": "code",
   "execution_count": 51,
   "metadata": {},
   "outputs": [],
   "source": [
    "abstract AbstractStudent <: Person"
   ]
  },
  {
   "cell_type": "markdown",
   "metadata": {},
   "source": [
    "supertype/subtypesを用いる事でtypeの構造を詳しく見ることも可能です."
   ]
  },
  {
   "cell_type": "code",
   "execution_count": 59,
   "metadata": {},
   "outputs": [
    {
     "name": "stdout",
     "output_type": "stream",
     "text": [
      "Any[AbstractStudent,Student]\n",
      "Person\n"
     ]
    }
   ],
   "source": [
    "Person |> subtypes |> println\n",
    "Student |> supertype |> println"
   ]
  },
  {
   "cell_type": "markdown",
   "metadata": {},
   "source": [
    "他のバージョンの型の一つに\"immutable\"というものがあります.  \n",
    "immutableを使用すると, 型のフィールドの変数の型は変更不可能になります.  \n",
    "しかし, Juliaは自動的にimmutable型はstackに初期化され, 一方で通常の型はheapで初期化されます.  \n",
    "これは一般に, immutable型のほうがよりCPUの近くに保存でき, メモリアクセスのコストが低いということを示しています.\n",
    "多くのJuliaのビルトイン型についてはパフォーマンスを意識しているためimmutableを用いtえ定義されています."
   ]
  },
  {
   "cell_type": "code",
   "execution_count": 60,
   "metadata": {},
   "outputs": [
    {
     "data": {
      "text/plain": [
       "Field(:DataScience,Symbol[:PhysicalScience,:ComputerScience])"
      ]
     },
     "execution_count": 60,
     "metadata": {},
     "output_type": "execute_result"
    }
   ],
   "source": [
    "immutable Field\n",
    "  name\n",
    "  school\n",
    "end\n",
    "\n",
    "ds = Field(:DataScience, [:PhysicalScience, :ComputerScience])"
   ]
  },
  {
   "cell_type": "markdown",
   "metadata": {},
   "source": [
    "### 確認問題\n",
    "immutableの値に対しては非常に面白い現象を見ることができます. ds.nameとds.schoolは当たり前ですが変更できません. 理由がわかりますか?"
   ]
  },
  {
   "cell_type": "code",
   "execution_count": 61,
   "metadata": {},
   "outputs": [
    {
     "ename": "LoadError",
     "evalue": "type Field is immutable",
     "output_type": "error",
     "traceback": [
      "type Field is immutable",
      "",
      " in include_string(::String, ::String) at ./loading.jl:441"
     ]
    }
   ],
   "source": [
    "ds.name  = :ComutationalStatics"
   ]
  },
  {
   "cell_type": "markdown",
   "metadata": {},
   "source": [
    "しかし, この処理は認められます."
   ]
  },
  {
   "cell_type": "code",
   "execution_count": 63,
   "metadata": {},
   "outputs": [
    {
     "data": {
      "text/plain": [
       "3-element Array{Symbol,1}:\n",
       " :PhysicalScience  \n",
       " :ComputerScience  \n",
       " :BiologicalScience"
      ]
     },
     "execution_count": 63,
     "metadata": {},
     "output_type": "execute_result"
    }
   ],
   "source": [
    "push!(ds.school, :BiologicalScience)"
   ]
  },
  {
   "cell_type": "markdown",
   "metadata": {},
   "source": [
    "> Hint: ポインタ\n",
    "\n",
    "-----\n",
    "\n",
    "Juliaでの一つの重要なことは, 全てのものは型であり, コードすらexpression型に当てはまります.(後述)  \n",
    "そのため, フィールドにアクセスすることができる関数も同じく型です.  \n",
    "  \n",
    "すべての物はコンパイルさっるとCになるだけではなく, すべてのCパーツは常にアクセス可能です.  \n",
    "例えば, 関数のポインタなんてのも"
   ]
  },
  {
   "cell_type": "code",
   "execution_count": 64,
   "metadata": {},
   "outputs": [
    {
     "data": {
      "text/plain": [
       "Ptr{Void} @0x0000000000000000"
      ]
     },
     "execution_count": 64,
     "metadata": {},
     "output_type": "execute_result"
    }
   ],
   "source": [
    "foo(x) = 2x\n",
    "first(methods(foo)).lambda_template.fptr"
   ]
  },
  {
   "cell_type": "markdown",
   "metadata": {},
   "source": [
    "## 基本的な型\n",
    "Juliaにはたくさんの基本的な型が用意されています. 実際, 型による多重ディスパッチシステムとしてのジュリアを見るにそのコアデザインに関数と型のインタラクションがあることに気づくでしょう.　　\n",
    "\n",
    "### 遅延評価型\n",
    "MATLABやパイソンがArrayを組むために簡単な関数を用意しているにもかかわらず, Juliaには特別に作られた型を利用して, 実際の\"array\"を避ける傾向があります.  \n",
    "ひとつの例は\"Range\"です. rangeを定義するためには,\n",
    "> start:stepsize:end\n",
    "\n",
    "で定義します.　"
   ]
  },
  {
   "cell_type": "code",
   "execution_count": 82,
   "metadata": {},
   "outputs": [
    {
     "name": "stdout",
     "output_type": "stream",
     "text": [
      "1:5\n",
      "1:2:9\n"
     ]
    }
   ],
   "source": [
    "a = 1:5 \n",
    "a |> println\n",
    "b = 1:2:10 \n",
    "b |> println"
   ]
  },
  {
   "cell_type": "markdown",
   "metadata": {},
   "source": [
    "こいつらはarrayと同じように使えます"
   ]
  },
  {
   "cell_type": "code",
   "execution_count": 73,
   "metadata": {},
   "outputs": [
    {
     "name": "stdout",
     "output_type": "stream",
     "text": [
      "2\n",
      "5\n"
     ]
    }
   ],
   "source": [
    "a[2] |> println\n",
    "b[3] |> println"
   ]
  },
  {
   "cell_type": "markdown",
   "metadata": {},
   "source": [
    "この場合, bの詳しいところを見ていきましょう.  "
   ]
  },
  {
   "cell_type": "code",
   "execution_count": 78,
   "metadata": {},
   "outputs": [
    {
     "name": "stdout",
     "output_type": "stream",
     "text": [
      "UnitRange{Int64}\n",
      "StepRange{Int64,Int64}\n"
     ]
    }
   ],
   "source": [
    "a |> typeof |> println\n",
    "b |> typeof |> println"
   ]
  },
  {
   "cell_type": "markdown",
   "metadata": {},
   "source": [
    "bはarrayではなく, StepRange型であるようです.  \n",
    "StepRangeは自身のフィールドを諒してarrayのように振る舞うことができます"
   ]
  },
  {
   "cell_type": "code",
   "execution_count": 75,
   "metadata": {},
   "outputs": [
    {
     "data": {
      "text/plain": [
       "3-element Array{Symbol,1}:\n",
       " :start\n",
       " :step \n",
       " :stop "
      ]
     },
     "execution_count": 75,
     "metadata": {},
     "output_type": "execute_result"
    }
   ],
   "source": [
    "fieldnames(StepRange)"
   ]
  },
  {
   "cell_type": "markdown",
   "metadata": {},
   "source": [
    "> note: collect()を用いることで, どんな時でもStepRange等の型からArrayを取り出すことができます."
   ]
  },
  {
   "cell_type": "code",
   "execution_count": 81,
   "metadata": {},
   "outputs": [
    {
     "data": {
      "text/plain": [
       "5-element Array{Int64,1}:\n",
       " 1\n",
       " 2\n",
       " 3\n",
       " 4\n",
       " 5"
      ]
     },
     "execution_count": 81,
     "metadata": {},
     "output_type": "execute_result"
    }
   ],
   "source": [
    "c = collect(a)"
   ]
  },
  {
   "cell_type": "markdown",
   "metadata": {},
   "source": [
    "遅延評価型が好まれる理由としては, 本当に必要になるまで計算をしないので, 処理を圧迫しないということです.  \n",
    "@timeを使ってみてみましょう."
   ]
  },
  {
   "cell_type": "code",
   "execution_count": 85,
   "metadata": {},
   "outputs": [
    {
     "name": "stdout",
     "output_type": "stream",
     "text": [
      "  0.000004 seconds (5 allocations: 192 bytes)\n",
      "  0.000003 seconds (5 allocations: 192 bytes)\n",
      "  0.000354 seconds (8 allocations: 781.547 KB)\n"
     ]
    }
   ],
   "source": [
    "@time a = 1:100000\n",
    "@time a = 1:100\n",
    "@time b = collect(1:100000);"
   ]
  },
  {
   "cell_type": "markdown",
   "metadata": {},
   "source": [
    "ここでrangeが要する時間は非常に短いということがわかるでしょう.  \n",
    "だいたいの理由としては, メモリのallocationの回数を大幅に落としているからです.  \n",
    "StepRangeの場合, インスタンスが作成された時点ではたったの３つの数しか保持していません.  \n",
    "しかし, bは100000この数を所有しており, rangeとaryの大きな違いを示しています."
   ]
  },
  {
   "cell_type": "markdown",
   "metadata": {},
   "source": [
    "### Dictionary\n",
    "他の一般型の一つにDictionaryがあります.  \n",
    "key-valueを用いてアクセスします."
   ]
  },
  {
   "cell_type": "code",
   "execution_count": 89,
   "metadata": {},
   "outputs": [
    {
     "name": "stdout",
     "output_type": "stream",
     "text": [
      "2\n",
      "suit\n"
     ]
    }
   ],
   "source": [
    "d = Dict(:test=>2, \"silly\"=>:suit)\n",
    "d[:test] |> println\n",
    "d[\"silly\"] |> println"
   ]
  },
  {
   "cell_type": "markdown",
   "metadata": {},
   "source": [
    "### Tuples\n",
    "Tupleは変更不可なimmutableな配列です. めちゃくちゃ早いです.  \n",
    "(x,y,z,....)で表すことが可能で, ひとつ以上の戻り値を持つ関数は自動的にtupleが戻り値になります."
   ]
  },
  {
   "cell_type": "code",
   "execution_count": 92,
   "metadata": {},
   "outputs": [
    {
     "data": {
      "text/plain": [
       "(3.0,\"hi\",1)"
      ]
     },
     "execution_count": 92,
     "metadata": {},
     "output_type": "execute_result"
    }
   ],
   "source": [
    "tup = (2.,3) # typeを一致させる必要はありません.\n",
    "x,y = (3., \"hi\") # tupleから複数の変数に分けることが可能です."
   ]
  },
  {
   "cell_type": "markdown",
   "metadata": {},
   "source": [
    "## 問題\n",
    "http://ucidatascienceinitiative.github.io/IntroToJulia/Html/BasicProblems  \n",
    "8~10を解く"
   ]
  },
  {
   "cell_type": "markdown",
   "metadata": {},
   "source": [
    "Q8. 統計問題"
   ]
  },
  {
   "cell_type": "code",
   "execution_count": 101,
   "metadata": {},
   "outputs": [],
   "source": [
    "#### 与えられるデータ #####\n",
    "X = rand(1000, 3)\n",
    "a0 = rand(3)\n",
    "y = X * a0 + 0.1 * randn(1000)\n",
    "\n",
    "##### Q9で使うデータ #####\n",
    "X = rand(100)\n",
    "y = 2X + 0.1 * randn(100);"
   ]
  },
  {
   "cell_type": "code",
   "execution_count": null,
   "metadata": {},
   "outputs": [],
   "source": []
  },
  {
   "cell_type": "code",
   "execution_count": null,
   "metadata": {},
   "outputs": [],
   "source": []
  },
  {
   "cell_type": "code",
   "execution_count": null,
   "metadata": {},
   "outputs": [],
   "source": []
  },
  {
   "cell_type": "markdown",
   "metadata": {},
   "source": [
    "randn(N,3)で与えられtあN×3のArrayと, 結果データが入ったN×1のデータがあったとします.\n",
    "\n",
    "行列Xを生成する"
   ]
  },
  {
   "cell_type": "markdown",
   "metadata": {},
   "source": [
    "## メタプログラミング\n",
    "メタプログラミングはJuliaのでかい機能の一つです. キーとなる考えはJuliaのすべての文はExpression型であるというところです.  \n",
    "JuliaはExpressionから抽象構文木(AST)を作成します. 実は前出てきたsymbolの部分で少し触れています.  \n",
    "SymbolはASTの一部分で, これはパースなどで使われる構造です.  \n",
    "一つの面白いSymbolの比較点は, 例によって文字列の比較点O(n)の一部であるO(1)と関数の表記であるマクロ(@を用いた特殊な関数の表記方法)\n",
    "\n",
    "故にここまで来たらメタプログラミングをプログラムコードとアウトプットを取り入れるプログラミングであると認識できるでしょう.  \n",
    "一般的な例としては**\"time\"**マクロです."
   ]
  },
  {
   "cell_type": "code",
   "execution_count": 1,
   "metadata": {},
   "outputs": [
    {
     "data": {
      "text/plain": [
       "@my_time (macro with 1 method)"
      ]
     },
     "execution_count": 1,
     "metadata": {},
     "output_type": "execute_result"
    }
   ],
   "source": [
    "macro my_time(ex)\n",
    "  return quote\n",
    "    local t0 = time()\n",
    "    local val = $ex\n",
    "    local t1 = time()\n",
    "    println(\"elapsed time: \", t1-t0, \"seconds\")\n",
    "    val\n",
    "  end\n",
    "end"
   ]
  },
  {
   "cell_type": "markdown",
   "metadata": {},
   "source": [
    "exを定義しているこの文章は評価する前と評価したあとの時間を取得して, その間の経過時間を出力します.   \n",
    "(c.f. 実時間のマクロは今まで見てきたものと同様にアロケーションも計算してくれます)  \n",
    "  \n",
    "> Note: $exはmacroの中に表記を補完します. メタプログラミングの詳細にたどるためには通常のプログラム方法とは全く違った考え方をしなくてはならず説明に時間がかかるため, 次回のセッションで扱います.  \n",
    "  \n",
    "Q. なぜマクロ?  \n",
    "A. ひとつの理由はあなたが求めるどんな文法も定義できるからです.  \n",
    "メタプログラミングはカッら自身の表記を操作するため, どのように動くコードに表記がパースされるかを知る限り, どんな文法でもあなたの文法にすることができます.  \n",
    "後ほどケーススタディについては扱います.  \n",
    "また, 別の理由としては, パースするタイミングで実行され, 関数がコンパイルするよりも前に一度だけ呼ばれるからです."
   ]
  },
  {
   "cell_type": "markdown",
   "metadata": {},
   "source": [
    "### Juliaのパースと実行の順番について\n",
    "1. パースの後の抽象高分岐(AST) <- Macro\n",
    "2. loweringの後のASt <- @code_typed\n",
    "3. 最適化と型推論の後のAST <- Generated Functions(@code_lowered\n",
    "4. LLVM IR <- Functions(@code_llvm\n",
    "5. アセンブリ <- @code_native"
   ]
  },
  {
   "cell_type": "code",
   "execution_count": null,
   "metadata": {},
   "outputs": [],
   "source": []
  }
 ],
 "metadata": {
  "kernelspec": {
   "display_name": "Julia 0.5.2",
   "language": "julia",
   "name": "julia-0.5"
  },
  "language_info": {
   "file_extension": ".jl",
   "mimetype": "application/julia",
   "name": "julia",
   "version": "0.5.2"
  }
 },
 "nbformat": 4,
 "nbformat_minor": 2
}
