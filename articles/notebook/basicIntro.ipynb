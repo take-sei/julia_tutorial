{
 "cells": [
  {
   "cell_type": "markdown",
   "metadata": {},
   "source": [
    "# Basic Introduction to Julia\n",
    "とりあえずJuliaに触ってみよう.\n",
    "基本的なスクリプト言語と書き方は同じです.\n",
    "なんて言ったって, use like python and run like c, ですし.\n",
    "\n",
    "## see also here\n",
    " - https://docs.julialang.org/en/latest/\n",
    " - https://gitter.im/JuliaLang/julia\n",
    "Generally, discussued Juylia0.6.2"
   ]
  },
  {
   "cell_type": "markdown",
   "metadata": {},
   "source": [
    "## 1. 開発用ツール\n",
    "Juliaにはたくさんのdocumentation toolがあるけどたくさんありすぎて紹介しきれないので, そのうちのいくつかを紹介.\n",
    "\n",
    "Juliaのメソッドも名前と引数のセットで認識するため, 同じ名前のメソッドでも引数に応じた複数の処理を一つの名前のメソッドに定義できます.\n",
    "\n",
    "- methods()\n",
    "- @which\n",
    "- fieldnames()\n",
    "- typeof()\n",
    "-  @code_lowered\n",
    "- ?"
   ]
  },
  {
   "cell_type": "code",
   "execution_count": 1,
   "metadata": {},
   "outputs": [
    {
     "data": {
      "text/html": [
       "44 methods for generic function <b>copy</b>:<ul><li> copy(e::<b>Expr</b>) at <a href=\"https://github.com/JuliaLang/julia/tree/d386e40c17d43b79fc89d3e579fc04547241787c/base/expr.jl#L35\" target=\"_blank\">expr.jl:35</a></li> <li> copy(s1::<b>IntSet</b>) at <a href=\"https://github.com/JuliaLang/julia/tree/d386e40c17d43b79fc89d3e579fc04547241787c/base/intset.jl#L11\" target=\"_blank\">intset.jl:11</a></li> <li> copy(o::<b>ObjectIdDict</b>) at <a href=\"https://github.com/JuliaLang/julia/tree/d386e40c17d43b79fc89d3e579fc04547241787c/base/associative.jl#L475\" target=\"_blank\">associative.jl:475</a></li> <li> copy(src::<b>Base.dSFMT.DSFMT_state</b>) at <a href=\"https://github.com/JuliaLang/julia/tree/d386e40c17d43b79fc89d3e579fc04547241787c/base/dSFMT.jl#L32\" target=\"_blank\">dSFMT.jl:32</a></li> <li> copy(src::<b>MersenneTwister</b>) at <a href=\"https://github.com/JuliaLang/julia/tree/d386e40c17d43b79fc89d3e579fc04547241787c/base/random.jl#L112\" target=\"_blank\">random.jl:112</a></li> <li> copy(vset::<b>Base.Pkg.Types.VersionSet</b>) at <a href=\"https://github.com/JuliaLang/julia/tree/d386e40c17d43b79fc89d3e579fc04547241787c/base/pkg/types.jl#L66\" target=\"_blank\">pkg/types.jl:66</a></li> <li> copy(a::<b>Base.Pkg.Types.Available</b>) at <a href=\"https://github.com/JuliaLang/julia/tree/d386e40c17d43b79fc89d3e579fc04547241787c/base/pkg/types.jl#L148\" target=\"_blank\">pkg/types.jl:148</a></li> <li> copy(a::<b>Base.Pkg.Resolve.VersionWeights.VWPreBuildItem</b>) at <a href=\"https://github.com/JuliaLang/julia/tree/d386e40c17d43b79fc89d3e579fc04547241787c/base/pkg/resolve/versionweight.jl#L101\" target=\"_blank\">pkg/resolve/versionweight.jl:101</a></li> <li> copy(a::<b>Base.Pkg.Resolve.VersionWeights.VWPreBuild</b>) at <a href=\"https://github.com/JuliaLang/julia/tree/d386e40c17d43b79fc89d3e579fc04547241787c/base/pkg/resolve/versionweight.jl#L159\" target=\"_blank\">pkg/resolve/versionweight.jl:159</a></li> <li> copy(a::<b>Base.Pkg.Resolve.VersionWeights.VersionWeight</b>) at <a href=\"https://github.com/JuliaLang/julia/tree/d386e40c17d43b79fc89d3e579fc04547241787c/base/pkg/resolve/versionweight.jl#L219\" target=\"_blank\">pkg/resolve/versionweight.jl:219</a></li> <li> copy(a::<b>Base.Pkg.Resolve.MaxSum.FieldValues.FieldValue</b>) at <a href=\"https://github.com/JuliaLang/julia/tree/d386e40c17d43b79fc89d3e579fc04547241787c/base/pkg/resolve/fieldvalue.jl#L68\" target=\"_blank\">pkg/resolve/fieldvalue.jl:68</a></li> <li> copy(r::<b>Range</b>) at <a href=\"https://github.com/JuliaLang/julia/tree/d386e40c17d43b79fc89d3e579fc04547241787c/base/range.jl#L430\" target=\"_blank\">range.jl:430</a></li> <li> copy(x::<b>Number</b>) at <a href=\"https://github.com/JuliaLang/julia/tree/d386e40c17d43b79fc89d3e579fc04547241787c/base/number.jl#L48\" target=\"_blank\">number.jl:48</a></li> <li> copy<i>{T<:Array}</i>(a::<b>T</b>) at <a href=\"https://github.com/JuliaLang/julia/tree/d386e40c17d43b79fc89d3e579fc04547241787c/base/array.jl#L139\" target=\"_blank\">array.jl:139</a></li> <li> copy(M::<b>SymTridiagonal</b>) at <a href=\"https://github.com/JuliaLang/julia/tree/d386e40c17d43b79fc89d3e579fc04547241787c/base/linalg/tridiag.jl#L105\" target=\"_blank\">linalg/tridiag.jl:105</a></li> <li> copy(M::<b>Tridiagonal</b>) at <a href=\"https://github.com/JuliaLang/julia/tree/d386e40c17d43b79fc89d3e579fc04547241787c/base/linalg/tridiag.jl#L517\" target=\"_blank\">linalg/tridiag.jl:517</a></li> <li> copy(A::<b>LowerTriangular</b>) at <a href=\"https://github.com/JuliaLang/julia/tree/d386e40c17d43b79fc89d3e579fc04547241787c/base/linalg/triangular.jl#L38\" target=\"_blank\">linalg/triangular.jl:38</a></li> <li> copy(A::<b>Base.LinAlg.UnitLowerTriangular</b>) at <a href=\"https://github.com/JuliaLang/julia/tree/d386e40c17d43b79fc89d3e579fc04547241787c/base/linalg/triangular.jl#L38\" target=\"_blank\">linalg/triangular.jl:38</a></li> <li> copy(A::<b>UpperTriangular</b>) at <a href=\"https://github.com/JuliaLang/julia/tree/d386e40c17d43b79fc89d3e579fc04547241787c/base/linalg/triangular.jl#L38\" target=\"_blank\">linalg/triangular.jl:38</a></li> <li> copy(A::<b>Base.LinAlg.UnitUpperTriangular</b>) at <a href=\"https://github.com/JuliaLang/julia/tree/d386e40c17d43b79fc89d3e579fc04547241787c/base/linalg/triangular.jl#L38\" target=\"_blank\">linalg/triangular.jl:38</a></li> <li> copy<i>{T, S}</i>(A::<b>Symmetric{T,S}</b>) at <a href=\"https://github.com/JuliaLang/julia/tree/d386e40c17d43b79fc89d3e579fc04547241787c/base/linalg/symmetric.jl#L160\" target=\"_blank\">linalg/symmetric.jl:160</a></li> <li> copy<i>{T, S}</i>(A::<b>Hermitian{T,S}</b>) at <a href=\"https://github.com/JuliaLang/julia/tree/d386e40c17d43b79fc89d3e579fc04547241787c/base/linalg/symmetric.jl#L161\" target=\"_blank\">linalg/symmetric.jl:161</a></li> <li> copy(M::<b>Bidiagonal</b>) at <a href=\"https://github.com/JuliaLang/julia/tree/d386e40c17d43b79fc89d3e579fc04547241787c/base/linalg/bidiag.jl#L266\" target=\"_blank\">linalg/bidiag.jl:266</a></li> <li> copy(ra::<b>Base.ReshapedArray{#s268,2,#s267,MI} where MI<:Tuple{Vararg{Base.MultiplicativeInverses.SignedMultiplicativeInverse{Int64},N} where N} where #s267<:SparseMatrixCSC where #s268</b>) at <a href=\"https://github.com/JuliaLang/julia/tree/d386e40c17d43b79fc89d3e579fc04547241787c/base/sparse/sparsematrix.jl#L238\" target=\"_blank\">sparse/sparsematrix.jl:238</a></li> <li> copy(S::<b>SparseMatrixCSC</b>) at <a href=\"https://github.com/JuliaLang/julia/tree/d386e40c17d43b79fc89d3e579fc04547241787c/base/sparse/sparsematrix.jl#L253\" target=\"_blank\">sparse/sparsematrix.jl:253</a></li> <li> copy<i>{Tv<:Float64}</i>(A::<b>Base.SparseArrays.CHOLMOD.Sparse{Tv}</b>, stype::<b>Integer</b>, mode::<b>Integer</b>) at <a href=\"https://github.com/JuliaLang/julia/tree/d386e40c17d43b79fc89d3e579fc04547241787c/base/sparse/cholmod.jl#L618\" target=\"_blank\">sparse/cholmod.jl:618</a></li> <li> copy(A::<b>Base.SparseArrays.CHOLMOD.Sparse</b>) at <a href=\"https://github.com/JuliaLang/julia/tree/d386e40c17d43b79fc89d3e579fc04547241787c/base/sparse/cholmod.jl#L1209\" target=\"_blank\">sparse/cholmod.jl:1209</a></li> <li> copy(x::<b>AbstractSparseArray{Tv,Ti,1} where Ti where Tv</b>) at <a href=\"https://github.com/JuliaLang/julia/tree/d386e40c17d43b79fc89d3e579fc04547241787c/base/sparse/sparsevector.jl#L825\" target=\"_blank\">sparse/sparsevector.jl:825</a></li> <li> copy(A::<b>Base.SparseArrays.CHOLMOD.Dense</b>) at <a href=\"https://github.com/JuliaLang/julia/tree/d386e40c17d43b79fc89d3e579fc04547241787c/base/sparse/cholmod.jl#L1208\" target=\"_blank\">sparse/cholmod.jl:1208</a></li> <li> copy(a::<b>AbstractArray</b>) at <a href=\"https://github.com/JuliaLang/julia/tree/d386e40c17d43b79fc89d3e579fc04547241787c/base/abstractarray.jl#L697\" target=\"_blank\">abstractarray.jl:697</a></li> <li> copy(d::<b>Dict</b>) at <a href=\"https://github.com/JuliaLang/julia/tree/d386e40c17d43b79fc89d3e579fc04547241787c/base/dict.jl#L134\" target=\"_blank\">dict.jl:134</a></li> <li> copy(d::<b>WeakKeyDict</b>) at <a href=\"https://github.com/JuliaLang/julia/tree/d386e40c17d43b79fc89d3e579fc04547241787c/base/weakkeydict.jl#L49\" target=\"_blank\">weakkeydict.jl:49</a></li> <li> copy(a::<b>Associative</b>) at <a href=\"https://github.com/JuliaLang/julia/tree/d386e40c17d43b79fc89d3e579fc04547241787c/base/associative.jl#L113\" target=\"_blank\">associative.jl:113</a></li> <li> copy(s::<b>Set</b>) at <a href=\"https://github.com/JuliaLang/julia/tree/d386e40c17d43b79fc89d3e579fc04547241787c/base/set.jl#L41\" target=\"_blank\">set.jl:41</a></li> <li> copy(b::<b>Base.AbstractIOBuffer</b>) at <a href=\"https://github.com/JuliaLang/julia/tree/d386e40c17d43b79fc89d3e579fc04547241787c/base/iobuffer.jl#L81\" target=\"_blank\">iobuffer.jl:81</a></li> <li> copy(A::<b>Base.LinAlg.LQ</b>) at <a href=\"https://github.com/JuliaLang/julia/tree/d386e40c17d43b79fc89d3e579fc04547241787c/base/linalg/lq.jl#L48\" target=\"_blank\">linalg/lq.jl:48</a></li> <li> copy(C::<b>Base.LinAlg.Cholesky</b>) at <a href=\"https://github.com/JuliaLang/julia/tree/d386e40c17d43b79fc89d3e579fc04547241787c/base/linalg/cholesky.jl#L416\" target=\"_blank\">linalg/cholesky.jl:416</a></li> <li> copy(C::<b>Base.LinAlg.CholeskyPivoted</b>) at <a href=\"https://github.com/JuliaLang/julia/tree/d386e40c17d43b79fc89d3e579fc04547241787c/base/linalg/cholesky.jl#L417\" target=\"_blank\">linalg/cholesky.jl:417</a></li> <li> copy(J::<b>UniformScaling</b>) at <a href=\"https://github.com/JuliaLang/julia/tree/d386e40c17d43b79fc89d3e579fc04547241787c/base/linalg/uniformscaling.jl#L41\" target=\"_blank\">linalg/uniformscaling.jl:41</a></li> <li> copy(F::<b>Base.LinAlg.Schur</b>) at <a href=\"https://github.com/JuliaLang/julia/tree/d386e40c17d43b79fc89d3e579fc04547241787c/base/linalg/schur.jl#L288\" target=\"_blank\">linalg/schur.jl:288</a></li> <li> copy(F::<b>Base.LinAlg.GeneralizedSchur</b>) at <a href=\"https://github.com/JuliaLang/julia/tree/d386e40c17d43b79fc89d3e579fc04547241787c/base/linalg/schur.jl#L289\" target=\"_blank\">linalg/schur.jl:289</a></li> <li> copy<i>{T}</i>(a::<b>Base.Pkg.Resolve.VersionWeights.HierarchicalValue{T}</b>) at <a href=\"https://github.com/JuliaLang/julia/tree/d386e40c17d43b79fc89d3e579fc04547241787c/base/pkg/resolve/versionweight.jl#L71\" target=\"_blank\">pkg/resolve/versionweight.jl:71</a></li> <li> copy(A::<b>Base.SparseArrays.CHOLMOD.Factor</b>) at <a href=\"https://github.com/JuliaLang/julia/tree/d386e40c17d43b79fc89d3e579fc04547241787c/base/sparse/cholmod.jl#L1210\" target=\"_blank\">sparse/cholmod.jl:1210</a></li> <li> copy(md::<b>MbedTLS.MD</b>) at <a href=\"https://github.com/JuliaWeb/MbedTLS.jl/tree/1835661be3a08e48b7713d5cf91a7d6b93e6c122//src/md.jl#L93\" target=\"_blank\">/Users/U05284/.julia/v0.6/MbedTLS/src/md.jl:93</a></li> </ul>"
      ],
      "text/plain": [
       "# 44 methods for generic function \"copy\":\n",
       "copy(e::Expr) in Base at expr.jl:35\n",
       "copy(s1::IntSet) in Base at intset.jl:11\n",
       "copy(o::ObjectIdDict) in Base at associative.jl:475\n",
       "copy(src::Base.dSFMT.DSFMT_state) in Base.dSFMT at dSFMT.jl:32\n",
       "copy(src::MersenneTwister) in Base.Random at random.jl:112\n",
       "copy(vset::Base.Pkg.Types.VersionSet) in Base.Pkg.Types at pkg/types.jl:66\n",
       "copy(a::Base.Pkg.Types.Available) in Base.Pkg.Types at pkg/types.jl:148\n",
       "copy(a::Base.Pkg.Resolve.VersionWeights.VWPreBuildItem) in Base.Pkg.Resolve.VersionWeights at pkg/resolve/versionweight.jl:101\n",
       "copy(a::Base.Pkg.Resolve.VersionWeights.VWPreBuild) in Base.Pkg.Resolve.VersionWeights at pkg/resolve/versionweight.jl:159\n",
       "copy(a::Base.Pkg.Resolve.VersionWeights.VersionWeight) in Base.Pkg.Resolve.VersionWeights at pkg/resolve/versionweight.jl:219\n",
       "copy(a::Base.Pkg.Resolve.MaxSum.FieldValues.FieldValue) in Base.Pkg.Resolve.MaxSum.FieldValues at pkg/resolve/fieldvalue.jl:68\n",
       "copy(r::Range) in Base at range.jl:430\n",
       "copy(x::Number) in Base at number.jl:48\n",
       "copy(a::T) where T<:Array in Base at array.jl:139\n",
       "copy(M::SymTridiagonal) in Base.LinAlg at linalg/tridiag.jl:105\n",
       "copy(M::Tridiagonal) in Base.LinAlg at linalg/tridiag.jl:517\n",
       "copy(A::LowerTriangular) in Base.LinAlg at linalg/triangular.jl:38\n",
       "copy(A::Base.LinAlg.UnitLowerTriangular) in Base.LinAlg at linalg/triangular.jl:38\n",
       "copy(A::UpperTriangular) in Base.LinAlg at linalg/triangular.jl:38\n",
       "copy(A::Base.LinAlg.UnitUpperTriangular) in Base.LinAlg at linalg/triangular.jl:38\n",
       "copy(A::Symmetric{T,S}) where {T, S} in Base.LinAlg at linalg/symmetric.jl:160\n",
       "copy(A::Hermitian{T,S}) where {T, S} in Base.LinAlg at linalg/symmetric.jl:161\n",
       "copy(M::Bidiagonal) in Base.LinAlg at linalg/bidiag.jl:266\n",
       "copy(ra::Base.ReshapedArray{#s268,2,#s267,MI} where MI<:Tuple{Vararg{Base.MultiplicativeInverses.SignedMultiplicativeInverse{Int64},N} where N} where #s267<:SparseMatrixCSC where #s268) in Base.SparseArrays at sparse/sparsematrix.jl:238\n",
       "copy(S::SparseMatrixCSC) in Base.SparseArrays at sparse/sparsematrix.jl:253\n",
       "copy(A::Base.SparseArrays.CHOLMOD.Sparse{Tv}, stype::Integer, mode::Integer) where Tv<:Float64 in Base.SparseArrays.CHOLMOD at sparse/cholmod.jl:618\n",
       "copy(A::Base.SparseArrays.CHOLMOD.Sparse) in Base.SparseArrays.CHOLMOD at sparse/cholmod.jl:1209\n",
       "copy(x::AbstractSparseArray{Tv,Ti,1} where Ti where Tv) in Base.SparseArrays at sparse/sparsevector.jl:825\n",
       "copy(A::Base.SparseArrays.CHOLMOD.Dense) in Base.SparseArrays.CHOLMOD at sparse/cholmod.jl:1208\n",
       "copy(a::AbstractArray) in Base at abstractarray.jl:697\n",
       "copy(d::Dict) in Base at dict.jl:134\n",
       "copy(d::WeakKeyDict) in Base at weakkeydict.jl:49\n",
       "copy(a::Associative) in Base at associative.jl:113\n",
       "copy(s::Set) in Base at set.jl:41\n",
       "copy(b::Base.AbstractIOBuffer) in Base at iobuffer.jl:81\n",
       "copy(A::Base.LinAlg.LQ) in Base.LinAlg at linalg/lq.jl:48\n",
       "copy(C::Base.LinAlg.Cholesky) in Base.LinAlg at linalg/cholesky.jl:416\n",
       "copy(C::Base.LinAlg.CholeskyPivoted) in Base.LinAlg at linalg/cholesky.jl:417\n",
       "copy(J::UniformScaling) in Base.LinAlg at linalg/uniformscaling.jl:41\n",
       "copy(F::Base.LinAlg.Schur) in Base.LinAlg at linalg/schur.jl:288\n",
       "copy(F::Base.LinAlg.GeneralizedSchur) in Base.LinAlg at linalg/schur.jl:289\n",
       "copy(a::Base.Pkg.Resolve.VersionWeights.HierarchicalValue{T}) where T in Base.Pkg.Resolve.VersionWeights at pkg/resolve/versionweight.jl:71\n",
       "copy(A::Base.SparseArrays.CHOLMOD.Factor) in Base.SparseArrays.CHOLMOD at sparse/cholmod.jl:1210\n",
       "copy(md::MbedTLS.MD) in MbedTLS at /Users/U05284/.julia/v0.6/MbedTLS/src/md.jl:93"
      ]
     },
     "execution_count": 1,
     "metadata": {},
     "output_type": "execute_result"
    }
   ],
   "source": [
    "methods(copy) # methods()...ある名前で定義されているメソッドを出力"
   ]
  },
  {
   "cell_type": "code",
   "execution_count": 2,
   "metadata": {},
   "outputs": [
    {
     "data": {
      "text/html": [
       "copy<i>{T<:Array}</i>(a::<b>T</b>) at <a href=\"https://github.com/JuliaLang/julia/tree/d386e40c17d43b79fc89d3e579fc04547241787c/base/array.jl#L139\" target=\"_blank\">array.jl:139</a>"
      ],
      "text/plain": [
       "copy(a::T) where T<:Array in Base at array.jl:139"
      ]
     },
     "execution_count": 2,
     "metadata": {},
     "output_type": "execute_result"
    }
   ],
   "source": [
    "@which(copy([1, 2, 3])) # @which...どの引数の処理のメソッドが呼ばれているかを出力"
   ]
  },
  {
   "cell_type": "code",
   "execution_count": 3,
   "metadata": {},
   "outputs": [
    {
     "data": {
      "text/plain": [
       "2-element Array{Symbol,1}:\n",
       " :data\n",
       " :uplo"
      ]
     },
     "execution_count": 3,
     "metadata": {},
     "output_type": "execute_result"
    }
   ],
   "source": [
    "fieldnames(Hermitian) # filednames()...インスタンスや構造体の中身のタイプを出力"
   ]
  },
  {
   "cell_type": "code",
   "execution_count": 4,
   "metadata": {},
   "outputs": [
    {
     "data": {
      "text/plain": [
       "Array{Int64,1}"
      ]
     },
     "execution_count": 4,
     "metadata": {},
     "output_type": "execute_result"
    }
   ],
   "source": [
    "typeof([1;2;3]) # typeof()... 型を出力, c.f. ;は改行, つまりこれは列ベクトル"
   ]
  },
  {
   "cell_type": "code",
   "execution_count": 5,
   "metadata": {},
   "outputs": [
    {
     "data": {
      "text/plain": [
       "CodeInfo(:(begin \n",
       "        nothing\n",
       "        nothing\n",
       "        SSAValue(0) = (Base.cconvert)(Base.Math.Float64, x)\n",
       "        SSAValue(1) = $(Expr(:foreigncall, :((Core.tuple)(\"sin\", Base.Math.libm)), Float64, svec(Float64), :((Base.unsafe_convert)(Base.Math.Float64, SSAValue(0))), SSAValue(0)))\n",
       "        return (Base.Math.nan_dom_err)(SSAValue(1), x)\n",
       "    end))"
      ]
     },
     "execution_count": 5,
     "metadata": {},
     "output_type": "execute_result"
    }
   ],
   "source": [
    "@code_lowered sin(sqrt(3)) # @code_lowered...どんな処理が発生してるかを確認できる. sqrt()は√3でもok."
   ]
  },
  {
   "cell_type": "markdown",
   "metadata": {},
   "source": [
    "またIntractiveShellにてjuliaを使っている場合だけですが.コンソール時に\"?\"を打ち込むとhelpモードに入ります."
   ]
  },
  {
   "cell_type": "code",
   "execution_count": 6,
   "metadata": {},
   "outputs": [],
   "source": [
    "# ?copy...copyのヘルプが出ます"
   ]
  },
  {
   "cell_type": "markdown",
   "metadata": {},
   "source": [
    "-----"
   ]
  },
  {
   "cell_type": "markdown",
   "metadata": {},
   "source": [
    "## 2.Array\n",
    "基本的な構文はmatlabと同じ.\n",
    "\n",
    "### 宣言方法と代入方法"
   ]
  },
  {
   "cell_type": "code",
   "execution_count": 7,
   "metadata": {},
   "outputs": [
    {
     "name": "stdout",
     "output_type": "stream",
     "text": [
      "[1, 2, 3, 4, 5]\n",
      "[1 2 3 4 5]\n"
     ]
    }
   ],
   "source": [
    "a = Vector{Float64}(5) #5つのfloat64値からなる一次元配列の生成\n",
    "a = [1 2 3 4 5]\n",
    "\n",
    "cv = [1;2;3;4;5] # 列ベクトル\n",
    "rv = [1 2 3 4 5] # 行ベクトル\n",
    "\n",
    "println(cv)\n",
    "println(rv)"
   ]
  },
  {
   "cell_type": "code",
   "execution_count": 8,
   "metadata": {},
   "outputs": [
    {
     "data": {
      "text/plain": [
       "1×5 Array{Int64,2}:\n",
       " 1  2  100  4  5"
      ]
     },
     "execution_count": 8,
     "metadata": {},
     "output_type": "execute_result"
    }
   ],
   "source": [
    "a[3] = 100 # 配列aの\"3つめ\"の要素を100に変更. 線形indexを使用しています.\n",
    "a"
   ]
  },
  {
   "cell_type": "code",
   "execution_count": 9,
   "metadata": {},
   "outputs": [
    {
     "data": {
      "text/plain": [
       "3×4 Array{Int64,2}:\n",
       " 11  12  13  14\n",
       " 21  22  23  24\n",
       " 31  32  33  34"
      ]
     },
     "execution_count": 9,
     "metadata": {},
     "output_type": "execute_result"
    }
   ],
   "source": [
    "b = Matrix{Float64}(4,2) # size(4, 2)からなるFloat64型行列を生成\n",
    "\n",
    "c = Array{Float64}(4,5,6,7) # (4,5,6,7)からなるFloat64配列\n",
    "\n",
    "mat =  [11 12 13 14\n",
    "        21 22 23 24\n",
    "        31 32 33 34] # 直接inlineでMatrixの宣言も可能"
   ]
  },
  {
   "cell_type": "code",
   "execution_count": 10,
   "metadata": {},
   "outputs": [
    {
     "data": {
      "text/plain": [
       "3×4 Array{Int64,2}:\n",
       " 11   4  13  14\n",
       " 21  22  23  24\n",
       " 31  32  33  34"
      ]
     },
     "execution_count": 10,
     "metadata": {},
     "output_type": "execute_result"
    }
   ],
   "source": [
    "mat[1,2] = 4 # 変更方法は同じ.\n",
    "mat"
   ]
  },
  {
   "cell_type": "markdown",
   "metadata": {},
   "source": [
    "#### memo1\n",
    "> memo1: REPL環境を使ってる時, 評価された時に値を返される物の後ろに\";\"を入れると出力を無視できます.  \n",
    "> memo2: arrayの値はメモリの場所へのポインタです."
   ]
  },
  {
   "cell_type": "code",
   "execution_count": 11,
   "metadata": {},
   "outputs": [],
   "source": [
    "#memo1\n",
    "mat;"
   ]
  },
  {
   "cell_type": "code",
   "execution_count": 12,
   "metadata": {},
   "outputs": [
    {
     "name": "stdout",
     "output_type": "stream",
     "text": [
      "[10, 2, 3][10, 2, 3]\n"
     ]
    }
   ],
   "source": [
    "#memo2\n",
    "a = [1;2;3]\n",
    "b = a\n",
    "b[1] = 10\n",
    "println(a, b)"
   ]
  },
  {
   "cell_type": "code",
   "execution_count": 13,
   "metadata": {},
   "outputs": [
    {
     "name": "stdout",
     "output_type": "stream",
     "text": [
      "[1, 2, 3][10, 2, 3]\n"
     ]
    }
   ],
   "source": [
    "#memo2: aも一緒に変更されたくない場合は\"copy\"を使います.\n",
    "a = [1;2;3]\n",
    "b = copy(a)\n",
    "b[1] = 10\n",
    "println(a, b)"
   ]
  },
  {
   "cell_type": "markdown",
   "metadata": {},
   "source": [
    "#### memo2\n",
    "他にもコンストラクタを使わずにも宣言することが可能です. その場合以下のメソッドが有用.  \n",
    "いずれも, 引数のArrayのsize/shapeを引き継いだ新しいArrayを返します.\n",
    "\n",
    "- similar()\n",
    "- zeros()\n",
    "- ones()"
   ]
  },
  {
   "cell_type": "code",
   "execution_count": 14,
   "metadata": {},
   "outputs": [
    {
     "name": "stdout",
     "output_type": "stream",
     "text": [
      "[4469783144, 4469783576, 4469791928][0, 0, 0][1, 1, 1]\n"
     ]
    }
   ],
   "source": [
    "simA = similar(a) # aと同じ構造の未初期化のaryを返す.\n",
    "zerosA = zeros(a) # aと同じ構造の全て0のaryを返す.\n",
    "onesA = ones(a) # aと同じ構造の全て1のaryを返す.\n",
    "\n",
    "println(simA, zerosA, onesA)"
   ]
  },
  {
   "cell_type": "markdown",
   "metadata": {},
   "source": [
    "#### memo3\n",
    "1) 配列は[a:b]によって切り出すことが可能.\n",
    "- [a:b]...配列のa番目からb番目までを切り出す\n",
    "\n",
    "2) また, aryにはどんな種類のtypeも内包できるため配列の中に配列を含めることももちろん可能です.\n"
   ]
  },
  {
   "cell_type": "code",
   "execution_count": 15,
   "metadata": {},
   "outputs": [
    {
     "data": {
      "text/plain": [
       "5-element Array{Int64,1}:\n",
       " 1\n",
       " 2\n",
       " 3\n",
       " 4\n",
       " 5"
      ]
     },
     "execution_count": 15,
     "metadata": {},
     "output_type": "execute_result"
    }
   ],
   "source": [
    "#1)\n",
    "a = [1 2 3 4 5 6 7 8 9 10]\n",
    "a[1:5]"
   ]
  },
  {
   "cell_type": "code",
   "execution_count": 16,
   "metadata": {},
   "outputs": [
    {
     "data": {
      "text/plain": [
       "3-element Array{Array{Float64,1},1}:\n",
       " [1.0, 2.0, 3.0]\n",
       " [1.0, 2.0]     \n",
       " [3.0, 4.0, 5.0]"
      ]
     },
     "execution_count": 16,
     "metadata": {},
     "output_type": "execute_result"
    }
   ],
   "source": [
    "# 2)\n",
    "a = Vector{Vector{Float64}}(3)\n",
    "a[1] = [1;2;3]\n",
    "a[2] = [1;2]\n",
    "a[3] = [3;4;5]\n",
    "a"
   ]
  },
  {
   "cell_type": "markdown",
   "metadata": {},
   "source": [
    "また, 入れ子構造になったarrayのcopyにはdeepcopy()を使います."
   ]
  },
  {
   "cell_type": "code",
   "execution_count": 17,
   "metadata": {},
   "outputs": [
    {
     "name": "stdout",
     "output_type": "stream",
     "text": [
      "Array{Float64,1}[[1.0, 2.0, 3.0], [1.0, 2.0], [3.0, 4.0, 5.0]]\n",
      "Array{Float64,1}[[1.0, 3.0, 2.0], [1.0, 2.0], [3.0, 4.0, 5.0]]\n"
     ]
    }
   ],
   "source": [
    "b = deepcopy(a)\n",
    "b[1] = [1;3;2]\n",
    "println(a)\n",
    "println(b)"
   ]
  },
  {
   "cell_type": "markdown",
   "metadata": {},
   "source": [
    "#### memo4\n",
    "高い実行速度を達成するためにはコード量を減らすことが重要です. \n",
    "そのため, Juliaには引数に破壊的代入をもたらすmutationメソッドがあり, そのようなメソッドの末尾には!が付いています."
   ]
  },
  {
   "cell_type": "code",
   "execution_count": 18,
   "metadata": {},
   "outputs": [
    {
     "data": {
      "text/plain": [
       "3-element Array{Int64,1}:\n",
       "  2\n",
       " 12\n",
       " 18"
      ]
     },
     "execution_count": 18,
     "metadata": {},
     "output_type": "execute_result"
    }
   ],
   "source": [
    "# mutation method ex.\n",
    "a = [1;6;9]\n",
    "scale!(a, 2) # scale!(ary, scalar)...aryをscalar倍"
   ]
  },
  {
   "cell_type": "markdown",
   "metadata": {},
   "source": [
    "----"
   ]
  },
  {
   "cell_type": "markdown",
   "metadata": {},
   "source": [
    "## 3.制御フロー\n",
    "\n",
    "Juliaの制御フローは他のスクリプト言語と大して変化はなし.\n",
    "いつも通りのfor loop, while, ifがあるくらい.\n",
    "\n",
    "他のものはdocumentを参照."
   ]
  },
  {
   "cell_type": "code",
   "execution_count": 19,
   "metadata": {},
   "outputs": [
    {
     "name": "stdout",
     "output_type": "stream",
     "text": [
      "1\n",
      "2\n",
      "3\n",
      "4\n",
      "5\n"
     ]
    }
   ],
   "source": [
    "# for loop\n",
    "for i=1:5 #1:5でrange, =をinに変えても実行可能.\n",
    "  println(i)\n",
    "end"
   ]
  },
  {
   "cell_type": "code",
   "execution_count": 20,
   "metadata": {},
   "outputs": [
    {
     "name": "stdout",
     "output_type": "stream",
     "text": [
      "0\n",
      "1\n",
      "2\n",
      "3\n",
      "4\n"
     ]
    }
   ],
   "source": [
    "t = 0\n",
    "while t < 5\n",
    "  println(t)\n",
    "  t+=1\n",
    "end"
   ]
  },
  {
   "cell_type": "code",
   "execution_count": 21,
   "metadata": {},
   "outputs": [
    {
     "name": "stdout",
     "output_type": "stream",
     "text": [
      "you said asdf\n",
      "search: \u001b[1mf\u001b[22m\u001b[1mo\u001b[22m\u001b[1mr\u001b[22m \u001b[1mf\u001b[22m\u001b[1mo\u001b[22m\u001b[1mr\u001b[22meach Uni\u001b[1mf\u001b[22m\u001b[1mo\u001b[22m\u001b[1mr\u001b[22mmScaling Date\u001b[1mF\u001b[22m\u001b[1mo\u001b[22m\u001b[1mr\u001b[22mmat @date\u001b[1mf\u001b[22m\u001b[1mo\u001b[22m\u001b[1mr\u001b[22mmat_str \u001b[1mf\u001b[22m\u001b[1mo\u001b[22mld\u001b[1mr\u001b[22m \u001b[1mf\u001b[22ml\u001b[1mo\u001b[22mo\u001b[1mr\u001b[22m\n",
      "\n",
      "search: \u001b[1mf\u001b[22m\u001b[1mo\u001b[22m\u001b[1mr\u001b[22m \u001b[1mf\u001b[22m\u001b[1mo\u001b[22m\u001b[1mr\u001b[22meach Uni\u001b[1mf\u001b[22m\u001b[1mo\u001b[22m\u001b[1mr\u001b[22mmScaling Date\u001b[1mF\u001b[22m\u001b[1mo\u001b[22m\u001b[1mr\u001b[22mmat @date\u001b[1mf\u001b[22m\u001b[1mo\u001b[22m\u001b[1mr\u001b[22mmat_str \u001b[1mf\u001b[22m\u001b[1mo\u001b[22mld\u001b[1mr\u001b[22m \u001b[1mf\u001b[22ml\u001b[1mo\u001b[22mo\u001b[1mr\u001b[22m\n",
      "\n",
      "search: \u001b[1mf\u001b[22m\u001b[1mo\u001b[22m\u001b[1mr\u001b[22m \u001b[1mf\u001b[22m\u001b[1mo\u001b[22m\u001b[1mr\u001b[22meach Uni\u001b[1mf\u001b[22m\u001b[1mo\u001b[22m\u001b[1mr\u001b[22mmScaling Date\u001b[1mF\u001b[22m\u001b[1mo\u001b[22m\u001b[1mr\u001b[22mmat @date\u001b[1mf\u001b[22m\u001b[1mo\u001b[22m\u001b[1mr\u001b[22mmat_str \u001b[1mf\u001b[22m\u001b[1mo\u001b[22mld\u001b[1mr\u001b[22m \u001b[1mf\u001b[22ml\u001b[1mo\u001b[22mo\u001b[1mr\u001b[22m\n",
      "\n",
      "search: \u001b[1mf\u001b[22m\u001b[1mo\u001b[22m\u001b[1mr\u001b[22m \u001b[1mf\u001b[22m\u001b[1mo\u001b[22m\u001b[1mr\u001b[22meach Uni\u001b[1mf\u001b[22m\u001b[1mo\u001b[22m\u001b[1mr\u001b[22mmScaling Date\u001b[1mF\u001b[22m\u001b[1mo\u001b[22m\u001b[1mr\u001b[22mmat @date\u001b[1mf\u001b[22m\u001b[1mo\u001b[22m\u001b[1mr\u001b[22mmat_str \u001b[1mf\u001b[22m\u001b[1mo\u001b[22mld\u001b[1mr\u001b[22m \u001b[1mf\u001b[22ml\u001b[1mo\u001b[22mo\u001b[1mr\u001b[22m\n",
      "\n",
      "search: \u001b[1mf\u001b[22m\u001b[1mo\u001b[22m\u001b[1mr\u001b[22m \u001b[1mf\u001b[22m\u001b[1mo\u001b[22m\u001b[1mr\u001b[22meach Uni\u001b[1mf\u001b[22m\u001b[1mo\u001b[22m\u001b[1mr\u001b[22mmScaling Date\u001b[1mF\u001b[22m\u001b[1mo\u001b[22m\u001b[1mr\u001b[22mmat @date\u001b[1mf\u001b[22m\u001b[1mo\u001b[22m\u001b[1mr\u001b[22mmat_str \u001b[1mf\u001b[22m\u001b[1mo\u001b[22mld\u001b[1mr\u001b[22m \u001b[1mf\u001b[22ml\u001b[1mo\u001b[22mo\u001b[1mr\u001b[22m\n",
      "\n",
      "search: \u001b[1mf\u001b[22m\u001b[1mo\u001b[22m\u001b[1mr\u001b[22m \u001b[1mf\u001b[22m\u001b[1mo\u001b[22m\u001b[1mr\u001b[22meach Uni\u001b[1mf\u001b[22m\u001b[1mo\u001b[22m\u001b[1mr\u001b[22mmScaling Date\u001b[1mF\u001b[22m\u001b[1mo\u001b[22m\u001b[1mr\u001b[22mmat @date\u001b[1mf\u001b[22m\u001b[1mo\u001b[22m\u001b[1mr\u001b[22mmat_str \u001b[1mf\u001b[22m\u001b[1mo\u001b[22mld\u001b[1mr\u001b[22m \u001b[1mf\u001b[22ml\u001b[1mo\u001b[22mo\u001b[1mr\u001b[22m\n",
      "\n",
      "search: \u001b[1mf\u001b[22m\u001b[1mo\u001b[22m\u001b[1mr\u001b[22m \u001b[1mf\u001b[22m\u001b[1mo\u001b[22m\u001b[1mr\u001b[22meach Uni\u001b[1mf\u001b[22m\u001b[1mo\u001b[22m\u001b[1mr\u001b[22mmScaling Date\u001b[1mF\u001b[22m\u001b[1mo\u001b[22m\u001b[1mr\u001b[22mmat @date\u001b[1mf\u001b[22m\u001b[1mo\u001b[22m\u001b[1mr\u001b[22mmat_str \u001b[1mf\u001b[22m\u001b[1mo\u001b[22mld\u001b[1mr\u001b[22m \u001b[1mf\u001b[22ml\u001b[1mo\u001b[22mo\u001b[1mr\u001b[22m\n",
      "\n",
      "search: \u001b[1me\u001b[22m\u001b[1mn\u001b[22m\u001b[1md\u001b[22m \u001b[1me\u001b[22m\u001b[1mn\u001b[22m\u001b[1md\u001b[22mof \u001b[1me\u001b[22m\u001b[1mn\u001b[22m\u001b[1md\u001b[22mswith \u001b[1mE\u001b[22m\u001b[1mN\u001b[22m\u001b[1mD\u001b[22mIAN_BOM s\u001b[1me\u001b[22m\u001b[1mn\u001b[22m\u001b[1md\u001b[22m app\u001b[1me\u001b[22m\u001b[1mn\u001b[22m\u001b[1md\u001b[22m! Quot\u001b[1me\u001b[22m\u001b[1mN\u001b[22mo\u001b[1md\u001b[22me Rang\u001b[1me\u001b[22mI\u001b[1mn\u001b[22m\u001b[1md\u001b[22mex g\u001b[1me\u001b[22mti\u001b[1mn\u001b[22m\u001b[1md\u001b[22mex\n",
      "\n"
     ]
    }
   ],
   "source": [
    "symbol = :asdf\n",
    "\n",
    "if symbol == :asdf\n",
    "  println(\"you said asdf\")\n",
    "else\n",
    "  println(\"no idea\")\n",
    "end"
   ]
  },
  {
   "cell_type": "markdown",
   "metadata": {},
   "source": [
    "#### memo\n",
    "Juliaのforloopで面白いのは, なんと多重for loopを一列で書ける"
   ]
  },
  {
   "cell_type": "code",
   "execution_count": 22,
   "metadata": {},
   "outputs": [
    {
     "name": "stdout",
     "output_type": "stream",
     "text": [
      "2\n",
      "3\n",
      "4\n",
      "4\n",
      "6\n",
      "8\n",
      "6\n",
      "9\n",
      "12\n",
      "8\n",
      "12\n",
      "16\n",
      "10\n",
      "15\n",
      "20\n"
     ]
    }
   ],
   "source": [
    "for i=1:5, j=2:4\n",
    "  println(i*j)\n",
    "end"
   ]
  },
  {
   "cell_type": "markdown",
   "metadata": {},
   "source": [
    "### 練習問題\n",
    "http://ucidatascienceinitiative.github.io/IntroToJulia/Html/BasicProblems\n",
    "上5問.\n",
    "\n",
    "制御flow理解できてれば実装できるはず."
   ]
  },
  {
   "cell_type": "markdown",
   "metadata": {},
   "source": [
    "#### Q1. (N,N)型で, 体格が-2, 体格の左右隣が1, それ以外が0の行列を作れ. ストラング行列っていうとか"
   ]
  },
  {
   "cell_type": "code",
   "execution_count": 62,
   "metadata": {},
   "outputs": [
    {
     "data": {
      "text/plain": [
       "5×5 Array{Float64,2}:\n",
       " -2.0   1.0   0.0   0.0   0.0\n",
       "  1.0  -2.0   1.0   0.0   0.0\n",
       "  0.0   1.0  -2.0   1.0   0.0\n",
       "  0.0   0.0   1.0  -2.0   1.0\n",
       "  0.0   0.0   0.0   1.0  -2.0"
      ]
     },
     "execution_count": 62,
     "metadata": {},
     "output_type": "execute_result"
    }
   ],
   "source": [
    "N = 5\n",
    "#mat = Matrix{Float64}(N, N)\n",
    "mat = zeros(N, N)\n",
    "for i=1:N, j=1:N\n",
    "  if i==j\n",
    "    mat[i,j] = -2\n",
    "  elseif i==j+1||i==j-1\n",
    "    mat[i,j] = 1\n",
    "  end\n",
    "end\n",
    "\n",
    "mat"
   ]
  },
  {
   "cell_type": "markdown",
   "metadata": {},
   "source": [
    "##### Q1. 綺麗なコードver. こっちの方が\"juliaらしい\""
   ]
  },
  {
   "cell_type": "code",
   "execution_count": 71,
   "metadata": {},
   "outputs": [
    {
     "data": {
      "text/plain": [
       "5×5 Array{Float64,2}:\n",
       " -2.0   1.0   0.0   0.0   0.0\n",
       "  1.0  -2.0   1.0   0.0   0.0\n",
       "  0.0   1.0  -2.0   1.0   0.0\n",
       "  0.0   0.0   1.0  -2.0   1.0\n",
       "  0.0   0.0   0.0   1.0  -2.0"
      ]
     },
     "execution_count": 71,
     "metadata": {},
     "output_type": "execute_result"
    }
   ],
   "source": [
    "N=5\n",
    "A = zeros(N,N)\n",
    "for i=1:N, j=1:N\n",
    "  abs(i-j)==1 && (A[i,j]=1)\n",
    "  i==j && (A[i,j]=-2)\n",
    "end\n",
    "A"
   ]
  },
  {
   "cell_type": "markdown",
   "metadata": {},
   "source": [
    "#### Q2. 階上, my_factorial(n)で, n!を出力."
   ]
  },
  {
   "cell_type": "code",
   "execution_count": 73,
   "metadata": {},
   "outputs": [
    {
     "name": "stderr",
     "output_type": "stream",
     "text": [
      "WARNING: Method definition my_factorial(Any) in module Main at In[72]:2 overwritten at In[73]:2.\n"
     ]
    },
    {
     "data": {
      "text/plain": [
       "1307674368000"
      ]
     },
     "execution_count": 73,
     "metadata": {},
     "output_type": "execute_result"
    }
   ],
   "source": [
    "function my_factorial(n)\n",
    "  ans = 1\n",
    "  for i=1:n\n",
    "    ans*=i\n",
    "  end\n",
    "  ans  \n",
    "end\n",
    "my_factorial(15)\n",
    "#c.f. ただしこれでは大きい値を扱う形になった時にOverFlowが発生する.(ex. 30を入れるとnegativeになる)"
   ]
  },
  {
   "cell_type": "markdown",
   "metadata": {},
   "source": [
    "##### こういう時は入力と出力の型を同じにすればよい. one(x)を使用する"
   ]
  },
  {
   "cell_type": "code",
   "execution_count": 75,
   "metadata": {},
   "outputs": [
    {
     "name": "stderr",
     "output_type": "stream",
     "text": [
      "WARNING: Method definition my_factorial(Any) in module Main at In[74]:2 overwritten at In[75]:2.\n"
     ]
    },
    {
     "data": {
      "text/plain": [
       "265252859812191058636308480000000"
      ]
     },
     "execution_count": 75,
     "metadata": {},
     "output_type": "execute_result"
    }
   ],
   "source": [
    "function my_factorial(n)\n",
    "  k = one(n) # one(x)...xと同じ型で値1の数値を返す.\n",
    "  for i=1:n\n",
    "    k *= i\n",
    "  end\n",
    "  k\n",
    "end\n",
    "my_factorial(big(30))"
   ]
  },
  {
   "cell_type": "markdown",
   "metadata": {},
   "source": [
    "#### Q3.二項問題\n",
    "nを試行回数, pを成功する確率とした時, n回の内成功した回数XをX=Bin(n,p)と表すとする.  \n",
    "例えば, Bin(10, 0.5)の時, Xは10回コインを投げた時に表が出てくる回数に等しい.  \n",
    "  \n",
    "Xを返すbinomial_rv(n,p)をrand()を用いて実装せよ"
   ]
  },
  {
   "cell_type": "code",
   "execution_count": 76,
   "metadata": {},
   "outputs": [
    {
     "data": {
      "text/plain": [
       "5-element Array{Int64,1}:\n",
       " 5\n",
       " 2\n",
       " 3\n",
       " 4\n",
       " 5"
      ]
     },
     "execution_count": 76,
     "metadata": {},
     "output_type": "execute_result"
    }
   ],
   "source": [
    "function binomial_rv(n,p)\n",
    "  k=0\n",
    "  for i=1:n\n",
    "    p<=rand() && (k+=1)\n",
    "  end\n",
    "  k\n",
    "end\n",
    "\n",
    "#check\n",
    "[binomial_rv(10, 0.5) for i=1:5]"
   ]
  },
  {
   "cell_type": "markdown",
   "metadata": {},
   "source": [
    "#### Q4. モンテカルロによる円周率の計算\n",
    "πを乱数を用いて近似せよ.\n",
    "\n",
    "**Hint: モンテカルロ法**\n",
    "[-1, 1]×[-1, 1]の四角形に内包される円があった時, *円の面積はπ*($πr^2$より), *四角形の面積は4*.  \n",
    "そのため, 乱数を用いて[-1,1]×[-1,1]の部分に一様な乱数で点を打った時, *円周の中に打たれる確率はπ/4*($x^2+y^2$≦1より).  \n",
    "これを用いてπの大体の値を求めよ."
   ]
  },
  {
   "cell_type": "code",
   "execution_count": 140,
   "metadata": {},
   "outputs": [
    {
     "name": "stderr",
     "output_type": "stream",
     "text": [
      "WARNING: Method definition montecarlo(Any) in module Main at In[138]:2 overwritten at In[140]:2.\n"
     ]
    },
    {
     "data": {
      "text/plain": [
       "3.1420824"
      ]
     },
     "execution_count": 140,
     "metadata": {},
     "output_type": "execute_result"
    }
   ],
   "source": [
    "function montecarlo(n)\n",
    "  c = 0\n",
    "  for _=1:n\n",
    "    x, y = 2rand(2)-1\n",
    "    sqrt(x^2+y^2)<=1 && (c+=1)\n",
    "  end\n",
    "  return 4c/n\n",
    "end\n",
    "\n",
    "montecarlo(10000000)"
   ]
  },
  {
   "cell_type": "markdown",
   "metadata": {},
   "source": [
    "#### Q5. 時系列生成問題\n",
    "AR1時系列は, $x_{t+1} = \\alpha x_i + \\epsilon_{t+1}$ では定義されたとする.  \n",
    "この時それぞれ, $x_0$=0, t=0...T, ソケット$\\epsilon_{t}$は独立同分布である(N(0,1)はrandn()によって与えられるとする).  \n",
    "  \n",
    "T=200の時,\n",
    "\n",
    "- α=0\n",
    "- α=0.5\n",
    "- α=0.9\n",
    "\n",
    "の場合のそれぞれのパラメータの時間変化をPlot.jlを用いて示せ.  \n",
    "また, αの値を表す線にはplot関数にlabelオプションをつけ, ラベルせよ."
   ]
  },
  {
   "cell_type": "code",
   "execution_count": 1,
   "metadata": {},
   "outputs": [
    {
     "data": {
      "text/plain": [
       "_ar (generic function with 1 method)"
      ]
     },
     "execution_count": 1,
     "metadata": {},
     "output_type": "execute_result"
    }
   ],
   "source": [
    "using Plots\n",
    "\n",
    "function ar(T, alpha)\n",
    "  x=zeros(T+1)\n",
    "  x[1] = 0.0\n",
    "  for t=1:T\n",
    "    x[t+1] = alpha * x[t] + randn()\n",
    "  end\n",
    "  x\n",
    "end"
   ]
  },
  {
   "cell_type": "code",
   "execution_count": 17,
   "metadata": {},
   "outputs": [
    {
     "data": {
      "text/html": [
       "<?xml version=\"1.0\" encoding=\"utf-8\"?>\n",
       "<svg xmlns=\"http://www.w3.org/2000/svg\" xmlns:xlink=\"http://www.w3.org/1999/xlink\" width=\"600\" height=\"400\" viewBox=\"0 0 600 400\">\n",
       "<defs>\n",
       "  <clipPath id=\"clip9500\">\n",
       "    <rect x=\"0\" y=\"0\" width=\"600\" height=\"400\"/>\n",
       "  </clipPath>\n",
       "</defs>\n",
       "<polygon clip-path=\"url(#clip9500)\" points=\"\n",
       "0,400 600,400 600,0 0,0 \n",
       "  \" fill=\"#ffffff\" fill-opacity=\"1\"/>\n",
       "<defs>\n",
       "  <clipPath id=\"clip9501\">\n",
       "    <rect x=\"120\" y=\"0\" width=\"421\" height=\"400\"/>\n",
       "  </clipPath>\n",
       "</defs>\n",
       "<polygon clip-path=\"url(#clip9500)\" points=\"\n",
       "39.3701,368.504 592.126,368.504 592.126,7.87402 39.3701,7.87402 \n",
       "  \" fill=\"#ffffff\" fill-opacity=\"1\"/>\n",
       "<defs>\n",
       "  <clipPath id=\"clip9502\">\n",
       "    <rect x=\"39\" y=\"7\" width=\"554\" height=\"362\"/>\n",
       "  </clipPath>\n",
       "</defs>\n",
       "<polyline clip-path=\"url(#clip9502)\" style=\"stroke:#000000; stroke-width:1; stroke-opacity:0.5; fill:none\" stroke-dasharray=\"1, 2\" points=\"\n",
       "  119.52,363.094 119.52,13.2835 \n",
       "  \"/>\n",
       "<polyline clip-path=\"url(#clip9502)\" style=\"stroke:#000000; stroke-width:1; stroke-opacity:0.5; fill:none\" stroke-dasharray=\"1, 2\" points=\"\n",
       "  202.433,363.094 202.433,13.2835 \n",
       "  \"/>\n",
       "<polyline clip-path=\"url(#clip9502)\" style=\"stroke:#000000; stroke-width:1; stroke-opacity:0.5; fill:none\" stroke-dasharray=\"1, 2\" points=\"\n",
       "  285.346,363.094 285.346,13.2835 \n",
       "  \"/>\n",
       "<polyline clip-path=\"url(#clip9502)\" style=\"stroke:#000000; stroke-width:1; stroke-opacity:0.5; fill:none\" stroke-dasharray=\"1, 2\" points=\"\n",
       "  368.26,363.094 368.26,13.2835 \n",
       "  \"/>\n",
       "<polyline clip-path=\"url(#clip9502)\" style=\"stroke:#000000; stroke-width:1; stroke-opacity:0.5; fill:none\" stroke-dasharray=\"1, 2\" points=\"\n",
       "  451.173,363.094 451.173,13.2835 \n",
       "  \"/>\n",
       "<polyline clip-path=\"url(#clip9502)\" style=\"stroke:#000000; stroke-width:1; stroke-opacity:0.5; fill:none\" stroke-dasharray=\"1, 2\" points=\"\n",
       "  534.087,363.094 534.087,13.2835 \n",
       "  \"/>\n",
       "<polyline clip-path=\"url(#clip9502)\" style=\"stroke:#000000; stroke-width:1; stroke-opacity:0.5; fill:none\" stroke-dasharray=\"1, 2\" points=\"\n",
       "  47.6614,299.497 583.835,299.497 \n",
       "  \"/>\n",
       "<polyline clip-path=\"url(#clip9502)\" style=\"stroke:#000000; stroke-width:1; stroke-opacity:0.5; fill:none\" stroke-dasharray=\"1, 2\" points=\"\n",
       "  47.6614,227.107 583.835,227.107 \n",
       "  \"/>\n",
       "<polyline clip-path=\"url(#clip9502)\" style=\"stroke:#000000; stroke-width:1; stroke-opacity:0.5; fill:none\" stroke-dasharray=\"1, 2\" points=\"\n",
       "  47.6614,154.717 583.835,154.717 \n",
       "  \"/>\n",
       "<polyline clip-path=\"url(#clip9502)\" style=\"stroke:#000000; stroke-width:1; stroke-opacity:0.5; fill:none\" stroke-dasharray=\"1, 2\" points=\"\n",
       "  47.6614,82.3272 583.835,82.3272 \n",
       "  \"/>\n",
       "<polyline clip-path=\"url(#clip9502)\" style=\"stroke:#000000; stroke-width:1; stroke-opacity:0.5; fill:none\" stroke-dasharray=\"1, 2\" points=\"\n",
       "  47.6614,9.93719 583.835,9.93719 \n",
       "  \"/>\n",
       "<polyline clip-path=\"url(#clip9500)\" style=\"stroke:#000000; stroke-width:1; stroke-opacity:1; fill:none\" points=\"\n",
       "  39.3701,368.504 592.126,368.504 \n",
       "  \"/>\n",
       "<polyline clip-path=\"url(#clip9500)\" style=\"stroke:#000000; stroke-width:1; stroke-opacity:1; fill:none\" points=\"\n",
       "  119.52,368.504 119.52,363.094 \n",
       "  \"/>\n",
       "<polyline clip-path=\"url(#clip9500)\" style=\"stroke:#000000; stroke-width:1; stroke-opacity:1; fill:none\" points=\"\n",
       "  202.433,368.504 202.433,363.094 \n",
       "  \"/>\n",
       "<polyline clip-path=\"url(#clip9500)\" style=\"stroke:#000000; stroke-width:1; stroke-opacity:1; fill:none\" points=\"\n",
       "  285.346,368.504 285.346,363.094 \n",
       "  \"/>\n",
       "<polyline clip-path=\"url(#clip9500)\" style=\"stroke:#000000; stroke-width:1; stroke-opacity:1; fill:none\" points=\"\n",
       "  368.26,368.504 368.26,363.094 \n",
       "  \"/>\n",
       "<polyline clip-path=\"url(#clip9500)\" style=\"stroke:#000000; stroke-width:1; stroke-opacity:1; fill:none\" points=\"\n",
       "  451.173,368.504 451.173,363.094 \n",
       "  \"/>\n",
       "<polyline clip-path=\"url(#clip9500)\" style=\"stroke:#000000; stroke-width:1; stroke-opacity:1; fill:none\" points=\"\n",
       "  534.087,368.504 534.087,363.094 \n",
       "  \"/>\n",
       "<polyline clip-path=\"url(#clip9500)\" style=\"stroke:#000000; stroke-width:1; stroke-opacity:1; fill:none\" points=\"\n",
       "  39.3701,368.504 39.3701,7.87402 \n",
       "  \"/>\n",
       "<polyline clip-path=\"url(#clip9500)\" style=\"stroke:#000000; stroke-width:1; stroke-opacity:1; fill:none\" points=\"\n",
       "  39.3701,299.497 47.6614,299.497 \n",
       "  \"/>\n",
       "<polyline clip-path=\"url(#clip9500)\" style=\"stroke:#000000; stroke-width:1; stroke-opacity:1; fill:none\" points=\"\n",
       "  39.3701,227.107 47.6614,227.107 \n",
       "  \"/>\n",
       "<polyline clip-path=\"url(#clip9500)\" style=\"stroke:#000000; stroke-width:1; stroke-opacity:1; fill:none\" points=\"\n",
       "  39.3701,154.717 47.6614,154.717 \n",
       "  \"/>\n",
       "<polyline clip-path=\"url(#clip9500)\" style=\"stroke:#000000; stroke-width:1; stroke-opacity:1; fill:none\" points=\"\n",
       "  39.3701,82.3272 47.6614,82.3272 \n",
       "  \"/>\n",
       "<polyline clip-path=\"url(#clip9500)\" style=\"stroke:#000000; stroke-width:1; stroke-opacity:1; fill:none\" points=\"\n",
       "  39.3701,9.93719 47.6614,9.93719 \n",
       "  \"/>\n",
       "<g clip-path=\"url(#clip9500)\">\n",
       "<text style=\"fill:#000000; fill-opacity:1; font-family:Arial,Helvetica Neue,Helvetica,sans-serif; font-size:12; text-anchor:middle;\" transform=\"rotate(0, 119.52, 382.304)\" x=\"119.52\" y=\"382.304\">30</text>\n",
       "</g>\n",
       "<g clip-path=\"url(#clip9500)\">\n",
       "<text style=\"fill:#000000; fill-opacity:1; font-family:Arial,Helvetica Neue,Helvetica,sans-serif; font-size:12; text-anchor:middle;\" transform=\"rotate(0, 202.433, 382.304)\" x=\"202.433\" y=\"382.304\">60</text>\n",
       "</g>\n",
       "<g clip-path=\"url(#clip9500)\">\n",
       "<text style=\"fill:#000000; fill-opacity:1; font-family:Arial,Helvetica Neue,Helvetica,sans-serif; font-size:12; text-anchor:middle;\" transform=\"rotate(0, 285.346, 382.304)\" x=\"285.346\" y=\"382.304\">90</text>\n",
       "</g>\n",
       "<g clip-path=\"url(#clip9500)\">\n",
       "<text style=\"fill:#000000; fill-opacity:1; font-family:Arial,Helvetica Neue,Helvetica,sans-serif; font-size:12; text-anchor:middle;\" transform=\"rotate(0, 368.26, 382.304)\" x=\"368.26\" y=\"382.304\">120</text>\n",
       "</g>\n",
       "<g clip-path=\"url(#clip9500)\">\n",
       "<text style=\"fill:#000000; fill-opacity:1; font-family:Arial,Helvetica Neue,Helvetica,sans-serif; font-size:12; text-anchor:middle;\" transform=\"rotate(0, 451.173, 382.304)\" x=\"451.173\" y=\"382.304\">150</text>\n",
       "</g>\n",
       "<g clip-path=\"url(#clip9500)\">\n",
       "<text style=\"fill:#000000; fill-opacity:1; font-family:Arial,Helvetica Neue,Helvetica,sans-serif; font-size:12; text-anchor:middle;\" transform=\"rotate(0, 534.087, 382.304)\" x=\"534.087\" y=\"382.304\">180</text>\n",
       "</g>\n",
       "<g clip-path=\"url(#clip9500)\">\n",
       "<text style=\"fill:#000000; fill-opacity:1; font-family:Arial,Helvetica Neue,Helvetica,sans-serif; font-size:12; text-anchor:end;\" transform=\"rotate(0, 33.3701, 303.997)\" x=\"33.3701\" y=\"303.997\">-2.5</text>\n",
       "</g>\n",
       "<g clip-path=\"url(#clip9500)\">\n",
       "<text style=\"fill:#000000; fill-opacity:1; font-family:Arial,Helvetica Neue,Helvetica,sans-serif; font-size:12; text-anchor:end;\" transform=\"rotate(0, 33.3701, 231.607)\" x=\"33.3701\" y=\"231.607\">0.0</text>\n",
       "</g>\n",
       "<g clip-path=\"url(#clip9500)\">\n",
       "<text style=\"fill:#000000; fill-opacity:1; font-family:Arial,Helvetica Neue,Helvetica,sans-serif; font-size:12; text-anchor:end;\" transform=\"rotate(0, 33.3701, 159.217)\" x=\"33.3701\" y=\"159.217\">2.5</text>\n",
       "</g>\n",
       "<g clip-path=\"url(#clip9500)\">\n",
       "<text style=\"fill:#000000; fill-opacity:1; font-family:Arial,Helvetica Neue,Helvetica,sans-serif; font-size:12; text-anchor:end;\" transform=\"rotate(0, 33.3701, 86.8272)\" x=\"33.3701\" y=\"86.8272\">5.0</text>\n",
       "</g>\n",
       "<g clip-path=\"url(#clip9500)\">\n",
       "<text style=\"fill:#000000; fill-opacity:1; font-family:Arial,Helvetica Neue,Helvetica,sans-serif; font-size:12; text-anchor:end;\" transform=\"rotate(0, 33.3701, 14.4372)\" x=\"33.3701\" y=\"14.4372\">7.5</text>\n",
       "</g>\n",
       "<polyline clip-path=\"url(#clip9502)\" style=\"stroke:#009af9; stroke-width:3; stroke-opacity:1; fill:none\" points=\"\n",
       "  39.3701,227.107 42.1339,203.658 44.8976,252.169 47.6614,259.035 50.4252,209.051 53.189,225.608 55.9528,215.949 58.7165,255.024 61.4803,210.509 64.2441,235.514 \n",
       "  67.0079,188.172 69.7717,229.091 72.5354,250.748 75.2992,187.682 78.063,212.799 80.8268,214.257 83.5906,212.542 86.3543,240.91 89.1181,205.291 91.8819,213.928 \n",
       "  94.6457,230.622 97.4094,219.372 100.173,218.147 102.937,195.316 105.701,188.565 108.465,220.048 111.228,174.255 113.992,255.97 116.756,184.583 119.52,192.848 \n",
       "  122.283,229.913 125.047,251.836 127.811,238.389 130.575,210.141 133.339,228.276 136.102,257.184 138.866,271.052 141.63,208.153 144.394,248.453 147.157,230.441 \n",
       "  149.921,255.768 152.685,251.627 155.449,212.002 158.213,262.47 160.976,167.544 163.74,254.889 166.504,198.42 169.268,219.105 172.031,226.141 174.795,171.211 \n",
       "  177.559,208.256 180.323,184.016 183.087,226.423 185.85,235.742 188.614,224.583 191.378,268.619 194.142,181.635 196.906,208.818 199.669,240.846 202.433,202.288 \n",
       "  205.197,194.972 207.961,222.019 210.724,201.863 213.488,241.18 216.252,202.074 219.016,184.336 221.78,218.679 224.543,221.52 227.307,192.956 230.071,222.127 \n",
       "  232.835,230.164 235.598,200.3 238.362,213.175 241.126,288.797 243.89,230.58 246.654,223.681 249.417,219.468 252.181,203.42 254.945,226.771 257.709,165.751 \n",
       "  260.472,219.123 263.236,270.067 266,206.134 268.764,219.75 271.528,256.948 274.291,200.672 277.055,199.797 279.819,211.804 282.583,240.472 285.346,224.839 \n",
       "  288.11,251.008 290.874,228.553 293.638,179.859 296.402,224.274 299.165,186.053 301.929,230.407 304.693,239.452 307.457,216.141 310.22,204.638 312.984,244.47 \n",
       "  315.748,239.62 318.512,255.831 321.276,236.12 324.039,221.9 326.803,204.769 329.567,261.52 332.331,189.065 335.094,179.565 337.858,221.208 340.622,189.093 \n",
       "  343.386,218.241 346.15,242.724 348.913,221.87 351.677,209.554 354.441,250.321 357.205,225.326 359.969,150.225 362.732,233.995 365.496,219.919 368.26,254.571 \n",
       "  371.024,231.25 373.787,235.605 376.551,219.077 379.315,211.245 382.079,217.293 384.843,210.569 387.606,234.359 390.37,161.351 393.134,201.33 395.898,254.526 \n",
       "  398.661,249.647 401.425,205.023 404.189,235.818 406.953,173.312 409.717,214.588 412.48,182.996 415.244,230.921 418.008,228.657 420.772,239.12 423.535,235.829 \n",
       "  426.299,210.028 429.063,196.52 431.827,237.498 434.591,218.568 437.354,286.854 440.118,240.698 442.882,200.45 445.646,227.162 448.409,219.791 451.173,270.271 \n",
       "  453.937,206.321 456.701,232.921 459.465,264.9 462.228,264.81 464.992,208.705 467.756,208.364 470.52,216.459 473.283,225.936 476.047,292.68 478.811,176.207 \n",
       "  481.575,240.537 484.339,234.5 487.102,224.343 489.866,242.487 492.63,216.354 495.394,245.782 498.157,223.232 500.921,220.463 503.685,198.369 506.449,218.002 \n",
       "  509.213,200.577 511.976,192.757 514.74,218.418 517.504,221.515 520.268,245.541 523.031,243.963 525.795,204.338 528.559,246.45 531.323,231.366 534.087,232.972 \n",
       "  536.85,246.799 539.614,242.272 542.378,268.574 545.142,251.507 547.906,242.237 550.669,191.458 553.433,234.192 556.197,213.895 558.961,209.043 561.724,232.268 \n",
       "  564.488,235.354 567.252,243.411 570.016,260.44 572.78,184.667 575.543,241.357 578.307,238.125 581.071,123.312 583.835,228.01 586.598,184.067 589.362,204.936 \n",
       "  592.126,219.116 \n",
       "  \"/>\n",
       "<polyline clip-path=\"url(#clip9502)\" style=\"stroke:#e26f46; stroke-width:3; stroke-opacity:1; fill:none\" points=\"\n",
       "  39.3701,227.107 42.1339,228.557 44.8976,247.743 47.6614,244.844 50.4252,230.1 53.189,224.11 55.9528,245.855 58.7165,196.714 61.4803,213.775 64.2441,223.202 \n",
       "  67.0079,230.787 69.7717,224.952 72.5354,259.231 75.2992,234.019 78.063,212.715 80.8268,224.318 83.5906,199.014 86.3543,179.354 89.1181,250.482 91.8819,230.186 \n",
       "  94.6457,272.731 97.4094,223.112 100.173,232.033 102.937,231.307 105.701,237.774 108.465,220.418 111.228,200.055 113.992,145.199 116.756,230.616 119.52,157.196 \n",
       "  122.283,218.44 125.047,177.658 127.811,232.229 130.575,256.773 133.339,315.673 136.102,207.668 138.866,242.732 141.63,279.64 144.394,215.675 147.157,154.945 \n",
       "  149.921,181.013 152.685,239.083 155.449,219.761 158.213,207.13 160.976,198.993 163.74,161.305 166.504,165.992 169.268,229.749 172.031,279.55 174.795,272.117 \n",
       "  177.559,269.701 180.323,259.464 183.087,232.424 185.85,222.561 188.614,226.752 191.378,234.443 194.142,194.436 196.906,203.673 199.669,169.256 202.433,172.187 \n",
       "  205.197,162.022 207.961,229.186 210.724,261.704 213.488,274.783 216.252,247.307 219.016,274.828 221.78,249.224 224.543,207.546 227.307,210.716 230.071,246.298 \n",
       "  232.835,240.196 235.598,211.487 238.362,226.018 241.126,259.785 243.89,204.225 246.654,195.755 249.417,244.793 252.181,222.109 254.945,220.167 257.709,207.611 \n",
       "  260.472,213.608 263.236,272.771 266,260.152 268.764,195.782 271.528,195.321 274.291,211.157 277.055,249.745 279.819,244.715 282.583,209.757 285.346,217.952 \n",
       "  288.11,252.248 290.874,270.413 293.638,278.327 296.402,272.95 299.165,238.75 301.929,236.271 304.693,205.52 307.457,218.616 310.22,212.714 312.984,245.954 \n",
       "  315.748,273.588 318.512,261.898 321.276,220.83 324.039,196.366 326.803,212.423 329.567,199.013 332.331,128.25 335.094,206.077 337.858,221.081 340.622,264.159 \n",
       "  343.386,241.592 346.15,162.233 348.913,227.583 351.677,217.834 354.441,212.649 357.205,234.161 359.969,215.216 362.732,233.746 365.496,251.091 368.26,248.308 \n",
       "  371.024,243.416 373.787,240.147 376.551,209.078 379.315,182.556 382.079,220.545 384.843,205.499 387.606,232.628 390.37,230.432 393.134,216.646 395.898,185.48 \n",
       "  398.661,243.444 401.425,262.827 404.189,269.846 406.953,227.368 409.717,260.263 412.48,313.13 415.244,296.341 418.008,252.539 420.772,283.793 423.535,232.425 \n",
       "  426.299,203.94 429.063,187.422 431.827,202.351 434.591,177.014 437.354,146.818 440.118,149.289 442.882,172.689 445.646,173.014 448.409,221.171 451.173,226.606 \n",
       "  453.937,213.138 456.701,255.976 459.465,280.926 462.228,252.764 464.992,280.921 467.756,205.471 470.52,230.022 473.283,276.987 476.047,323.06 478.811,273.975 \n",
       "  481.575,270.309 484.339,287.049 487.102,299.794 489.866,290.962 492.63,206.306 495.394,197.568 498.157,167.146 500.921,190.845 503.685,217.698 506.449,196.212 \n",
       "  509.213,212.834 511.976,226.75 514.74,199.805 517.504,198.656 520.268,210.088 523.031,196.442 525.795,178.526 528.559,174.596 531.323,250.13 534.087,199.12 \n",
       "  536.85,251.661 539.614,256.289 542.378,182.616 545.142,209.166 547.906,260.388 550.669,185.529 553.433,242.579 556.197,241.329 558.961,250.372 561.724,252.457 \n",
       "  564.488,267.473 567.252,252.565 570.016,205.501 572.78,229.794 575.543,197.121 578.307,212.253 581.071,213.149 583.835,210.869 586.598,182.966 589.362,176.327 \n",
       "  592.126,195.885 \n",
       "  \"/>\n",
       "<polyline clip-path=\"url(#clip9502)\" style=\"stroke:#3da44d; stroke-width:3; stroke-opacity:1; fill:none\" points=\"\n",
       "  39.3701,227.107 42.1339,222.25 44.8976,249.808 47.6614,257.246 50.4252,282.778 53.189,336.877 55.9528,322.243 58.7165,296.849 61.4803,288.09 64.2441,261.67 \n",
       "  67.0079,249.966 69.7717,267.148 72.5354,282.356 75.2992,269.221 78.063,304.818 80.8268,253.352 83.5906,237.362 86.3543,221.755 89.1181,257.145 91.8819,204.738 \n",
       "  94.6457,238.579 97.4094,232.993 100.173,220.457 102.937,200.521 105.701,213.343 108.465,238.665 111.228,236.943 113.992,256.669 116.756,212.079 119.52,221.196 \n",
       "  122.283,216.995 125.047,238.013 127.811,216.546 130.575,261.114 133.339,208.772 136.102,241.204 138.866,271.084 141.63,286.721 144.394,286.012 147.157,247.453 \n",
       "  149.921,229.043 152.685,217.67 155.449,150.04 158.213,177.022 160.976,138.811 163.74,139.758 166.504,149.857 169.268,150.746 172.031,170.244 174.795,178.76 \n",
       "  177.559,179.015 180.323,202.82 183.087,238.998 185.85,218.207 188.614,205.19 191.378,183.907 194.142,181.189 196.906,194.365 199.669,185.687 202.433,158.467 \n",
       "  205.197,104.597 207.961,82.8222 210.724,95.8527 213.488,81.0551 216.252,77.4195 219.016,82.7766 221.78,85.2917 224.543,7.87402 227.307,27.6458 230.071,17.033 \n",
       "  232.835,22.7493 235.598,114.855 238.362,134.78 241.126,106.698 243.89,159.533 246.654,244.714 249.417,229.101 252.181,169.667 254.945,162.488 257.709,192.266 \n",
       "  260.472,185.338 263.236,197.783 266,245.647 268.764,220.26 271.528,260.623 274.291,235.657 277.055,251.296 279.819,216.427 282.583,167.71 285.346,208.183 \n",
       "  288.11,168 290.874,207.836 293.638,190.416 296.402,137.643 299.165,202.296 301.929,191.948 304.693,170.592 307.457,142.648 310.22,161.069 312.984,143.739 \n",
       "  315.748,98.9461 318.512,117.699 321.276,189.407 324.039,213.171 326.803,187.95 329.567,223.957 332.331,250.485 335.094,257.291 337.858,216.789 340.622,219.743 \n",
       "  343.386,238.597 346.15,289.162 348.913,274.317 351.677,250.503 354.441,250.333 357.205,216.1 359.969,229.757 362.732,273.233 365.496,279.28 368.26,242.418 \n",
       "  371.024,258.426 373.787,219.818 376.551,237.441 379.315,277.493 382.079,290.359 384.843,276.369 387.606,285.378 390.37,298.645 393.134,294.778 395.898,333.979 \n",
       "  398.661,299.492 401.425,276.463 404.189,315.67 406.953,271.78 409.717,275.507 412.48,236.177 415.244,246.67 418.008,189.258 420.772,199.425 423.535,182.151 \n",
       "  426.299,145.049 429.063,177.415 431.827,136.492 434.591,158.312 437.354,173.772 440.118,130.233 442.882,223.029 445.646,234.126 448.409,211.217 451.173,206.562 \n",
       "  453.937,230.448 456.701,211.15 459.465,224.046 462.228,244.009 464.992,225.724 467.756,232.838 470.52,303.511 473.283,253.995 476.047,260.608 478.811,328.42 \n",
       "  481.575,286.12 484.339,250.806 487.102,261.463 489.866,316.352 492.63,315.264 495.394,311.151 498.157,309.454 500.921,267.908 503.685,270.141 506.449,263.257 \n",
       "  509.213,269.08 511.976,278.829 514.74,303.167 517.504,283.436 520.268,269.083 523.031,277.541 525.795,314.202 528.559,326.553 531.323,309.85 534.087,319.426 \n",
       "  536.85,278.589 539.614,224.135 542.378,269.144 545.142,276.983 547.906,265.089 550.669,302.373 553.433,334.34 556.197,340.69 558.961,311.11 561.724,353.173 \n",
       "  564.488,362.136 567.252,368.504 570.016,316.33 572.78,286.12 575.543,293.309 578.307,299.441 581.071,308.163 583.835,304.836 586.598,264.045 589.362,303.216 \n",
       "  592.126,273.687 \n",
       "  \"/>\n",
       "<polygon clip-path=\"url(#clip9500)\" points=\"\n",
       "483.681,89.234 574.126,89.234 574.126,28.754 483.681,28.754 \n",
       "  \" fill=\"#ffffff\" fill-opacity=\"1\"/>\n",
       "<polyline clip-path=\"url(#clip9500)\" style=\"stroke:#000000; stroke-width:1; stroke-opacity:1; fill:none\" points=\"\n",
       "  483.681,89.234 574.126,89.234 574.126,28.754 483.681,28.754 483.681,89.234 \n",
       "  \"/>\n",
       "<polyline clip-path=\"url(#clip9500)\" style=\"stroke:#009af9; stroke-width:3; stroke-opacity:1; fill:none\" points=\"\n",
       "  489.681,43.874 525.681,43.874 \n",
       "  \"/>\n",
       "<g clip-path=\"url(#clip9500)\">\n",
       "<text style=\"fill:#000000; fill-opacity:1; font-family:Arial,Helvetica Neue,Helvetica,sans-serif; font-size:12; text-anchor:start;\" transform=\"rotate(0, 531.681, 48.374)\" x=\"531.681\" y=\"48.374\">a=0</text>\n",
       "</g>\n",
       "<polyline clip-path=\"url(#clip9500)\" style=\"stroke:#e26f46; stroke-width:3; stroke-opacity:1; fill:none\" points=\"\n",
       "  489.681,58.994 525.681,58.994 \n",
       "  \"/>\n",
       "<g clip-path=\"url(#clip9500)\">\n",
       "<text style=\"fill:#000000; fill-opacity:1; font-family:Arial,Helvetica Neue,Helvetica,sans-serif; font-size:12; text-anchor:start;\" transform=\"rotate(0, 531.681, 63.494)\" x=\"531.681\" y=\"63.494\">a=0.5</text>\n",
       "</g>\n",
       "<polyline clip-path=\"url(#clip9500)\" style=\"stroke:#3da44d; stroke-width:3; stroke-opacity:1; fill:none\" points=\"\n",
       "  489.681,74.114 525.681,74.114 \n",
       "  \"/>\n",
       "<g clip-path=\"url(#clip9500)\">\n",
       "<text style=\"fill:#000000; fill-opacity:1; font-family:Arial,Helvetica Neue,Helvetica,sans-serif; font-size:12; text-anchor:start;\" transform=\"rotate(0, 531.681, 78.614)\" x=\"531.681\" y=\"78.614\">a=0.9</text>\n",
       "</g>\n",
       "</svg>\n"
      ]
     },
     "execution_count": 17,
     "metadata": {},
     "output_type": "execute_result"
    }
   ],
   "source": [
    "result = [ar(i) for i in [0.0,0.5,0.9]]\n",
    "\n",
    "gr() # jupyer上でグラフを出力するには必要.\n",
    "plot(result, label=[\"a=0\", \"a=0.5\", \"a=0.9\"], lw=3)"
   ]
  },
  {
   "cell_type": "code",
   "execution_count": null,
   "metadata": {},
   "outputs": [],
   "source": []
  },
  {
   "cell_type": "code",
   "execution_count": null,
   "metadata": {},
   "outputs": [],
   "source": []
  }
 ],
 "metadata": {
  "kernelspec": {
   "display_name": "Julia 0.5.2",
   "language": "julia",
   "name": "julia-0.5"
  },
  "language_info": {
   "file_extension": ".jl",
   "mimetype": "application/julia",
   "name": "julia",
   "version": "0.5.2"
  }
 },
 "nbformat": 4,
 "nbformat_minor": 2
}
