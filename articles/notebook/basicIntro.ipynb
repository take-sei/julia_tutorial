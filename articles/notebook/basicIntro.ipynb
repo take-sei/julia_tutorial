{
 "cells": [
  {
   "cell_type": "markdown",
   "metadata": {},
   "source": [
    "# Basic Introduction to Julia\n",
    "とりあえずJuliaに触ってみよう.\n",
    "基本的なスクリプト言語と書き方は同じです.\n",
    "なんて言ったって, use like python and run like c, ですし.\n",
    "\n",
    "## see also here\n",
    " - https://docs.julialang.org/en/latest/\n",
    " - https://gitter.im/JuliaLang/julia\n",
    "Generally, discussued Juylia0.6.2"
   ]
  },
  {
   "cell_type": "markdown",
   "metadata": {},
   "source": [
    "## 1. 開発用ツール\n",
    "Juliaにはたくさんのdocumentation toolがあるけどたくさんありすぎて紹介しきれないので, そのうちのいくつかを紹介.\n",
    "\n",
    "Juliaのメソッドも名前と引数のセットで認識するため, 同じ名前のメソッドでも引数に応じた複数の処理を一つの名前のメソッドに定義できます.\n",
    "\n",
    "- methods()\n",
    "- @which\n",
    "- fieldnames()\n",
    "- typeof()\n",
    "-  @code_lowered\n",
    "- ?"
   ]
  },
  {
   "cell_type": "code",
   "execution_count": 1,
   "metadata": {},
   "outputs": [
    {
     "data": {
      "text/html": [
       "44 methods for generic function <b>copy</b>:<ul><li> copy(e::<b>Expr</b>) at <a href=\"https://github.com/JuliaLang/julia/tree/d386e40c17d43b79fc89d3e579fc04547241787c/base/expr.jl#L35\" target=\"_blank\">expr.jl:35</a></li> <li> copy(s1::<b>IntSet</b>) at <a href=\"https://github.com/JuliaLang/julia/tree/d386e40c17d43b79fc89d3e579fc04547241787c/base/intset.jl#L11\" target=\"_blank\">intset.jl:11</a></li> <li> copy(o::<b>ObjectIdDict</b>) at <a href=\"https://github.com/JuliaLang/julia/tree/d386e40c17d43b79fc89d3e579fc04547241787c/base/associative.jl#L475\" target=\"_blank\">associative.jl:475</a></li> <li> copy(src::<b>Base.dSFMT.DSFMT_state</b>) at <a href=\"https://github.com/JuliaLang/julia/tree/d386e40c17d43b79fc89d3e579fc04547241787c/base/dSFMT.jl#L32\" target=\"_blank\">dSFMT.jl:32</a></li> <li> copy(src::<b>MersenneTwister</b>) at <a href=\"https://github.com/JuliaLang/julia/tree/d386e40c17d43b79fc89d3e579fc04547241787c/base/random.jl#L112\" target=\"_blank\">random.jl:112</a></li> <li> copy(vset::<b>Base.Pkg.Types.VersionSet</b>) at <a href=\"https://github.com/JuliaLang/julia/tree/d386e40c17d43b79fc89d3e579fc04547241787c/base/pkg/types.jl#L66\" target=\"_blank\">pkg/types.jl:66</a></li> <li> copy(a::<b>Base.Pkg.Types.Available</b>) at <a href=\"https://github.com/JuliaLang/julia/tree/d386e40c17d43b79fc89d3e579fc04547241787c/base/pkg/types.jl#L148\" target=\"_blank\">pkg/types.jl:148</a></li> <li> copy(a::<b>Base.Pkg.Resolve.VersionWeights.VWPreBuildItem</b>) at <a href=\"https://github.com/JuliaLang/julia/tree/d386e40c17d43b79fc89d3e579fc04547241787c/base/pkg/resolve/versionweight.jl#L101\" target=\"_blank\">pkg/resolve/versionweight.jl:101</a></li> <li> copy(a::<b>Base.Pkg.Resolve.VersionWeights.VWPreBuild</b>) at <a href=\"https://github.com/JuliaLang/julia/tree/d386e40c17d43b79fc89d3e579fc04547241787c/base/pkg/resolve/versionweight.jl#L159\" target=\"_blank\">pkg/resolve/versionweight.jl:159</a></li> <li> copy(a::<b>Base.Pkg.Resolve.VersionWeights.VersionWeight</b>) at <a href=\"https://github.com/JuliaLang/julia/tree/d386e40c17d43b79fc89d3e579fc04547241787c/base/pkg/resolve/versionweight.jl#L219\" target=\"_blank\">pkg/resolve/versionweight.jl:219</a></li> <li> copy(a::<b>Base.Pkg.Resolve.MaxSum.FieldValues.FieldValue</b>) at <a href=\"https://github.com/JuliaLang/julia/tree/d386e40c17d43b79fc89d3e579fc04547241787c/base/pkg/resolve/fieldvalue.jl#L68\" target=\"_blank\">pkg/resolve/fieldvalue.jl:68</a></li> <li> copy(r::<b>Range</b>) at <a href=\"https://github.com/JuliaLang/julia/tree/d386e40c17d43b79fc89d3e579fc04547241787c/base/range.jl#L430\" target=\"_blank\">range.jl:430</a></li> <li> copy(x::<b>Number</b>) at <a href=\"https://github.com/JuliaLang/julia/tree/d386e40c17d43b79fc89d3e579fc04547241787c/base/number.jl#L48\" target=\"_blank\">number.jl:48</a></li> <li> copy<i>{T<:Array}</i>(a::<b>T</b>) at <a href=\"https://github.com/JuliaLang/julia/tree/d386e40c17d43b79fc89d3e579fc04547241787c/base/array.jl#L139\" target=\"_blank\">array.jl:139</a></li> <li> copy(M::<b>SymTridiagonal</b>) at <a href=\"https://github.com/JuliaLang/julia/tree/d386e40c17d43b79fc89d3e579fc04547241787c/base/linalg/tridiag.jl#L105\" target=\"_blank\">linalg/tridiag.jl:105</a></li> <li> copy(M::<b>Tridiagonal</b>) at <a href=\"https://github.com/JuliaLang/julia/tree/d386e40c17d43b79fc89d3e579fc04547241787c/base/linalg/tridiag.jl#L517\" target=\"_blank\">linalg/tridiag.jl:517</a></li> <li> copy(A::<b>LowerTriangular</b>) at <a href=\"https://github.com/JuliaLang/julia/tree/d386e40c17d43b79fc89d3e579fc04547241787c/base/linalg/triangular.jl#L38\" target=\"_blank\">linalg/triangular.jl:38</a></li> <li> copy(A::<b>Base.LinAlg.UnitLowerTriangular</b>) at <a href=\"https://github.com/JuliaLang/julia/tree/d386e40c17d43b79fc89d3e579fc04547241787c/base/linalg/triangular.jl#L38\" target=\"_blank\">linalg/triangular.jl:38</a></li> <li> copy(A::<b>UpperTriangular</b>) at <a href=\"https://github.com/JuliaLang/julia/tree/d386e40c17d43b79fc89d3e579fc04547241787c/base/linalg/triangular.jl#L38\" target=\"_blank\">linalg/triangular.jl:38</a></li> <li> copy(A::<b>Base.LinAlg.UnitUpperTriangular</b>) at <a href=\"https://github.com/JuliaLang/julia/tree/d386e40c17d43b79fc89d3e579fc04547241787c/base/linalg/triangular.jl#L38\" target=\"_blank\">linalg/triangular.jl:38</a></li> <li> copy<i>{T, S}</i>(A::<b>Symmetric{T,S}</b>) at <a href=\"https://github.com/JuliaLang/julia/tree/d386e40c17d43b79fc89d3e579fc04547241787c/base/linalg/symmetric.jl#L160\" target=\"_blank\">linalg/symmetric.jl:160</a></li> <li> copy<i>{T, S}</i>(A::<b>Hermitian{T,S}</b>) at <a href=\"https://github.com/JuliaLang/julia/tree/d386e40c17d43b79fc89d3e579fc04547241787c/base/linalg/symmetric.jl#L161\" target=\"_blank\">linalg/symmetric.jl:161</a></li> <li> copy(M::<b>Bidiagonal</b>) at <a href=\"https://github.com/JuliaLang/julia/tree/d386e40c17d43b79fc89d3e579fc04547241787c/base/linalg/bidiag.jl#L266\" target=\"_blank\">linalg/bidiag.jl:266</a></li> <li> copy(ra::<b>Base.ReshapedArray{#s268,2,#s267,MI} where MI<:Tuple{Vararg{Base.MultiplicativeInverses.SignedMultiplicativeInverse{Int64},N} where N} where #s267<:SparseMatrixCSC where #s268</b>) at <a href=\"https://github.com/JuliaLang/julia/tree/d386e40c17d43b79fc89d3e579fc04547241787c/base/sparse/sparsematrix.jl#L238\" target=\"_blank\">sparse/sparsematrix.jl:238</a></li> <li> copy(S::<b>SparseMatrixCSC</b>) at <a href=\"https://github.com/JuliaLang/julia/tree/d386e40c17d43b79fc89d3e579fc04547241787c/base/sparse/sparsematrix.jl#L253\" target=\"_blank\">sparse/sparsematrix.jl:253</a></li> <li> copy<i>{Tv<:Float64}</i>(A::<b>Base.SparseArrays.CHOLMOD.Sparse{Tv}</b>, stype::<b>Integer</b>, mode::<b>Integer</b>) at <a href=\"https://github.com/JuliaLang/julia/tree/d386e40c17d43b79fc89d3e579fc04547241787c/base/sparse/cholmod.jl#L618\" target=\"_blank\">sparse/cholmod.jl:618</a></li> <li> copy(A::<b>Base.SparseArrays.CHOLMOD.Sparse</b>) at <a href=\"https://github.com/JuliaLang/julia/tree/d386e40c17d43b79fc89d3e579fc04547241787c/base/sparse/cholmod.jl#L1209\" target=\"_blank\">sparse/cholmod.jl:1209</a></li> <li> copy(x::<b>AbstractSparseArray{Tv,Ti,1} where Ti where Tv</b>) at <a href=\"https://github.com/JuliaLang/julia/tree/d386e40c17d43b79fc89d3e579fc04547241787c/base/sparse/sparsevector.jl#L825\" target=\"_blank\">sparse/sparsevector.jl:825</a></li> <li> copy(A::<b>Base.SparseArrays.CHOLMOD.Dense</b>) at <a href=\"https://github.com/JuliaLang/julia/tree/d386e40c17d43b79fc89d3e579fc04547241787c/base/sparse/cholmod.jl#L1208\" target=\"_blank\">sparse/cholmod.jl:1208</a></li> <li> copy(a::<b>AbstractArray</b>) at <a href=\"https://github.com/JuliaLang/julia/tree/d386e40c17d43b79fc89d3e579fc04547241787c/base/abstractarray.jl#L697\" target=\"_blank\">abstractarray.jl:697</a></li> <li> copy(d::<b>Dict</b>) at <a href=\"https://github.com/JuliaLang/julia/tree/d386e40c17d43b79fc89d3e579fc04547241787c/base/dict.jl#L134\" target=\"_blank\">dict.jl:134</a></li> <li> copy(d::<b>WeakKeyDict</b>) at <a href=\"https://github.com/JuliaLang/julia/tree/d386e40c17d43b79fc89d3e579fc04547241787c/base/weakkeydict.jl#L49\" target=\"_blank\">weakkeydict.jl:49</a></li> <li> copy(a::<b>Associative</b>) at <a href=\"https://github.com/JuliaLang/julia/tree/d386e40c17d43b79fc89d3e579fc04547241787c/base/associative.jl#L113\" target=\"_blank\">associative.jl:113</a></li> <li> copy(s::<b>Set</b>) at <a href=\"https://github.com/JuliaLang/julia/tree/d386e40c17d43b79fc89d3e579fc04547241787c/base/set.jl#L41\" target=\"_blank\">set.jl:41</a></li> <li> copy(b::<b>Base.AbstractIOBuffer</b>) at <a href=\"https://github.com/JuliaLang/julia/tree/d386e40c17d43b79fc89d3e579fc04547241787c/base/iobuffer.jl#L81\" target=\"_blank\">iobuffer.jl:81</a></li> <li> copy(A::<b>Base.LinAlg.LQ</b>) at <a href=\"https://github.com/JuliaLang/julia/tree/d386e40c17d43b79fc89d3e579fc04547241787c/base/linalg/lq.jl#L48\" target=\"_blank\">linalg/lq.jl:48</a></li> <li> copy(C::<b>Base.LinAlg.Cholesky</b>) at <a href=\"https://github.com/JuliaLang/julia/tree/d386e40c17d43b79fc89d3e579fc04547241787c/base/linalg/cholesky.jl#L416\" target=\"_blank\">linalg/cholesky.jl:416</a></li> <li> copy(C::<b>Base.LinAlg.CholeskyPivoted</b>) at <a href=\"https://github.com/JuliaLang/julia/tree/d386e40c17d43b79fc89d3e579fc04547241787c/base/linalg/cholesky.jl#L417\" target=\"_blank\">linalg/cholesky.jl:417</a></li> <li> copy(J::<b>UniformScaling</b>) at <a href=\"https://github.com/JuliaLang/julia/tree/d386e40c17d43b79fc89d3e579fc04547241787c/base/linalg/uniformscaling.jl#L41\" target=\"_blank\">linalg/uniformscaling.jl:41</a></li> <li> copy(F::<b>Base.LinAlg.Schur</b>) at <a href=\"https://github.com/JuliaLang/julia/tree/d386e40c17d43b79fc89d3e579fc04547241787c/base/linalg/schur.jl#L288\" target=\"_blank\">linalg/schur.jl:288</a></li> <li> copy(F::<b>Base.LinAlg.GeneralizedSchur</b>) at <a href=\"https://github.com/JuliaLang/julia/tree/d386e40c17d43b79fc89d3e579fc04547241787c/base/linalg/schur.jl#L289\" target=\"_blank\">linalg/schur.jl:289</a></li> <li> copy<i>{T}</i>(a::<b>Base.Pkg.Resolve.VersionWeights.HierarchicalValue{T}</b>) at <a href=\"https://github.com/JuliaLang/julia/tree/d386e40c17d43b79fc89d3e579fc04547241787c/base/pkg/resolve/versionweight.jl#L71\" target=\"_blank\">pkg/resolve/versionweight.jl:71</a></li> <li> copy(A::<b>Base.SparseArrays.CHOLMOD.Factor</b>) at <a href=\"https://github.com/JuliaLang/julia/tree/d386e40c17d43b79fc89d3e579fc04547241787c/base/sparse/cholmod.jl#L1210\" target=\"_blank\">sparse/cholmod.jl:1210</a></li> <li> copy(md::<b>MbedTLS.MD</b>) at <a href=\"https://github.com/JuliaWeb/MbedTLS.jl/tree/1835661be3a08e48b7713d5cf91a7d6b93e6c122//src/md.jl#L93\" target=\"_blank\">/Users/U05284/.julia/v0.6/MbedTLS/src/md.jl:93</a></li> </ul>"
      ],
      "text/plain": [
       "# 44 methods for generic function \"copy\":\n",
       "copy(e::Expr) in Base at expr.jl:35\n",
       "copy(s1::IntSet) in Base at intset.jl:11\n",
       "copy(o::ObjectIdDict) in Base at associative.jl:475\n",
       "copy(src::Base.dSFMT.DSFMT_state) in Base.dSFMT at dSFMT.jl:32\n",
       "copy(src::MersenneTwister) in Base.Random at random.jl:112\n",
       "copy(vset::Base.Pkg.Types.VersionSet) in Base.Pkg.Types at pkg/types.jl:66\n",
       "copy(a::Base.Pkg.Types.Available) in Base.Pkg.Types at pkg/types.jl:148\n",
       "copy(a::Base.Pkg.Resolve.VersionWeights.VWPreBuildItem) in Base.Pkg.Resolve.VersionWeights at pkg/resolve/versionweight.jl:101\n",
       "copy(a::Base.Pkg.Resolve.VersionWeights.VWPreBuild) in Base.Pkg.Resolve.VersionWeights at pkg/resolve/versionweight.jl:159\n",
       "copy(a::Base.Pkg.Resolve.VersionWeights.VersionWeight) in Base.Pkg.Resolve.VersionWeights at pkg/resolve/versionweight.jl:219\n",
       "copy(a::Base.Pkg.Resolve.MaxSum.FieldValues.FieldValue) in Base.Pkg.Resolve.MaxSum.FieldValues at pkg/resolve/fieldvalue.jl:68\n",
       "copy(r::Range) in Base at range.jl:430\n",
       "copy(x::Number) in Base at number.jl:48\n",
       "copy(a::T) where T<:Array in Base at array.jl:139\n",
       "copy(M::SymTridiagonal) in Base.LinAlg at linalg/tridiag.jl:105\n",
       "copy(M::Tridiagonal) in Base.LinAlg at linalg/tridiag.jl:517\n",
       "copy(A::LowerTriangular) in Base.LinAlg at linalg/triangular.jl:38\n",
       "copy(A::Base.LinAlg.UnitLowerTriangular) in Base.LinAlg at linalg/triangular.jl:38\n",
       "copy(A::UpperTriangular) in Base.LinAlg at linalg/triangular.jl:38\n",
       "copy(A::Base.LinAlg.UnitUpperTriangular) in Base.LinAlg at linalg/triangular.jl:38\n",
       "copy(A::Symmetric{T,S}) where {T, S} in Base.LinAlg at linalg/symmetric.jl:160\n",
       "copy(A::Hermitian{T,S}) where {T, S} in Base.LinAlg at linalg/symmetric.jl:161\n",
       "copy(M::Bidiagonal) in Base.LinAlg at linalg/bidiag.jl:266\n",
       "copy(ra::Base.ReshapedArray{#s268,2,#s267,MI} where MI<:Tuple{Vararg{Base.MultiplicativeInverses.SignedMultiplicativeInverse{Int64},N} where N} where #s267<:SparseMatrixCSC where #s268) in Base.SparseArrays at sparse/sparsematrix.jl:238\n",
       "copy(S::SparseMatrixCSC) in Base.SparseArrays at sparse/sparsematrix.jl:253\n",
       "copy(A::Base.SparseArrays.CHOLMOD.Sparse{Tv}, stype::Integer, mode::Integer) where Tv<:Float64 in Base.SparseArrays.CHOLMOD at sparse/cholmod.jl:618\n",
       "copy(A::Base.SparseArrays.CHOLMOD.Sparse) in Base.SparseArrays.CHOLMOD at sparse/cholmod.jl:1209\n",
       "copy(x::AbstractSparseArray{Tv,Ti,1} where Ti where Tv) in Base.SparseArrays at sparse/sparsevector.jl:825\n",
       "copy(A::Base.SparseArrays.CHOLMOD.Dense) in Base.SparseArrays.CHOLMOD at sparse/cholmod.jl:1208\n",
       "copy(a::AbstractArray) in Base at abstractarray.jl:697\n",
       "copy(d::Dict) in Base at dict.jl:134\n",
       "copy(d::WeakKeyDict) in Base at weakkeydict.jl:49\n",
       "copy(a::Associative) in Base at associative.jl:113\n",
       "copy(s::Set) in Base at set.jl:41\n",
       "copy(b::Base.AbstractIOBuffer) in Base at iobuffer.jl:81\n",
       "copy(A::Base.LinAlg.LQ) in Base.LinAlg at linalg/lq.jl:48\n",
       "copy(C::Base.LinAlg.Cholesky) in Base.LinAlg at linalg/cholesky.jl:416\n",
       "copy(C::Base.LinAlg.CholeskyPivoted) in Base.LinAlg at linalg/cholesky.jl:417\n",
       "copy(J::UniformScaling) in Base.LinAlg at linalg/uniformscaling.jl:41\n",
       "copy(F::Base.LinAlg.Schur) in Base.LinAlg at linalg/schur.jl:288\n",
       "copy(F::Base.LinAlg.GeneralizedSchur) in Base.LinAlg at linalg/schur.jl:289\n",
       "copy(a::Base.Pkg.Resolve.VersionWeights.HierarchicalValue{T}) where T in Base.Pkg.Resolve.VersionWeights at pkg/resolve/versionweight.jl:71\n",
       "copy(A::Base.SparseArrays.CHOLMOD.Factor) in Base.SparseArrays.CHOLMOD at sparse/cholmod.jl:1210\n",
       "copy(md::MbedTLS.MD) in MbedTLS at /Users/U05284/.julia/v0.6/MbedTLS/src/md.jl:93"
      ]
     },
     "execution_count": 1,
     "metadata": {},
     "output_type": "execute_result"
    }
   ],
   "source": [
    "methods(copy) # methods()...ある名前で定義されているメソッドを出力"
   ]
  },
  {
   "cell_type": "code",
   "execution_count": 2,
   "metadata": {},
   "outputs": [
    {
     "data": {
      "text/html": [
       "copy<i>{T<:Array}</i>(a::<b>T</b>) at <a href=\"https://github.com/JuliaLang/julia/tree/d386e40c17d43b79fc89d3e579fc04547241787c/base/array.jl#L139\" target=\"_blank\">array.jl:139</a>"
      ],
      "text/plain": [
       "copy(a::T) where T<:Array in Base at array.jl:139"
      ]
     },
     "execution_count": 2,
     "metadata": {},
     "output_type": "execute_result"
    }
   ],
   "source": [
    "@which(copy([1, 2, 3])) # @which...どの引数の処理のメソッドが呼ばれているかを出力"
   ]
  },
  {
   "cell_type": "code",
   "execution_count": 3,
   "metadata": {},
   "outputs": [
    {
     "data": {
      "text/plain": [
       "2-element Array{Symbol,1}:\n",
       " :data\n",
       " :uplo"
      ]
     },
     "execution_count": 3,
     "metadata": {},
     "output_type": "execute_result"
    }
   ],
   "source": [
    "fieldnames(Hermitian) # filednames()...インスタンスや構造体の中身のタイプを出力"
   ]
  },
  {
   "cell_type": "code",
   "execution_count": 4,
   "metadata": {},
   "outputs": [
    {
     "data": {
      "text/plain": [
       "Array{Int64,1}"
      ]
     },
     "execution_count": 4,
     "metadata": {},
     "output_type": "execute_result"
    }
   ],
   "source": [
    "typeof([1;2;3]) # typeof()... 型を出力, c.f. ;は改行, つまりこれは列ベクトル"
   ]
  },
  {
   "cell_type": "code",
   "execution_count": 5,
   "metadata": {},
   "outputs": [
    {
     "data": {
      "text/plain": [
       "CodeInfo(:(begin \n",
       "        nothing\n",
       "        nothing\n",
       "        SSAValue(0) = (Base.cconvert)(Base.Math.Float64, x)\n",
       "        SSAValue(1) = $(Expr(:foreigncall, :((Core.tuple)(\"sin\", Base.Math.libm)), Float64, svec(Float64), :((Base.unsafe_convert)(Base.Math.Float64, SSAValue(0))), SSAValue(0)))\n",
       "        return (Base.Math.nan_dom_err)(SSAValue(1), x)\n",
       "    end))"
      ]
     },
     "execution_count": 5,
     "metadata": {},
     "output_type": "execute_result"
    }
   ],
   "source": [
    "@code_lowered sin(sqrt(3)) # @code_lowered...どんな処理が発生してるかを確認できる. sqrt()は√3でもok."
   ]
  },
  {
   "cell_type": "markdown",
   "metadata": {},
   "source": [
    "またIntractiveShellにてjuliaを使っている場合だけですが.コンソール時に\"?\"を打ち込むとhelpモードに入ります."
   ]
  },
  {
   "cell_type": "code",
   "execution_count": 6,
   "metadata": {},
   "outputs": [],
   "source": [
    "# ?copy...copyのヘルプが出ます"
   ]
  },
  {
   "cell_type": "markdown",
   "metadata": {},
   "source": [
    "-----"
   ]
  },
  {
   "cell_type": "markdown",
   "metadata": {},
   "source": [
    "## 2.Array\n",
    "基本的な構文はmatlabと同じ.\n",
    "\n",
    "### 宣言方法と代入方法"
   ]
  },
  {
   "cell_type": "code",
   "execution_count": 7,
   "metadata": {},
   "outputs": [
    {
     "name": "stdout",
     "output_type": "stream",
     "text": [
      "[1, 2, 3, 4, 5]\n",
      "[1 2 3 4 5]\n"
     ]
    }
   ],
   "source": [
    "a = Vector{Float64}(5) #5つのfloat64値からなる一次元配列の生成\n",
    "a = [1 2 3 4 5]\n",
    "\n",
    "cv = [1;2;3;4;5] # 列ベクトル\n",
    "rv = [1 2 3 4 5] # 行ベクトル\n",
    "\n",
    "println(cv)\n",
    "println(rv)"
   ]
  },
  {
   "cell_type": "code",
   "execution_count": 8,
   "metadata": {},
   "outputs": [
    {
     "data": {
      "text/plain": [
       "1×5 Array{Int64,2}:\n",
       " 1  2  100  4  5"
      ]
     },
     "execution_count": 8,
     "metadata": {},
     "output_type": "execute_result"
    }
   ],
   "source": [
    "a[3] = 100 # 配列aの\"3つめ\"の要素を100に変更. 線形indexを使用しています.\n",
    "a"
   ]
  },
  {
   "cell_type": "code",
   "execution_count": 9,
   "metadata": {},
   "outputs": [
    {
     "data": {
      "text/plain": [
       "3×4 Array{Int64,2}:\n",
       " 11  12  13  14\n",
       " 21  22  23  24\n",
       " 31  32  33  34"
      ]
     },
     "execution_count": 9,
     "metadata": {},
     "output_type": "execute_result"
    }
   ],
   "source": [
    "b = Matrix{Float64}(4,2) # size(4, 2)からなるFloat64型行列を生成\n",
    "\n",
    "c = Array{Float64}(4,5,6,7) # (4,5,6,7)からなるFloat64配列\n",
    "\n",
    "mat =  [11 12 13 14\n",
    "        21 22 23 24\n",
    "        31 32 33 34] # 直接inlineでMatrixの宣言も可能"
   ]
  },
  {
   "cell_type": "code",
   "execution_count": 10,
   "metadata": {},
   "outputs": [
    {
     "data": {
      "text/plain": [
       "3×4 Array{Int64,2}:\n",
       " 11   4  13  14\n",
       " 21  22  23  24\n",
       " 31  32  33  34"
      ]
     },
     "execution_count": 10,
     "metadata": {},
     "output_type": "execute_result"
    }
   ],
   "source": [
    "mat[1,2] = 4 # 変更方法は同じ.\n",
    "mat"
   ]
  },
  {
   "cell_type": "markdown",
   "metadata": {},
   "source": [
    "#### memo1\n",
    "> memo1: REPL環境を使ってる時, 評価された時に値を返される物の後ろに\";\"を入れると出力を無視できます.  \n",
    "> memo2: arrayの値はメモリの場所へのポインタです."
   ]
  },
  {
   "cell_type": "code",
   "execution_count": 11,
   "metadata": {},
   "outputs": [],
   "source": [
    "#memo1\n",
    "mat;"
   ]
  },
  {
   "cell_type": "code",
   "execution_count": 12,
   "metadata": {},
   "outputs": [
    {
     "name": "stdout",
     "output_type": "stream",
     "text": [
      "[10, 2, 3][10, 2, 3]\n"
     ]
    }
   ],
   "source": [
    "#memo2\n",
    "a = [1;2;3]\n",
    "b = a\n",
    "b[1] = 10\n",
    "println(a, b)"
   ]
  },
  {
   "cell_type": "code",
   "execution_count": 13,
   "metadata": {},
   "outputs": [
    {
     "name": "stdout",
     "output_type": "stream",
     "text": [
      "[1, 2, 3][10, 2, 3]\n"
     ]
    }
   ],
   "source": [
    "#memo2: aも一緒に変更されたくない場合は\"copy\"を使います.\n",
    "a = [1;2;3]\n",
    "b = copy(a)\n",
    "b[1] = 10\n",
    "println(a, b)"
   ]
  },
  {
   "cell_type": "markdown",
   "metadata": {},
   "source": [
    "#### memo2\n",
    "他にもコンストラクタを使わずにも宣言することが可能です. その場合以下のメソッドが有用.  \n",
    "いずれも, 引数のArrayのsize/shapeを引き継いだ新しいArrayを返します.\n",
    "\n",
    "- similar()\n",
    "- zeros()\n",
    "- ones()"
   ]
  },
  {
   "cell_type": "code",
   "execution_count": 14,
   "metadata": {},
   "outputs": [
    {
     "name": "stdout",
     "output_type": "stream",
     "text": [
      "[4469783144, 4469783576, 4469791928][0, 0, 0][1, 1, 1]\n"
     ]
    }
   ],
   "source": [
    "simA = similar(a) # aと同じ構造の未初期化のaryを返す.\n",
    "zerosA = zeros(a) # aと同じ構造の全て0のaryを返す.\n",
    "onesA = ones(a) # aと同じ構造の全て1のaryを返す.\n",
    "\n",
    "println(simA, zerosA, onesA)"
   ]
  },
  {
   "cell_type": "markdown",
   "metadata": {},
   "source": [
    "#### memo3\n",
    "1) 配列は[a:b]によって切り出すことが可能.\n",
    "- [a:b]...配列のa番目からb番目までを切り出す\n",
    "\n",
    "2) また, aryにはどんな種類のtypeも内包できるため配列の中に配列を含めることももちろん可能です.\n"
   ]
  },
  {
   "cell_type": "code",
   "execution_count": 15,
   "metadata": {},
   "outputs": [
    {
     "data": {
      "text/plain": [
       "5-element Array{Int64,1}:\n",
       " 1\n",
       " 2\n",
       " 3\n",
       " 4\n",
       " 5"
      ]
     },
     "execution_count": 15,
     "metadata": {},
     "output_type": "execute_result"
    }
   ],
   "source": [
    "#1)\n",
    "a = [1 2 3 4 5 6 7 8 9 10]\n",
    "a[1:5]"
   ]
  },
  {
   "cell_type": "code",
   "execution_count": 16,
   "metadata": {},
   "outputs": [
    {
     "data": {
      "text/plain": [
       "3-element Array{Array{Float64,1},1}:\n",
       " [1.0, 2.0, 3.0]\n",
       " [1.0, 2.0]     \n",
       " [3.0, 4.0, 5.0]"
      ]
     },
     "execution_count": 16,
     "metadata": {},
     "output_type": "execute_result"
    }
   ],
   "source": [
    "# 2)\n",
    "a = Vector{Vector{Float64}}(3)\n",
    "a[1] = [1;2;3]\n",
    "a[2] = [1;2]\n",
    "a[3] = [3;4;5]\n",
    "a"
   ]
  },
  {
   "cell_type": "markdown",
   "metadata": {},
   "source": [
    "また, 入れ子構造になったarrayのcopyにはdeepcopy()を使います."
   ]
  },
  {
   "cell_type": "code",
   "execution_count": 17,
   "metadata": {},
   "outputs": [
    {
     "name": "stdout",
     "output_type": "stream",
     "text": [
      "Array{Float64,1}[[1.0, 2.0, 3.0], [1.0, 2.0], [3.0, 4.0, 5.0]]\n",
      "Array{Float64,1}[[1.0, 3.0, 2.0], [1.0, 2.0], [3.0, 4.0, 5.0]]\n"
     ]
    }
   ],
   "source": [
    "b = deepcopy(a)\n",
    "b[1] = [1;3;2]\n",
    "println(a)\n",
    "println(b)"
   ]
  },
  {
   "cell_type": "markdown",
   "metadata": {},
   "source": [
    "#### memo4\n",
    "高い実行速度を達成するためにはコード量を減らすことが重要です. \n",
    "そのため, Juliaには引数に破壊的代入をもたらすmutationメソッドがあり, そのようなメソッドの末尾には!が付いています."
   ]
  },
  {
   "cell_type": "code",
   "execution_count": 18,
   "metadata": {},
   "outputs": [
    {
     "data": {
      "text/plain": [
       "3-element Array{Int64,1}:\n",
       "  2\n",
       " 12\n",
       " 18"
      ]
     },
     "execution_count": 18,
     "metadata": {},
     "output_type": "execute_result"
    }
   ],
   "source": [
    "# mutation method ex.\n",
    "a = [1;6;9]\n",
    "scale!(a, 2) # scale!(ary, scalar)...aryをscalar倍"
   ]
  },
  {
   "cell_type": "markdown",
   "metadata": {},
   "source": [
    "----"
   ]
  },
  {
   "cell_type": "markdown",
   "metadata": {},
   "source": [
    "## 3.制御フロー\n",
    "\n",
    "Juliaの制御フローは他のスクリプト言語と大して変化はなし.\n",
    "いつも通りのfor loop, while, ifがあるくらい.\n",
    "\n",
    "他のものはdocumentを参照."
   ]
  },
  {
   "cell_type": "code",
   "execution_count": 19,
   "metadata": {},
   "outputs": [
    {
     "name": "stdout",
     "output_type": "stream",
     "text": [
      "1\n",
      "2\n",
      "3\n",
      "4\n",
      "5\n"
     ]
    }
   ],
   "source": [
    "# for loop\n",
    "for i=1:5 #1:5でrange, =をinに変えても実行可能.\n",
    "  println(i)\n",
    "end"
   ]
  },
  {
   "cell_type": "code",
   "execution_count": 20,
   "metadata": {},
   "outputs": [
    {
     "name": "stdout",
     "output_type": "stream",
     "text": [
      "0\n",
      "1\n",
      "2\n",
      "3\n",
      "4\n"
     ]
    }
   ],
   "source": [
    "t = 0\n",
    "while t < 5\n",
    "  println(t)\n",
    "  t+=1\n",
    "end"
   ]
  },
  {
   "cell_type": "code",
   "execution_count": 21,
   "metadata": {},
   "outputs": [
    {
     "name": "stdout",
     "output_type": "stream",
     "text": [
      "you said asdf\n",
      "search: \u001b[1mf\u001b[22m\u001b[1mo\u001b[22m\u001b[1mr\u001b[22m \u001b[1mf\u001b[22m\u001b[1mo\u001b[22m\u001b[1mr\u001b[22meach Uni\u001b[1mf\u001b[22m\u001b[1mo\u001b[22m\u001b[1mr\u001b[22mmScaling Date\u001b[1mF\u001b[22m\u001b[1mo\u001b[22m\u001b[1mr\u001b[22mmat @date\u001b[1mf\u001b[22m\u001b[1mo\u001b[22m\u001b[1mr\u001b[22mmat_str \u001b[1mf\u001b[22m\u001b[1mo\u001b[22mld\u001b[1mr\u001b[22m \u001b[1mf\u001b[22ml\u001b[1mo\u001b[22mo\u001b[1mr\u001b[22m\n",
      "\n",
      "search: \u001b[1mf\u001b[22m\u001b[1mo\u001b[22m\u001b[1mr\u001b[22m \u001b[1mf\u001b[22m\u001b[1mo\u001b[22m\u001b[1mr\u001b[22meach Uni\u001b[1mf\u001b[22m\u001b[1mo\u001b[22m\u001b[1mr\u001b[22mmScaling Date\u001b[1mF\u001b[22m\u001b[1mo\u001b[22m\u001b[1mr\u001b[22mmat @date\u001b[1mf\u001b[22m\u001b[1mo\u001b[22m\u001b[1mr\u001b[22mmat_str \u001b[1mf\u001b[22m\u001b[1mo\u001b[22mld\u001b[1mr\u001b[22m \u001b[1mf\u001b[22ml\u001b[1mo\u001b[22mo\u001b[1mr\u001b[22m\n",
      "\n",
      "search: \u001b[1mf\u001b[22m\u001b[1mo\u001b[22m\u001b[1mr\u001b[22m \u001b[1mf\u001b[22m\u001b[1mo\u001b[22m\u001b[1mr\u001b[22meach Uni\u001b[1mf\u001b[22m\u001b[1mo\u001b[22m\u001b[1mr\u001b[22mmScaling Date\u001b[1mF\u001b[22m\u001b[1mo\u001b[22m\u001b[1mr\u001b[22mmat @date\u001b[1mf\u001b[22m\u001b[1mo\u001b[22m\u001b[1mr\u001b[22mmat_str \u001b[1mf\u001b[22m\u001b[1mo\u001b[22mld\u001b[1mr\u001b[22m \u001b[1mf\u001b[22ml\u001b[1mo\u001b[22mo\u001b[1mr\u001b[22m\n",
      "\n",
      "search: \u001b[1mf\u001b[22m\u001b[1mo\u001b[22m\u001b[1mr\u001b[22m \u001b[1mf\u001b[22m\u001b[1mo\u001b[22m\u001b[1mr\u001b[22meach Uni\u001b[1mf\u001b[22m\u001b[1mo\u001b[22m\u001b[1mr\u001b[22mmScaling Date\u001b[1mF\u001b[22m\u001b[1mo\u001b[22m\u001b[1mr\u001b[22mmat @date\u001b[1mf\u001b[22m\u001b[1mo\u001b[22m\u001b[1mr\u001b[22mmat_str \u001b[1mf\u001b[22m\u001b[1mo\u001b[22mld\u001b[1mr\u001b[22m \u001b[1mf\u001b[22ml\u001b[1mo\u001b[22mo\u001b[1mr\u001b[22m\n",
      "\n",
      "search: \u001b[1mf\u001b[22m\u001b[1mo\u001b[22m\u001b[1mr\u001b[22m \u001b[1mf\u001b[22m\u001b[1mo\u001b[22m\u001b[1mr\u001b[22meach Uni\u001b[1mf\u001b[22m\u001b[1mo\u001b[22m\u001b[1mr\u001b[22mmScaling Date\u001b[1mF\u001b[22m\u001b[1mo\u001b[22m\u001b[1mr\u001b[22mmat @date\u001b[1mf\u001b[22m\u001b[1mo\u001b[22m\u001b[1mr\u001b[22mmat_str \u001b[1mf\u001b[22m\u001b[1mo\u001b[22mld\u001b[1mr\u001b[22m \u001b[1mf\u001b[22ml\u001b[1mo\u001b[22mo\u001b[1mr\u001b[22m\n",
      "\n",
      "search: \u001b[1mf\u001b[22m\u001b[1mo\u001b[22m\u001b[1mr\u001b[22m \u001b[1mf\u001b[22m\u001b[1mo\u001b[22m\u001b[1mr\u001b[22meach Uni\u001b[1mf\u001b[22m\u001b[1mo\u001b[22m\u001b[1mr\u001b[22mmScaling Date\u001b[1mF\u001b[22m\u001b[1mo\u001b[22m\u001b[1mr\u001b[22mmat @date\u001b[1mf\u001b[22m\u001b[1mo\u001b[22m\u001b[1mr\u001b[22mmat_str \u001b[1mf\u001b[22m\u001b[1mo\u001b[22mld\u001b[1mr\u001b[22m \u001b[1mf\u001b[22ml\u001b[1mo\u001b[22mo\u001b[1mr\u001b[22m\n",
      "\n",
      "search: \u001b[1mf\u001b[22m\u001b[1mo\u001b[22m\u001b[1mr\u001b[22m \u001b[1mf\u001b[22m\u001b[1mo\u001b[22m\u001b[1mr\u001b[22meach Uni\u001b[1mf\u001b[22m\u001b[1mo\u001b[22m\u001b[1mr\u001b[22mmScaling Date\u001b[1mF\u001b[22m\u001b[1mo\u001b[22m\u001b[1mr\u001b[22mmat @date\u001b[1mf\u001b[22m\u001b[1mo\u001b[22m\u001b[1mr\u001b[22mmat_str \u001b[1mf\u001b[22m\u001b[1mo\u001b[22mld\u001b[1mr\u001b[22m \u001b[1mf\u001b[22ml\u001b[1mo\u001b[22mo\u001b[1mr\u001b[22m\n",
      "\n",
      "search: \u001b[1me\u001b[22m\u001b[1mn\u001b[22m\u001b[1md\u001b[22m \u001b[1me\u001b[22m\u001b[1mn\u001b[22m\u001b[1md\u001b[22mof \u001b[1me\u001b[22m\u001b[1mn\u001b[22m\u001b[1md\u001b[22mswith \u001b[1mE\u001b[22m\u001b[1mN\u001b[22m\u001b[1mD\u001b[22mIAN_BOM s\u001b[1me\u001b[22m\u001b[1mn\u001b[22m\u001b[1md\u001b[22m app\u001b[1me\u001b[22m\u001b[1mn\u001b[22m\u001b[1md\u001b[22m! Quot\u001b[1me\u001b[22m\u001b[1mN\u001b[22mo\u001b[1md\u001b[22me Rang\u001b[1me\u001b[22mI\u001b[1mn\u001b[22m\u001b[1md\u001b[22mex g\u001b[1me\u001b[22mti\u001b[1mn\u001b[22m\u001b[1md\u001b[22mex\n",
      "\n"
     ]
    }
   ],
   "source": [
    "symbol = :asdf\n",
    "\n",
    "if symbol == :asdf\n",
    "  println(\"you said asdf\")\n",
    "else\n",
    "  println(\"no idea\")\n",
    "end"
   ]
  },
  {
   "cell_type": "markdown",
   "metadata": {},
   "source": [
    "#### memo\n",
    "Juliaのforloopで面白いのは, なんと多重for loopを一列で書ける"
   ]
  },
  {
   "cell_type": "code",
   "execution_count": 22,
   "metadata": {},
   "outputs": [
    {
     "name": "stdout",
     "output_type": "stream",
     "text": [
      "2\n",
      "3\n",
      "4\n",
      "4\n",
      "6\n",
      "8\n",
      "6\n",
      "9\n",
      "12\n",
      "8\n",
      "12\n",
      "16\n",
      "10\n",
      "15\n",
      "20\n"
     ]
    }
   ],
   "source": [
    "for i=1:5, j=2:4\n",
    "  println(i*j)\n",
    "end"
   ]
  },
  {
   "cell_type": "markdown",
   "metadata": {},
   "source": [
    "### 練習問題\n",
    "http://ucidatascienceinitiative.github.io/IntroToJulia/Html/BasicProblems\n",
    "上5問.\n",
    "\n",
    "制御flow理解できてれば実装できるはず."
   ]
  },
  {
   "cell_type": "markdown",
   "metadata": {},
   "source": [
    "#### Q1. (N,N)型で, 体格が-2, 体格の左右隣が1, それ以外が0の行列を作れ. ストラング行列っていうとか"
   ]
  },
  {
   "cell_type": "code",
   "execution_count": 62,
   "metadata": {},
   "outputs": [
    {
     "data": {
      "text/plain": [
       "5×5 Array{Float64,2}:\n",
       " -2.0   1.0   0.0   0.0   0.0\n",
       "  1.0  -2.0   1.0   0.0   0.0\n",
       "  0.0   1.0  -2.0   1.0   0.0\n",
       "  0.0   0.0   1.0  -2.0   1.0\n",
       "  0.0   0.0   0.0   1.0  -2.0"
      ]
     },
     "execution_count": 62,
     "metadata": {},
     "output_type": "execute_result"
    }
   ],
   "source": [
    "N = 5\n",
    "#mat = Matrix{Float64}(N, N)\n",
    "mat = zeros(N, N)\n",
    "for i=1:N, j=1:N\n",
    "  if i==j\n",
    "    mat[i,j] = -2\n",
    "  elseif i==j+1||i==j-1\n",
    "    mat[i,j] = 1\n",
    "  end\n",
    "end\n",
    "\n",
    "mat"
   ]
  },
  {
   "cell_type": "markdown",
   "metadata": {},
   "source": [
    "##### Q1. 綺麗なコードver. こっちの方が\"juliaらしい\""
   ]
  },
  {
   "cell_type": "code",
   "execution_count": 71,
   "metadata": {},
   "outputs": [
    {
     "data": {
      "text/plain": [
       "5×5 Array{Float64,2}:\n",
       " -2.0   1.0   0.0   0.0   0.0\n",
       "  1.0  -2.0   1.0   0.0   0.0\n",
       "  0.0   1.0  -2.0   1.0   0.0\n",
       "  0.0   0.0   1.0  -2.0   1.0\n",
       "  0.0   0.0   0.0   1.0  -2.0"
      ]
     },
     "execution_count": 71,
     "metadata": {},
     "output_type": "execute_result"
    }
   ],
   "source": [
    "N=5\n",
    "A = zeros(N,N)\n",
    "for i=1:N, j=1:N\n",
    "  abs(i-j)==1 && (A[i,j]=1)\n",
    "  i==j && (A[i,j]=-2)\n",
    "end\n",
    "A"
   ]
  },
  {
   "cell_type": "markdown",
   "metadata": {},
   "source": [
    "#### Q2. 階上, my_factorial(n)で, n!を出力."
   ]
  },
  {
   "cell_type": "code",
   "execution_count": 73,
   "metadata": {},
   "outputs": [
    {
     "name": "stderr",
     "output_type": "stream",
     "text": [
      "WARNING: Method definition my_factorial(Any) in module Main at In[72]:2 overwritten at In[73]:2.\n"
     ]
    },
    {
     "data": {
      "text/plain": [
       "1307674368000"
      ]
     },
     "execution_count": 73,
     "metadata": {},
     "output_type": "execute_result"
    }
   ],
   "source": [
    "function my_factorial(n)\n",
    "  ans = 1\n",
    "  for i=1:n\n",
    "    ans*=i\n",
    "  end\n",
    "  ans  \n",
    "end\n",
    "my_factorial(15)\n",
    "#c.f. ただしこれでは大きい値を扱う形になった時にOverFlowが発生する.(ex. 30を入れるとnegativeになる)"
   ]
  },
  {
   "cell_type": "markdown",
   "metadata": {},
   "source": [
    "##### こういう時は入力と出力の型を同じにすればよい. one(x)を使用する"
   ]
  },
  {
   "cell_type": "code",
   "execution_count": 75,
   "metadata": {},
   "outputs": [
    {
     "name": "stderr",
     "output_type": "stream",
     "text": [
      "WARNING: Method definition my_factorial(Any) in module Main at In[74]:2 overwritten at In[75]:2.\n"
     ]
    },
    {
     "data": {
      "text/plain": [
       "265252859812191058636308480000000"
      ]
     },
     "execution_count": 75,
     "metadata": {},
     "output_type": "execute_result"
    }
   ],
   "source": [
    "function my_factorial(n)\n",
    "  k = one(n) # one(x)...xと同じ型で値1の数値を返す.\n",
    "  for i=1:n\n",
    "    k *= i\n",
    "  end\n",
    "  k\n",
    "end\n",
    "my_factorial(big(30))"
   ]
  },
  {
   "cell_type": "markdown",
   "metadata": {},
   "source": [
    "#### Q3.二項問題\n",
    "nを試行回数, pを成功する確率とした時, n回の内成功した回数XをX=Bin(n,p)と表すとする.  \n",
    "例えば, Bin(10, 0.5)の時, Xは10回コインを投げた時に表が出てくる回数に等しい.  \n",
    "  \n",
    "Xを返すbinomial_rv(n,p)をrand()を用いて実装せよ"
   ]
  },
  {
   "cell_type": "code",
   "execution_count": 76,
   "metadata": {},
   "outputs": [
    {
     "data": {
      "text/plain": [
       "5-element Array{Int64,1}:\n",
       " 5\n",
       " 2\n",
       " 3\n",
       " 4\n",
       " 5"
      ]
     },
     "execution_count": 76,
     "metadata": {},
     "output_type": "execute_result"
    }
   ],
   "source": [
    "function binomial_rv(n,p)\n",
    "  k=0\n",
    "  for i=1:n\n",
    "    p<=rand() && (k+=1)\n",
    "  end\n",
    "  k\n",
    "end\n",
    "\n",
    "#check\n",
    "[binomial_rv(10, 0.5) for i=1:5]"
   ]
  },
  {
   "cell_type": "markdown",
   "metadata": {},
   "source": [
    "#### Q4. モンテカルロによる円周率の計算\n",
    "πを乱数を用いて近似せよ.\n",
    "\n",
    "**Hint: モンテカルロ法**\n",
    "[-1, 1]×[-1, 1]の四角形に内包される円があった時, *円の面積はπ*($πr^2$より), *四角形の面積は4*.  \n",
    "そのため, 乱数を用いて[-1,1]×[-1,1]の部分に一様な乱数で点を打った時, *円周の中に打たれる確率はπ/4*($x^2+y^2$≦1より).  \n",
    "これを用いてπの大体の値を求めよ."
   ]
  },
  {
   "cell_type": "code",
   "execution_count": 140,
   "metadata": {},
   "outputs": [
    {
     "name": "stderr",
     "output_type": "stream",
     "text": [
      "WARNING: Method definition montecarlo(Any) in module Main at In[138]:2 overwritten at In[140]:2.\n"
     ]
    },
    {
     "data": {
      "text/plain": [
       "3.1420824"
      ]
     },
     "execution_count": 140,
     "metadata": {},
     "output_type": "execute_result"
    }
   ],
   "source": [
    "function montecarlo(n)\n",
    "  c = 0\n",
    "  for _=1:n\n",
    "    x, y = 2rand(2)-1\n",
    "    sqrt(x^2+y^2)<=1 && (c+=1)\n",
    "  end\n",
    "  return 4c/n\n",
    "end\n",
    "\n",
    "montecarlo(10000000)"
   ]
  },
  {
   "cell_type": "markdown",
   "metadata": {},
   "source": [
    "#### Q5. 時系列生成問題\n",
    "AR1時系列は, $x_{t+1} = \\alpha x_i + \\epsilon_{t+1}$ では定義されたとする.  \n",
    "この時それぞれ, $x_0$=0, t=0...T, ソケット$\\epsilon_{t}$は独立同分布である(N(0,1)はrandn()によって与えられるとする).  \n",
    "  \n",
    "T=200の時,\n",
    "\n",
    "- α=0\n",
    "- α=0.5\n",
    "- α=0.9\n",
    "\n",
    "の場合のそれぞれのパラメータの時間変化をPlot.jlを用いて示せ.  \n",
    "また, αの値を表す線にはplot関数にlabelオプションをつけ, ラベルせよ."
   ]
  },
  {
   "cell_type": "code",
   "execution_count": 2,
   "metadata": {},
   "outputs": [
    {
     "data": {
      "text/plain": [
       "_ar (generic function with 1 method)"
      ]
     },
     "execution_count": 2,
     "metadata": {},
     "output_type": "execute_result"
    }
   ],
   "source": [
    "using Plots\n",
    "\n",
    "function _ar(T, a)\n",
    "  d=[0.0]\n",
    "  tmp=0.0\n",
    "  for i=1:T\n",
    "    e = randn()\n",
    "    tmp = a*tmp + e\n",
    "    push!(d, tmp)\n",
    "  end\n",
    "  d\n",
    "end"
   ]
  },
  {
   "cell_type": "code",
   "execution_count": 8,
   "metadata": {},
   "outputs": [
    {
     "name": "stderr",
     "output_type": "stream",
     "text": [
      "WARNING: Method definition ar_(Any) in module Main at In[7]:1 overwritten at In[8]:1.\n"
     ]
    },
    {
     "data": {
      "text/html": [
       "<?xml version=\"1.0\" encoding=\"utf-8\"?>\n",
       "<svg xmlns=\"http://www.w3.org/2000/svg\" xmlns:xlink=\"http://www.w3.org/1999/xlink\" width=\"600\" height=\"400\" viewBox=\"0 0 600 400\">\n",
       "<defs>\n",
       "  <clipPath id=\"clip4800\">\n",
       "    <rect x=\"0\" y=\"0\" width=\"600\" height=\"400\"/>\n",
       "  </clipPath>\n",
       "</defs>\n",
       "<polygon clip-path=\"url(#clip4800)\" points=\"\n",
       "0,400 600,400 600,0 0,0 \n",
       "  \" fill=\"#ffffff\" fill-opacity=\"1\"/>\n",
       "<defs>\n",
       "  <clipPath id=\"clip4801\">\n",
       "    <rect x=\"120\" y=\"0\" width=\"421\" height=\"400\"/>\n",
       "  </clipPath>\n",
       "</defs>\n",
       "<polygon clip-path=\"url(#clip4800)\" points=\"\n",
       "39.3701,368.504 592.126,368.504 592.126,7.87402 39.3701,7.87402 \n",
       "  \" fill=\"#ffffff\" fill-opacity=\"1\"/>\n",
       "<defs>\n",
       "  <clipPath id=\"clip4802\">\n",
       "    <rect x=\"39\" y=\"7\" width=\"554\" height=\"362\"/>\n",
       "  </clipPath>\n",
       "</defs>\n",
       "<polyline clip-path=\"url(#clip4802)\" style=\"stroke:#000000; stroke-width:1; stroke-opacity:0.5; fill:none\" stroke-dasharray=\"1, 2\" points=\"\n",
       "  119.52,363.094 119.52,13.2835 \n",
       "  \"/>\n",
       "<polyline clip-path=\"url(#clip4802)\" style=\"stroke:#000000; stroke-width:1; stroke-opacity:0.5; fill:none\" stroke-dasharray=\"1, 2\" points=\"\n",
       "  202.433,363.094 202.433,13.2835 \n",
       "  \"/>\n",
       "<polyline clip-path=\"url(#clip4802)\" style=\"stroke:#000000; stroke-width:1; stroke-opacity:0.5; fill:none\" stroke-dasharray=\"1, 2\" points=\"\n",
       "  285.346,363.094 285.346,13.2835 \n",
       "  \"/>\n",
       "<polyline clip-path=\"url(#clip4802)\" style=\"stroke:#000000; stroke-width:1; stroke-opacity:0.5; fill:none\" stroke-dasharray=\"1, 2\" points=\"\n",
       "  368.26,363.094 368.26,13.2835 \n",
       "  \"/>\n",
       "<polyline clip-path=\"url(#clip4802)\" style=\"stroke:#000000; stroke-width:1; stroke-opacity:0.5; fill:none\" stroke-dasharray=\"1, 2\" points=\"\n",
       "  451.173,363.094 451.173,13.2835 \n",
       "  \"/>\n",
       "<polyline clip-path=\"url(#clip4802)\" style=\"stroke:#000000; stroke-width:1; stroke-opacity:0.5; fill:none\" stroke-dasharray=\"1, 2\" points=\"\n",
       "  534.087,363.094 534.087,13.2835 \n",
       "  \"/>\n",
       "<polyline clip-path=\"url(#clip4802)\" style=\"stroke:#000000; stroke-width:1; stroke-opacity:0.5; fill:none\" stroke-dasharray=\"1, 2\" points=\"\n",
       "  47.6614,339.909 583.835,339.909 \n",
       "  \"/>\n",
       "<polyline clip-path=\"url(#clip4802)\" style=\"stroke:#000000; stroke-width:1; stroke-opacity:0.5; fill:none\" stroke-dasharray=\"1, 2\" points=\"\n",
       "  47.6614,280.13 583.835,280.13 \n",
       "  \"/>\n",
       "<polyline clip-path=\"url(#clip4802)\" style=\"stroke:#000000; stroke-width:1; stroke-opacity:0.5; fill:none\" stroke-dasharray=\"1, 2\" points=\"\n",
       "  47.6614,220.351 583.835,220.351 \n",
       "  \"/>\n",
       "<polyline clip-path=\"url(#clip4802)\" style=\"stroke:#000000; stroke-width:1; stroke-opacity:0.5; fill:none\" stroke-dasharray=\"1, 2\" points=\"\n",
       "  47.6614,160.572 583.835,160.572 \n",
       "  \"/>\n",
       "<polyline clip-path=\"url(#clip4802)\" style=\"stroke:#000000; stroke-width:1; stroke-opacity:0.5; fill:none\" stroke-dasharray=\"1, 2\" points=\"\n",
       "  47.6614,100.793 583.835,100.793 \n",
       "  \"/>\n",
       "<polyline clip-path=\"url(#clip4802)\" style=\"stroke:#000000; stroke-width:1; stroke-opacity:0.5; fill:none\" stroke-dasharray=\"1, 2\" points=\"\n",
       "  47.6614,41.0135 583.835,41.0135 \n",
       "  \"/>\n",
       "<polyline clip-path=\"url(#clip4800)\" style=\"stroke:#000000; stroke-width:1; stroke-opacity:1; fill:none\" points=\"\n",
       "  39.3701,368.504 592.126,368.504 \n",
       "  \"/>\n",
       "<polyline clip-path=\"url(#clip4800)\" style=\"stroke:#000000; stroke-width:1; stroke-opacity:1; fill:none\" points=\"\n",
       "  119.52,368.504 119.52,363.094 \n",
       "  \"/>\n",
       "<polyline clip-path=\"url(#clip4800)\" style=\"stroke:#000000; stroke-width:1; stroke-opacity:1; fill:none\" points=\"\n",
       "  202.433,368.504 202.433,363.094 \n",
       "  \"/>\n",
       "<polyline clip-path=\"url(#clip4800)\" style=\"stroke:#000000; stroke-width:1; stroke-opacity:1; fill:none\" points=\"\n",
       "  285.346,368.504 285.346,363.094 \n",
       "  \"/>\n",
       "<polyline clip-path=\"url(#clip4800)\" style=\"stroke:#000000; stroke-width:1; stroke-opacity:1; fill:none\" points=\"\n",
       "  368.26,368.504 368.26,363.094 \n",
       "  \"/>\n",
       "<polyline clip-path=\"url(#clip4800)\" style=\"stroke:#000000; stroke-width:1; stroke-opacity:1; fill:none\" points=\"\n",
       "  451.173,368.504 451.173,363.094 \n",
       "  \"/>\n",
       "<polyline clip-path=\"url(#clip4800)\" style=\"stroke:#000000; stroke-width:1; stroke-opacity:1; fill:none\" points=\"\n",
       "  534.087,368.504 534.087,363.094 \n",
       "  \"/>\n",
       "<polyline clip-path=\"url(#clip4800)\" style=\"stroke:#000000; stroke-width:1; stroke-opacity:1; fill:none\" points=\"\n",
       "  39.3701,368.504 39.3701,7.87402 \n",
       "  \"/>\n",
       "<polyline clip-path=\"url(#clip4800)\" style=\"stroke:#000000; stroke-width:1; stroke-opacity:1; fill:none\" points=\"\n",
       "  39.3701,339.909 47.6614,339.909 \n",
       "  \"/>\n",
       "<polyline clip-path=\"url(#clip4800)\" style=\"stroke:#000000; stroke-width:1; stroke-opacity:1; fill:none\" points=\"\n",
       "  39.3701,280.13 47.6614,280.13 \n",
       "  \"/>\n",
       "<polyline clip-path=\"url(#clip4800)\" style=\"stroke:#000000; stroke-width:1; stroke-opacity:1; fill:none\" points=\"\n",
       "  39.3701,220.351 47.6614,220.351 \n",
       "  \"/>\n",
       "<polyline clip-path=\"url(#clip4800)\" style=\"stroke:#000000; stroke-width:1; stroke-opacity:1; fill:none\" points=\"\n",
       "  39.3701,160.572 47.6614,160.572 \n",
       "  \"/>\n",
       "<polyline clip-path=\"url(#clip4800)\" style=\"stroke:#000000; stroke-width:1; stroke-opacity:1; fill:none\" points=\"\n",
       "  39.3701,100.793 47.6614,100.793 \n",
       "  \"/>\n",
       "<polyline clip-path=\"url(#clip4800)\" style=\"stroke:#000000; stroke-width:1; stroke-opacity:1; fill:none\" points=\"\n",
       "  39.3701,41.0135 47.6614,41.0135 \n",
       "  \"/>\n",
       "<g clip-path=\"url(#clip4800)\">\n",
       "<text style=\"fill:#000000; fill-opacity:1; font-family:Arial,Helvetica Neue,Helvetica,sans-serif; font-size:12; text-anchor:middle;\" transform=\"rotate(0, 119.52, 382.304)\" x=\"119.52\" y=\"382.304\">30</text>\n",
       "</g>\n",
       "<g clip-path=\"url(#clip4800)\">\n",
       "<text style=\"fill:#000000; fill-opacity:1; font-family:Arial,Helvetica Neue,Helvetica,sans-serif; font-size:12; text-anchor:middle;\" transform=\"rotate(0, 202.433, 382.304)\" x=\"202.433\" y=\"382.304\">60</text>\n",
       "</g>\n",
       "<g clip-path=\"url(#clip4800)\">\n",
       "<text style=\"fill:#000000; fill-opacity:1; font-family:Arial,Helvetica Neue,Helvetica,sans-serif; font-size:12; text-anchor:middle;\" transform=\"rotate(0, 285.346, 382.304)\" x=\"285.346\" y=\"382.304\">90</text>\n",
       "</g>\n",
       "<g clip-path=\"url(#clip4800)\">\n",
       "<text style=\"fill:#000000; fill-opacity:1; font-family:Arial,Helvetica Neue,Helvetica,sans-serif; font-size:12; text-anchor:middle;\" transform=\"rotate(0, 368.26, 382.304)\" x=\"368.26\" y=\"382.304\">120</text>\n",
       "</g>\n",
       "<g clip-path=\"url(#clip4800)\">\n",
       "<text style=\"fill:#000000; fill-opacity:1; font-family:Arial,Helvetica Neue,Helvetica,sans-serif; font-size:12; text-anchor:middle;\" transform=\"rotate(0, 451.173, 382.304)\" x=\"451.173\" y=\"382.304\">150</text>\n",
       "</g>\n",
       "<g clip-path=\"url(#clip4800)\">\n",
       "<text style=\"fill:#000000; fill-opacity:1; font-family:Arial,Helvetica Neue,Helvetica,sans-serif; font-size:12; text-anchor:middle;\" transform=\"rotate(0, 534.087, 382.304)\" x=\"534.087\" y=\"382.304\">180</text>\n",
       "</g>\n",
       "<g clip-path=\"url(#clip4800)\">\n",
       "<text style=\"fill:#000000; fill-opacity:1; font-family:Arial,Helvetica Neue,Helvetica,sans-serif; font-size:12; text-anchor:end;\" transform=\"rotate(0, 33.3701, 344.409)\" x=\"33.3701\" y=\"344.409\">-4</text>\n",
       "</g>\n",
       "<g clip-path=\"url(#clip4800)\">\n",
       "<text style=\"fill:#000000; fill-opacity:1; font-family:Arial,Helvetica Neue,Helvetica,sans-serif; font-size:12; text-anchor:end;\" transform=\"rotate(0, 33.3701, 284.63)\" x=\"33.3701\" y=\"284.63\">-2</text>\n",
       "</g>\n",
       "<g clip-path=\"url(#clip4800)\">\n",
       "<text style=\"fill:#000000; fill-opacity:1; font-family:Arial,Helvetica Neue,Helvetica,sans-serif; font-size:12; text-anchor:end;\" transform=\"rotate(0, 33.3701, 224.851)\" x=\"33.3701\" y=\"224.851\">0</text>\n",
       "</g>\n",
       "<g clip-path=\"url(#clip4800)\">\n",
       "<text style=\"fill:#000000; fill-opacity:1; font-family:Arial,Helvetica Neue,Helvetica,sans-serif; font-size:12; text-anchor:end;\" transform=\"rotate(0, 33.3701, 165.072)\" x=\"33.3701\" y=\"165.072\">2</text>\n",
       "</g>\n",
       "<g clip-path=\"url(#clip4800)\">\n",
       "<text style=\"fill:#000000; fill-opacity:1; font-family:Arial,Helvetica Neue,Helvetica,sans-serif; font-size:12; text-anchor:end;\" transform=\"rotate(0, 33.3701, 105.293)\" x=\"33.3701\" y=\"105.293\">4</text>\n",
       "</g>\n",
       "<g clip-path=\"url(#clip4800)\">\n",
       "<text style=\"fill:#000000; fill-opacity:1; font-family:Arial,Helvetica Neue,Helvetica,sans-serif; font-size:12; text-anchor:end;\" transform=\"rotate(0, 33.3701, 45.5135)\" x=\"33.3701\" y=\"45.5135\">6</text>\n",
       "</g>\n",
       "<polyline clip-path=\"url(#clip4802)\" style=\"stroke:#009af9; stroke-width:1; stroke-opacity:1; fill:none\" points=\"\n",
       "  39.3701,220.351 42.1339,258.362 44.8976,266.325 47.6614,239.087 50.4252,279.042 53.189,177.967 55.9528,162.852 58.7165,164.263 61.4803,226.34 64.2441,232.245 \n",
       "  67.0079,221.587 69.7717,204.718 72.5354,200.589 75.2992,262.105 78.063,242.969 80.8268,208.166 83.5906,242.169 86.3543,257.908 89.1181,214.947 91.8819,210.173 \n",
       "  94.6457,226.609 97.4094,278.289 100.173,233.294 102.937,164.618 105.701,156.465 108.465,239.748 111.228,164.003 113.992,224.873 116.756,216.065 119.52,219.86 \n",
       "  122.283,168.928 125.047,156.371 127.811,243.914 130.575,195.571 133.339,220.56 136.102,217.603 138.866,214.93 141.63,212.767 144.394,205.881 147.157,212.283 \n",
       "  149.921,214.822 152.685,208.032 155.449,175.202 158.213,274.161 160.976,233.725 163.74,200.784 166.504,203.55 169.268,237.063 172.031,158.862 174.795,229.928 \n",
       "  177.559,193.412 180.323,265.564 183.087,204.093 185.85,234.166 188.614,202.429 191.378,222.667 194.142,242.365 196.906,190.478 199.669,245.603 202.433,209.063 \n",
       "  205.197,268.256 207.961,255.769 210.724,261.162 213.488,210.402 216.252,244.078 219.016,240.352 221.78,238.685 224.543,244.307 227.307,266.824 230.071,222.802 \n",
       "  232.835,235.296 235.598,207.858 238.362,209.953 241.126,258.873 243.89,281.566 246.654,184.177 249.417,244.2 252.181,222.153 254.945,210.461 257.709,220.422 \n",
       "  260.472,211.594 263.236,233.029 266,230.427 268.764,204.335 271.528,232.942 274.291,260.088 277.055,222.841 279.819,218.153 282.583,185.292 285.346,221.684 \n",
       "  288.11,209.673 290.874,265.375 293.638,224.618 296.402,252.991 299.165,230.702 301.929,239.168 304.693,217.076 307.457,247.951 310.22,192.3 312.984,175.672 \n",
       "  315.748,248.004 318.512,254.273 321.276,213.743 324.039,191.214 326.803,287.709 329.567,202.448 332.331,138.542 335.094,218.2 337.858,229.454 340.622,207.605 \n",
       "  343.386,213.468 346.15,264.162 348.913,204.111 351.677,239.554 354.441,243.863 357.205,237.123 359.969,236.368 362.732,227.447 365.496,259.143 368.26,235.563 \n",
       "  371.024,247.225 373.787,199.157 376.551,248.173 379.315,213.575 382.079,249.231 384.843,275.258 387.606,197.865 390.37,241.109 393.134,217.078 395.898,240.613 \n",
       "  398.661,224.073 401.425,239.477 404.189,262.136 406.953,282.606 409.717,201.749 412.48,239.916 415.244,181.601 418.008,191.022 420.772,181.357 423.535,262.534 \n",
       "  426.299,265.743 429.063,222.595 431.827,216.727 434.591,191.145 437.354,240.507 440.118,233.347 442.882,251.025 445.646,223.377 448.409,219.029 451.173,232.603 \n",
       "  453.937,242.243 456.701,239.277 459.465,153.552 462.228,228.319 464.992,144.209 467.756,206.091 470.52,205.708 473.283,201.368 476.047,243.935 478.811,183.773 \n",
       "  481.575,234.756 484.339,227.626 487.102,253.266 489.866,208.83 492.63,212.56 495.394,210.667 498.157,223.43 500.921,188.255 503.685,256.687 506.449,247.311 \n",
       "  509.213,254.602 511.976,199.832 514.74,169.743 517.504,218.357 520.268,197.865 523.031,208.202 525.795,201.117 528.559,146.872 531.323,216.563 534.087,178.725 \n",
       "  536.85,224.883 539.614,259.715 542.378,218.291 545.142,250.553 547.906,275.368 550.669,215.848 553.433,260.695 556.197,240.149 558.961,192.523 561.724,256.917 \n",
       "  564.488,264.634 567.252,236.411 570.016,203.093 572.78,234.514 575.543,221.173 578.307,230.846 581.071,231.585 583.835,251.08 586.598,199.984 589.362,187.809 \n",
       "  592.126,255.173 \n",
       "  \"/>\n",
       "<polyline clip-path=\"url(#clip4802)\" style=\"stroke:#e26f46; stroke-width:1; stroke-opacity:1; fill:none\" points=\"\n",
       "  39.3701,220.351 42.1339,251.074 44.8976,241.208 47.6614,246.76 50.4252,290.908 53.189,239.019 55.9528,200.942 58.7165,239.617 61.4803,189.241 64.2441,151.923 \n",
       "  67.0079,172.608 69.7717,205.193 72.5354,183.422 75.2992,202.68 78.063,240.464 80.8268,199.555 83.5906,237.714 86.3543,208.291 89.1181,146.662 91.8819,163.364 \n",
       "  94.6457,201.081 97.4094,173.485 100.173,160.322 102.937,149.617 105.701,191.362 108.465,157.693 111.228,211.062 113.992,238.192 116.756,233.688 119.52,209.594 \n",
       "  122.283,160.055 125.047,206.049 127.811,154.205 130.575,166.025 133.339,179.732 136.102,222.733 138.866,180.975 141.63,193.798 144.394,204.101 147.157,222.941 \n",
       "  149.921,257.047 152.685,290.529 155.449,277.711 158.213,215.329 160.976,191.87 163.74,151.251 166.504,203.251 169.268,162.327 172.031,207.101 174.795,189.522 \n",
       "  177.559,237.237 180.323,181.467 183.087,215.532 185.85,257.875 188.614,224.343 191.378,269.916 194.142,239.166 196.906,198.387 199.669,180.506 202.433,248.653 \n",
       "  205.197,232.262 207.961,150.277 210.724,225.753 213.488,188.592 216.252,145.837 219.016,181.493 221.78,192.464 224.543,190.483 227.307,187.968 230.071,216.02 \n",
       "  232.835,215.811 235.598,253.53 238.362,290.482 241.126,291.223 243.89,275.041 246.654,277.081 249.417,303.736 252.181,237.644 254.945,227.786 257.709,233.361 \n",
       "  260.472,201.08 263.236,205.378 266,217.395 268.764,183.029 271.528,225.611 274.291,217.483 277.055,223.275 279.819,205.299 282.583,186.46 285.346,245.141 \n",
       "  288.11,270.091 290.874,189.639 293.638,170.771 296.402,190.502 299.165,228.165 301.929,200.59 304.693,244.984 307.457,230.242 310.22,239.853 312.984,219.031 \n",
       "  315.748,192.029 318.512,202.94 321.276,215.303 324.039,210.785 326.803,220.395 329.567,188.597 332.331,229.096 335.094,186.027 337.858,241.343 340.622,266.197 \n",
       "  343.386,276.985 346.15,233.839 348.913,289.313 351.677,277.336 354.441,213.084 357.205,285.207 359.969,224.298 362.732,213.183 365.496,243.289 368.26,218.249 \n",
       "  371.024,236.327 373.787,240.113 376.551,273.892 379.315,255.358 382.079,193.003 384.843,237.472 387.606,198.33 390.37,166.1 393.134,164.005 395.898,194.169 \n",
       "  398.661,175.18 401.425,158.492 404.189,221.956 406.953,184.053 409.717,207.893 412.48,220.962 415.244,225.287 418.008,180.91 420.772,237.93 423.535,206.248 \n",
       "  426.299,180.683 429.063,166.812 431.827,182.04 434.591,191.704 437.354,232.707 440.118,235.381 442.882,284.709 445.646,280.113 448.409,262.529 451.173,239.582 \n",
       "  453.937,249.894 456.701,226.075 459.465,244.63 462.228,190.899 464.992,175.997 467.756,163.996 470.52,193.04 473.283,205.597 476.047,213.533 478.811,214.564 \n",
       "  481.575,216.747 484.339,217.626 487.102,244.073 489.866,303.871 492.63,273.344 495.394,208.497 498.157,189.935 500.921,265.478 503.685,251.241 506.449,239.295 \n",
       "  509.213,235.523 511.976,228.434 514.74,169.427 517.504,199.733 520.268,204.324 523.031,168.795 525.795,202.457 528.559,270.287 531.323,286.525 534.087,215.635 \n",
       "  536.85,142.211 539.614,184.73 542.378,203.748 545.142,192.892 547.906,218.639 550.669,223.146 553.433,204.386 556.197,197.738 558.961,176.052 561.724,193.629 \n",
       "  564.488,213.68 567.252,177.835 570.016,189.143 572.78,196.674 575.543,181.789 578.307,184.471 581.071,131.719 583.835,180.289 586.598,232.88 589.362,258.732 \n",
       "  592.126,228.281 \n",
       "  \"/>\n",
       "<polyline clip-path=\"url(#clip4802)\" style=\"stroke:#3da44d; stroke-width:1; stroke-opacity:1; fill:none\" points=\"\n",
       "  39.3701,220.351 42.1339,244.569 44.8976,209.144 47.6614,191.655 50.4252,129.231 53.189,119.15 55.9528,141.675 58.7165,132.024 61.4803,132.654 64.2441,101.7 \n",
       "  67.0079,90.0281 69.7717,93.7774 72.5354,102.2 75.2992,111.405 78.063,107.562 80.8268,123.755 83.5906,122.851 86.3543,147.596 89.1181,160.467 91.8819,140.658 \n",
       "  94.6457,134.833 97.4094,152.028 100.173,162.363 102.937,130.58 105.701,95.9901 108.465,67.4311 111.228,36.8552 113.992,17.071 116.756,7.87402 119.52,57.0484 \n",
       "  122.283,28.8442 125.047,56.3346 127.811,42.6835 130.575,107.123 133.339,89.1133 136.102,129.487 138.866,143.178 141.63,178.16 144.394,219.163 147.157,206.935 \n",
       "  149.921,217.594 152.685,190.556 155.449,199.555 158.213,163.985 160.976,157.132 163.74,208.851 166.504,183.597 169.268,197.471 172.031,219.718 174.795,247.069 \n",
       "  177.559,238.041 180.323,220.927 183.087,214.398 185.85,206.636 188.614,214.741 191.378,161.232 194.142,209.972 196.906,228.415 199.669,240.652 202.433,245.58 \n",
       "  205.197,227.449 207.961,197.804 210.724,232.453 213.488,206.937 216.252,187.993 219.016,188.975 221.78,219.296 224.543,228.31 227.307,172.294 230.071,202.446 \n",
       "  232.835,206.645 235.598,226.603 238.362,202.492 241.126,257.31 243.89,255.075 246.654,219.389 249.417,239.302 252.181,244.724 254.945,247.014 257.709,248.58 \n",
       "  260.472,258.559 263.236,272.3 266,268.133 268.764,249.213 271.528,239.027 274.291,247.745 277.055,244.615 279.819,285.544 282.583,277.892 285.346,251.486 \n",
       "  288.11,262.052 290.874,233.654 293.638,159.33 296.402,147.171 299.165,126.065 301.929,117.733 304.693,132.217 307.457,123.874 310.22,120.202 312.984,118.282 \n",
       "  315.748,140.685 318.512,139.309 321.276,166.713 324.039,224.049 326.803,217.749 329.567,250.956 332.331,224.744 335.094,193.509 337.858,230.778 340.622,194.663 \n",
       "  343.386,203.707 346.15,210.71 348.913,223.404 351.677,261.094 354.441,270.908 357.205,248.356 359.969,266.56 362.732,231.96 365.496,247.455 368.26,276.633 \n",
       "  371.024,313.661 373.787,329.558 376.551,289.138 379.315,318.939 382.079,306.235 384.843,317.981 387.606,284.326 390.37,319.648 393.134,298.809 395.898,204.545 \n",
       "  398.661,171.649 401.425,172.458 404.189,208.956 406.953,202.668 409.717,225.584 412.48,174.629 415.244,152.944 418.008,152.888 420.772,135.943 423.535,112.346 \n",
       "  426.299,149.636 429.063,180.01 431.827,166.004 434.591,158.248 437.354,183.085 440.118,175.085 442.882,172.157 445.646,190.745 448.409,223.995 451.173,203.434 \n",
       "  453.937,238.888 456.701,251.388 459.465,224.006 462.228,228.989 464.992,173.843 467.756,135.463 470.52,166.989 473.283,154.155 476.047,157.231 478.811,190.357 \n",
       "  481.575,208.08 484.339,171.933 487.102,180.717 489.866,141.551 492.63,150.758 495.394,157.537 498.157,102.714 500.921,49.3255 503.685,105.666 506.449,98.5735 \n",
       "  509.213,81.0721 511.976,96.9203 514.74,96.7912 517.504,92.0513 520.268,140.205 523.031,157.706 525.795,208.174 528.559,239.776 531.323,304.234 534.087,256.062 \n",
       "  536.85,278.777 539.614,292.959 542.378,307.243 545.142,272.884 547.906,290.901 550.669,292.865 553.433,257.039 556.197,232.836 558.961,256.689 561.724,295.357 \n",
       "  564.488,281.829 567.252,316.656 570.016,297.981 572.78,305.813 575.543,336.659 578.307,347.825 581.071,368.504 583.835,356.908 586.598,352.382 589.362,363.471 \n",
       "  592.126,364.583 \n",
       "  \"/>\n",
       "<polygon clip-path=\"url(#clip4800)\" points=\"\n",
       "501.419,89.234 574.126,89.234 574.126,28.754 501.419,28.754 \n",
       "  \" fill=\"#ffffff\" fill-opacity=\"1\"/>\n",
       "<polyline clip-path=\"url(#clip4800)\" style=\"stroke:#000000; stroke-width:1; stroke-opacity:1; fill:none\" points=\"\n",
       "  501.419,89.234 574.126,89.234 574.126,28.754 501.419,28.754 501.419,89.234 \n",
       "  \"/>\n",
       "<polyline clip-path=\"url(#clip4800)\" style=\"stroke:#009af9; stroke-width:1; stroke-opacity:1; fill:none\" points=\"\n",
       "  507.419,43.874 543.419,43.874 \n",
       "  \"/>\n",
       "<g clip-path=\"url(#clip4800)\">\n",
       "<text style=\"fill:#000000; fill-opacity:1; font-family:Arial,Helvetica Neue,Helvetica,sans-serif; font-size:12; text-anchor:start;\" transform=\"rotate(0, 549.419, 48.374)\" x=\"549.419\" y=\"48.374\">y1</text>\n",
       "</g>\n",
       "<polyline clip-path=\"url(#clip4800)\" style=\"stroke:#e26f46; stroke-width:1; stroke-opacity:1; fill:none\" points=\"\n",
       "  507.419,58.994 543.419,58.994 \n",
       "  \"/>\n",
       "<g clip-path=\"url(#clip4800)\">\n",
       "<text style=\"fill:#000000; fill-opacity:1; font-family:Arial,Helvetica Neue,Helvetica,sans-serif; font-size:12; text-anchor:start;\" transform=\"rotate(0, 549.419, 63.494)\" x=\"549.419\" y=\"63.494\">y2</text>\n",
       "</g>\n",
       "<polyline clip-path=\"url(#clip4800)\" style=\"stroke:#3da44d; stroke-width:1; stroke-opacity:1; fill:none\" points=\"\n",
       "  507.419,74.114 543.419,74.114 \n",
       "  \"/>\n",
       "<g clip-path=\"url(#clip4800)\">\n",
       "<text style=\"fill:#000000; fill-opacity:1; font-family:Arial,Helvetica Neue,Helvetica,sans-serif; font-size:12; text-anchor:start;\" transform=\"rotate(0, 549.419, 78.614)\" x=\"549.419\" y=\"78.614\">y3</text>\n",
       "</g>\n",
       "</svg>\n"
      ]
     },
     "execution_count": 8,
     "metadata": {},
     "output_type": "execute_result"
    }
   ],
   "source": [
    "ar_(T) = a -> _ar(T, a)\n",
    "ar = ar_(200)\n",
    "\n",
    "ar1 = ar(0)\n",
    "ar2 = ar(0.5)\n",
    "ar3 = ar(0.9)\n",
    "\n",
    "gr()\n",
    "plot([ar1, ar2, ar3])"
   ]
  },
  {
   "cell_type": "code",
   "execution_count": null,
   "metadata": {},
   "outputs": [],
   "source": []
  }
 ],
 "metadata": {
  "kernelspec": {
   "display_name": "Julia 0.5.2",
   "language": "julia",
   "name": "julia-0.5"
  },
  "language_info": {
   "file_extension": ".jl",
   "mimetype": "application/julia",
   "name": "julia",
   "version": "0.5.2"
  }
 },
 "nbformat": 4,
 "nbformat_minor": 2
}
