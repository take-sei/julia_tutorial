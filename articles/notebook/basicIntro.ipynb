{
 "cells": [
  {
   "cell_type": "markdown",
   "metadata": {},
   "source": [
    "# Basic Introduction to Julia\n",
    "とりあえずJuliaに触ってみよう.\n",
    "基本的なスクリプト言語と書き方は同じです.\n",
    "なんて言ったって, use like python, run like c, ですし.\n",
    "\n",
    "## see also here\n",
    " - https://docs.julialang.org/en/latest/\n",
    " - https://gitter.im/JuliaLang/julia  \n",
    "Generally, discussued Juylia0.6.2"
   ]
  },
  {
   "cell_type": "markdown",
   "metadata": {},
   "source": [
    "## 1. 開発用ツール\n",
    "Juliaにはたくさんのdocumentation toolがあるけどたくさんありすぎて紹介しきれないので, そのうちのいくつかを紹介.\n",
    "\n",
    "Juliaはひとつの関数に対して複数のメソッドを多重ディスパッチすることが可能であるため, 特に関数に関するtoolが多いです.\n",
    "\n",
    "- methods()\n",
    "- @which\n",
    "- fieldnames()\n",
    "- typeof()\n",
    "-  @code_lowered\n",
    "- ?"
   ]
  },
  {
   "cell_type": "code",
   "execution_count": 1,
   "metadata": {},
   "outputs": [
    {
     "data": {
      "text/html": [
       "45 methods for generic function <b>copy</b>:<ul><li> copy(e::<b>Expr</b>) at <a href=\"https://github.com/JuliaLang/julia/tree/f4c6c9d4bbbd9587d84494e314f692c15ff1f9c0/base/expr.jl#L25\" target=\"_blank\">expr.jl:25</a></li> <li> copy(s::<b>IntSet</b>) at <a href=\"https://github.com/JuliaLang/julia/tree/f4c6c9d4bbbd9587d84494e314f692c15ff1f9c0/base/intset.jl#L34\" target=\"_blank\">intset.jl:34</a></li> <li> copy(o::<b>ObjectIdDict</b>) at <a href=\"https://github.com/JuliaLang/julia/tree/f4c6c9d4bbbd9587d84494e314f692c15ff1f9c0/base/dict.jl#L320\" target=\"_blank\">dict.jl:320</a></li> <li> copy(src::<b>Base.dSFMT.DSFMT_state</b>) at <a href=\"https://github.com/JuliaLang/julia/tree/f4c6c9d4bbbd9587d84494e314f692c15ff1f9c0/base/dSFMT.jl#L32\" target=\"_blank\">dSFMT.jl:32</a></li> <li> copy(src::<b>MersenneTwister</b>) at <a href=\"https://github.com/JuliaLang/julia/tree/f4c6c9d4bbbd9587d84494e314f692c15ff1f9c0/base/random.jl#L91\" target=\"_blank\">random.jl:91</a></li> <li> copy(src::<b>Base.LibGit2.StrArrayStruct</b>) at <a href=\"https://github.com/JuliaLang/julia/tree/f4c6c9d4bbbd9587d84494e314f692c15ff1f9c0/base/libgit2/strarray.jl#L32\" target=\"_blank\">libgit2/strarray.jl:32</a></li> <li> copy(A::<b>Base.Pkg.Types.VersionSet</b>) at <a href=\"https://github.com/JuliaLang/julia/tree/f4c6c9d4bbbd9587d84494e314f692c15ff1f9c0/base/pkg/types.jl#L49\" target=\"_blank\">pkg/types.jl:49</a></li> <li> copy(a::<b>Base.Pkg.Resolve.VersionWeights.VWPreBuildItem</b>) at <a href=\"https://github.com/JuliaLang/julia/tree/f4c6c9d4bbbd9587d84494e314f692c15ff1f9c0/base/pkg/resolve/versionweight.jl#L101\" target=\"_blank\">pkg/resolve/versionweight.jl:101</a></li> <li> copy(a::<b>Base.Pkg.Resolve.VersionWeights.VWPreBuild</b>) at <a href=\"https://github.com/JuliaLang/julia/tree/f4c6c9d4bbbd9587d84494e314f692c15ff1f9c0/base/pkg/resolve/versionweight.jl#L159\" target=\"_blank\">pkg/resolve/versionweight.jl:159</a></li> <li> copy(a::<b>Base.Pkg.Resolve.VersionWeights.VersionWeight</b>) at <a href=\"https://github.com/JuliaLang/julia/tree/f4c6c9d4bbbd9587d84494e314f692c15ff1f9c0/base/pkg/resolve/versionweight.jl#L219\" target=\"_blank\">pkg/resolve/versionweight.jl:219</a></li> <li> copy(a::<b>Base.Pkg.Resolve.MaxSum.FieldValues.FieldValue</b>) at <a href=\"https://github.com/JuliaLang/julia/tree/f4c6c9d4bbbd9587d84494e314f692c15ff1f9c0/base/pkg/resolve/fieldvalue.jl#L69\" target=\"_blank\">pkg/resolve/fieldvalue.jl:69</a></li> <li> copy(r::<b>Range</b>) at <a href=\"https://github.com/JuliaLang/julia/tree/f4c6c9d4bbbd9587d84494e314f692c15ff1f9c0/base/range.jl#L433\" target=\"_blank\">range.jl:433</a></li> <li> copy(x::<b>Number</b>) at <a href=\"https://github.com/JuliaLang/julia/tree/f4c6c9d4bbbd9587d84494e314f692c15ff1f9c0/base/number.jl#L32\" target=\"_blank\">number.jl:32</a></li> <li> copy<i>{T<:Array{T,N}}</i>(a::<b>T</b>) at <a href=\"https://github.com/JuliaLang/julia/tree/f4c6c9d4bbbd9587d84494e314f692c15ff1f9c0/base/array.jl#L70\" target=\"_blank\">array.jl:70</a></li> <li> copy(M::<b>SymTridiagonal</b>) at <a href=\"https://github.com/JuliaLang/julia/tree/f4c6c9d4bbbd9587d84494e314f692c15ff1f9c0/base/linalg/tridiag.jl#L75\" target=\"_blank\">linalg/tridiag.jl:75</a></li> <li> copy(M::<b>Tridiagonal</b>) at <a href=\"https://github.com/JuliaLang/julia/tree/f4c6c9d4bbbd9587d84494e314f692c15ff1f9c0/base/linalg/tridiag.jl#L393\" target=\"_blank\">linalg/tridiag.jl:393</a></li> <li> copy(A::<b>LowerTriangular</b>) at <a href=\"https://github.com/JuliaLang/julia/tree/f4c6c9d4bbbd9587d84494e314f692c15ff1f9c0/base/linalg/triangular.jl#L33\" target=\"_blank\">linalg/triangular.jl:33</a></li> <li> copy(A::<b>Base.LinAlg.UnitLowerTriangular</b>) at <a href=\"https://github.com/JuliaLang/julia/tree/f4c6c9d4bbbd9587d84494e314f692c15ff1f9c0/base/linalg/triangular.jl#L33\" target=\"_blank\">linalg/triangular.jl:33</a></li> <li> copy(A::<b>UpperTriangular</b>) at <a href=\"https://github.com/JuliaLang/julia/tree/f4c6c9d4bbbd9587d84494e314f692c15ff1f9c0/base/linalg/triangular.jl#L33\" target=\"_blank\">linalg/triangular.jl:33</a></li> <li> copy(A::<b>Base.LinAlg.UnitUpperTriangular</b>) at <a href=\"https://github.com/JuliaLang/julia/tree/f4c6c9d4bbbd9587d84494e314f692c15ff1f9c0/base/linalg/triangular.jl#L33\" target=\"_blank\">linalg/triangular.jl:33</a></li> <li> copy<i>{T,S}</i>(A::<b>Symmetric{T,S}</b>) at <a href=\"https://github.com/JuliaLang/julia/tree/f4c6c9d4bbbd9587d84494e314f692c15ff1f9c0/base/linalg/symmetric.jl#L96\" target=\"_blank\">linalg/symmetric.jl:96</a></li> <li> copy<i>{T,S}</i>(A::<b>Hermitian{T,S}</b>) at <a href=\"https://github.com/JuliaLang/julia/tree/f4c6c9d4bbbd9587d84494e314f692c15ff1f9c0/base/linalg/symmetric.jl#L97\" target=\"_blank\">linalg/symmetric.jl:97</a></li> <li> copy(M::<b>Bidiagonal</b>) at <a href=\"https://github.com/JuliaLang/julia/tree/f4c6c9d4bbbd9587d84494e314f692c15ff1f9c0/base/linalg/bidiag.jl#L193\" target=\"_blank\">linalg/bidiag.jl:193</a></li> <li> copy<i>{T,P<:SparseMatrixCSC{Tv,Ti<:Integer}}</i>(ra::<b>Base.ReshapedArray{T,2,P,MI<:Tuple{Vararg{Base.MultiplicativeInverses.SignedMultiplicativeInverse{Int64},N<:Any}}}</b>) at <a href=\"https://github.com/JuliaLang/julia/tree/f4c6c9d4bbbd9587d84494e314f692c15ff1f9c0/base/sparse/sparsematrix.jl#L186\" target=\"_blank\">sparse/sparsematrix.jl:186</a></li> <li> copy(S::<b>SparseMatrixCSC</b>) at <a href=\"https://github.com/JuliaLang/julia/tree/f4c6c9d4bbbd9587d84494e314f692c15ff1f9c0/base/sparse/sparsematrix.jl#L201\" target=\"_blank\">sparse/sparsematrix.jl:201</a></li> <li> copy<i>{Tv<:Float64}</i>(A::<b>Base.SparseArrays.CHOLMOD.Sparse{Tv}</b>, stype::<b>Integer</b>, mode::<b>Integer</b>) at <a href=\"https://github.com/JuliaLang/julia/tree/f4c6c9d4bbbd9587d84494e314f692c15ff1f9c0/base/sparse/cholmod.jl#L596\" target=\"_blank\">sparse/cholmod.jl:596</a></li> <li> copy(A::<b>Base.SparseArrays.CHOLMOD.Sparse</b>) at <a href=\"https://github.com/JuliaLang/julia/tree/f4c6c9d4bbbd9587d84494e314f692c15ff1f9c0/base/sparse/cholmod.jl#L1130\" target=\"_blank\">sparse/cholmod.jl:1130</a></li> <li> copy(x::<b>AbstractSparseArray{Tv<:Any,Ti<:Any,1}</b>) at <a href=\"https://github.com/JuliaLang/julia/tree/f4c6c9d4bbbd9587d84494e314f692c15ff1f9c0/base/sparse/sparsevector.jl#L752\" target=\"_blank\">sparse/sparsevector.jl:752</a></li> <li> copy(A::<b>Base.SparseArrays.CHOLMOD.Dense</b>) at <a href=\"https://github.com/JuliaLang/julia/tree/f4c6c9d4bbbd9587d84494e314f692c15ff1f9c0/base/sparse/cholmod.jl#L1129\" target=\"_blank\">sparse/cholmod.jl:1129</a></li> <li> copy(a::<b>AbstractArray</b>) at <a href=\"https://github.com/JuliaLang/julia/tree/f4c6c9d4bbbd9587d84494e314f692c15ff1f9c0/base/abstractarray.jl#L607\" target=\"_blank\">abstractarray.jl:607</a></li> <li> copy(d::<b>Dict</b>) at <a href=\"https://github.com/JuliaLang/julia/tree/f4c6c9d4bbbd9587d84494e314f692c15ff1f9c0/base/dict.jl#L373\" target=\"_blank\">dict.jl:373</a></li> <li> copy(a::<b>Associative</b>) at <a href=\"https://github.com/JuliaLang/julia/tree/f4c6c9d4bbbd9587d84494e314f692c15ff1f9c0/base/dict.jl#L123\" target=\"_blank\">dict.jl:123</a></li> <li> copy(s::<b>Set</b>) at <a href=\"https://github.com/JuliaLang/julia/tree/f4c6c9d4bbbd9587d84494e314f692c15ff1f9c0/base/set.jl#L41\" target=\"_blank\">set.jl:41</a></li> <li> copy(b::<b>Base.AbstractIOBuffer</b>) at <a href=\"https://github.com/JuliaLang/julia/tree/f4c6c9d4bbbd9587d84494e314f692c15ff1f9c0/base/iobuffer.jl#L38\" target=\"_blank\">iobuffer.jl:38</a></li> <li> copy(A::<b>Base.LinAlg.LQ</b>) at <a href=\"https://github.com/JuliaLang/julia/tree/f4c6c9d4bbbd9587d84494e314f692c15ff1f9c0/base/linalg/lq.jl#L48\" target=\"_blank\">linalg/lq.jl:48</a></li> <li> copy(F::<b>Base.LinAlg.Schur</b>) at <a href=\"https://github.com/JuliaLang/julia/tree/f4c6c9d4bbbd9587d84494e314f692c15ff1f9c0/base/linalg/schur.jl#L216\" target=\"_blank\">linalg/schur.jl:216</a></li> <li> copy(F::<b>Base.LinAlg.GeneralizedSchur</b>) at <a href=\"https://github.com/JuliaLang/julia/tree/f4c6c9d4bbbd9587d84494e314f692c15ff1f9c0/base/linalg/schur.jl#L217\" target=\"_blank\">linalg/schur.jl:217</a></li> <li> copy(C::<b>Base.LinAlg.Cholesky</b>) at <a href=\"https://github.com/JuliaLang/julia/tree/f4c6c9d4bbbd9587d84494e314f692c15ff1f9c0/base/linalg/cholesky.jl#L349\" target=\"_blank\">linalg/cholesky.jl:349</a></li> <li> copy(C::<b>Base.LinAlg.CholeskyPivoted</b>) at <a href=\"https://github.com/JuliaLang/julia/tree/f4c6c9d4bbbd9587d84494e314f692c15ff1f9c0/base/linalg/cholesky.jl#L350\" target=\"_blank\">linalg/cholesky.jl:350</a></li> <li> copy(J::<b>UniformScaling</b>) at <a href=\"https://github.com/JuliaLang/julia/tree/f4c6c9d4bbbd9587d84494e314f692c15ff1f9c0/base/linalg/uniformscaling.jl#L22\" target=\"_blank\">linalg/uniformscaling.jl:22</a></li> <li> copy<i>{T}</i>(a::<b>Base.Pkg.Resolve.VersionWeights.HierarchicalValue{T}</b>) at <a href=\"https://github.com/JuliaLang/julia/tree/f4c6c9d4bbbd9587d84494e314f692c15ff1f9c0/base/pkg/resolve/versionweight.jl#L71\" target=\"_blank\">pkg/resolve/versionweight.jl:71</a></li> <li> copy(A::<b>Base.SparseArrays.CHOLMOD.Factor</b>) at <a href=\"https://github.com/JuliaLang/julia/tree/f4c6c9d4bbbd9587d84494e314f692c15ff1f9c0/base/sparse/cholmod.jl#L1131\" target=\"_blank\">sparse/cholmod.jl:1131</a></li> <li> copy(x::<b>AbstractString</b>) at <a href=\"https://github.com/JuliaLang/julia/tree/f4c6c9d4bbbd9587d84494e314f692c15ff1f9c0/base/deprecated.jl#L49\" target=\"_blank\">deprecated.jl:49</a></li> <li> copy(x::<b>Tuple</b>) at <a href=\"https://github.com/JuliaLang/julia/tree/f4c6c9d4bbbd9587d84494e314f692c15ff1f9c0/base/deprecated.jl#L49\" target=\"_blank\">deprecated.jl:49</a></li> <li> copy(md::<b>MbedTLS.MD</b>) at <a href=\"https://github.com/JuliaWeb/MbedTLS.jl/tree/173250ee12dc581fa8f22d8ab5173a89e528497e/src/md.jl#L93\" target=\"_blank\">/home/takesei/.julia/v0.5/MbedTLS/src/md.jl:93</a></li> </ul>"
      ],
      "text/plain": [
       "# 45 methods for generic function \"copy\":\n",
       "copy(e::Expr) at expr.jl:25\n",
       "copy(s::IntSet) at intset.jl:34\n",
       "copy(o::ObjectIdDict) at dict.jl:320\n",
       "copy(src::Base.dSFMT.DSFMT_state) at dSFMT.jl:32\n",
       "copy(src::MersenneTwister) at random.jl:91\n",
       "copy(src::Base.LibGit2.StrArrayStruct) at libgit2/strarray.jl:32\n",
       "copy(A::Base.Pkg.Types.VersionSet) at pkg/types.jl:49\n",
       "copy(a::Base.Pkg.Resolve.VersionWeights.VWPreBuildItem) at pkg/resolve/versionweight.jl:101\n",
       "copy(a::Base.Pkg.Resolve.VersionWeights.VWPreBuild) at pkg/resolve/versionweight.jl:159\n",
       "copy(a::Base.Pkg.Resolve.VersionWeights.VersionWeight) at pkg/resolve/versionweight.jl:219\n",
       "copy(a::Base.Pkg.Resolve.MaxSum.FieldValues.FieldValue) at pkg/resolve/fieldvalue.jl:69\n",
       "copy(r::Range) at range.jl:433\n",
       "copy(x::Number) at number.jl:32\n",
       "copy{T<:Array{T,N}}(a::T) at array.jl:70\n",
       "copy(M::SymTridiagonal) at linalg/tridiag.jl:75\n",
       "copy(M::Tridiagonal) at linalg/tridiag.jl:393\n",
       "copy(A::LowerTriangular) at linalg/triangular.jl:33\n",
       "copy(A::Base.LinAlg.UnitLowerTriangular) at linalg/triangular.jl:33\n",
       "copy(A::UpperTriangular) at linalg/triangular.jl:33\n",
       "copy(A::Base.LinAlg.UnitUpperTriangular) at linalg/triangular.jl:33\n",
       "copy{T,S}(A::Symmetric{T,S}) at linalg/symmetric.jl:96\n",
       "copy{T,S}(A::Hermitian{T,S}) at linalg/symmetric.jl:97\n",
       "copy(M::Bidiagonal) at linalg/bidiag.jl:193\n",
       "copy{T,P<:SparseMatrixCSC{Tv,Ti<:Integer}}(ra::Base.ReshapedArray{T,2,P,MI<:Tuple{Vararg{Base.MultiplicativeInverses.SignedMultiplicativeInverse{Int64},N<:Any}}}) at sparse/sparsematrix.jl:186\n",
       "copy(S::SparseMatrixCSC) at sparse/sparsematrix.jl:201\n",
       "copy{Tv<:Float64}(A::Base.SparseArrays.CHOLMOD.Sparse{Tv}, stype::Integer, mode::Integer) at sparse/cholmod.jl:596\n",
       "copy(A::Base.SparseArrays.CHOLMOD.Sparse) at sparse/cholmod.jl:1130\n",
       "copy(x::AbstractSparseArray{Tv<:Any,Ti<:Any,1}) at sparse/sparsevector.jl:752\n",
       "copy(A::Base.SparseArrays.CHOLMOD.Dense) at sparse/cholmod.jl:1129\n",
       "copy(a::AbstractArray) at abstractarray.jl:607\n",
       "copy(d::Dict) at dict.jl:373\n",
       "copy(a::Associative) at dict.jl:123\n",
       "copy(s::Set) at set.jl:41\n",
       "copy(b::Base.AbstractIOBuffer) at iobuffer.jl:38\n",
       "copy(A::Base.LinAlg.LQ) at linalg/lq.jl:48\n",
       "copy(F::Base.LinAlg.Schur) at linalg/schur.jl:216\n",
       "copy(F::Base.LinAlg.GeneralizedSchur) at linalg/schur.jl:217\n",
       "copy(C::Base.LinAlg.Cholesky) at linalg/cholesky.jl:349\n",
       "copy(C::Base.LinAlg.CholeskyPivoted) at linalg/cholesky.jl:350\n",
       "copy(J::UniformScaling) at linalg/uniformscaling.jl:22\n",
       "copy{T}(a::Base.Pkg.Resolve.VersionWeights.HierarchicalValue{T}) at pkg/resolve/versionweight.jl:71\n",
       "copy(A::Base.SparseArrays.CHOLMOD.Factor) at sparse/cholmod.jl:1131\n",
       "copy(x::AbstractString) at deprecated.jl:49\n",
       "copy(x::Tuple) at deprecated.jl:49\n",
       "copy(md::MbedTLS.MD) at /home/takesei/.julia/v0.5/MbedTLS/src/md.jl:93"
      ]
     },
     "execution_count": 1,
     "metadata": {},
     "output_type": "execute_result"
    }
   ],
   "source": [
    "methods(copy) # methods()...ある名前で定義されているメソッドを出力"
   ]
  },
  {
   "cell_type": "code",
   "execution_count": 67,
   "metadata": {},
   "outputs": [
    {
     "data": {
      "text/html": [
       "copy<i>{T<:Array{T,N}}</i>(a::<b>T</b>) at <a href=\"https://github.com/JuliaLang/julia/tree/f4c6c9d4bbbd9587d84494e314f692c15ff1f9c0/base/array.jl#L70\" target=\"_blank\">array.jl:70</a>"
      ],
      "text/plain": [
       "copy{T<:Array{T,N}}(a::T) at array.jl:70"
      ]
     },
     "execution_count": 67,
     "metadata": {},
     "output_type": "execute_result"
    }
   ],
   "source": [
    "@which(copy([1, 2, 3])) # @which...関数のどのメソッドが呼ばれているかを出力"
   ]
  },
  {
   "cell_type": "code",
   "execution_count": 68,
   "metadata": {},
   "outputs": [
    {
     "data": {
      "text/plain": [
       "2-element Array{Symbol,1}:\n",
       " :data\n",
       " :uplo"
      ]
     },
     "execution_count": 68,
     "metadata": {},
     "output_type": "execute_result"
    }
   ],
   "source": [
    "fieldnames(Hermitian) # filednames()...構造体の中身のタイプを出力"
   ]
  },
  {
   "cell_type": "code",
   "execution_count": 4,
   "metadata": {},
   "outputs": [
    {
     "data": {
      "text/plain": [
       "Array{Int64,1}"
      ]
     },
     "execution_count": 4,
     "metadata": {},
     "output_type": "execute_result"
    }
   ],
   "source": [
    "typeof([1;2;3]) # typeof()... 型を出力, c.f. ;は改行, つまりこれは列ベクトル"
   ]
  },
  {
   "cell_type": "code",
   "execution_count": 69,
   "metadata": {},
   "outputs": [
    {
     "data": {
      "text/plain": [
       "LambdaInfo template for sin(x::Float64) at math.jl:202\n",
       ":(begin \n",
       "        nothing\n",
       "        SSAValue(0) = (Base.cconvert)(Base.Math.Float64,x)\n",
       "        SSAValue(1) = (Core.ccall)((Core.tuple)(\"sin\",Base.Math.libm),Base.Math.Float64,(Core.svec)(Base.Math.Float64),(Base.unsafe_convert)(Base.Math.Float64,SSAValue(0)),SSAValue(0))\n",
       "        return (Base.Math.nan_dom_err)(SSAValue(1),x)\n",
       "    end)"
      ]
     },
     "execution_count": 69,
     "metadata": {},
     "output_type": "execute_result"
    }
   ],
   "source": [
    "@code_lowered sin(sqrt(3)) # @code_lowered...どんな処理が発生してるかを確認できる. sqrt(3)は√3でもok."
   ]
  },
  {
   "cell_type": "markdown",
   "metadata": {},
   "source": [
    "またIntractiveShellにてjuliaを使っている場合だけですが.REPLにて\"?\"を打ち込むとhelpモードに入ります."
   ]
  },
  {
   "cell_type": "code",
   "execution_count": 6,
   "metadata": {},
   "outputs": [],
   "source": [
    "# ?copy...copyのヘルプが出ます"
   ]
  },
  {
   "cell_type": "markdown",
   "metadata": {},
   "source": [
    "-----"
   ]
  },
  {
   "cell_type": "markdown",
   "metadata": {},
   "source": [
    "## 2.Array\n",
    "基本的な構文はmatlabと類似しています.\n",
    "\n",
    "### 宣言方法と代入方法"
   ]
  },
  {
   "cell_type": "code",
   "execution_count": 7,
   "metadata": {},
   "outputs": [
    {
     "name": "stdout",
     "output_type": "stream",
     "text": [
      "[1,2,3,4,5]\n",
      "[1 2 3 4 5]\n"
     ]
    }
   ],
   "source": [
    "a = Vector{Float64}(5) #5つのfloat64値からなる一次元配列の生成\n",
    "a = [1 2 3 4 5]\n",
    "\n",
    "cv = [1;2;3;4;5] # 列ベクトル\n",
    "rv = [1 2 3 4 5] # 行ベクトル\n",
    "\n",
    "println(cv)\n",
    "println(rv)"
   ]
  },
  {
   "cell_type": "code",
   "execution_count": 8,
   "metadata": {},
   "outputs": [
    {
     "data": {
      "text/plain": [
       "1×5 Array{Int64,2}:\n",
       " 1  2  100  4  5"
      ]
     },
     "execution_count": 8,
     "metadata": {},
     "output_type": "execute_result"
    }
   ],
   "source": [
    "a[3] = 100 # 配列aの\"3つめ\"の要素を100に変更. 線形indexを使用しています.\n",
    "a"
   ]
  },
  {
   "cell_type": "code",
   "execution_count": 9,
   "metadata": {},
   "outputs": [
    {
     "data": {
      "text/plain": [
       "3×4 Array{Int64,2}:\n",
       " 11  12  13  14\n",
       " 21  22  23  24\n",
       " 31  32  33  34"
      ]
     },
     "execution_count": 9,
     "metadata": {},
     "output_type": "execute_result"
    }
   ],
   "source": [
    "b = Matrix{Float64}(4,2) # size(4, 2)からなるFloat64型行列を生成\n",
    "\n",
    "c = Array{Float64}(4,5,6,7) # (4,5,6,7)からなるFloat64配列\n",
    "\n",
    "mat =  [11 12 13 14\n",
    "        21 22 23 24\n",
    "        31 32 33 34] # 直接inlineでMatrixの宣言も可能"
   ]
  },
  {
   "cell_type": "code",
   "execution_count": 10,
   "metadata": {},
   "outputs": [
    {
     "data": {
      "text/plain": [
       "3×4 Array{Int64,2}:\n",
       " 11   4  13  14\n",
       " 21  22  23  24\n",
       " 31  32  33  34"
      ]
     },
     "execution_count": 10,
     "metadata": {},
     "output_type": "execute_result"
    }
   ],
   "source": [
    "mat[1,2] = 4 # 変更方法は同じ.\n",
    "mat"
   ]
  },
  {
   "cell_type": "markdown",
   "metadata": {},
   "source": [
    "#### memo1\n",
    "> memo1: REPL環境を使ってる時, 評価された時に値を返される物の後ろに\";\"を入れると出力を無視できます.  \n",
    "> memo2: arrayの値はメモリの場所へのポインタです."
   ]
  },
  {
   "cell_type": "code",
   "execution_count": 11,
   "metadata": {},
   "outputs": [],
   "source": [
    "#memo1\n",
    "mat;"
   ]
  },
  {
   "cell_type": "code",
   "execution_count": 12,
   "metadata": {},
   "outputs": [
    {
     "name": "stdout",
     "output_type": "stream",
     "text": [
      "[10,2,3][10,2,3]\n"
     ]
    }
   ],
   "source": [
    "#memo2\n",
    "a = [1;2;3]\n",
    "b = a\n",
    "b[1] = 10\n",
    "println(a, b)"
   ]
  },
  {
   "cell_type": "code",
   "execution_count": 13,
   "metadata": {},
   "outputs": [
    {
     "name": "stdout",
     "output_type": "stream",
     "text": [
      "[1,2,3][10,2,3]\n"
     ]
    }
   ],
   "source": [
    "#memo2: aも一緒に変更されたくない場合は\"copy\"を使います.\n",
    "a = [1;2;3]\n",
    "b = copy(a)\n",
    "b[1] = 10\n",
    "println(a, b)"
   ]
  },
  {
   "cell_type": "markdown",
   "metadata": {},
   "source": [
    "#### memo2\n",
    "他にもコンストラクタを使わずにも宣言することが可能です. その場合以下のメソッドが有用.  \n",
    "いずれも, 引数のArrayのsize/shapeを引き継いだ新しいArrayを返します.\n",
    "\n",
    "- similar()\n",
    "- zeros()\n",
    "- ones()"
   ]
  },
  {
   "cell_type": "code",
   "execution_count": 14,
   "metadata": {},
   "outputs": [
    {
     "name": "stdout",
     "output_type": "stream",
     "text": [
      "[140129359030288,140129295122720,140129372283376][0,0,0][1,1,1]\n"
     ]
    }
   ],
   "source": [
    "simA = similar(a) # aと同じ構造の未初期化のaryを返す.\n",
    "zerosA = zeros(a) # aと同じ構造の全て0のaryを返す.\n",
    "onesA = ones(a) # aと同じ構造の全て1のaryを返す.\n",
    "\n",
    "println(simA, zerosA, onesA)"
   ]
  },
  {
   "cell_type": "markdown",
   "metadata": {},
   "source": [
    "#### memo3\n",
    "1) 配列は[a:b]によって切り出すことが可能.\n",
    "- [a:b]...配列のa番目からb番目までを切り出す\n",
    "\n",
    "2) また, aryにはどんな種類のtypeも内包できるため配列の中に配列を含めることももちろん可能です.\n"
   ]
  },
  {
   "cell_type": "code",
   "execution_count": 15,
   "metadata": {},
   "outputs": [
    {
     "data": {
      "text/plain": [
       "5-element Array{Int64,1}:\n",
       " 1\n",
       " 2\n",
       " 3\n",
       " 4\n",
       " 5"
      ]
     },
     "execution_count": 15,
     "metadata": {},
     "output_type": "execute_result"
    }
   ],
   "source": [
    "#1)\n",
    "a = [1 2 3 4 5 6 7 8 9 10]\n",
    "a[1:5]"
   ]
  },
  {
   "cell_type": "code",
   "execution_count": 16,
   "metadata": {},
   "outputs": [
    {
     "data": {
      "text/plain": [
       "3-element Array{Array{Float64,1},1}:\n",
       " [1.0,2.0,3.0]\n",
       " [1.0,2.0]    \n",
       " [3.0,4.0,5.0]"
      ]
     },
     "execution_count": 16,
     "metadata": {},
     "output_type": "execute_result"
    }
   ],
   "source": [
    "# 2)\n",
    "a = Vector{Vector{Float64}}(3)\n",
    "a[1] = [1;2;3]\n",
    "a[2] = [1;2]\n",
    "a[3] = [3;4;5]\n",
    "a"
   ]
  },
  {
   "cell_type": "markdown",
   "metadata": {},
   "source": [
    "また, 入れ子構造になったarrayのcopyにはdeepcopy()を使います."
   ]
  },
  {
   "cell_type": "code",
   "execution_count": 17,
   "metadata": {},
   "outputs": [
    {
     "name": "stdout",
     "output_type": "stream",
     "text": [
      "Array{Float64,1}[[1.0,2.0,3.0],[1.0,2.0],[3.0,4.0,5.0]]\n",
      "Array{Float64,1}[[1.0,3.0,2.0],[1.0,2.0],[3.0,4.0,5.0]]\n"
     ]
    }
   ],
   "source": [
    "b = deepcopy(a)\n",
    "b[1] = [1;3;2]\n",
    "println(a)\n",
    "println(b)"
   ]
  },
  {
   "cell_type": "markdown",
   "metadata": {},
   "source": [
    "#### memo4\n",
    "高い実行速度を達成するためにはコード量を減らすことが重要です. \n",
    "そのため, Juliaには引数に破壊的代入をもたらすmutationメソッドがあり, そのようなメソッドの末尾には!が付いています."
   ]
  },
  {
   "cell_type": "code",
   "execution_count": 18,
   "metadata": {},
   "outputs": [
    {
     "data": {
      "text/plain": [
       "3-element Array{Int64,1}:\n",
       "  2\n",
       " 12\n",
       " 18"
      ]
     },
     "execution_count": 18,
     "metadata": {},
     "output_type": "execute_result"
    }
   ],
   "source": [
    "# mutation method ex.\n",
    "a = [1;6;9]\n",
    "scale!(a, 2) # scale!(ary, scalar)...aryをscalar倍"
   ]
  },
  {
   "cell_type": "markdown",
   "metadata": {},
   "source": [
    "----"
   ]
  },
  {
   "cell_type": "markdown",
   "metadata": {},
   "source": [
    "## 3.制御フロー\n",
    "\n",
    "Juliaの制御フローは他のスクリプト言語と大して変化はなし.\n",
    "いつも通りのfor loop, while, ifがあるくらい.\n",
    "\n",
    "他のものはdocumentを参照."
   ]
  },
  {
   "cell_type": "code",
   "execution_count": 19,
   "metadata": {},
   "outputs": [
    {
     "name": "stdout",
     "output_type": "stream",
     "text": [
      "1\n",
      "2\n",
      "3\n",
      "4\n",
      "5\n"
     ]
    }
   ],
   "source": [
    "# for loop\n",
    "for i=1:5 #1:5でrange, =をinに変えても実行可能.\n",
    "  println(i)\n",
    "end"
   ]
  },
  {
   "cell_type": "code",
   "execution_count": 20,
   "metadata": {},
   "outputs": [
    {
     "name": "stdout",
     "output_type": "stream",
     "text": [
      "0\n",
      "1\n",
      "2\n",
      "3\n",
      "4\n"
     ]
    }
   ],
   "source": [
    "t = 0\n",
    "while t < 5\n",
    "  println(t)\n",
    "  t+=1\n",
    "end"
   ]
  },
  {
   "cell_type": "code",
   "execution_count": 21,
   "metadata": {},
   "outputs": [
    {
     "name": "stdout",
     "output_type": "stream",
     "text": [
      "you said asdf\n"
     ]
    }
   ],
   "source": [
    "symbol = :asdf\n",
    "\n",
    "if symbol == :asdf\n",
    "  println(\"you said asdf\")\n",
    "else\n",
    "  println(\"no idea\")\n",
    "end"
   ]
  },
  {
   "cell_type": "markdown",
   "metadata": {},
   "source": [
    "#### memo\n",
    "Juliaのforloopで面白いのは, なんと多重for loopを一列で書ける"
   ]
  },
  {
   "cell_type": "code",
   "execution_count": 22,
   "metadata": {},
   "outputs": [
    {
     "name": "stdout",
     "output_type": "stream",
     "text": [
      "2\n",
      "3\n",
      "4\n",
      "4\n",
      "6\n",
      "8\n",
      "6\n",
      "9\n",
      "12\n",
      "8\n",
      "12\n",
      "16\n",
      "10\n",
      "15\n",
      "20\n"
     ]
    }
   ],
   "source": [
    "for i=1:5, j=2:4\n",
    "  println(i*j)\n",
    "end"
   ]
  },
  {
   "cell_type": "markdown",
   "metadata": {},
   "source": [
    "### 練習問題\n",
    "http://ucidatascienceinitiative.github.io/IntroToJulia/Html/BasicProblems\n",
    "上5問.\n",
    "\n",
    "制御flow理解できてれば実装できるはず."
   ]
  },
  {
   "cell_type": "markdown",
   "metadata": {},
   "source": [
    "#### Q1. (N,N)型で, 体格が-2, 体格の左右隣が1, それ以外が0の行列を作れ. ストラング行列っていうとか"
   ]
  },
  {
   "cell_type": "code",
   "execution_count": 70,
   "metadata": {},
   "outputs": [
    {
     "data": {
      "text/plain": [
       "5×5 Array{Float64,2}:\n",
       " -2.0   1.0   0.0   0.0   0.0\n",
       "  1.0  -2.0   1.0   0.0   0.0\n",
       "  0.0   1.0  -2.0   1.0   0.0\n",
       "  0.0   0.0   1.0  -2.0   1.0\n",
       "  0.0   0.0   0.0   1.0  -2.0"
      ]
     },
     "execution_count": 70,
     "metadata": {},
     "output_type": "execute_result"
    }
   ],
   "source": [
    "N = 5\n",
    "#mat = Matrix{Float64}(N, N)\n",
    "mat = zeros(N, N)\n",
    "for i=1:N, j=1:N\n",
    "  if i==j\n",
    "    mat[i,j] = -2\n",
    "  elseif i==j+1||i==j-1\n",
    "    mat[i,j] = 1\n",
    "  end\n",
    "end\n",
    "\n",
    "mat"
   ]
  },
  {
   "cell_type": "markdown",
   "metadata": {},
   "source": [
    "##### Q1. 綺麗なコードver. こっちの方が\"juliaらしい\""
   ]
  },
  {
   "cell_type": "code",
   "execution_count": 24,
   "metadata": {},
   "outputs": [
    {
     "data": {
      "text/plain": [
       "5×5 Array{Float64,2}:\n",
       " -2.0   1.0   0.0   0.0   0.0\n",
       "  1.0  -2.0   1.0   0.0   0.0\n",
       "  0.0   1.0  -2.0   1.0   0.0\n",
       "  0.0   0.0   1.0  -2.0   1.0\n",
       "  0.0   0.0   0.0   1.0  -2.0"
      ]
     },
     "execution_count": 24,
     "metadata": {},
     "output_type": "execute_result"
    }
   ],
   "source": [
    "N=5\n",
    "A = zeros(N,N)\n",
    "for i=1:N, j=1:N\n",
    "  abs(i-j)==1 && (A[i,j]=1)\n",
    "  i==j && (A[i,j]=-2)\n",
    "end\n",
    "A"
   ]
  },
  {
   "cell_type": "markdown",
   "metadata": {},
   "source": [
    "#### Q2. 階上, my_factorial(n)で, n!を出力."
   ]
  },
  {
   "cell_type": "code",
   "execution_count": 25,
   "metadata": {},
   "outputs": [
    {
     "data": {
      "text/plain": [
       "1307674368000"
      ]
     },
     "execution_count": 25,
     "metadata": {},
     "output_type": "execute_result"
    }
   ],
   "source": [
    "function my_factorial(n)\n",
    "  ans = 1\n",
    "  for i=1:n\n",
    "    ans*=i\n",
    "  end\n",
    "  ans  \n",
    "end\n",
    "my_factorial(15)\n",
    "#c.f. ただしこれでは大きい値を扱う形になった時にOverFlowが発生する.(ex. 30を入れるとnegativeになる)"
   ]
  },
  {
   "cell_type": "markdown",
   "metadata": {},
   "source": [
    "##### こういう時は入力と出力の型を同じにすればよい. one(x)を使用する"
   ]
  },
  {
   "cell_type": "code",
   "execution_count": 26,
   "metadata": {},
   "outputs": [
    {
     "name": "stderr",
     "output_type": "stream",
     "text": [
      "WARNING: Method definition my_factorial(Any) in module Main at In[25]:2 overwritten at In[26]:2.\n"
     ]
    },
    {
     "data": {
      "text/plain": [
       "265252859812191058636308480000000"
      ]
     },
     "execution_count": 26,
     "metadata": {},
     "output_type": "execute_result"
    }
   ],
   "source": [
    "function my_factorial(n)\n",
    "  k = one(n) # one(x)...xと同じ型で値1の数値を返す.\n",
    "  for i=1:n\n",
    "    k *= i\n",
    "  end\n",
    "  k\n",
    "end\n",
    "my_factorial(big(30))"
   ]
  },
  {
   "cell_type": "markdown",
   "metadata": {},
   "source": [
    "#### Q3.二項問題\n",
    "nを試行回数, pを成功する確率とした時, n回の内成功した回数XをX=Bin(n,p)と表すとする.  \n",
    "例えば, Bin(10, 0.5)の時, Xは10回コインを投げた時に表が出てくる回数に等しい.  \n",
    "  \n",
    "Xを返すbinomial_rv(n,p)をrand()を用いて実装せよ"
   ]
  },
  {
   "cell_type": "code",
   "execution_count": 27,
   "metadata": {},
   "outputs": [
    {
     "data": {
      "text/plain": [
       "5-element Array{Int64,1}:\n",
       " 5\n",
       " 5\n",
       " 7\n",
       " 5\n",
       " 5"
      ]
     },
     "execution_count": 27,
     "metadata": {},
     "output_type": "execute_result"
    }
   ],
   "source": [
    "function binomial_rv(n,p)\n",
    "  k=0\n",
    "  for i=1:n\n",
    "    p<=rand() && (k+=1)\n",
    "  end\n",
    "  k\n",
    "end\n",
    "\n",
    "#check\n",
    "[binomial_rv(10, 0.5) for i=1:5]"
   ]
  },
  {
   "cell_type": "markdown",
   "metadata": {},
   "source": [
    "#### Q4. モンテカルロによる円周率の計算\n",
    "πを乱数を用いて近似せよ.\n",
    "\n",
    "**Hint: モンテカルロ法**\n",
    "[-1, 1]×[-1, 1]の四角形に内包される円があった時, *円の面積はπ*($πr^2$より), *四角形の面積は4*.  \n",
    "そのため, 乱数を用いて[-1,1]×[-1,1]の部分に一様な乱数で点を打った時, *円周の中に打たれる確率はπ/4*($x^2+y^2$≦1より).  \n",
    "これを用いてπの大体の値を求めよ."
   ]
  },
  {
   "cell_type": "code",
   "execution_count": 4,
   "metadata": {},
   "outputs": [
    {
     "name": "stderr",
     "output_type": "stream",
     "text": [
      "WARNING: Method definition montecarlo(Any) in module Main at In[3]:2 overwritten at In[4]:2.\n"
     ]
    },
    {
     "data": {
      "text/plain": [
       "3.1414116"
      ]
     },
     "execution_count": 4,
     "metadata": {},
     "output_type": "execute_result"
    }
   ],
   "source": [
    "function montecarlo(n)\n",
    "  c = 0\n",
    "  for _=1:n\n",
    "    x, y = 2rand(2)-1\n",
    "    √(x^2+y^2)<=1 && (c+=1)\n",
    "  end\n",
    "  return 4c/n\n",
    "end\n",
    "\n",
    "montecarlo(10000000)"
   ]
  },
  {
   "cell_type": "markdown",
   "metadata": {},
   "source": [
    "#### Q5. 時系列生成問題\n",
    "AR1時系列は, $x_{t+1} = \\alpha x_i + \\epsilon_{t+1}$ では定義されたとする.  \n",
    "この時それぞれ, $x_0$=0, t=0...T, ソケット$\\epsilon_{t}$は独立同分布である(N(0,1)はrandn()によって与えられるとする).  \n",
    "  \n",
    "T=200の時,\n",
    "\n",
    "- α=0\n",
    "- α=0.5\n",
    "- α=0.9\n",
    "\n",
    "の場合のそれぞれのパラメータの時間変化をPlot.jlを用いて示せ.  \n",
    "また, αの値を表す線にはplot関数にlabelオプションをつけ, ラベルせよ."
   ]
  },
  {
   "cell_type": "code",
   "execution_count": 29,
   "metadata": {},
   "outputs": [
    {
     "data": {
      "text/plain": [
       "ar (generic function with 1 method)"
      ]
     },
     "execution_count": 29,
     "metadata": {},
     "output_type": "execute_result"
    }
   ],
   "source": [
    "using Plots\n",
    "\n",
    "function ar(T, alpha)\n",
    "  x=zeros(T+1)\n",
    "  x[1] = 0.0\n",
    "  for t=1:T\n",
    "    x[t+1] = alpha * x[t] + randn()\n",
    "  end\n",
    "  x\n",
    "end"
   ]
  },
  {
   "cell_type": "code",
   "execution_count": 30,
   "metadata": {},
   "outputs": [
    {
     "data": {
      "text/html": [
       "<?xml version=\"1.0\" encoding=\"utf-8\"?>\n",
       "<svg xmlns=\"http://www.w3.org/2000/svg\" xmlns:xlink=\"http://www.w3.org/1999/xlink\" width=\"600\" height=\"400\" viewBox=\"0 0 600 400\">\n",
       "<defs>\n",
       "  <clipPath id=\"clip8800\">\n",
       "    <rect x=\"0\" y=\"0\" width=\"600\" height=\"400\"/>\n",
       "  </clipPath>\n",
       "</defs>\n",
       "<polygon clip-path=\"url(#clip8800)\" points=\"\n",
       "0,400 600,400 600,0 0,0 \n",
       "  \" fill=\"#ffffff\" fill-opacity=\"1\"/>\n",
       "<defs>\n",
       "  <clipPath id=\"clip8801\">\n",
       "    <rect x=\"120\" y=\"0\" width=\"421\" height=\"400\"/>\n",
       "  </clipPath>\n",
       "</defs>\n",
       "<polygon clip-path=\"url(#clip8800)\" points=\"\n",
       "39.3701,368.504 592.126,368.504 592.126,7.87402 39.3701,7.87402 \n",
       "  \" fill=\"#ffffff\" fill-opacity=\"1\"/>\n",
       "<defs>\n",
       "  <clipPath id=\"clip8802\">\n",
       "    <rect x=\"39\" y=\"7\" width=\"554\" height=\"362\"/>\n",
       "  </clipPath>\n",
       "</defs>\n",
       "<polyline clip-path=\"url(#clip8802)\" style=\"stroke:#000000; stroke-width:1; stroke-opacity:0.5; fill:none\" stroke-dasharray=\"1, 2\" points=\"\n",
       "  119.52,363.094 119.52,13.2835 \n",
       "  \"/>\n",
       "<polyline clip-path=\"url(#clip8802)\" style=\"stroke:#000000; stroke-width:1; stroke-opacity:0.5; fill:none\" stroke-dasharray=\"1, 2\" points=\"\n",
       "  202.433,363.094 202.433,13.2835 \n",
       "  \"/>\n",
       "<polyline clip-path=\"url(#clip8802)\" style=\"stroke:#000000; stroke-width:1; stroke-opacity:0.5; fill:none\" stroke-dasharray=\"1, 2\" points=\"\n",
       "  285.346,363.094 285.346,13.2835 \n",
       "  \"/>\n",
       "<polyline clip-path=\"url(#clip8802)\" style=\"stroke:#000000; stroke-width:1; stroke-opacity:0.5; fill:none\" stroke-dasharray=\"1, 2\" points=\"\n",
       "  368.26,363.094 368.26,13.2835 \n",
       "  \"/>\n",
       "<polyline clip-path=\"url(#clip8802)\" style=\"stroke:#000000; stroke-width:1; stroke-opacity:0.5; fill:none\" stroke-dasharray=\"1, 2\" points=\"\n",
       "  451.173,363.094 451.173,13.2835 \n",
       "  \"/>\n",
       "<polyline clip-path=\"url(#clip8802)\" style=\"stroke:#000000; stroke-width:1; stroke-opacity:0.5; fill:none\" stroke-dasharray=\"1, 2\" points=\"\n",
       "  534.087,363.094 534.087,13.2835 \n",
       "  \"/>\n",
       "<polyline clip-path=\"url(#clip8802)\" style=\"stroke:#000000; stroke-width:1; stroke-opacity:0.5; fill:none\" stroke-dasharray=\"1, 2\" points=\"\n",
       "  47.6614,313.523 583.835,313.523 \n",
       "  \"/>\n",
       "<polyline clip-path=\"url(#clip8802)\" style=\"stroke:#000000; stroke-width:1; stroke-opacity:0.5; fill:none\" stroke-dasharray=\"1, 2\" points=\"\n",
       "  47.6614,249.843 583.835,249.843 \n",
       "  \"/>\n",
       "<polyline clip-path=\"url(#clip8802)\" style=\"stroke:#000000; stroke-width:1; stroke-opacity:0.5; fill:none\" stroke-dasharray=\"1, 2\" points=\"\n",
       "  47.6614,186.162 583.835,186.162 \n",
       "  \"/>\n",
       "<polyline clip-path=\"url(#clip8802)\" style=\"stroke:#000000; stroke-width:1; stroke-opacity:0.5; fill:none\" stroke-dasharray=\"1, 2\" points=\"\n",
       "  47.6614,122.481 583.835,122.481 \n",
       "  \"/>\n",
       "<polyline clip-path=\"url(#clip8802)\" style=\"stroke:#000000; stroke-width:1; stroke-opacity:0.5; fill:none\" stroke-dasharray=\"1, 2\" points=\"\n",
       "  47.6614,58.8002 583.835,58.8002 \n",
       "  \"/>\n",
       "<polyline clip-path=\"url(#clip8800)\" style=\"stroke:#000000; stroke-width:1; stroke-opacity:1; fill:none\" points=\"\n",
       "  39.3701,368.504 592.126,368.504 \n",
       "  \"/>\n",
       "<polyline clip-path=\"url(#clip8800)\" style=\"stroke:#000000; stroke-width:1; stroke-opacity:1; fill:none\" points=\"\n",
       "  119.52,368.504 119.52,363.094 \n",
       "  \"/>\n",
       "<polyline clip-path=\"url(#clip8800)\" style=\"stroke:#000000; stroke-width:1; stroke-opacity:1; fill:none\" points=\"\n",
       "  202.433,368.504 202.433,363.094 \n",
       "  \"/>\n",
       "<polyline clip-path=\"url(#clip8800)\" style=\"stroke:#000000; stroke-width:1; stroke-opacity:1; fill:none\" points=\"\n",
       "  285.346,368.504 285.346,363.094 \n",
       "  \"/>\n",
       "<polyline clip-path=\"url(#clip8800)\" style=\"stroke:#000000; stroke-width:1; stroke-opacity:1; fill:none\" points=\"\n",
       "  368.26,368.504 368.26,363.094 \n",
       "  \"/>\n",
       "<polyline clip-path=\"url(#clip8800)\" style=\"stroke:#000000; stroke-width:1; stroke-opacity:1; fill:none\" points=\"\n",
       "  451.173,368.504 451.173,363.094 \n",
       "  \"/>\n",
       "<polyline clip-path=\"url(#clip8800)\" style=\"stroke:#000000; stroke-width:1; stroke-opacity:1; fill:none\" points=\"\n",
       "  534.087,368.504 534.087,363.094 \n",
       "  \"/>\n",
       "<polyline clip-path=\"url(#clip8800)\" style=\"stroke:#000000; stroke-width:1; stroke-opacity:1; fill:none\" points=\"\n",
       "  39.3701,368.504 39.3701,7.87402 \n",
       "  \"/>\n",
       "<polyline clip-path=\"url(#clip8800)\" style=\"stroke:#000000; stroke-width:1; stroke-opacity:1; fill:none\" points=\"\n",
       "  39.3701,313.523 47.6614,313.523 \n",
       "  \"/>\n",
       "<polyline clip-path=\"url(#clip8800)\" style=\"stroke:#000000; stroke-width:1; stroke-opacity:1; fill:none\" points=\"\n",
       "  39.3701,249.843 47.6614,249.843 \n",
       "  \"/>\n",
       "<polyline clip-path=\"url(#clip8800)\" style=\"stroke:#000000; stroke-width:1; stroke-opacity:1; fill:none\" points=\"\n",
       "  39.3701,186.162 47.6614,186.162 \n",
       "  \"/>\n",
       "<polyline clip-path=\"url(#clip8800)\" style=\"stroke:#000000; stroke-width:1; stroke-opacity:1; fill:none\" points=\"\n",
       "  39.3701,122.481 47.6614,122.481 \n",
       "  \"/>\n",
       "<polyline clip-path=\"url(#clip8800)\" style=\"stroke:#000000; stroke-width:1; stroke-opacity:1; fill:none\" points=\"\n",
       "  39.3701,58.8002 47.6614,58.8002 \n",
       "  \"/>\n",
       "<g clip-path=\"url(#clip8800)\">\n",
       "<text style=\"fill:#000000; fill-opacity:1; font-family:Arial,Helvetica Neue,Helvetica,sans-serif; font-size:12; text-anchor:middle;\" transform=\"rotate(0, 119.52, 382.304)\" x=\"119.52\" y=\"382.304\">30</text>\n",
       "</g>\n",
       "<g clip-path=\"url(#clip8800)\">\n",
       "<text style=\"fill:#000000; fill-opacity:1; font-family:Arial,Helvetica Neue,Helvetica,sans-serif; font-size:12; text-anchor:middle;\" transform=\"rotate(0, 202.433, 382.304)\" x=\"202.433\" y=\"382.304\">60</text>\n",
       "</g>\n",
       "<g clip-path=\"url(#clip8800)\">\n",
       "<text style=\"fill:#000000; fill-opacity:1; font-family:Arial,Helvetica Neue,Helvetica,sans-serif; font-size:12; text-anchor:middle;\" transform=\"rotate(0, 285.346, 382.304)\" x=\"285.346\" y=\"382.304\">90</text>\n",
       "</g>\n",
       "<g clip-path=\"url(#clip8800)\">\n",
       "<text style=\"fill:#000000; fill-opacity:1; font-family:Arial,Helvetica Neue,Helvetica,sans-serif; font-size:12; text-anchor:middle;\" transform=\"rotate(0, 368.26, 382.304)\" x=\"368.26\" y=\"382.304\">120</text>\n",
       "</g>\n",
       "<g clip-path=\"url(#clip8800)\">\n",
       "<text style=\"fill:#000000; fill-opacity:1; font-family:Arial,Helvetica Neue,Helvetica,sans-serif; font-size:12; text-anchor:middle;\" transform=\"rotate(0, 451.173, 382.304)\" x=\"451.173\" y=\"382.304\">150</text>\n",
       "</g>\n",
       "<g clip-path=\"url(#clip8800)\">\n",
       "<text style=\"fill:#000000; fill-opacity:1; font-family:Arial,Helvetica Neue,Helvetica,sans-serif; font-size:12; text-anchor:middle;\" transform=\"rotate(0, 534.087, 382.304)\" x=\"534.087\" y=\"382.304\">180</text>\n",
       "</g>\n",
       "<g clip-path=\"url(#clip8800)\">\n",
       "<text style=\"fill:#000000; fill-opacity:1; font-family:Arial,Helvetica Neue,Helvetica,sans-serif; font-size:12; text-anchor:end;\" transform=\"rotate(0, 33.3701, 318.023)\" x=\"33.3701\" y=\"318.023\">-4</text>\n",
       "</g>\n",
       "<g clip-path=\"url(#clip8800)\">\n",
       "<text style=\"fill:#000000; fill-opacity:1; font-family:Arial,Helvetica Neue,Helvetica,sans-serif; font-size:12; text-anchor:end;\" transform=\"rotate(0, 33.3701, 254.343)\" x=\"33.3701\" y=\"254.343\">-2</text>\n",
       "</g>\n",
       "<g clip-path=\"url(#clip8800)\">\n",
       "<text style=\"fill:#000000; fill-opacity:1; font-family:Arial,Helvetica Neue,Helvetica,sans-serif; font-size:12; text-anchor:end;\" transform=\"rotate(0, 33.3701, 190.662)\" x=\"33.3701\" y=\"190.662\">0</text>\n",
       "</g>\n",
       "<g clip-path=\"url(#clip8800)\">\n",
       "<text style=\"fill:#000000; fill-opacity:1; font-family:Arial,Helvetica Neue,Helvetica,sans-serif; font-size:12; text-anchor:end;\" transform=\"rotate(0, 33.3701, 126.981)\" x=\"33.3701\" y=\"126.981\">2</text>\n",
       "</g>\n",
       "<g clip-path=\"url(#clip8800)\">\n",
       "<text style=\"fill:#000000; fill-opacity:1; font-family:Arial,Helvetica Neue,Helvetica,sans-serif; font-size:12; text-anchor:end;\" transform=\"rotate(0, 33.3701, 63.3002)\" x=\"33.3701\" y=\"63.3002\">4</text>\n",
       "</g>\n",
       "<polyline clip-path=\"url(#clip8802)\" style=\"stroke:#009af9; stroke-width:3; stroke-opacity:1; fill:none\" points=\"\n",
       "  39.3701,186.162 42.1339,147.863 44.8976,140.961 47.6614,163.847 50.4252,192.132 53.189,181.585 55.9528,230.727 58.7165,197.277 61.4803,126.319 64.2441,132.542 \n",
       "  67.0079,188.559 69.7717,185.626 72.5354,207.239 75.2992,149.61 78.063,142.972 80.8268,165.632 83.5906,202.471 86.3543,225.236 89.1181,208.166 91.8819,174.892 \n",
       "  94.6457,225.404 97.4094,219.1 100.173,217.365 102.937,148.195 105.701,215.72 108.465,109.239 111.228,210.63 113.992,162.197 116.756,189.859 119.52,190.038 \n",
       "  122.283,177.688 125.047,190.13 127.811,214.545 130.575,237.978 133.339,204.928 136.102,176.678 138.866,223.783 141.63,157.506 144.394,201.637 147.157,203.699 \n",
       "  149.921,188.129 152.685,148.117 155.449,156.373 158.213,138.289 160.976,154.919 163.74,150.147 166.504,224.019 169.268,192.19 172.031,166.544 174.795,178.651 \n",
       "  177.559,184.829 180.323,145.128 183.087,171.477 185.85,198.261 188.614,192.705 191.378,188.991 194.142,212.927 196.906,216.369 199.669,183.663 202.433,204.701 \n",
       "  205.197,184.544 207.961,148.854 210.724,245.585 213.488,197.041 216.252,171.654 219.016,193.851 221.78,212.396 224.543,201.169 227.307,204.244 230.071,222.873 \n",
       "  232.835,202.366 235.598,170.677 238.362,199.108 241.126,243.071 243.89,242.114 246.654,164.375 249.417,204.508 252.181,207.663 254.945,214.372 257.709,232.289 \n",
       "  260.472,123.869 263.236,175.953 266,205.569 268.764,226.773 271.528,148.686 274.291,152.592 277.055,225.923 279.819,95.9007 282.583,189.042 285.346,221.239 \n",
       "  288.11,189.598 290.874,133.304 293.638,172.296 296.402,242.417 299.165,224.941 301.929,244.934 304.693,210.243 307.457,161.482 310.22,165.825 312.984,113.66 \n",
       "  315.748,209.784 318.512,186.239 321.276,240.649 324.039,182.328 326.803,235.199 329.567,228.422 332.331,159.754 335.094,195.34 337.858,204.627 340.622,149.687 \n",
       "  343.386,211.893 346.15,141.299 348.913,128.727 351.677,193.226 354.441,121.885 357.205,200.142 359.969,207.927 362.732,203.929 365.496,163 368.26,149.549 \n",
       "  371.024,166.459 373.787,131.251 376.551,185.16 379.315,195.542 382.079,183.065 384.843,96.4324 387.606,212.57 390.37,171.053 393.134,192.237 395.898,200.073 \n",
       "  398.661,144.83 401.425,185.253 404.189,176.526 406.953,185.474 409.717,174.812 412.48,195.273 415.244,209.616 418.008,220.94 420.772,211.325 423.535,181.375 \n",
       "  426.299,235.573 429.063,177.291 431.827,153.702 434.591,183.989 437.354,199.483 440.118,181.167 442.882,153.49 445.646,190.815 448.409,185.641 451.173,188.639 \n",
       "  453.937,141.226 456.701,230.319 459.465,178.039 462.228,198.516 464.992,230.756 467.756,188.594 470.52,183.32 473.283,171.777 476.047,283.655 478.811,190.508 \n",
       "  481.575,134.622 484.339,150.243 487.102,174.331 489.866,166.583 492.63,151.353 495.394,173.277 498.157,162.667 500.921,208.504 503.685,178.755 506.449,210.108 \n",
       "  509.213,146.864 511.976,192.207 514.74,158.901 517.504,185.908 520.268,195.98 523.031,157.539 525.795,250.298 528.559,201.256 531.323,171.776 534.087,189.797 \n",
       "  536.85,207.481 539.614,176.429 542.378,222.938 545.142,208.329 547.906,165.611 550.669,159.623 553.433,183.193 556.197,213.89 558.961,194.284 561.724,143.609 \n",
       "  564.488,168.718 567.252,209.84 570.016,167.757 572.78,204.268 575.543,161.039 578.307,155.447 581.071,147.602 583.835,214.321 586.598,123.947 589.362,179.493 \n",
       "  592.126,167.713 \n",
       "  \"/>\n",
       "<polyline clip-path=\"url(#clip8802)\" style=\"stroke:#e26f46; stroke-width:3; stroke-opacity:1; fill:none\" points=\"\n",
       "  39.3701,186.162 42.1339,185.152 44.8976,165.285 47.6614,159.739 50.4252,201.396 53.189,199.633 55.9528,243.784 58.7165,197.6 61.4803,186.522 64.2441,195.877 \n",
       "  67.0079,139.778 69.7717,161.359 72.5354,214.066 75.2992,174.122 78.063,171.903 80.8268,193.998 83.5906,255.832 86.3543,228.961 89.1181,196.681 91.8819,177.407 \n",
       "  94.6457,169.718 97.4094,174.187 100.173,196.8 102.937,163.624 105.701,175.407 108.465,194.952 111.228,183.47 113.992,206.088 116.756,258.641 119.52,259.68 \n",
       "  122.283,254.866 125.047,177.773 127.811,184.892 130.575,195.687 133.339,192.382 136.102,183.057 138.866,227.782 141.63,250.147 144.394,261.997 147.157,213.309 \n",
       "  149.921,178.856 152.685,191.859 155.449,197.002 158.213,171.448 160.976,175.179 163.74,164.922 166.504,163.265 169.268,177.071 172.031,187.667 174.795,208.563 \n",
       "  177.559,175.365 180.323,172.499 183.087,230.775 185.85,240.128 188.614,200.107 191.378,138.702 194.142,185.077 196.906,123.927 199.669,175.511 202.433,194.77 \n",
       "  205.197,162.168 207.961,127.609 210.724,37.0034 213.488,87.6166 216.252,130.43 219.016,113.483 221.78,153.253 224.543,114.308 227.307,117.434 230.071,116.439 \n",
       "  232.835,94.085 235.598,184.395 238.362,157.497 241.126,173.398 243.89,174.764 246.654,160.937 249.417,203.042 252.181,186.325 254.945,202.033 257.709,173.272 \n",
       "  260.472,181.753 263.236,200.192 266,181.927 268.764,141.974 271.528,252.935 274.291,217.39 277.055,190.33 279.819,154.037 282.583,152.315 285.346,187.863 \n",
       "  288.11,203.355 290.874,205.701 293.638,226.217 296.402,233.849 299.165,213.853 301.929,155.977 304.693,215.275 307.457,210.954 310.22,178.74 312.984,198.897 \n",
       "  315.748,209.149 318.512,207.188 321.276,178.512 324.039,143.331 326.803,199.517 329.567,165.29 332.331,162.483 335.094,190.61 337.858,209.026 340.622,232.048 \n",
       "  343.386,212.281 346.15,247.621 348.913,228.765 351.677,197.035 354.441,175.55 357.205,159.92 359.969,182.737 362.732,213.62 365.496,170.173 368.26,153.93 \n",
       "  371.024,145.998 373.787,162.341 376.551,188.931 379.315,189.791 382.079,190.365 384.843,224.06 387.606,236.757 390.37,189.466 393.134,149.198 395.898,156.102 \n",
       "  398.661,124.851 401.425,178.763 404.189,129.52 406.953,124.006 409.717,100.821 412.48,209.453 415.244,272.416 418.008,258.724 420.772,264.02 423.535,257.777 \n",
       "  426.299,175.125 429.063,198.558 431.827,243.418 434.591,209.13 437.354,179.346 440.118,183.269 442.882,196.168 445.646,217.145 448.409,156.514 451.173,149.417 \n",
       "  453.937,136.422 456.701,137.153 459.465,139.673 462.228,137.389 464.992,257.962 467.756,231.443 470.52,234.806 473.283,233.077 476.047,173.525 478.811,175.196 \n",
       "  481.575,189.833 484.339,178.454 487.102,129.1 489.866,98.8563 492.63,112.333 495.394,176.674 498.157,205.847 500.921,242.559 503.685,206.52 506.449,239.16 \n",
       "  509.213,216.794 511.976,227.523 514.74,230.291 517.504,249.362 520.268,208.33 523.031,216.163 525.795,215.385 528.559,208.161 531.323,246.398 534.087,183.982 \n",
       "  536.85,190.561 539.614,209.688 542.378,211.122 545.142,232.197 547.906,204.169 550.669,193.172 553.433,220.395 556.197,188.508 558.961,191.53 561.724,280.348 \n",
       "  564.488,280.684 567.252,211.832 570.016,170.45 572.78,166.551 575.543,164.531 578.307,143.768 581.071,185.399 583.835,156.808 586.598,201.793 589.362,192.405 \n",
       "  592.126,167.519 \n",
       "  \"/>\n",
       "<polyline clip-path=\"url(#clip8802)\" style=\"stroke:#3da44d; stroke-width:3; stroke-opacity:1; fill:none\" points=\"\n",
       "  39.3701,186.162 42.1339,171.57 44.8976,146.884 47.6614,146.833 50.4252,160.282 53.189,150.768 55.9528,231.802 58.7165,260.283 61.4803,131.125 64.2441,147.907 \n",
       "  67.0079,177.501 69.7717,193.379 72.5354,249.346 75.2992,234.297 78.063,205.815 80.8268,199.608 83.5906,240.163 86.3543,262.069 89.1181,260.71 91.8819,177.426 \n",
       "  94.6457,143.849 97.4094,101.603 100.173,80.0185 102.937,114.643 105.701,74.2632 108.465,34.0825 111.228,7.87402 113.992,93.9589 116.756,148.466 119.52,166.341 \n",
       "  122.283,143.277 125.047,160.312 127.811,132.774 130.575,101.184 133.339,129.496 136.102,164.962 138.866,167.835 141.63,175.753 144.394,158.127 147.157,161.093 \n",
       "  149.921,141.172 152.685,121.963 155.449,122.351 158.213,129.996 160.976,172.104 163.74,154.025 166.504,125.938 169.268,154.568 172.031,221.34 174.795,158.15 \n",
       "  177.559,139.37 180.323,156.295 183.087,139.268 185.85,143.252 188.614,134.624 191.378,184.178 194.142,185.397 196.906,169.608 199.669,152.371 202.433,151.244 \n",
       "  205.197,119.242 207.961,148.669 210.724,113.372 213.488,104.568 216.252,141.176 219.016,143.299 221.78,159.884 224.543,156.956 227.307,174.914 230.071,159.473 \n",
       "  232.835,142.843 235.598,210.625 238.362,226.635 241.126,165.658 243.89,136.906 246.654,127.084 249.417,64.8257 252.181,101.396 254.945,95.1898 257.709,130.376 \n",
       "  260.472,163.428 263.236,125.94 266,126.213 268.764,115.01 271.528,114.334 274.291,157.539 277.055,146.48 279.819,127.735 282.583,127.535 285.346,160.702 \n",
       "  288.11,235.457 290.874,222.176 293.638,206.189 296.402,239.503 299.165,240.858 301.929,197.955 304.693,156.411 307.457,184.104 310.22,159.112 312.984,186.828 \n",
       "  315.748,258.171 318.512,253.431 321.276,282.058 324.039,301.86 326.803,359.778 329.567,261.89 332.331,274.673 335.094,220.771 337.858,210.335 340.622,177.112 \n",
       "  343.386,130.468 346.15,151.178 348.913,197.204 351.677,209.645 354.441,230.213 357.205,251.512 359.969,180.239 362.732,121.836 365.496,90.6475 368.26,84.746 \n",
       "  371.024,112.576 373.787,151.156 376.551,171.582 379.315,126.117 382.079,106.371 384.843,155.86 387.606,152.577 390.37,200.226 393.134,188.703 395.898,170.683 \n",
       "  398.661,171.938 401.425,179.959 404.189,208.138 406.953,236.477 409.717,203.417 412.48,204.997 415.244,145.94 418.008,98.5616 420.772,90.6804 423.535,89.5249 \n",
       "  426.299,125.057 429.063,136.842 431.827,128.684 434.591,203.652 437.354,179.639 440.118,211.777 442.882,215.71 445.646,217.228 448.409,186.566 451.173,210.604 \n",
       "  453.937,211.997 456.701,282.87 459.465,233.158 462.228,218.014 464.992,261.54 467.756,265.261 470.52,248.312 473.283,204.781 476.047,215.879 478.811,220.83 \n",
       "  481.575,170.248 484.339,149.963 487.102,240.666 489.866,275.455 492.63,230.638 495.394,239.807 498.157,277.52 500.921,308.315 503.685,295.269 506.449,267.626 \n",
       "  509.213,309.142 511.976,344.22 514.74,316.199 517.504,345.737 520.268,341.306 523.031,357.64 525.795,344.917 528.559,340.585 531.323,316.361 534.087,338.276 \n",
       "  536.85,368.504 539.614,317.253 542.378,319.675 545.142,294.655 547.906,282.741 550.669,274.553 553.433,215.44 556.197,236.277 558.961,218.038 561.724,243.2 \n",
       "  564.488,245.715 567.252,252.425 570.016,295.448 572.78,314.083 575.543,305.666 578.307,248.685 581.071,201.756 583.835,236.114 586.598,248.466 589.362,231.588 \n",
       "  592.126,198.43 \n",
       "  \"/>\n",
       "<polygon clip-path=\"url(#clip8800)\" points=\"\n",
       "483.681,89.234 574.126,89.234 574.126,28.754 483.681,28.754 \n",
       "  \" fill=\"#ffffff\" fill-opacity=\"1\"/>\n",
       "<polyline clip-path=\"url(#clip8800)\" style=\"stroke:#000000; stroke-width:1; stroke-opacity:1; fill:none\" points=\"\n",
       "  483.681,89.234 574.126,89.234 574.126,28.754 483.681,28.754 483.681,89.234 \n",
       "  \"/>\n",
       "<polyline clip-path=\"url(#clip8800)\" style=\"stroke:#009af9; stroke-width:3; stroke-opacity:1; fill:none\" points=\"\n",
       "  489.681,43.874 525.681,43.874 \n",
       "  \"/>\n",
       "<g clip-path=\"url(#clip8800)\">\n",
       "<text style=\"fill:#000000; fill-opacity:1; font-family:Arial,Helvetica Neue,Helvetica,sans-serif; font-size:12; text-anchor:start;\" transform=\"rotate(0, 531.681, 48.374)\" x=\"531.681\" y=\"48.374\">a=0</text>\n",
       "</g>\n",
       "<polyline clip-path=\"url(#clip8800)\" style=\"stroke:#e26f46; stroke-width:3; stroke-opacity:1; fill:none\" points=\"\n",
       "  489.681,58.994 525.681,58.994 \n",
       "  \"/>\n",
       "<g clip-path=\"url(#clip8800)\">\n",
       "<text style=\"fill:#000000; fill-opacity:1; font-family:Arial,Helvetica Neue,Helvetica,sans-serif; font-size:12; text-anchor:start;\" transform=\"rotate(0, 531.681, 63.494)\" x=\"531.681\" y=\"63.494\">a=0.5</text>\n",
       "</g>\n",
       "<polyline clip-path=\"url(#clip8800)\" style=\"stroke:#3da44d; stroke-width:3; stroke-opacity:1; fill:none\" points=\"\n",
       "  489.681,74.114 525.681,74.114 \n",
       "  \"/>\n",
       "<g clip-path=\"url(#clip8800)\">\n",
       "<text style=\"fill:#000000; fill-opacity:1; font-family:Arial,Helvetica Neue,Helvetica,sans-serif; font-size:12; text-anchor:start;\" transform=\"rotate(0, 531.681, 78.614)\" x=\"531.681\" y=\"78.614\">a=0.9</text>\n",
       "</g>\n",
       "</svg>\n"
      ]
     },
     "execution_count": 30,
     "metadata": {},
     "output_type": "execute_result"
    }
   ],
   "source": [
    "result = [ar(200, i) for i in [0.0,0.5,0.9]]\n",
    "\n",
    "gr() # jupyer上でグラフを出力するには必要.\n",
    "plot(result, label=[\"a=0\", \"a=0.5\", \"a=0.9\"], lw=3)"
   ]
  },
  {
   "cell_type": "markdown",
   "metadata": {},
   "source": [
    "## 関数\n",
    "Juliaにはinlineとfunctionを使う2種類の方法があります.  \n",
    "通常, Juliaの関数は関数の中で最後に評価された値を返します."
   ]
  },
  {
   "cell_type": "code",
   "execution_count": 31,
   "metadata": {},
   "outputs": [
    {
     "name": "stdout",
     "output_type": "stream",
     "text": [
      "8\n",
      "4\n"
     ]
    }
   ],
   "source": [
    "# inline\n",
    "f(x,y) = 2x + y\n",
    "\n",
    "# long form using \"function\"\n",
    "function f(x)\n",
    "  x+2\n",
    "end\n",
    "\n",
    "# 関数呼び出し\n",
    "f(3,2) |> println\n",
    "f(2) |> println"
   ]
  },
  {
   "cell_type": "markdown",
   "metadata": {},
   "source": [
    "### 多重ディスパッチ\n",
    "ここでポイントになるのはjuliaのコアな機能の一つである多重ディスパッチです. \"一つの関数\"であるfに２つのメソッドが存在することがわかるでしょうか. (juliaでは実行可能な関数の部分をメソッドと言います.  \n",
    "ここではf(::Any,::Any)と, f(::Any)の２つのメソッドが定義されており, この場合関数fに与える引数の個数によりどちらが呼ばれるか決定します.  \n",
    "  \n",
    "またJuliaでは型に対応する::Typeの記号を用いることで型にも対応した多重ディスパッチを作ることができます.  \n",
    "複数のメソッドを呼び出せる関数の呼び出し方をした場合, より厳密に定義されたメソッドが優先的に呼びだされます."
   ]
  },
  {
   "cell_type": "code",
   "execution_count": 32,
   "metadata": {},
   "outputs": [
    {
     "name": "stdout",
     "output_type": "stream",
     "text": [
      "12\n",
      "7.0\n"
     ]
    }
   ],
   "source": [
    "f(x::Int, y::Int) = 3x+2y\n",
    "\n",
    "f(2,3) |> println # 3x+2y\n",
    "f(2.0, 3) |> println # 2x+y, ::IntにマッチしないFloatのため."
   ]
  },
  {
   "cell_type": "code",
   "execution_count": 33,
   "metadata": {},
   "outputs": [
    {
     "name": "stdout",
     "output_type": "stream",
     "text": [
      "12\n",
      "38.0\n"
     ]
    }
   ],
   "source": [
    "f{T<:Number}(x::T, y::T) = 4x+10y\n",
    "\n",
    "f(2,3) |> println # 3x+2y...より厳密に定義されている方なので.\n",
    "f(2.0, 3.0) |> println # 4x+10y"
   ]
  },
  {
   "cell_type": "markdown",
   "metadata": {},
   "source": [
    "> note: 型指定の変数化は可能な限り多くの型を含もうとするので, 親の型を明示的に宣言する必要がありません.  \n",
    "> 例えば, xが数字で, yとzが同じ型の時にmatchするメソッドはこう書きます."
   ]
  },
  {
   "cell_type": "code",
   "execution_count": 34,
   "metadata": {},
   "outputs": [
    {
     "data": {
      "text/plain": [
       "f (generic function with 5 methods)"
      ]
     },
     "execution_count": 34,
     "metadata": {},
     "output_type": "execute_result"
    }
   ],
   "source": [
    "f{T<:Number, T2}(x::T,y::T2,z::T2) = 5x+ 5y+ 5z"
   ]
  },
  {
   "cell_type": "markdown",
   "metadata": {},
   "source": [
    "多重ディスパッチはJuliaのコアデザインのため, 後ほどより深く確認していきます.  \n",
    "特にJuliaの関数は引数の型に応じたメソッド呼び出しの部分に特化しています.  \n",
    "これは, fの呼び出し可能なメソッドがそれぞれバラバラにコンパイルされることを示していて, 最初に呼ばれたタイミングでコンパイルする仕組み担っていることを意味します."
   ]
  },
  {
   "cell_type": "markdown",
   "metadata": {},
   "source": [
    "### 確認問題\n",
    "というのを意識してこの挙動を確認していきましょう."
   ]
  },
  {
   "cell_type": "code",
   "execution_count": 35,
   "metadata": {},
   "outputs": [
    {
     "name": "stdout",
     "output_type": "stream",
     "text": [
      "  0.002426 seconds (381 allocations: 21.010 KB)\n",
      "  0.000002 seconds (4 allocations: 160 bytes)\n",
      "  0.000001 seconds (4 allocations: 160 bytes)\n",
      "  0.004844 seconds (1.01 k allocations: 52.800 KB)\n",
      "  0.000006 seconds (5 allocations: 176 bytes)\n"
     ]
    },
    {
     "data": {
      "text/plain": [
       "4.0"
      ]
     },
     "execution_count": 35,
     "metadata": {},
     "output_type": "execute_result"
    }
   ],
   "source": [
    "f(x,y,z,w) = z+y+z+w\n",
    "@time f(1,1,1,1)\n",
    "@time f(1,1,1,1)\n",
    "@time f(1,1,1,1)\n",
    "@time f(1,1,1,1.0)\n",
    "@time f(1,1,1,1.0)"
   ]
  },
  {
   "cell_type": "markdown",
   "metadata": {},
   "source": [
    "めっちゃはやい()\n",
    "\n",
    "----\n",
    "\n",
    "### 関数の他の便利機能\n",
    "ひとつの関数にまとめて説明."
   ]
  },
  {
   "cell_type": "code",
   "execution_count": 36,
   "metadata": {},
   "outputs": [
    {
     "data": {
      "text/plain": [
       "test_func (generic function with 1 method)"
      ]
     },
     "execution_count": 36,
     "metadata": {},
     "output_type": "execute_result"
    }
   ],
   "source": [
    "function test_func(x,y;z=0) # ;XXXでオプション引数. zはオプション引数. デフォ値0\n",
    "  if z==0\n",
    "    return x+y, x*y # return時点で関数終了. returnで戻り地設定. 複数値を返すことも可能. tupleで返される.\n",
    "  else\n",
    "    return x*y*z, x+y+z\n",
    "  end\n",
    "end"
   ]
  },
  {
   "cell_type": "code",
   "execution_count": 37,
   "metadata": {},
   "outputs": [
    {
     "data": {
      "text/plain": [
       "(3,2)"
      ]
     },
     "execution_count": 37,
     "metadata": {},
     "output_type": "execute_result"
    }
   ],
   "source": [
    "x,y = test_func(1,2)"
   ]
  },
  {
   "cell_type": "code",
   "execution_count": 38,
   "metadata": {},
   "outputs": [
    {
     "data": {
      "text/plain": [
       "(6,6)"
      ]
     },
     "execution_count": 38,
     "metadata": {},
     "output_type": "execute_result"
    }
   ],
   "source": [
    "x,y = test_func(1,2;z=3)"
   ]
  },
  {
   "cell_type": "code",
   "execution_count": 39,
   "metadata": {},
   "outputs": [
    {
     "ename": "LoadError",
     "evalue": "syntax: incomplete: premature end of input",
     "output_type": "error",
     "traceback": [
      "syntax: incomplete: premature end of input",
      "",
      " in include_string(::String, ::String) at ./loading.jl:441"
     ]
    }
   ],
   "source": [
    "またJuliaの関数は第一級関数なので, 型の一種です.  \n",
    "そのため, クロージャ等の関数型プログラムライクなことも可能です.  "
   ]
  },
  {
   "cell_type": "code",
   "execution_count": 40,
   "metadata": {},
   "outputs": [
    {
     "data": {
      "text/plain": [
       "(64,test)"
      ]
     },
     "execution_count": 40,
     "metadata": {},
     "output_type": "execute_result"
    }
   ],
   "source": [
    "function func_playtime(x) #zはオプション引数.\n",
    "  y = 2+x\n",
    "  function test()\n",
    "    2y # Juliaの関数スコープ上, 一段回上のスコープで宣言されているものは参照することが可能です.\n",
    "  end\n",
    "  z = test() * test()\n",
    "  return z,test\n",
    "end\n",
    "z, test = func_playtime(2)"
   ]
  },
  {
   "cell_type": "code",
   "execution_count": 41,
   "metadata": {},
   "outputs": [
    {
     "data": {
      "text/plain": [
       "8"
      ]
     },
     "execution_count": 41,
     "metadata": {},
     "output_type": "execute_result"
    }
   ],
   "source": [
    "test()"
   ]
  },
  {
   "cell_type": "markdown",
   "metadata": {},
   "source": [
    "test()に対しyを指定したわけではありませんが, yの値をtest()は持っているのが解ると思います.  \n",
    "これは, 関数スコープのルール上, 内側の関数は関数として宣言されている同じスコープの変数を参照することが可能だからです.  \n",
    "これは自己参照のリカーシブ的な挙動であり, トップレベルのスコープというものがグローバルスコープということが予想できるかと思います.  "
   ]
  },
  {
   "cell_type": "code",
   "execution_count": 42,
   "metadata": {},
   "outputs": [
    {
     "data": {
      "text/plain": [
       "2"
      ]
     },
     "execution_count": 42,
     "metadata": {},
     "output_type": "execute_result"
    }
   ],
   "source": [
    "a = 2"
   ]
  },
  {
   "cell_type": "markdown",
   "metadata": {},
   "source": [
    "これはグローバル変数です.　　\n",
    "後ほど詳しく見ていきましょう.  \n",
    "  \n",
    "最後に, 無名関数の宣言で終わりましょう. "
   ]
  },
  {
   "cell_type": "code",
   "execution_count": 43,
   "metadata": {},
   "outputs": [
    {
     "data": {
      "text/plain": [
       "(::#7) (generic function with 1 method)"
      ]
     },
     "execution_count": 43,
     "metadata": {},
     "output_type": "execute_result"
    }
   ],
   "source": [
    "g = (x,y) -> 2x+y"
   ]
  },
  {
   "cell_type": "markdown",
   "metadata": {},
   "source": [
    "名前付き関数と違って, gは何度でも上書きすることが可能です."
   ]
  },
  {
   "cell_type": "code",
   "execution_count": 44,
   "metadata": {},
   "outputs": [
    {
     "data": {
      "text/plain": [
       "(::#9) (generic function with 1 method)"
      ]
     },
     "execution_count": 44,
     "metadata": {},
     "output_type": "execute_result"
    }
   ],
   "source": [
    "g = (x) -> 2x"
   ]
  },
  {
   "cell_type": "markdown",
   "metadata": {},
   "source": [
    "無名関数は多重ディスパッチに対応していません. が, v0.5からは名前付き関数同様にコンパイルするようになったため, 速度やパフォーマンスに差はありません.  \n",
    "\n",
    "また, 関数のカリー化は"
   ]
  },
  {
   "cell_type": "code",
   "execution_count": 45,
   "metadata": {},
   "outputs": [
    {
     "data": {
      "text/plain": [
       "4"
      ]
     },
     "execution_count": 45,
     "metadata": {},
     "output_type": "execute_result"
    }
   ],
   "source": [
    "g = (x,y) -> 2x+y\n",
    "h(x) = (y) -> g(x, y)\n",
    "h(1)(2)"
   ]
  },
  {
   "cell_type": "markdown",
   "metadata": {},
   "source": [
    "と書くことが可能です. 無名関数の応用ですね."
   ]
  },
  {
   "cell_type": "markdown",
   "metadata": {},
   "source": [
    "## 型宣言\n",
    "Juliaで呼ぶ型とは, 他の言語で言うオブジェクトに相当します. (オブジェクトとはJuliaにとっては外様のコンセプト, 名前のついたコンポーネントを持つ型の物とするのであればの話ですが  \n",
    "型の考えというのは, それが何であるかを示しており, 一方で型のインスタンス化というものは独自のものです.  \n",
    "例えば, 製造者とモデルの譲歩兎を持つcar型を考えてみた時, トヨタRAV4はcar型のインスタンス化です.  \n",
    "  \n",
    "Juliaでは, 以下のようにcarの型を定義してインスタンス化することができます."
   ]
  },
  {
   "cell_type": "code",
   "execution_count": 46,
   "metadata": {},
   "outputs": [
    {
     "data": {
      "text/plain": [
       "Car(\"Toyota\",\"Rav4\")"
      ]
     },
     "execution_count": 46,
     "metadata": {},
     "output_type": "execute_result"
    }
   ],
   "source": [
    "type Car\n",
    "  make\n",
    "  model\n",
    "end\n",
    "\n",
    "mycar = Car(\"Toyota\", \"Rav4\")"
   ]
  },
  {
   "cell_type": "markdown",
   "metadata": {},
   "source": [
    "あ, そういえばいい忘れましたが, Juliaでは文字列型を\"...\"で表します. まぁ普通の言語なら問題ないですよね??? (MATLABてめぇ聞いてるか???)　c.f.原文通りです  \n",
    "typeのフィールドには\".\"シンタックスを使うことでアクセスが可能です.  "
   ]
  },
  {
   "cell_type": "code",
   "execution_count": 47,
   "metadata": {},
   "outputs": [
    {
     "data": {
      "text/plain": [
       "\"Toyota\""
      ]
     },
     "execution_count": 47,
     "metadata": {},
     "output_type": "execute_result"
    }
   ],
   "source": [
    "mycar.make"
   ]
  },
  {
   "cell_type": "markdown",
   "metadata": {},
   "source": [
    "もしJuliaのパフォーマンスを向上させたいのであれば, 一般的にまずやることはtype宣言を厳密にすることです.  \n",
    "nameとfieldの属性を持つWorkshopParticipant型(型はキャメルケース)を宣言しようとしたら, この場合"
   ]
  },
  {
   "cell_type": "code",
   "execution_count": 48,
   "metadata": {},
   "outputs": [
    {
     "data": {
      "text/plain": [
       "WorkshopParticipant(\"Tony\",:physics)"
      ]
     },
     "execution_count": 48,
     "metadata": {},
     "output_type": "execute_result"
    }
   ],
   "source": [
    "type WorkshopParticipant\n",
    "  name::String\n",
    "  field::Symbol #シンボル型, 細かい型に関しては後述\n",
    "end\n",
    "tony = WorkshopParticipant(\"Tony\", :physics)"
   ]
  },
  {
   "cell_type": "markdown",
   "metadata": {},
   "source": [
    "関数と同様に, typeは変数を用いて型を厳密にすることも可能です. 例えば, StaffMemberという名前とフィールドと年をプロパティに持った型は..."
   ]
  },
  {
   "cell_type": "code",
   "execution_count": 49,
   "metadata": {},
   "outputs": [
    {
     "data": {
      "text/plain": [
       "StaffMember{Int64}(\"Terry\",:football,17)"
      ]
     },
     "execution_count": 49,
     "metadata": {},
     "output_type": "execute_result"
    }
   ],
   "source": [
    "type StaffMember{T<:Number}\n",
    "  name::String\n",
    "  field::Symbol\n",
    "  age::T\n",
    "end\n",
    "\n",
    "ter = StaffMember(\"Terry\", :football, 17)"
   ]
  },
  {
   "cell_type": "markdown",
   "metadata": {},
   "source": [
    "変数を用いたtype宣言のルールは関数と同じです.  \n",
    "\n",
    "> note: 殆どのネイティブで定義されているJuliaの型(float64やInt等)はこの方法で定義されています.  \n",
    "> これはつまるところ, ユーザが宣言する型には制限がないということです.  \n",
    "> 実際, プロトタイプのパッケージがBaseの中に動かされる前までは, たくさんのJuliaの機能のほとんどが最初にこの方法で出発しています.\n",
    "  \n",
    "最後に, 抽象型の紹介で終わりましょう. 抽象型はインスタンスにすることはできませんが, 型の木構造を作るためによく使われます.  \n",
    "今までに出てきたNumber型も抽象型の一つです. 抽象型の宣言はAbstractキーワードを用いて作成します."
   ]
  },
  {
   "cell_type": "code",
   "execution_count": 50,
   "metadata": {},
   "outputs": [],
   "source": [
    "abstract Person\n",
    "\n",
    "type Student <: Person\n",
    "  name::String\n",
    "  grade::Number\n",
    "end"
   ]
  },
  {
   "cell_type": "markdown",
   "metadata": {},
   "source": [
    "木構造の美しい作り方についてはこちらをご覧くださいませ.  \n",
    "https://docs.julialang.org/en/release-0.5/manual/types/#abstract-types\n",
    "  \n",
    "抽象型の抽象型なども同様に作ることが可能です."
   ]
  },
  {
   "cell_type": "code",
   "execution_count": 51,
   "metadata": {},
   "outputs": [],
   "source": [
    "abstract AbstractStudent <: Person"
   ]
  },
  {
   "cell_type": "markdown",
   "metadata": {},
   "source": [
    "supertype/subtypesを用いる事でtypeの構造を詳しく見ることも可能です."
   ]
  },
  {
   "cell_type": "code",
   "execution_count": 52,
   "metadata": {},
   "outputs": [
    {
     "name": "stdout",
     "output_type": "stream",
     "text": [
      "Any[AbstractStudent,Student]\n",
      "Person\n"
     ]
    }
   ],
   "source": [
    "Person |> subtypes |> println\n",
    "Student |> supertype |> println"
   ]
  },
  {
   "cell_type": "markdown",
   "metadata": {},
   "source": [
    "他のバージョンの型の一つに\"immutable\"というものがあります.  \n",
    "immutableを使用すると, 型のフィールドの変数の型は変更不可能になります.  \n",
    "しかし, Juliaは自動的にimmutable型はstackに初期化され, 一方で通常の型はheapで初期化されます.  \n",
    "これは一般に, immutable型のほうがよりCPUの近くに保存でき, メモリアクセスのコストが低いということを示しています.\n",
    "多くのJuliaのビルトイン型についてはパフォーマンスを意識しているためimmutableを用いtえ定義されています."
   ]
  },
  {
   "cell_type": "code",
   "execution_count": 53,
   "metadata": {},
   "outputs": [
    {
     "data": {
      "text/plain": [
       "Field(:DataScience,Symbol[:PhysicalScience,:ComputerScience])"
      ]
     },
     "execution_count": 53,
     "metadata": {},
     "output_type": "execute_result"
    }
   ],
   "source": [
    "immutable Field\n",
    "  name\n",
    "  school\n",
    "end\n",
    "\n",
    "ds = Field(:DataScience, [:PhysicalScience, :ComputerScience])"
   ]
  },
  {
   "cell_type": "markdown",
   "metadata": {},
   "source": [
    "### 確認問題\n",
    "immutableの値に対しては非常に面白い現象を見ることができます. ds.nameとds.schoolは当たり前ですが変更できません. 理由がわかりますか?"
   ]
  },
  {
   "cell_type": "code",
   "execution_count": 54,
   "metadata": {},
   "outputs": [
    {
     "ename": "LoadError",
     "evalue": "type Field is immutable",
     "output_type": "error",
     "traceback": [
      "type Field is immutable",
      "",
      " in include_string(::String, ::String) at ./loading.jl:441"
     ]
    }
   ],
   "source": [
    "ds.name  = :ComutationalStatics"
   ]
  },
  {
   "cell_type": "markdown",
   "metadata": {},
   "source": [
    "しかし, この処理は認められます."
   ]
  },
  {
   "cell_type": "code",
   "execution_count": 55,
   "metadata": {},
   "outputs": [
    {
     "data": {
      "text/plain": [
       "3-element Array{Symbol,1}:\n",
       " :PhysicalScience  \n",
       " :ComputerScience  \n",
       " :BiologicalScience"
      ]
     },
     "execution_count": 55,
     "metadata": {},
     "output_type": "execute_result"
    }
   ],
   "source": [
    "push!(ds.school, :BiologicalScience)"
   ]
  },
  {
   "cell_type": "markdown",
   "metadata": {},
   "source": [
    "> Hint: ポインタ\n",
    "\n",
    "-----\n",
    "\n",
    "Juliaでの一つの重要なことは, 全てのものは型であり, コードすらexpression型に当てはまります.(後述)  \n",
    "そのため, フィールドにアクセスすることができる関数も同じく型です.  \n",
    "  \n",
    "すべての物はコンパイルさっるとCになるだけではなく, すべてのCパーツは常にアクセス可能です.  \n",
    "例えば, 関数のポインタなんてのも"
   ]
  },
  {
   "cell_type": "code",
   "execution_count": 56,
   "metadata": {},
   "outputs": [
    {
     "data": {
      "text/plain": [
       "Ptr{Void} @0x0000000000000000"
      ]
     },
     "execution_count": 56,
     "metadata": {},
     "output_type": "execute_result"
    }
   ],
   "source": [
    "foo(x) = 2x\n",
    "first(methods(foo)).lambda_template.fptr"
   ]
  },
  {
   "cell_type": "markdown",
   "metadata": {},
   "source": [
    "## 基本的な型\n",
    "Juliaにはたくさんの基本的な型が用意されています. 実際, 型による多重ディスパッチシステムとしてのジュリアを見るにそのコアデザインに関数と型のインタラクションがあることに気づくでしょう.　　\n",
    "\n",
    "### 遅延評価型\n",
    "MATLABやパイソンがArrayを組むために簡単な関数を用意しているにもかかわらず, Juliaには特別に作られた型を利用して, 実際の\"array\"を避ける傾向があります.  \n",
    "ひとつの例は\"Range\"です. rangeを定義するためには,\n",
    "> start:stepsize:end\n",
    "\n",
    "で定義します.　"
   ]
  },
  {
   "cell_type": "code",
   "execution_count": 57,
   "metadata": {},
   "outputs": [
    {
     "name": "stdout",
     "output_type": "stream",
     "text": [
      "1:5\n",
      "1:2:9\n"
     ]
    }
   ],
   "source": [
    "a = 1:5 \n",
    "a |> println\n",
    "b = 1:2:10 \n",
    "b |> println"
   ]
  },
  {
   "cell_type": "markdown",
   "metadata": {},
   "source": [
    "こいつらはarrayと同じように使えます"
   ]
  },
  {
   "cell_type": "code",
   "execution_count": 58,
   "metadata": {},
   "outputs": [
    {
     "name": "stdout",
     "output_type": "stream",
     "text": [
      "2\n",
      "5\n"
     ]
    }
   ],
   "source": [
    "a[2] |> println\n",
    "b[3] |> println"
   ]
  },
  {
   "cell_type": "markdown",
   "metadata": {},
   "source": [
    "この場合, bの詳しいところを見ていきましょう.  "
   ]
  },
  {
   "cell_type": "code",
   "execution_count": 59,
   "metadata": {},
   "outputs": [
    {
     "name": "stdout",
     "output_type": "stream",
     "text": [
      "UnitRange{Int64}\n",
      "StepRange{Int64,Int64}\n"
     ]
    }
   ],
   "source": [
    "a |> typeof |> println\n",
    "b |> typeof |> println"
   ]
  },
  {
   "cell_type": "markdown",
   "metadata": {},
   "source": [
    "bはarrayではなく, StepRange型であるようです.  \n",
    "StepRangeは自身のフィールドを諒してarrayのように振る舞うことができます"
   ]
  },
  {
   "cell_type": "code",
   "execution_count": 60,
   "metadata": {},
   "outputs": [
    {
     "data": {
      "text/plain": [
       "3-element Array{Symbol,1}:\n",
       " :start\n",
       " :step \n",
       " :stop "
      ]
     },
     "execution_count": 60,
     "metadata": {},
     "output_type": "execute_result"
    }
   ],
   "source": [
    "fieldnames(StepRange)"
   ]
  },
  {
   "cell_type": "markdown",
   "metadata": {},
   "source": [
    "> note: collect()を用いることで, どんな時でもStepRange等の型からArrayを取り出すことができます."
   ]
  },
  {
   "cell_type": "code",
   "execution_count": 61,
   "metadata": {},
   "outputs": [
    {
     "data": {
      "text/plain": [
       "5-element Array{Int64,1}:\n",
       " 1\n",
       " 2\n",
       " 3\n",
       " 4\n",
       " 5"
      ]
     },
     "execution_count": 61,
     "metadata": {},
     "output_type": "execute_result"
    }
   ],
   "source": [
    "c = collect(a)"
   ]
  },
  {
   "cell_type": "markdown",
   "metadata": {},
   "source": [
    "遅延評価型が好まれる理由としては, 本当に必要になるまで計算をしないので, 処理を圧迫しないということです.  \n",
    "@timeを使ってみてみましょう."
   ]
  },
  {
   "cell_type": "code",
   "execution_count": 62,
   "metadata": {},
   "outputs": [
    {
     "name": "stdout",
     "output_type": "stream",
     "text": [
      "  0.000004 seconds (5 allocations: 192 bytes)\n",
      "  0.000002 seconds (5 allocations: 192 bytes)\n",
      "  0.000356 seconds (8 allocations: 781.547 KB)\n"
     ]
    }
   ],
   "source": [
    "@time a = 1:100000\n",
    "@time a = 1:100\n",
    "@time b = collect(1:100000);"
   ]
  },
  {
   "cell_type": "markdown",
   "metadata": {},
   "source": [
    "ここでrangeが要する時間は非常に短いということがわかるでしょう.  \n",
    "だいたいの理由としては, メモリのallocationの回数を大幅に落としているからです.  \n",
    "StepRangeの場合, インスタンスが作成された時点ではたったの３つの数しか保持していません.  \n",
    "しかし, bは100000この数を所有しており, rangeとaryの大きな違いを示しています."
   ]
  },
  {
   "cell_type": "markdown",
   "metadata": {},
   "source": [
    "### Dictionary\n",
    "他の一般型の一つにDictionaryがあります.  \n",
    "key-valueを用いてアクセスします."
   ]
  },
  {
   "cell_type": "code",
   "execution_count": 63,
   "metadata": {},
   "outputs": [
    {
     "name": "stdout",
     "output_type": "stream",
     "text": [
      "2\n",
      "suit\n"
     ]
    }
   ],
   "source": [
    "d = Dict(:test=>2, \"silly\"=>:suit)\n",
    "d[:test] |> println\n",
    "d[\"silly\"] |> println"
   ]
  },
  {
   "cell_type": "markdown",
   "metadata": {},
   "source": [
    "### Tuples\n",
    "Tupleは変更不可なimmutableな配列です. めちゃくちゃ早いです.  \n",
    "(x,y,z,....)で表すことが可能で, ひとつ以上の戻り値を持つ関数は自動的にtupleが戻り値になります."
   ]
  },
  {
   "cell_type": "code",
   "execution_count": 64,
   "metadata": {},
   "outputs": [
    {
     "data": {
      "text/plain": [
       "(3.0,\"hi\")"
      ]
     },
     "execution_count": 64,
     "metadata": {},
     "output_type": "execute_result"
    }
   ],
   "source": [
    "tup = (2.,3) # typeを一致させる必要はありません.\n",
    "x,y = (3., \"hi\") # tupleから複数の変数に分けることが可能です."
   ]
  },
  {
   "cell_type": "markdown",
   "metadata": {},
   "source": [
    "## 問題\n",
    "http://ucidatascienceinitiative.github.io/IntroToJulia/Html/BasicProblems  \n",
    "8~10を解く"
   ]
  },
  {
   "cell_type": "markdown",
   "metadata": {},
   "source": [
    "Q8. 統計問題"
   ]
  },
  {
   "cell_type": "code",
   "execution_count": 65,
   "metadata": {},
   "outputs": [],
   "source": [
    "#### 与えられるデータ #####\n",
    "X = rand(1000, 3)\n",
    "a0 = rand(3)\n",
    "y = X * a0 + 0.1 * randn(1000)\n",
    "\n",
    "##### Q9で使うデータ #####\n",
    "X = rand(100)\n",
    "y = 2X + 0.1 * randn(100);"
   ]
  },
  {
   "cell_type": "markdown",
   "metadata": {},
   "source": [
    "randn(N,3)で与えられtあN×3のArrayと, 結果データが入ったN×1のデータがあったとします.\n",
    "\n",
    "行列Xを生成する"
   ]
  },
  {
   "cell_type": "markdown",
   "metadata": {},
   "source": [
    "## メタプログラミング\n",
    "メタプログラミングはJuliaのでかい機能の一つです. キーとなる考えはJuliaのすべての文はExpression型であるというところです.  \n",
    "JuliaはExpressionから抽象構文木(AST)を作成します. 実は前出てきたsymbolの部分で少し触れています.  \n",
    "SymbolはASTの一部分で, これはパースなどで使われる構造です.  \n",
    "一つの面白いSymbolの比較点は, 例によって文字列の比較点O(n)の一部であるO(1)と関数の表記であるマクロ(@を用いた特殊な関数の表記方法)\n",
    "\n",
    "故にここまで来たらメタプログラミングをプログラムコードとアウトプットを取り入れるプログラミングであると認識できるでしょう.  \n",
    "一般的な例としては**\"time\"**マクロです."
   ]
  },
  {
   "cell_type": "code",
   "execution_count": 66,
   "metadata": {},
   "outputs": [
    {
     "data": {
      "text/plain": [
       "@my_time (macro with 1 method)"
      ]
     },
     "execution_count": 66,
     "metadata": {},
     "output_type": "execute_result"
    }
   ],
   "source": [
    "macro my_time(ex)\n",
    "  return quote\n",
    "    local t0 = time()\n",
    "    local val = $ex\n",
    "    local t1 = time()\n",
    "    println(\"elapsed time: \", t1-t0, \"seconds\")\n",
    "    val\n",
    "  end\n",
    "end"
   ]
  },
  {
   "cell_type": "markdown",
   "metadata": {},
   "source": [
    "exを定義しているこの文章は評価する前と評価したあとの時間を取得して, その間の経過時間を出力します.   \n",
    "(c.f. 実時間のマクロは今まで見てきたものと同様にアロケーションも計算してくれます)  \n",
    "  \n",
    "> Note: $exはmacroの中に表記を補完します. メタプログラミングの詳細にたどるためには通常のプログラム方法とは全く違った考え方をしなくてはならず説明に時間がかかるため, 次回のセッションで扱います.  \n",
    "  \n",
    "Q. なぜマクロ?  \n",
    "A. ひとつの理由はあなたが求めるどんな文法も定義できるからです.  \n",
    "メタプログラミングはカッら自身の表記を操作するため, どのように動くコードに表記がパースされるかを知る限り, どんな文法でもあなたの文法にすることができます.  \n",
    "後ほどケーススタディについては扱います.  \n",
    "また, 別の理由としては, パースするタイミングで実行され, 関数がコンパイルするよりも前に一度だけ呼ばれるからです."
   ]
  },
  {
   "cell_type": "markdown",
   "metadata": {},
   "source": [
    "### Juliaのパースと実行の順番について\n",
    "1. パースの後の抽象高分岐(AST) <- Macro\n",
    "2. loweringの後のASt <- @code_typed\n",
    "3. 最適化と型推論の後のAST <- Generated Functions(@code_lowered\n",
    "4. LLVM IR <- Functions(@code_llvm\n",
    "5. アセンブリ <- @code_native"
   ]
  }
 ],
 "metadata": {
  "kernelspec": {
   "display_name": "Julia 0.5.2",
   "language": "julia",
   "name": "julia-0.5"
  },
  "language_info": {
   "file_extension": ".jl",
   "mimetype": "application/julia",
   "name": "julia",
   "version": "0.5.2"
  }
 },
 "nbformat": 4,
 "nbformat_minor": 2
}
