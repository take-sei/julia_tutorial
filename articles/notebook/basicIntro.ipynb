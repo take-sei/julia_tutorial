{
 "cells": [
  {
   "cell_type": "markdown",
   "metadata": {},
   "source": [
    "# Basic Introduction to Julia\n",
    "とりあえずJuliaに触ってみよう.\n",
    "基本的なスクリプト言語と書き方は同じです.\n",
    "なんて言ったって, use like python and run like c, ですし.\n",
    "\n",
    "## see also here\n",
    " - https://docs.julialang.org/en/latest/\n",
    " - https://gitter.im/JuliaLang/julia\n",
    "Generally, discussued Juylia0.6.2"
   ]
  },
  {
   "cell_type": "markdown",
   "metadata": {},
   "source": [
    "## 1. 開発用ツール\n",
    "Juliaにはたくさんのdocumentation toolがあるけどたくさんありすぎて紹介しきれないので, そのうちのいくつかを紹介.\n",
    "\n",
    "Juliaのメソッドも名前と引数のセットで認識するため, 同じ名前のメソッドでも引数に応じた複数の処理を一つの名前のメソッドに定義できます.\n",
    "\n",
    "- methods()\n",
    "- @which\n",
    "- fieldnames()\n",
    "- typeof()\n",
    "-  @code_lowered\n",
    "- ?"
   ]
  },
  {
   "cell_type": "code",
   "execution_count": 1,
   "metadata": {},
   "outputs": [
    {
     "data": {
      "text/html": [
       "44 methods for generic function <b>copy</b>:<ul><li> copy(e::<b>Expr</b>) at <a href=\"https://github.com/JuliaLang/julia/tree/d386e40c17d43b79fc89d3e579fc04547241787c/base/expr.jl#L35\" target=\"_blank\">expr.jl:35</a></li> <li> copy(s1::<b>IntSet</b>) at <a href=\"https://github.com/JuliaLang/julia/tree/d386e40c17d43b79fc89d3e579fc04547241787c/base/intset.jl#L11\" target=\"_blank\">intset.jl:11</a></li> <li> copy(o::<b>ObjectIdDict</b>) at <a href=\"https://github.com/JuliaLang/julia/tree/d386e40c17d43b79fc89d3e579fc04547241787c/base/associative.jl#L475\" target=\"_blank\">associative.jl:475</a></li> <li> copy(src::<b>Base.dSFMT.DSFMT_state</b>) at <a href=\"https://github.com/JuliaLang/julia/tree/d386e40c17d43b79fc89d3e579fc04547241787c/base/dSFMT.jl#L32\" target=\"_blank\">dSFMT.jl:32</a></li> <li> copy(src::<b>MersenneTwister</b>) at <a href=\"https://github.com/JuliaLang/julia/tree/d386e40c17d43b79fc89d3e579fc04547241787c/base/random.jl#L112\" target=\"_blank\">random.jl:112</a></li> <li> copy(vset::<b>Base.Pkg.Types.VersionSet</b>) at <a href=\"https://github.com/JuliaLang/julia/tree/d386e40c17d43b79fc89d3e579fc04547241787c/base/pkg/types.jl#L66\" target=\"_blank\">pkg/types.jl:66</a></li> <li> copy(a::<b>Base.Pkg.Types.Available</b>) at <a href=\"https://github.com/JuliaLang/julia/tree/d386e40c17d43b79fc89d3e579fc04547241787c/base/pkg/types.jl#L148\" target=\"_blank\">pkg/types.jl:148</a></li> <li> copy(a::<b>Base.Pkg.Resolve.VersionWeights.VWPreBuildItem</b>) at <a href=\"https://github.com/JuliaLang/julia/tree/d386e40c17d43b79fc89d3e579fc04547241787c/base/pkg/resolve/versionweight.jl#L101\" target=\"_blank\">pkg/resolve/versionweight.jl:101</a></li> <li> copy(a::<b>Base.Pkg.Resolve.VersionWeights.VWPreBuild</b>) at <a href=\"https://github.com/JuliaLang/julia/tree/d386e40c17d43b79fc89d3e579fc04547241787c/base/pkg/resolve/versionweight.jl#L159\" target=\"_blank\">pkg/resolve/versionweight.jl:159</a></li> <li> copy(a::<b>Base.Pkg.Resolve.VersionWeights.VersionWeight</b>) at <a href=\"https://github.com/JuliaLang/julia/tree/d386e40c17d43b79fc89d3e579fc04547241787c/base/pkg/resolve/versionweight.jl#L219\" target=\"_blank\">pkg/resolve/versionweight.jl:219</a></li> <li> copy(a::<b>Base.Pkg.Resolve.MaxSum.FieldValues.FieldValue</b>) at <a href=\"https://github.com/JuliaLang/julia/tree/d386e40c17d43b79fc89d3e579fc04547241787c/base/pkg/resolve/fieldvalue.jl#L68\" target=\"_blank\">pkg/resolve/fieldvalue.jl:68</a></li> <li> copy(r::<b>Range</b>) at <a href=\"https://github.com/JuliaLang/julia/tree/d386e40c17d43b79fc89d3e579fc04547241787c/base/range.jl#L430\" target=\"_blank\">range.jl:430</a></li> <li> copy(x::<b>Number</b>) at <a href=\"https://github.com/JuliaLang/julia/tree/d386e40c17d43b79fc89d3e579fc04547241787c/base/number.jl#L48\" target=\"_blank\">number.jl:48</a></li> <li> copy<i>{T<:Array}</i>(a::<b>T</b>) at <a href=\"https://github.com/JuliaLang/julia/tree/d386e40c17d43b79fc89d3e579fc04547241787c/base/array.jl#L139\" target=\"_blank\">array.jl:139</a></li> <li> copy(M::<b>SymTridiagonal</b>) at <a href=\"https://github.com/JuliaLang/julia/tree/d386e40c17d43b79fc89d3e579fc04547241787c/base/linalg/tridiag.jl#L105\" target=\"_blank\">linalg/tridiag.jl:105</a></li> <li> copy(M::<b>Tridiagonal</b>) at <a href=\"https://github.com/JuliaLang/julia/tree/d386e40c17d43b79fc89d3e579fc04547241787c/base/linalg/tridiag.jl#L517\" target=\"_blank\">linalg/tridiag.jl:517</a></li> <li> copy(A::<b>LowerTriangular</b>) at <a href=\"https://github.com/JuliaLang/julia/tree/d386e40c17d43b79fc89d3e579fc04547241787c/base/linalg/triangular.jl#L38\" target=\"_blank\">linalg/triangular.jl:38</a></li> <li> copy(A::<b>Base.LinAlg.UnitLowerTriangular</b>) at <a href=\"https://github.com/JuliaLang/julia/tree/d386e40c17d43b79fc89d3e579fc04547241787c/base/linalg/triangular.jl#L38\" target=\"_blank\">linalg/triangular.jl:38</a></li> <li> copy(A::<b>UpperTriangular</b>) at <a href=\"https://github.com/JuliaLang/julia/tree/d386e40c17d43b79fc89d3e579fc04547241787c/base/linalg/triangular.jl#L38\" target=\"_blank\">linalg/triangular.jl:38</a></li> <li> copy(A::<b>Base.LinAlg.UnitUpperTriangular</b>) at <a href=\"https://github.com/JuliaLang/julia/tree/d386e40c17d43b79fc89d3e579fc04547241787c/base/linalg/triangular.jl#L38\" target=\"_blank\">linalg/triangular.jl:38</a></li> <li> copy<i>{T, S}</i>(A::<b>Symmetric{T,S}</b>) at <a href=\"https://github.com/JuliaLang/julia/tree/d386e40c17d43b79fc89d3e579fc04547241787c/base/linalg/symmetric.jl#L160\" target=\"_blank\">linalg/symmetric.jl:160</a></li> <li> copy<i>{T, S}</i>(A::<b>Hermitian{T,S}</b>) at <a href=\"https://github.com/JuliaLang/julia/tree/d386e40c17d43b79fc89d3e579fc04547241787c/base/linalg/symmetric.jl#L161\" target=\"_blank\">linalg/symmetric.jl:161</a></li> <li> copy(M::<b>Bidiagonal</b>) at <a href=\"https://github.com/JuliaLang/julia/tree/d386e40c17d43b79fc89d3e579fc04547241787c/base/linalg/bidiag.jl#L266\" target=\"_blank\">linalg/bidiag.jl:266</a></li> <li> copy(ra::<b>Base.ReshapedArray{#s268,2,#s267,MI} where MI<:Tuple{Vararg{Base.MultiplicativeInverses.SignedMultiplicativeInverse{Int64},N} where N} where #s267<:SparseMatrixCSC where #s268</b>) at <a href=\"https://github.com/JuliaLang/julia/tree/d386e40c17d43b79fc89d3e579fc04547241787c/base/sparse/sparsematrix.jl#L238\" target=\"_blank\">sparse/sparsematrix.jl:238</a></li> <li> copy(S::<b>SparseMatrixCSC</b>) at <a href=\"https://github.com/JuliaLang/julia/tree/d386e40c17d43b79fc89d3e579fc04547241787c/base/sparse/sparsematrix.jl#L253\" target=\"_blank\">sparse/sparsematrix.jl:253</a></li> <li> copy<i>{Tv<:Float64}</i>(A::<b>Base.SparseArrays.CHOLMOD.Sparse{Tv}</b>, stype::<b>Integer</b>, mode::<b>Integer</b>) at <a href=\"https://github.com/JuliaLang/julia/tree/d386e40c17d43b79fc89d3e579fc04547241787c/base/sparse/cholmod.jl#L618\" target=\"_blank\">sparse/cholmod.jl:618</a></li> <li> copy(A::<b>Base.SparseArrays.CHOLMOD.Sparse</b>) at <a href=\"https://github.com/JuliaLang/julia/tree/d386e40c17d43b79fc89d3e579fc04547241787c/base/sparse/cholmod.jl#L1209\" target=\"_blank\">sparse/cholmod.jl:1209</a></li> <li> copy(x::<b>AbstractSparseArray{Tv,Ti,1} where Ti where Tv</b>) at <a href=\"https://github.com/JuliaLang/julia/tree/d386e40c17d43b79fc89d3e579fc04547241787c/base/sparse/sparsevector.jl#L825\" target=\"_blank\">sparse/sparsevector.jl:825</a></li> <li> copy(A::<b>Base.SparseArrays.CHOLMOD.Dense</b>) at <a href=\"https://github.com/JuliaLang/julia/tree/d386e40c17d43b79fc89d3e579fc04547241787c/base/sparse/cholmod.jl#L1208\" target=\"_blank\">sparse/cholmod.jl:1208</a></li> <li> copy(a::<b>AbstractArray</b>) at <a href=\"https://github.com/JuliaLang/julia/tree/d386e40c17d43b79fc89d3e579fc04547241787c/base/abstractarray.jl#L697\" target=\"_blank\">abstractarray.jl:697</a></li> <li> copy(d::<b>Dict</b>) at <a href=\"https://github.com/JuliaLang/julia/tree/d386e40c17d43b79fc89d3e579fc04547241787c/base/dict.jl#L134\" target=\"_blank\">dict.jl:134</a></li> <li> copy(d::<b>WeakKeyDict</b>) at <a href=\"https://github.com/JuliaLang/julia/tree/d386e40c17d43b79fc89d3e579fc04547241787c/base/weakkeydict.jl#L49\" target=\"_blank\">weakkeydict.jl:49</a></li> <li> copy(a::<b>Associative</b>) at <a href=\"https://github.com/JuliaLang/julia/tree/d386e40c17d43b79fc89d3e579fc04547241787c/base/associative.jl#L113\" target=\"_blank\">associative.jl:113</a></li> <li> copy(s::<b>Set</b>) at <a href=\"https://github.com/JuliaLang/julia/tree/d386e40c17d43b79fc89d3e579fc04547241787c/base/set.jl#L41\" target=\"_blank\">set.jl:41</a></li> <li> copy(b::<b>Base.AbstractIOBuffer</b>) at <a href=\"https://github.com/JuliaLang/julia/tree/d386e40c17d43b79fc89d3e579fc04547241787c/base/iobuffer.jl#L81\" target=\"_blank\">iobuffer.jl:81</a></li> <li> copy(A::<b>Base.LinAlg.LQ</b>) at <a href=\"https://github.com/JuliaLang/julia/tree/d386e40c17d43b79fc89d3e579fc04547241787c/base/linalg/lq.jl#L48\" target=\"_blank\">linalg/lq.jl:48</a></li> <li> copy(C::<b>Base.LinAlg.Cholesky</b>) at <a href=\"https://github.com/JuliaLang/julia/tree/d386e40c17d43b79fc89d3e579fc04547241787c/base/linalg/cholesky.jl#L416\" target=\"_blank\">linalg/cholesky.jl:416</a></li> <li> copy(C::<b>Base.LinAlg.CholeskyPivoted</b>) at <a href=\"https://github.com/JuliaLang/julia/tree/d386e40c17d43b79fc89d3e579fc04547241787c/base/linalg/cholesky.jl#L417\" target=\"_blank\">linalg/cholesky.jl:417</a></li> <li> copy(J::<b>UniformScaling</b>) at <a href=\"https://github.com/JuliaLang/julia/tree/d386e40c17d43b79fc89d3e579fc04547241787c/base/linalg/uniformscaling.jl#L41\" target=\"_blank\">linalg/uniformscaling.jl:41</a></li> <li> copy(F::<b>Base.LinAlg.Schur</b>) at <a href=\"https://github.com/JuliaLang/julia/tree/d386e40c17d43b79fc89d3e579fc04547241787c/base/linalg/schur.jl#L288\" target=\"_blank\">linalg/schur.jl:288</a></li> <li> copy(F::<b>Base.LinAlg.GeneralizedSchur</b>) at <a href=\"https://github.com/JuliaLang/julia/tree/d386e40c17d43b79fc89d3e579fc04547241787c/base/linalg/schur.jl#L289\" target=\"_blank\">linalg/schur.jl:289</a></li> <li> copy<i>{T}</i>(a::<b>Base.Pkg.Resolve.VersionWeights.HierarchicalValue{T}</b>) at <a href=\"https://github.com/JuliaLang/julia/tree/d386e40c17d43b79fc89d3e579fc04547241787c/base/pkg/resolve/versionweight.jl#L71\" target=\"_blank\">pkg/resolve/versionweight.jl:71</a></li> <li> copy(A::<b>Base.SparseArrays.CHOLMOD.Factor</b>) at <a href=\"https://github.com/JuliaLang/julia/tree/d386e40c17d43b79fc89d3e579fc04547241787c/base/sparse/cholmod.jl#L1210\" target=\"_blank\">sparse/cholmod.jl:1210</a></li> <li> copy(md::<b>MbedTLS.MD</b>) at <a href=\"https://github.com/JuliaWeb/MbedTLS.jl/tree/1835661be3a08e48b7713d5cf91a7d6b93e6c122//src/md.jl#L93\" target=\"_blank\">/Users/U05284/.julia/v0.6/MbedTLS/src/md.jl:93</a></li> </ul>"
      ],
      "text/plain": [
       "# 44 methods for generic function \"copy\":\n",
       "copy(e::Expr) in Base at expr.jl:35\n",
       "copy(s1::IntSet) in Base at intset.jl:11\n",
       "copy(o::ObjectIdDict) in Base at associative.jl:475\n",
       "copy(src::Base.dSFMT.DSFMT_state) in Base.dSFMT at dSFMT.jl:32\n",
       "copy(src::MersenneTwister) in Base.Random at random.jl:112\n",
       "copy(vset::Base.Pkg.Types.VersionSet) in Base.Pkg.Types at pkg/types.jl:66\n",
       "copy(a::Base.Pkg.Types.Available) in Base.Pkg.Types at pkg/types.jl:148\n",
       "copy(a::Base.Pkg.Resolve.VersionWeights.VWPreBuildItem) in Base.Pkg.Resolve.VersionWeights at pkg/resolve/versionweight.jl:101\n",
       "copy(a::Base.Pkg.Resolve.VersionWeights.VWPreBuild) in Base.Pkg.Resolve.VersionWeights at pkg/resolve/versionweight.jl:159\n",
       "copy(a::Base.Pkg.Resolve.VersionWeights.VersionWeight) in Base.Pkg.Resolve.VersionWeights at pkg/resolve/versionweight.jl:219\n",
       "copy(a::Base.Pkg.Resolve.MaxSum.FieldValues.FieldValue) in Base.Pkg.Resolve.MaxSum.FieldValues at pkg/resolve/fieldvalue.jl:68\n",
       "copy(r::Range) in Base at range.jl:430\n",
       "copy(x::Number) in Base at number.jl:48\n",
       "copy(a::T) where T<:Array in Base at array.jl:139\n",
       "copy(M::SymTridiagonal) in Base.LinAlg at linalg/tridiag.jl:105\n",
       "copy(M::Tridiagonal) in Base.LinAlg at linalg/tridiag.jl:517\n",
       "copy(A::LowerTriangular) in Base.LinAlg at linalg/triangular.jl:38\n",
       "copy(A::Base.LinAlg.UnitLowerTriangular) in Base.LinAlg at linalg/triangular.jl:38\n",
       "copy(A::UpperTriangular) in Base.LinAlg at linalg/triangular.jl:38\n",
       "copy(A::Base.LinAlg.UnitUpperTriangular) in Base.LinAlg at linalg/triangular.jl:38\n",
       "copy(A::Symmetric{T,S}) where {T, S} in Base.LinAlg at linalg/symmetric.jl:160\n",
       "copy(A::Hermitian{T,S}) where {T, S} in Base.LinAlg at linalg/symmetric.jl:161\n",
       "copy(M::Bidiagonal) in Base.LinAlg at linalg/bidiag.jl:266\n",
       "copy(ra::Base.ReshapedArray{#s268,2,#s267,MI} where MI<:Tuple{Vararg{Base.MultiplicativeInverses.SignedMultiplicativeInverse{Int64},N} where N} where #s267<:SparseMatrixCSC where #s268) in Base.SparseArrays at sparse/sparsematrix.jl:238\n",
       "copy(S::SparseMatrixCSC) in Base.SparseArrays at sparse/sparsematrix.jl:253\n",
       "copy(A::Base.SparseArrays.CHOLMOD.Sparse{Tv}, stype::Integer, mode::Integer) where Tv<:Float64 in Base.SparseArrays.CHOLMOD at sparse/cholmod.jl:618\n",
       "copy(A::Base.SparseArrays.CHOLMOD.Sparse) in Base.SparseArrays.CHOLMOD at sparse/cholmod.jl:1209\n",
       "copy(x::AbstractSparseArray{Tv,Ti,1} where Ti where Tv) in Base.SparseArrays at sparse/sparsevector.jl:825\n",
       "copy(A::Base.SparseArrays.CHOLMOD.Dense) in Base.SparseArrays.CHOLMOD at sparse/cholmod.jl:1208\n",
       "copy(a::AbstractArray) in Base at abstractarray.jl:697\n",
       "copy(d::Dict) in Base at dict.jl:134\n",
       "copy(d::WeakKeyDict) in Base at weakkeydict.jl:49\n",
       "copy(a::Associative) in Base at associative.jl:113\n",
       "copy(s::Set) in Base at set.jl:41\n",
       "copy(b::Base.AbstractIOBuffer) in Base at iobuffer.jl:81\n",
       "copy(A::Base.LinAlg.LQ) in Base.LinAlg at linalg/lq.jl:48\n",
       "copy(C::Base.LinAlg.Cholesky) in Base.LinAlg at linalg/cholesky.jl:416\n",
       "copy(C::Base.LinAlg.CholeskyPivoted) in Base.LinAlg at linalg/cholesky.jl:417\n",
       "copy(J::UniformScaling) in Base.LinAlg at linalg/uniformscaling.jl:41\n",
       "copy(F::Base.LinAlg.Schur) in Base.LinAlg at linalg/schur.jl:288\n",
       "copy(F::Base.LinAlg.GeneralizedSchur) in Base.LinAlg at linalg/schur.jl:289\n",
       "copy(a::Base.Pkg.Resolve.VersionWeights.HierarchicalValue{T}) where T in Base.Pkg.Resolve.VersionWeights at pkg/resolve/versionweight.jl:71\n",
       "copy(A::Base.SparseArrays.CHOLMOD.Factor) in Base.SparseArrays.CHOLMOD at sparse/cholmod.jl:1210\n",
       "copy(md::MbedTLS.MD) in MbedTLS at /Users/U05284/.julia/v0.6/MbedTLS/src/md.jl:93"
      ]
     },
     "execution_count": 1,
     "metadata": {},
     "output_type": "execute_result"
    }
   ],
   "source": [
    "methods(copy) # methods()...ある名前で定義されているメソッドを出力"
   ]
  },
  {
   "cell_type": "code",
   "execution_count": 2,
   "metadata": {},
   "outputs": [
    {
     "data": {
      "text/html": [
       "copy<i>{T<:Array}</i>(a::<b>T</b>) at <a href=\"https://github.com/JuliaLang/julia/tree/d386e40c17d43b79fc89d3e579fc04547241787c/base/array.jl#L139\" target=\"_blank\">array.jl:139</a>"
      ],
      "text/plain": [
       "copy(a::T) where T<:Array in Base at array.jl:139"
      ]
     },
     "execution_count": 2,
     "metadata": {},
     "output_type": "execute_result"
    }
   ],
   "source": [
    "@which(copy([1, 2, 3])) # @which...どの引数の処理のメソッドが呼ばれているかを出力"
   ]
  },
  {
   "cell_type": "code",
   "execution_count": 3,
   "metadata": {},
   "outputs": [
    {
     "data": {
      "text/plain": [
       "2-element Array{Symbol,1}:\n",
       " :data\n",
       " :uplo"
      ]
     },
     "execution_count": 3,
     "metadata": {},
     "output_type": "execute_result"
    }
   ],
   "source": [
    "fieldnames(Hermitian) # filednames()...インスタンスや構造体の中身のタイプを出力"
   ]
  },
  {
   "cell_type": "code",
   "execution_count": 4,
   "metadata": {},
   "outputs": [
    {
     "data": {
      "text/plain": [
       "Array{Int64,1}"
      ]
     },
     "execution_count": 4,
     "metadata": {},
     "output_type": "execute_result"
    }
   ],
   "source": [
    "typeof([1;2;3]) # typeof()... 型を出力, c.f. ;は改行, つまりこれは列ベクトル"
   ]
  },
  {
   "cell_type": "code",
   "execution_count": 5,
   "metadata": {},
   "outputs": [
    {
     "data": {
      "text/plain": [
       "CodeInfo(:(begin \n",
       "        nothing\n",
       "        nothing\n",
       "        SSAValue(0) = (Base.cconvert)(Base.Math.Float64, x)\n",
       "        SSAValue(1) = $(Expr(:foreigncall, :((Core.tuple)(\"sin\", Base.Math.libm)), Float64, svec(Float64), :((Base.unsafe_convert)(Base.Math.Float64, SSAValue(0))), SSAValue(0)))\n",
       "        return (Base.Math.nan_dom_err)(SSAValue(1), x)\n",
       "    end))"
      ]
     },
     "execution_count": 5,
     "metadata": {},
     "output_type": "execute_result"
    }
   ],
   "source": [
    "@code_lowered sin(sqrt(3)) # @code_lowered...どんな処理が発生してるかを確認できる. sqrt()は√3でもok."
   ]
  },
  {
   "cell_type": "markdown",
   "metadata": {},
   "source": [
    "またIntractiveShellにてjuliaを使っている場合だけですが.コンソール時に\"?\"を打ち込むとhelpモードに入ります."
   ]
  },
  {
   "cell_type": "code",
   "execution_count": 6,
   "metadata": {},
   "outputs": [],
   "source": [
    "# ?copy...copyのヘルプが出ます"
   ]
  },
  {
   "cell_type": "markdown",
   "metadata": {},
   "source": [
    "-----"
   ]
  },
  {
   "cell_type": "markdown",
   "metadata": {},
   "source": [
    "## 2.Array\n",
    "基本的な構文はmatlabと同じ.\n",
    "\n",
    "### 宣言方法と代入方法"
   ]
  },
  {
   "cell_type": "code",
   "execution_count": 7,
   "metadata": {},
   "outputs": [
    {
     "name": "stdout",
     "output_type": "stream",
     "text": [
      "[1, 2, 3, 4, 5]\n",
      "[1 2 3 4 5]\n"
     ]
    }
   ],
   "source": [
    "a = Vector{Float64}(5) #5つのfloat64値からなる一次元配列の生成\n",
    "a = [1 2 3 4 5]\n",
    "\n",
    "cv = [1;2;3;4;5] # 列ベクトル\n",
    "rv = [1 2 3 4 5] # 行ベクトル\n",
    "\n",
    "println(cv)\n",
    "println(rv)"
   ]
  },
  {
   "cell_type": "code",
   "execution_count": 8,
   "metadata": {},
   "outputs": [
    {
     "data": {
      "text/plain": [
       "1×5 Array{Int64,2}:\n",
       " 1  2  100  4  5"
      ]
     },
     "execution_count": 8,
     "metadata": {},
     "output_type": "execute_result"
    }
   ],
   "source": [
    "a[3] = 100 # 配列aの\"3つめ\"の要素を100に変更. 線形indexを使用しています.\n",
    "a"
   ]
  },
  {
   "cell_type": "code",
   "execution_count": 9,
   "metadata": {},
   "outputs": [
    {
     "data": {
      "text/plain": [
       "3×4 Array{Int64,2}:\n",
       " 11  12  13  14\n",
       " 21  22  23  24\n",
       " 31  32  33  34"
      ]
     },
     "execution_count": 9,
     "metadata": {},
     "output_type": "execute_result"
    }
   ],
   "source": [
    "b = Matrix{Float64}(4,2) # size(4, 2)からなるFloat64型行列を生成\n",
    "\n",
    "c = Array{Float64}(4,5,6,7) # (4,5,6,7)からなるFloat64配列\n",
    "\n",
    "mat =  [11 12 13 14\n",
    "        21 22 23 24\n",
    "        31 32 33 34] # 直接inlineでMatrixの宣言も可能"
   ]
  },
  {
   "cell_type": "code",
   "execution_count": 10,
   "metadata": {},
   "outputs": [
    {
     "data": {
      "text/plain": [
       "3×4 Array{Int64,2}:\n",
       " 11   4  13  14\n",
       " 21  22  23  24\n",
       " 31  32  33  34"
      ]
     },
     "execution_count": 10,
     "metadata": {},
     "output_type": "execute_result"
    }
   ],
   "source": [
    "mat[1,2] = 4 # 変更方法は同じ.\n",
    "mat"
   ]
  },
  {
   "cell_type": "markdown",
   "metadata": {},
   "source": [
    "#### memo1\n",
    "> memo1: REPL環境を使ってる時, 評価された時に値を返される物の後ろに\";\"を入れると出力を無視できます.  \n",
    "> memo2: arrayの値はメモリの場所へのポインタです."
   ]
  },
  {
   "cell_type": "code",
   "execution_count": 11,
   "metadata": {},
   "outputs": [],
   "source": [
    "#memo1\n",
    "mat;"
   ]
  },
  {
   "cell_type": "code",
   "execution_count": 12,
   "metadata": {},
   "outputs": [
    {
     "name": "stdout",
     "output_type": "stream",
     "text": [
      "[10, 2, 3][10, 2, 3]\n"
     ]
    }
   ],
   "source": [
    "#memo2\n",
    "a = [1;2;3]\n",
    "b = a\n",
    "b[1] = 10\n",
    "println(a, b)"
   ]
  },
  {
   "cell_type": "code",
   "execution_count": 13,
   "metadata": {},
   "outputs": [
    {
     "name": "stdout",
     "output_type": "stream",
     "text": [
      "[1, 2, 3][10, 2, 3]\n"
     ]
    }
   ],
   "source": [
    "#memo2: aも一緒に変更されたくない場合は\"copy\"を使います.\n",
    "a = [1;2;3]\n",
    "b = copy(a)\n",
    "b[1] = 10\n",
    "println(a, b)"
   ]
  },
  {
   "cell_type": "markdown",
   "metadata": {},
   "source": [
    "#### memo2\n",
    "他にもコンストラクタを使わずにも宣言することが可能です. その場合以下のメソッドが有用.  \n",
    "いずれも, 引数のArrayのsize/shapeを引き継いだ新しいArrayを返します.\n",
    "\n",
    "- similar()\n",
    "- zeros()\n",
    "- ones()"
   ]
  },
  {
   "cell_type": "code",
   "execution_count": 14,
   "metadata": {},
   "outputs": [
    {
     "name": "stdout",
     "output_type": "stream",
     "text": [
      "[4469783144, 4469783576, 4469791928][0, 0, 0][1, 1, 1]\n"
     ]
    }
   ],
   "source": [
    "simA = similar(a) # aと同じ構造の未初期化のaryを返す.\n",
    "zerosA = zeros(a) # aと同じ構造の全て0のaryを返す.\n",
    "onesA = ones(a) # aと同じ構造の全て1のaryを返す.\n",
    "\n",
    "println(simA, zerosA, onesA)"
   ]
  },
  {
   "cell_type": "markdown",
   "metadata": {},
   "source": [
    "#### memo3\n",
    "1) 配列は[a:b]によって切り出すことが可能.\n",
    "- [a:b]...配列のa番目からb番目までを切り出す\n",
    "\n",
    "2) また, aryにはどんな種類のtypeも内包できるため配列の中に配列を含めることももちろん可能です.\n"
   ]
  },
  {
   "cell_type": "code",
   "execution_count": 15,
   "metadata": {},
   "outputs": [
    {
     "data": {
      "text/plain": [
       "5-element Array{Int64,1}:\n",
       " 1\n",
       " 2\n",
       " 3\n",
       " 4\n",
       " 5"
      ]
     },
     "execution_count": 15,
     "metadata": {},
     "output_type": "execute_result"
    }
   ],
   "source": [
    "#1)\n",
    "a = [1 2 3 4 5 6 7 8 9 10]\n",
    "a[1:5]"
   ]
  },
  {
   "cell_type": "code",
   "execution_count": 16,
   "metadata": {},
   "outputs": [
    {
     "data": {
      "text/plain": [
       "3-element Array{Array{Float64,1},1}:\n",
       " [1.0, 2.0, 3.0]\n",
       " [1.0, 2.0]     \n",
       " [3.0, 4.0, 5.0]"
      ]
     },
     "execution_count": 16,
     "metadata": {},
     "output_type": "execute_result"
    }
   ],
   "source": [
    "# 2)\n",
    "a = Vector{Vector{Float64}}(3)\n",
    "a[1] = [1;2;3]\n",
    "a[2] = [1;2]\n",
    "a[3] = [3;4;5]\n",
    "a"
   ]
  },
  {
   "cell_type": "markdown",
   "metadata": {},
   "source": [
    "また, 入れ子構造になったarrayのcopyにはdeepcopy()を使います."
   ]
  },
  {
   "cell_type": "code",
   "execution_count": 17,
   "metadata": {},
   "outputs": [
    {
     "name": "stdout",
     "output_type": "stream",
     "text": [
      "Array{Float64,1}[[1.0, 2.0, 3.0], [1.0, 2.0], [3.0, 4.0, 5.0]]\n",
      "Array{Float64,1}[[1.0, 3.0, 2.0], [1.0, 2.0], [3.0, 4.0, 5.0]]\n"
     ]
    }
   ],
   "source": [
    "b = deepcopy(a)\n",
    "b[1] = [1;3;2]\n",
    "println(a)\n",
    "println(b)"
   ]
  },
  {
   "cell_type": "markdown",
   "metadata": {},
   "source": [
    "#### memo4\n",
    "高い実行速度を達成するためにはコード量を減らすことが重要です. \n",
    "そのため, Juliaには引数に破壊的代入をもたらすmutationメソッドがあり, そのようなメソッドの末尾には!が付いています."
   ]
  },
  {
   "cell_type": "code",
   "execution_count": 18,
   "metadata": {},
   "outputs": [
    {
     "data": {
      "text/plain": [
       "3-element Array{Int64,1}:\n",
       "  2\n",
       " 12\n",
       " 18"
      ]
     },
     "execution_count": 18,
     "metadata": {},
     "output_type": "execute_result"
    }
   ],
   "source": [
    "# mutation method ex.\n",
    "a = [1;6;9]\n",
    "scale!(a, 2) # scale!(ary, scalar)...aryをscalar倍"
   ]
  },
  {
   "cell_type": "markdown",
   "metadata": {},
   "source": [
    "----"
   ]
  },
  {
   "cell_type": "markdown",
   "metadata": {},
   "source": [
    "## 3.制御フロー\n",
    "\n",
    "Juliaの制御フローは他のスクリプト言語と大して変化はなし.\n",
    "いつも通りのfor loop, while, ifがあるくらい.\n",
    "\n",
    "他のものはdocumentを参照."
   ]
  },
  {
   "cell_type": "code",
   "execution_count": 19,
   "metadata": {},
   "outputs": [
    {
     "name": "stdout",
     "output_type": "stream",
     "text": [
      "1\n",
      "2\n",
      "3\n",
      "4\n",
      "5\n"
     ]
    }
   ],
   "source": [
    "# for loop\n",
    "for i=1:5 #1:5でrange, =をinに変えても実行可能.\n",
    "  println(i)\n",
    "end"
   ]
  },
  {
   "cell_type": "code",
   "execution_count": 20,
   "metadata": {},
   "outputs": [
    {
     "name": "stdout",
     "output_type": "stream",
     "text": [
      "0\n",
      "1\n",
      "2\n",
      "3\n",
      "4\n"
     ]
    }
   ],
   "source": [
    "t = 0\n",
    "while t < 5\n",
    "  println(t)\n",
    "  t+=1\n",
    "end"
   ]
  },
  {
   "cell_type": "code",
   "execution_count": 21,
   "metadata": {},
   "outputs": [
    {
     "name": "stdout",
     "output_type": "stream",
     "text": [
      "you said asdf\n",
      "search: \u001b[1mf\u001b[22m\u001b[1mo\u001b[22m\u001b[1mr\u001b[22m \u001b[1mf\u001b[22m\u001b[1mo\u001b[22m\u001b[1mr\u001b[22meach Uni\u001b[1mf\u001b[22m\u001b[1mo\u001b[22m\u001b[1mr\u001b[22mmScaling Date\u001b[1mF\u001b[22m\u001b[1mo\u001b[22m\u001b[1mr\u001b[22mmat @date\u001b[1mf\u001b[22m\u001b[1mo\u001b[22m\u001b[1mr\u001b[22mmat_str \u001b[1mf\u001b[22m\u001b[1mo\u001b[22mld\u001b[1mr\u001b[22m \u001b[1mf\u001b[22ml\u001b[1mo\u001b[22mo\u001b[1mr\u001b[22m\n",
      "\n",
      "search: \u001b[1mf\u001b[22m\u001b[1mo\u001b[22m\u001b[1mr\u001b[22m \u001b[1mf\u001b[22m\u001b[1mo\u001b[22m\u001b[1mr\u001b[22meach Uni\u001b[1mf\u001b[22m\u001b[1mo\u001b[22m\u001b[1mr\u001b[22mmScaling Date\u001b[1mF\u001b[22m\u001b[1mo\u001b[22m\u001b[1mr\u001b[22mmat @date\u001b[1mf\u001b[22m\u001b[1mo\u001b[22m\u001b[1mr\u001b[22mmat_str \u001b[1mf\u001b[22m\u001b[1mo\u001b[22mld\u001b[1mr\u001b[22m \u001b[1mf\u001b[22ml\u001b[1mo\u001b[22mo\u001b[1mr\u001b[22m\n",
      "\n",
      "search: \u001b[1mf\u001b[22m\u001b[1mo\u001b[22m\u001b[1mr\u001b[22m \u001b[1mf\u001b[22m\u001b[1mo\u001b[22m\u001b[1mr\u001b[22meach Uni\u001b[1mf\u001b[22m\u001b[1mo\u001b[22m\u001b[1mr\u001b[22mmScaling Date\u001b[1mF\u001b[22m\u001b[1mo\u001b[22m\u001b[1mr\u001b[22mmat @date\u001b[1mf\u001b[22m\u001b[1mo\u001b[22m\u001b[1mr\u001b[22mmat_str \u001b[1mf\u001b[22m\u001b[1mo\u001b[22mld\u001b[1mr\u001b[22m \u001b[1mf\u001b[22ml\u001b[1mo\u001b[22mo\u001b[1mr\u001b[22m\n",
      "\n",
      "search: \u001b[1mf\u001b[22m\u001b[1mo\u001b[22m\u001b[1mr\u001b[22m \u001b[1mf\u001b[22m\u001b[1mo\u001b[22m\u001b[1mr\u001b[22meach Uni\u001b[1mf\u001b[22m\u001b[1mo\u001b[22m\u001b[1mr\u001b[22mmScaling Date\u001b[1mF\u001b[22m\u001b[1mo\u001b[22m\u001b[1mr\u001b[22mmat @date\u001b[1mf\u001b[22m\u001b[1mo\u001b[22m\u001b[1mr\u001b[22mmat_str \u001b[1mf\u001b[22m\u001b[1mo\u001b[22mld\u001b[1mr\u001b[22m \u001b[1mf\u001b[22ml\u001b[1mo\u001b[22mo\u001b[1mr\u001b[22m\n",
      "\n",
      "search: \u001b[1mf\u001b[22m\u001b[1mo\u001b[22m\u001b[1mr\u001b[22m \u001b[1mf\u001b[22m\u001b[1mo\u001b[22m\u001b[1mr\u001b[22meach Uni\u001b[1mf\u001b[22m\u001b[1mo\u001b[22m\u001b[1mr\u001b[22mmScaling Date\u001b[1mF\u001b[22m\u001b[1mo\u001b[22m\u001b[1mr\u001b[22mmat @date\u001b[1mf\u001b[22m\u001b[1mo\u001b[22m\u001b[1mr\u001b[22mmat_str \u001b[1mf\u001b[22m\u001b[1mo\u001b[22mld\u001b[1mr\u001b[22m \u001b[1mf\u001b[22ml\u001b[1mo\u001b[22mo\u001b[1mr\u001b[22m\n",
      "\n",
      "search: \u001b[1mf\u001b[22m\u001b[1mo\u001b[22m\u001b[1mr\u001b[22m \u001b[1mf\u001b[22m\u001b[1mo\u001b[22m\u001b[1mr\u001b[22meach Uni\u001b[1mf\u001b[22m\u001b[1mo\u001b[22m\u001b[1mr\u001b[22mmScaling Date\u001b[1mF\u001b[22m\u001b[1mo\u001b[22m\u001b[1mr\u001b[22mmat @date\u001b[1mf\u001b[22m\u001b[1mo\u001b[22m\u001b[1mr\u001b[22mmat_str \u001b[1mf\u001b[22m\u001b[1mo\u001b[22mld\u001b[1mr\u001b[22m \u001b[1mf\u001b[22ml\u001b[1mo\u001b[22mo\u001b[1mr\u001b[22m\n",
      "\n",
      "search: \u001b[1mf\u001b[22m\u001b[1mo\u001b[22m\u001b[1mr\u001b[22m \u001b[1mf\u001b[22m\u001b[1mo\u001b[22m\u001b[1mr\u001b[22meach Uni\u001b[1mf\u001b[22m\u001b[1mo\u001b[22m\u001b[1mr\u001b[22mmScaling Date\u001b[1mF\u001b[22m\u001b[1mo\u001b[22m\u001b[1mr\u001b[22mmat @date\u001b[1mf\u001b[22m\u001b[1mo\u001b[22m\u001b[1mr\u001b[22mmat_str \u001b[1mf\u001b[22m\u001b[1mo\u001b[22mld\u001b[1mr\u001b[22m \u001b[1mf\u001b[22ml\u001b[1mo\u001b[22mo\u001b[1mr\u001b[22m\n",
      "\n",
      "search: \u001b[1me\u001b[22m\u001b[1mn\u001b[22m\u001b[1md\u001b[22m \u001b[1me\u001b[22m\u001b[1mn\u001b[22m\u001b[1md\u001b[22mof \u001b[1me\u001b[22m\u001b[1mn\u001b[22m\u001b[1md\u001b[22mswith \u001b[1mE\u001b[22m\u001b[1mN\u001b[22m\u001b[1mD\u001b[22mIAN_BOM s\u001b[1me\u001b[22m\u001b[1mn\u001b[22m\u001b[1md\u001b[22m app\u001b[1me\u001b[22m\u001b[1mn\u001b[22m\u001b[1md\u001b[22m! Quot\u001b[1me\u001b[22m\u001b[1mN\u001b[22mo\u001b[1md\u001b[22me Rang\u001b[1me\u001b[22mI\u001b[1mn\u001b[22m\u001b[1md\u001b[22mex g\u001b[1me\u001b[22mti\u001b[1mn\u001b[22m\u001b[1md\u001b[22mex\n",
      "\n"
     ]
    }
   ],
   "source": [
    "symbol = :asdf\n",
    "\n",
    "if symbol == :asdf\n",
    "  println(\"you said asdf\")\n",
    "else\n",
    "  println(\"no idea\")\n",
    "end"
   ]
  },
  {
   "cell_type": "markdown",
   "metadata": {},
   "source": [
    "#### memo\n",
    "Juliaのforloopで面白いのは, なんと多重for loopを一列で書ける"
   ]
  },
  {
   "cell_type": "code",
   "execution_count": 22,
   "metadata": {},
   "outputs": [
    {
     "name": "stdout",
     "output_type": "stream",
     "text": [
      "2\n",
      "3\n",
      "4\n",
      "4\n",
      "6\n",
      "8\n",
      "6\n",
      "9\n",
      "12\n",
      "8\n",
      "12\n",
      "16\n",
      "10\n",
      "15\n",
      "20\n"
     ]
    }
   ],
   "source": [
    "for i=1:5, j=2:4\n",
    "  println(i*j)\n",
    "end"
   ]
  },
  {
   "cell_type": "markdown",
   "metadata": {},
   "source": [
    "### 練習問題\n",
    "http://ucidatascienceinitiative.github.io/IntroToJulia/Html/BasicProblems\n",
    "上四問."
   ]
  },
  {
   "cell_type": "code",
   "execution_count": 62,
   "metadata": {},
   "outputs": [
    {
     "data": {
      "text/plain": [
       "5×5 Array{Float64,2}:\n",
       " -2.0   1.0   0.0   0.0   0.0\n",
       "  1.0  -2.0   1.0   0.0   0.0\n",
       "  0.0   1.0  -2.0   1.0   0.0\n",
       "  0.0   0.0   1.0  -2.0   1.0\n",
       "  0.0   0.0   0.0   1.0  -2.0"
      ]
     },
     "execution_count": 62,
     "metadata": {},
     "output_type": "execute_result"
    }
   ],
   "source": [
    "#Q1. (N,N)型で, 体格が-2, 体格の左右隣が1, それ以外が0の行列を作れ.\n",
    "N = 5\n",
    "#mat = Matrix{Float64}(N, N)\n",
    "mat = zeros(N, N)\n",
    "for i=1:N, j=1:N\n",
    "  if i==j\n",
    "    mat[i,j] = -2\n",
    "  elseif i==j+1||i==j-1\n",
    "    mat[i,j] = 1\n",
    "  end\n",
    "end\n",
    "\n",
    "mat"
   ]
  },
  {
   "cell_type": "code",
   "execution_count": 61,
   "metadata": {},
   "outputs": [
    {
     "data": {
      "text/plain": [
       "5×5 Array{Float64,2}:\n",
       " -2.0   1.0   0.0   0.0   0.0\n",
       "  1.0  -2.0   1.0   0.0   0.0\n",
       "  0.0   1.0  -2.0   1.0   0.0\n",
       "  0.0   0.0   1.0  -2.0   1.0\n",
       "  0.0   0.0   0.0   1.0  -2.0"
      ]
     },
     "execution_count": 61,
     "metadata": {},
     "output_type": "execute_result"
    }
   ],
   "source": [
    "#Q1. 綺麗なコードver. こっちの方が\"juliaらしい\"\n",
    "N=5\n",
    "A = zeros(N,N)\n",
    "for i=1:N, j=1:N\n",
    "  abs(i-j)==1 && (A[i,j]=1)\n",
    "  i==j && (A[i,j]=-2)\n",
    "end\n",
    "A"
   ]
  },
  {
   "cell_type": "code",
   "execution_count": 77,
   "metadata": {},
   "outputs": [
    {
     "name": "stdout",
     "output_type": "stream",
     "text": [
      "93326215443944152681699238856266700490715968264381621468592963895217599993229915608941463976156518286253697920827223758251185210916864000000000000000000000000"
     ]
    }
   ],
   "source": [
    "## Q2. 階上, my_factorial(n)で, n!を出力. (bonus無思考)\n",
    "function my_factorial(n)\n",
    "  ans = one(1)\n",
    "  for i=1:n\n",
    "    ans*=i\n",
    "  end\n",
    "  print(ans)\n",
    "end\n",
    "\n",
    "my_factorial(big(100))"
   ]
  },
  {
   "cell_type": "code",
   "execution_count": null,
   "metadata": {},
   "outputs": [],
   "source": []
  }
 ],
 "metadata": {
  "kernelspec": {
   "display_name": "Julia 0.6.2",
   "language": "julia",
   "name": "julia-0.6"
  },
  "language_info": {
   "file_extension": ".jl",
   "mimetype": "application/julia",
   "name": "julia",
   "version": "0.6.2"
  }
 },
 "nbformat": 4,
 "nbformat_minor": 2
}
