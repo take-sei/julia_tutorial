{
 "cells": [
  {
   "cell_type": "markdown",
   "metadata": {},
   "source": [
    "# Juliaで始める \"プログラミング言語\" 入門\n",
    "2018.4.30  \n",
    "author: take.sei <sei06k14@gmail.com>  \n",
    "  \n",
    "プログラミング言語, 種類はたくさんあれど大体の作りと雰囲気は似ているものです!(例外あり  \n",
    "そこで, この記事ではJuliaを用いてそんな\"プログラミング言語\"全体に対して言えるような普遍的な文法について扱っていきます!  "
   ]
  },
  {
   "cell_type": "markdown",
   "metadata": {},
   "source": [
    "## Table of Contents\n",
    "---\n",
    "1. プログラミング言語の成り立ち(歴史/用語説明)\n",
    "2. 基礎的なプログラムの構造の説明, 原則他\n",
    "3. データ(object)の種類(class)一覧\n",
    "4. keyword(演算子, 基本構文)の説明\n",
    "5. 発展内容"
   ]
  },
  {
   "cell_type": "markdown",
   "metadata": {},
   "source": [
    "## 1. プログラミング言語の成り立ち\n",
    "---\n",
    "keywords: コンパイラ, インタプリタ, 評価, 参照, DRY\n",
    "### 1-1 プログラミング言語歴史早見表\n",
    "> 2n -> 16n(bin) -> ニーモニック(アセンブラ) -> Fortran(AST, コンパイラ, 評価と参照) -> ソフトウェア危機! & 構造化プログラミング(goto, label, DRY) -> Clang  \n",
    "   -> Moduler, SideEffect, OOP/FP -> SmallTalk/C++ -> Java -> +FP..Scala  \n",
    "  \n",
    ">ShellScript(インタプリタ) -> Perl -> Web:PHP, OOP:Ruby, Python  \n",
    "  \n",
    "最近の言語は, Script言語と組み合わせた言語が多い. Juliaもこの一つ. Pythonの後釜?: そういうわけでもなさそう"
   ]
  },
  {
   "cell_type": "markdown",
   "metadata": {},
   "source": [
    "## 2. プログラムの構造の説明, 原則\n",
    "---\n",
    "keywords: アルゴリズム, 文, object, keyword, symbol\n",
    "\n",
    "### 2-1 トップダウン式プログラム構造\n",
    "アルゴリズム(全体) -> 文(評価の最大単位) -> 3要素(obj, keyword, symbol)  \n",
    "  \n",
    "- obj: データ\n",
    "- keyword: プログラム側で設定された名前\n",
    "- symbol: ユーザが設定できる名前"
   ]
  },
  {
   "cell_type": "markdown",
   "metadata": {},
   "source": [
    "## 3. データの型一覧\n",
    "---\n",
    "- typeof()が君の味方. super()で親クラス. トップはAny\n",
    "- Castには, クラス名()を使う. Int8()とか.\n",
    "\n",
    "| obj和名 | obj英名 | 記述方法 | 備考|\n",
    "| --- | --- | --- | ---|\n",
    "| 整数型 | Integer | 1, -2, 10e2 | 4+1則演算, FloatとのCast, BigとFix |\n",
    "| 浮動小数点型 | Float | 1.2, .2, -10e-2| 四則演算, IntとのCast, round()と丸め誤差 |\n",
    "| 文字列型 | String | \"\", '' | 1足演算, CharとStringと配列, エスケープ|\n",
    "| Bool型 | Boolean | true/false | 0,1に対応, スイッチ, 演算子/predicate()/自身|\n",
    "| 配列 | Array | [1 2 3], [1; 2; 3] | push/pop, unshift/shift, vcat/hcat, generator, スライス, map/broadcast|\n",
    "| タプル | Tuple | () | aryと使用感は同じ, immutableだけど早い, swap, returnValue |\n",
    "| 連想配列 | Dictionary, map | {key=>value} | key-value制 |\n",
    "| 関数 | Function | lambda, function | argとrv, closure? |\n",
    "| シンボル | symbol | :name | あれ...?どこかで...|\n",
    "| 範囲 | Range | a:b, a:b:c | 単体では意味なし, collectでaryに|\n",
    "\n",
    "\n",
    "### Juliaに関する補足\n",
    "- [型についてはこのページ](https://docs.julialang.org/en/release-0.5/manual/integers-and-floating-point-numbers/)\n",
    "- [合わせて参照されたし](http://www.cas.cmc.osaka-u.ac.jp/~paoon/misc/julia/post/basic/)\n",
    "- ちなみに, Classと言いつつ実際は構造体. 親子構造が存在. 抽象型\n",
    "- 整数型: typemin(x), typemax(x)で, xのクラスに対応する最大値/最小値が帰る. typemax(x)+1==typemin(x)を試してみよう, Bignum偉大 (overflow)\n",
    "- 整数型: Intの割り算は, div(a, b)\n",
    "- 数字系: zero(x)/one(x)で, xのクラスに対応する0/1が帰る, c.f. zeros(n), ones(n)\n",
    "- 数字系: //で有理数, imで複素数を定義することも可能.\n",
    "- 文字列型: 実質CharのArrayで認識問題ない\n",
    "- 文字列型: template literalが$()で使用可能, 変数展開だけなら$var\n",
    "- 文字列型: \"\"\"で改行ありstring\n",
    "- 文字列型: Bignumの場合は, StringからのCastのほうが精度がいいってよ, big\"0.1\", big(0.1)\n",
    "- 配列: ポインタなので, copy()でフルコピー, similer()で構造だけコピー, a .= bで, ポインタそのまま内容写し.\n",
    "- 配列: zeros(n), ones(n)で配列作成. zeros(n,m), ones(n,m)で行列に.\n",
    "- 配列: スライス: vector[1:2]...1~2次元を取り出す / matrix[1,:]...1行目, matrix[;,2]...2列目, matrix[1;2, 2;3]...行で1~2/列で2~3\n",
    "- 配列: generator: for x=\\**, y=\\**で多重配列, for重ねがけで一次元配列, ifでフィルタリング可能, sum()にも掛けられる...ただ配列?\n",
    "- 配列: map(sin, ary) / sin.(ary)...ベクトルに近い, 意識してる \n",
    "- 関数: 多重ディスパッチあり, function name (arg/arg:Type)\n",
    "- 関数: 戻り値指定の場合, f(x):Type \n",
    "- 関数: λが楽...x -> sin(x)^5, map\n"
   ]
  },
  {
   "cell_type": "markdown",
   "metadata": {},
   "source": [
    "## 4. キーワードの説明\n",
    "---\n",
    "2種類存在: 演算子(3つ), 基本構文, 細かいもの\n",
    "\n",
    "### 演算子\n",
    "#### 一行演算子\n",
    "- +x\n",
    "- -x\n",
    "- !x\n",
    "\n",
    "#### 二項演算子\n",
    "- a+b\n",
    "- a-b\n",
    "- a*b\n",
    "- a/b\n",
    "- a\\b\n",
    "- a%b\n",
    "- a^b\n",
    "- a>b\n",
    "- a>=b\n",
    "- a==b\n",
    "- a!=b\n",
    "- a&&b\n",
    "- a||b\n",
    "\n",
    "#### 三項演算子\n",
    "- a ? b : c\n",
    "\n",
    "### 制御構文\n",
    "- if...else\n",
    "- for...範囲っぽいものならおｋ, str, tup, ary\n",
    "- while...break\n",
    "\n",
    "### 細かいもの/補足\n",
    "- [ここ](https://docs.julialang.org/en/release-0.4/manual/mathematical-operations/)\n",
    "- \";\" ... 改行って意味\n",
    "- |> ... pipe!\n",
    "- (a>b && b>c) == a>b>c\n",
    "- NaN...!=以外全てfalse\n",
    "- Inf/-Inf...NaN以外の全てにおいて自分と同等か下か上\n",
    "- isnan(), isinf(), isequal(a, b)ではNaNでもt"
   ]
  },
  {
   "cell_type": "markdown",
   "metadata": {},
   "source": [
    "## 5. 発展内容\n",
    "---\n",
    "### スコープとクロージャと部分適用/カリー化\n",
    "- 静的スコープ, 動的スコープ(f\\**k this on JS), 関数スコープ\n",
    "- クロージャ\n",
    "- f(x, y, z) = XXX ; g(x) = f(x, 3, 2)\n",
    "- f(x, y) = XXX ; g(x) = (y) -> f(x, y)\n",
    "\n",
    "### 速さ...が...ほしい..., 関数の大事さ w/@time\n",
    "- ifelse()\n",
    "\n",
    "### 線形代数的使い方@Array: 実質次元違いの概念.\n",
    "- eye(n)...n+n単位行列\n",
    "- Aの転地...A'\n",
    "- ベクトル/行列の普通の積...*\n",
    "- 内積...dot(a, b)\n",
    "- 方程式, Ax = bの解... x = A\\b でも止まる(左から, LU法...上下三角行列に積でわける)\n",
    "- Aの固有値問題...eig(A), eigvals(A)/eigvecs(A)でそれぞれ固有値, 固有ベクトル\n",
    "- 逆行列...inv(A), ただし性質上使いたくない\n",
    "- 他諸々...det():行列式, trace():トレース, expm()/logm():行列の指数, 対数関数"
   ]
  }
 ],
 "metadata": {
  "kernelspec": {
   "display_name": "Julia 0.5.2",
   "language": "julia",
   "name": "julia-0.5"
  },
  "language_info": {
   "file_extension": ".jl",
   "mimetype": "application/julia",
   "name": "julia",
   "version": "0.5.2"
  }
 },
 "nbformat": 4,
 "nbformat_minor": 2
}
