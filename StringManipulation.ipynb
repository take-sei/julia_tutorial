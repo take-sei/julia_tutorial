{
 "cells": [
  {
   "cell_type": "code",
   "execution_count": 1,
   "metadata": {},
   "outputs": [
    {
     "data": {
      "text/plain": [
       "\"The quick brown fox jumps over the lazy dog α,β,γ\""
      ]
     },
     "execution_count": 1,
     "metadata": {},
     "output_type": "execute_result"
    }
   ],
   "source": [
    "s1 = \"The quick brown fox jumps over the lazy dog α,β,γ\""
   ]
  },
  {
   "cell_type": "code",
   "execution_count": 8,
   "metadata": {},
   "outputs": [
    {
     "name": "stdout",
     "output_type": "stream",
     "text": [
      "6\n",
      "11:15\n"
     ]
    }
   ],
   "source": [
    "i = search(s1, 'u') # ok to use reguler exp, with r\"\". ex.b[\\w]*n\"\n",
    "r = search(s1, \"brown\")\n",
    "\n",
    "println(i)\n",
    "println(r)"
   ]
  },
  {
   "cell_type": "code",
   "execution_count": 42,
   "metadata": {},
   "outputs": [
    {
     "data": {
      "text/plain": [
       "6"
      ]
     },
     "execution_count": 42,
     "metadata": {},
     "output_type": "execute_result"
    }
   ],
   "source": [
    "r = s1 |> x -> search(x, 'u')"
   ]
  },
  {
   "cell_type": "code",
   "execution_count": 45,
   "metadata": {},
   "outputs": [
    {
     "name": "stdout",
     "output_type": "stream",
     "text": [
      "RegexMatch(\"brown\")brown\n"
     ]
    }
   ],
   "source": [
    "r = match(r\"b[\\w]*n\", s1)\n",
    "println(r, r.match)"
   ]
  },
  {
   "cell_type": "code",
   "execution_count": 52,
   "metadata": {},
   "outputs": [
    {
     "data": {
      "text/plain": [
       "5-element Array{SubString{String},1}:\n",
       " \"quick\"\n",
       " \"brown\"\n",
       " \"jumps\"\n",
       " \"over\" \n",
       " \"lazy\" "
      ]
     },
     "execution_count": 52,
     "metadata": {},
     "output_type": "execute_result"
    }
   ],
   "source": [
    "r = matchall(r\"[\\w]{4,}\", s1)"
   ]
  },
  {
   "cell_type": "code",
   "execution_count": 56,
   "metadata": {},
   "outputs": [
    {
     "name": "stdout",
     "output_type": "stream",
     "text": [
      "quick\n",
      "brown\n",
      "jumps\n",
      "over\n",
      "lazy\n"
     ]
    }
   ],
   "source": [
    "r = eachmatch(r\"[\\w]{4,}\", s1)\n",
    "for i in r\n",
    "    println(i.match)\n",
    "end\n"
   ]
  },
  {
   "cell_type": "code",
   "execution_count": 59,
   "metadata": {},
   "outputs": [
    {
     "data": {
      "text/plain": [
       "\"hello hello hello \""
      ]
     },
     "execution_count": 59,
     "metadata": {},
     "output_type": "execute_result"
    }
   ],
   "source": [
    "r = \"hello \"^3"
   ]
  },
  {
   "cell_type": "code",
   "execution_count": 67,
   "metadata": {},
   "outputs": [
    {
     "name": "stdout",
     "output_type": "stream",
     "text": [
      "hello\n",
      "ello\n"
     ]
    }
   ],
   "source": [
    "r = \"hello \"\n",
    "@printf \"%s\" strip(r); println()\n",
    "@printf \"%s\" strip(r, ['h', ' ']); println()"
   ]
  },
  {
   "cell_type": "code",
   "execution_count": 74,
   "metadata": {},
   "outputs": [
    {
     "data": {
      "text/plain": [
       "2-element Array{SubString{String},1}:\n",
       " \"hello\"    \n",
       " \"there,bob\""
      ]
     },
     "execution_count": 74,
     "metadata": {},
     "output_type": "execute_result"
    }
   ],
   "source": [
    "r = split(\"hello, there,bob\", ',')\n",
    "r = split(\"hello, there,bob\", \", \")"
   ]
  },
  {
   "cell_type": "code",
   "execution_count": 81,
   "metadata": {},
   "outputs": [
    {
     "data": {
      "text/plain": [
       "\"1, 2, 3, 4, 5, 6, 7, 8, 9, 10\""
      ]
     },
     "execution_count": 81,
     "metadata": {},
     "output_type": "execute_result"
    }
   ],
   "source": [
    "join(collect(1:10), \", \")"
   ]
  },
  {
   "cell_type": "code",
   "execution_count": null,
   "metadata": {
    "collapsed": true
   },
   "outputs": [],
   "source": []
  }
 ],
 "metadata": {
  "kernelspec": {
   "display_name": "Julia 0.6.2",
   "language": "julia",
   "name": "julia-0.6"
  },
  "language_info": {
   "file_extension": ".jl",
   "mimetype": "application/julia",
   "name": "julia",
   "version": "0.6.2"
  }
 },
 "nbformat": 4,
 "nbformat_minor": 2
}
